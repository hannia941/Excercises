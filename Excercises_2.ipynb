{
 "cells": [
  {
   "cell_type": "code",
   "execution_count": 1,
   "metadata": {},
   "outputs": [],
   "source": [
    "#1 Write a Python class to convert an integer to a roman numeral."
   ]
  },
  {
   "cell_type": "code",
   "execution_count": 2,
   "metadata": {},
   "outputs": [],
   "source": [
    "import pandas as pd\n",
    "data = pd.read_csv(\"roman_numbers.csv\")\n",
    "data.columns = [\"DEC_v\",\"ROM_n\"]\n",
    "data = data.sort_values(by=\"DEC_v\",ascending=False)"
   ]
  },
  {
   "cell_type": "code",
   "execution_count": 140,
   "metadata": {},
   "outputs": [],
   "source": [
    "class Number():\n",
    "  \n",
    "    def convert(self, numer, filename = \"roman_numbers.csv\"):\n",
    "        list_diff = []\n",
    "        str_out = ''\n",
    "        while (numer > 1) :\n",
    "            for val in data.values[:,0]:\n",
    "                if numer > val:\n",
    "                    numer -= val\n",
    "                    list_diff.extend(data.loc[data[\"DEC_v\"] == val].values[:,1])\n",
    "                    break\n",
    "        list_diff.extend(data.loc[data[\"DEC_v\"] == numer].values[:,1])\n",
    "        for i in list_diff:\n",
    "            str_out += str(i)\n",
    "        return str_out"
   ]
  },
  {
   "cell_type": "code",
   "execution_count": 269,
   "metadata": {},
   "outputs": [
    {
     "data": {
      "text/plain": [
       "'MXLVI'"
      ]
     },
     "execution_count": 269,
     "metadata": {},
     "output_type": "execute_result"
    }
   ],
   "source": [
    "num = Number()\n",
    "num.convert(numer = 1046)"
   ]
  },
  {
   "cell_type": "code",
   "execution_count": 143,
   "metadata": {},
   "outputs": [],
   "source": [
    "#2. Write a Python class to convert a roman numeral to an integer."
   ]
  },
  {
   "cell_type": "code",
   "execution_count": 271,
   "metadata": {},
   "outputs": [],
   "source": [
    "rom_dict= {'I': 1, 'V': 5, 'X': 10, 'L': 50, 'C': 100, 'D': 500, 'M': 1000}\n",
    "\n",
    "class NumberRev():\n",
    "    def convert_rev(self, string, dict_in = rom_dict):\n",
    "        number = 0\n",
    "        for i in range(0,len(string)):\n",
    "            if i > 0 and rom_dict[string[i-1]] < rom_dict[string[i]]:\n",
    "                number += rom_dict[string[i]] - 2*rom_dict[string[i-1]]\n",
    "            else:\n",
    "                number += rom_dict[string[i]]\n",
    "        return number"
   ]
  },
  {
   "cell_type": "code",
   "execution_count": 272,
   "metadata": {},
   "outputs": [
    {
     "data": {
      "text/plain": [
       "1046"
      ]
     },
     "execution_count": 272,
     "metadata": {},
     "output_type": "execute_result"
    }
   ],
   "source": [
    "num_rev = NumberRev()\n",
    "num_rev.convert_rev('MXLVI')"
   ]
  },
  {
   "cell_type": "code",
   "execution_count": 273,
   "metadata": {},
   "outputs": [],
   "source": [
    "#3.Write a Python class to find validity of a string of parentheses, '(', ')', '{', '}', '[' and ']. \n",
    "#These brackets must be close in the correct order, for example \"()\" and \"()[]{}\" are valid \n",
    "#but \"[)\", \"({[)]\" and \"{{{\" are invalid."
   ]
  },
  {
   "cell_type": "code",
   "execution_count": 378,
   "metadata": {},
   "outputs": [],
   "source": [
    "brackets_dict = {'(' : ')', '{' : '}', '[' : ']'}\n",
    "class Brackets():\n",
    "    def check_val(self, string, dict_in = brackets_dict):\n",
    "        cnt=0\n",
    "        if len(string) % 2 ==0:\n",
    "            for i in range(0,len(string)):\n",
    "                if string[i] in dict_in.keys():\n",
    "                    if dict_in[string[i]] == string[i+1]:\n",
    "                        cnt+=1\n",
    "        return cnt == len(string)/2"
   ]
  },
  {
   "cell_type": "code",
   "execution_count": 390,
   "metadata": {},
   "outputs": [
    {
     "data": {
      "text/plain": [
       "True"
      ]
     },
     "execution_count": 390,
     "metadata": {},
     "output_type": "execute_result"
    }
   ],
   "source": [
    "brk = Brackets()\n",
    "brk.check_val('(){}[]')"
   ]
  },
  {
   "cell_type": "code",
   "execution_count": 392,
   "metadata": {},
   "outputs": [],
   "source": [
    "#4. \n",
    "#Write a Python class to get all possible unique subsets from a set of distinct integers.\n",
    "#Input : [4, 5, 6]\n",
    "#Output : [[], [6], [5], [5, 6], [4], [4, 6], [4, 5], [4, 5, 6]]"
   ]
  },
  {
   "cell_type": "code",
   "execution_count": 65,
   "metadata": {},
   "outputs": [],
   "source": [
    "class SubSet:\n",
    "    def subset_final(self, list_in):\n",
    "        list_out = [[list_in]]\n",
    "        list_temp = self.subset_recur(list_in)\n",
    "        return self.subset(list_temp, list_out)\n",
    "    \n",
    "    def subset(self, list_temp, list_out):\n",
    "        for j in list_temp:\n",
    "            if j not in list_out:\n",
    "                list_out.append(j)\n",
    "                list_temp = self.subset_recur(j)\n",
    "                self.subset(list_temp, list_out)\n",
    "        return list_out\n",
    "    \n",
    "    def subset_recur(self, list_in):\n",
    "        list_temp = []\n",
    "        for i in range(0,len(list_in)):\n",
    "            k = list_in[:i] + list_in[i+1:]\n",
    "            list_temp.append(k)\n",
    "        return list_temp"
   ]
  },
  {
   "cell_type": "code",
   "execution_count": 69,
   "metadata": {
    "scrolled": true
   },
   "outputs": [
    {
     "data": {
      "text/plain": [
       "[[[1, 2, 3, 4]],\n",
       " [2, 3, 4],\n",
       " [3, 4],\n",
       " [4],\n",
       " [],\n",
       " [3],\n",
       " [2, 4],\n",
       " [2],\n",
       " [2, 3],\n",
       " [1, 3, 4],\n",
       " [1, 4],\n",
       " [1],\n",
       " [1, 3],\n",
       " [1, 2, 4],\n",
       " [1, 2],\n",
       " [1, 2, 3]]"
      ]
     },
     "execution_count": 69,
     "metadata": {},
     "output_type": "execute_result"
    }
   ],
   "source": [
    "sset=SubSet()\n",
    "sset.subset_final([1,2,3,4])"
   ]
  },
  {
   "cell_type": "code",
   "execution_count": 70,
   "metadata": {},
   "outputs": [],
   "source": [
    "#5. Write a Python class to find a pair of elements (indices of the two numbers) from a given array whose \n",
    "#sum equals a specific target number.\n",
    "#Input: numbers= [10,20,10,40,50,60,70], target=50\n",
    "#Output: 3, 4"
   ]
  },
  {
   "cell_type": "code",
   "execution_count": 121,
   "metadata": {},
   "outputs": [],
   "source": [
    "class Sum():\n",
    "    def indices(self, list_in, target):\n",
    "        indices = ''\n",
    "        checked = []\n",
    "        for i in range(0,len(list_in)-1):\n",
    "            if list_in[i] not in checked:\n",
    "                list_temp = list_in[i+1:]\n",
    "                for j in range(0, len(list_temp)):\n",
    "                    if list_in[i] + list_temp[j] == target:\n",
    "                        print(list_in[i])\n",
    "                        print(list_temp[j])\n",
    "                        if indices == '':\n",
    "                            indices= str(i+1) + ', '+ str(j+i+2)\n",
    "                        else:\n",
    "                            indices= indices + ' or ' + str(i+1) + ', '+ str(j+i+2)\n",
    "            checked.append(list_in[i])\n",
    "        return indices"
   ]
  },
  {
   "cell_type": "code",
   "execution_count": 122,
   "metadata": {},
   "outputs": [
    {
     "name": "stdout",
     "output_type": "stream",
     "text": [
      "60\n",
      "10\n",
      "20\n",
      "50\n"
     ]
    },
    {
     "data": {
      "text/plain": [
       "'1, 7 or 2, 5'"
      ]
     },
     "execution_count": 122,
     "metadata": {},
     "output_type": "execute_result"
    }
   ],
   "source": [
    "target_sum = Sum()\n",
    "target_sum.indices([60,20,40,40,50,60,10],70)"
   ]
  },
  {
   "cell_type": "code",
   "execution_count": 123,
   "metadata": {},
   "outputs": [],
   "source": [
    "#6. Write a Python class to find the three elements that sum to zero from a set of n real numbers.\n",
    "#Input array : [-25, -10, -7, -3, 2, 4, 8, 10]\n",
    "#Output : [[-10, 2, 8], [-7, -3, 10]]"
   ]
  },
  {
   "cell_type": "code",
   "execution_count": 126,
   "metadata": {},
   "outputs": [],
   "source": [
    "class SumZero():\n",
    "    def indices(self, list_in):\n",
    "        indices = []\n",
    "        for i in range(0,len(list_in)-1):\n",
    "            list_temp_j = list_in[i+1:]\n",
    "            for j in range(0, len(list_temp_j)):\n",
    "                list_temp_k = list_in[j+1:]\n",
    "                for k in range(0, len(list_temp_k)):\n",
    "                    if list_in[i] + list_temp_j[j] + list_temp_k[k]== 0:\n",
    "                        indices.append([list_in[i],list_temp_j[j],list_temp_k[k]])\n",
    "        return indices"
   ]
  },
  {
   "cell_type": "code",
   "execution_count": 127,
   "metadata": {},
   "outputs": [
    {
     "data": {
      "text/plain": [
       "[[-10, 2, 8], [-7, -3, 10]]"
      ]
     },
     "execution_count": 127,
     "metadata": {},
     "output_type": "execute_result"
    }
   ],
   "source": [
    "target_sum_zero = SumZero()\n",
    "target_sum_zero.indices([-25, -10, -7, -3, 2, 4, 8, 10])"
   ]
  },
  {
   "cell_type": "code",
   "execution_count": 128,
   "metadata": {},
   "outputs": [],
   "source": [
    "#7. Write a Python class to implement pow(x, n)."
   ]
  },
  {
   "cell_type": "code",
   "execution_count": 142,
   "metadata": {},
   "outputs": [],
   "source": [
    "class Number():\n",
    "    def power(self,x, n):\n",
    "        if n == 0:\n",
    "            return 1\n",
    "        elif n > 0:\n",
    "            cnt = 0\n",
    "            num = 1\n",
    "            while (cnt!=n):\n",
    "                num*=x\n",
    "                cnt+=1\n",
    "            return num\n",
    "        else:\n",
    "            cnt = 0\n",
    "            num = 1\n",
    "            while (cnt!=abs(n)):\n",
    "                num*=x\n",
    "                cnt+=1\n",
    "            return 1/num            "
   ]
  },
  {
   "cell_type": "code",
   "execution_count": 143,
   "metadata": {},
   "outputs": [
    {
     "data": {
      "text/plain": [
       "0.125"
      ]
     },
     "execution_count": 143,
     "metadata": {},
     "output_type": "execute_result"
    }
   ],
   "source": [
    "num = Number()\n",
    "num.power(2,-3)"
   ]
  },
  {
   "cell_type": "code",
   "execution_count": 155,
   "metadata": {},
   "outputs": [],
   "source": [
    "#8. Write a Python class to reverse a string word by word. - Go to the editor\n",
    "#Input string : 'hello .py'\n",
    "#Expected Output : '.py hello'\n",
    "class SplitString():\n",
    "    def split_str(self):\n",
    "        string = ''\n",
    "        list_string = list(input(\"Please put your word here\").split())\n",
    "        return ' '.join(list_string[::-1])\n",
    "        "
   ]
  },
  {
   "cell_type": "code",
   "execution_count": 161,
   "metadata": {},
   "outputs": [
    {
     "name": "stdout",
     "output_type": "stream",
     "text": [
      "Please put your word herehello .py\n"
     ]
    },
    {
     "data": {
      "text/plain": [
       "'.py hello'"
      ]
     },
     "execution_count": 161,
     "metadata": {},
     "output_type": "execute_result"
    }
   ],
   "source": [
    "process = SplitString()\n",
    "process.split_str()"
   ]
  },
  {
   "cell_type": "code",
   "execution_count": 159,
   "metadata": {},
   "outputs": [],
   "source": [
    "#9. Write a Python class which has two methods get_String and print_String. \n",
    "#get_String accept a string from the user and print_String print the string in upper case."
   ]
  },
  {
   "cell_type": "code",
   "execution_count": 163,
   "metadata": {},
   "outputs": [],
   "source": [
    "class ProcessString():\n",
    "    def get_String(self):\n",
    "        return input(\"Please insert string here: \")\n",
    "    def print_String(self):\n",
    "        return self.get_String().upper()"
   ]
  },
  {
   "cell_type": "code",
   "execution_count": 165,
   "metadata": {},
   "outputs": [
    {
     "name": "stdout",
     "output_type": "stream",
     "text": [
      "Please insert string here: Ala ma kota\n"
     ]
    },
    {
     "data": {
      "text/plain": [
       "'ALA MA KOTA'"
      ]
     },
     "execution_count": 165,
     "metadata": {},
     "output_type": "execute_result"
    }
   ],
   "source": [
    "process = ProcessString()\n",
    "process.print_String()"
   ]
  },
  {
   "cell_type": "code",
   "execution_count": 166,
   "metadata": {},
   "outputs": [],
   "source": [
    "#10. Write a Python class named Rectangle constructed by a length and width and a method which will compute \n",
    "#the area of a rectangle."
   ]
  },
  {
   "cell_type": "code",
   "execution_count": 170,
   "metadata": {},
   "outputs": [],
   "source": [
    "class Rectangle():\n",
    "    def __init__(self, length, width):\n",
    "        self.length = length\n",
    "        self.width = width\n",
    "        \n",
    "    def area(self):\n",
    "        return self.length*self.width"
   ]
  },
  {
   "cell_type": "code",
   "execution_count": 186,
   "metadata": {},
   "outputs": [
    {
     "data": {
      "text/plain": [
       "15"
      ]
     },
     "execution_count": 186,
     "metadata": {},
     "output_type": "execute_result"
    }
   ],
   "source": [
    "figure = Rectangle(3,5)\n",
    "figure.area()"
   ]
  },
  {
   "cell_type": "code",
   "execution_count": 173,
   "metadata": {},
   "outputs": [],
   "source": [
    "#11 Write a Python class named Circle constructed by a radius and two methods which will compute \n",
    "#the area and the perimeter of a circle."
   ]
  },
  {
   "cell_type": "code",
   "execution_count": 201,
   "metadata": {},
   "outputs": [],
   "source": [
    "import math\n",
    "class Circle():\n",
    "    def __init__(self, radius):\n",
    "        self.radius = radius\n",
    "    \n",
    "    def perimeter(self):\n",
    "        return round(2*self.radius*math.pi,2)\n",
    "\n",
    "    def area(self):\n",
    "        return round(self.radius**2*math.pi,2)"
   ]
  },
  {
   "cell_type": "code",
   "execution_count": 202,
   "metadata": {},
   "outputs": [
    {
     "name": "stdout",
     "output_type": "stream",
     "text": [
      "25.13\n",
      "50.27\n"
     ]
    }
   ],
   "source": [
    "figure1 = Circle(4)\n",
    "print(figure1.perimeter())\n",
    "print(figure1.area())"
   ]
  },
  {
   "cell_type": "code",
   "execution_count": 207,
   "metadata": {},
   "outputs": [],
   "source": [
    "#12. Write a Python program to get the class name of an instance in Python."
   ]
  },
  {
   "cell_type": "code",
   "execution_count": 206,
   "metadata": {},
   "outputs": [
    {
     "data": {
      "text/plain": [
       "'Circle'"
      ]
     },
     "execution_count": 206,
     "metadata": {},
     "output_type": "execute_result"
    }
   ],
   "source": [
    "type(figure1).__name__"
   ]
  },
  {
   "cell_type": "markdown",
   "metadata": {},
   "source": [
    "# Other excercises"
   ]
  },
  {
   "cell_type": "code",
   "execution_count": 1,
   "metadata": {},
   "outputs": [],
   "source": [
    "#Funkcja kwadratowa\n",
    "#Napisz klasę FunkcjaKwadratowa, która przechowuje funkcje typu $ax^2$+bx+c. \n",
    "#Klasa powinna zawierać trzy pola: a, b, c, które są przypisywane w konstruktorze. \n",
    "#Główną metodą powinna być Rozwiaz(), która zwraca miejsca zerowe podanej funkcji. \n",
    "#Należy zwrócić uwagę na przypadki gdy a=0, b=0 lub c=0, a także obmyślić sposób informowania o nieskończonej liczbie,\n",
    "#jednym lub zerze rozwiązań."
   ]
  },
  {
   "cell_type": "code",
   "execution_count": 53,
   "metadata": {},
   "outputs": [],
   "source": [
    "import math\n",
    "class FunkcjaKwadratowa():\n",
    "    def __init__(self,a,b,c):\n",
    "        self.a = a\n",
    "        self.b = b\n",
    "        self.c = c\n",
    "    \n",
    "    def delta(self):\n",
    "        return self.b**2-4*self.a*self.c\n",
    "    \n",
    "    def Rozwiaz(self):\n",
    "        if self.delta() == 0:\n",
    "            print(\"Jedno miejsce zerowe: \")\n",
    "            return -(self.b)//(2*self.a)\n",
    "        elif self.delta() > 0:\n",
    "            print(\"Dwa miejsca zerowe: \")\n",
    "            return (-self.b-math.sqrt(self.delta()))//(2*self.a), (-self.b+math.sqrt(self.delta()))//(2*self.a)\n",
    "        else:\n",
    "            print(\"Brak miejsc zerowych\")\n"
   ]
  },
  {
   "cell_type": "code",
   "execution_count": 54,
   "metadata": {},
   "outputs": [
    {
     "name": "stdout",
     "output_type": "stream",
     "text": [
      "Dwa miejsca zerowe: \n"
     ]
    },
    {
     "data": {
      "text/plain": [
       "(1.0, -12.0)"
      ]
     },
     "execution_count": 54,
     "metadata": {},
     "output_type": "execute_result"
    }
   ],
   "source": [
    "abc = FunkcjaKwadratowa(-1,-11,12)\n",
    "abc.Rozwiaz()"
   ]
  },
  {
   "cell_type": "code",
   "execution_count": 55,
   "metadata": {},
   "outputs": [
    {
     "name": "stdout",
     "output_type": "stream",
     "text": [
      "Jedno miejsce zerowe: \n"
     ]
    },
    {
     "data": {
      "text/plain": [
       "1"
      ]
     },
     "execution_count": 55,
     "metadata": {},
     "output_type": "execute_result"
    }
   ],
   "source": [
    "abc = FunkcjaKwadratowa(2,-4,2)\n",
    "abc.Rozwiaz()"
   ]
  },
  {
   "cell_type": "code",
   "execution_count": 56,
   "metadata": {},
   "outputs": [],
   "source": [
    "#Liczba zespolona\n",
    "#Napisz klasę Zespolona, która przechowuje liczby zespolone: a+bi. Niech część rzeczywista nazywa się re (od real), \n",
    "#a urojona im (od imagine). Poza tymi dwoma polami zdefiniuj metody:\n",
    "#modul(), oblicza moduł liczby zespolonej a+bi\n",
    "#dodaj(), mnoz() (statyczne) – obliczają odpowiednio sumę i iloczyn dwóch liczb zespolonych"
   ]
  },
  {
   "cell_type": "code",
   "execution_count": 110,
   "metadata": {},
   "outputs": [],
   "source": [
    "import math\n",
    "class Zespolona():\n",
    "    def __init__(self, re, im):\n",
    "        self.re = re\n",
    "        self.im = im\n",
    "        \n",
    "    def modul(self):\n",
    "        return math.sqrt((self.re)**2 + (self.im)**2)\n",
    "    \n",
    "    def dodaj(self, re_in, im_in):\n",
    "        self.re += re_in\n",
    "        self.im += im_in\n",
    "        if self.im > 0 :\n",
    "            return (str(self.re) + \"+\" + str(self.im) + 'i')\n",
    "        else:\n",
    "            return (str(self.re) + str(self.im) + 'i')\n",
    "        \n",
    "    def mnoz(self, re_in, im_in):\n",
    "        re_out = self.re*re_in - self.im*im_in\n",
    "        im_out = self.re*im_in + self.im*re_in\n",
    "        if im_out > 0 :\n",
    "            return (str(re_out) + \"+\" + str(im_out) + 'i')\n",
    "        else:\n",
    "            return (str(re_out) + str(im_out) + 'i')"
   ]
  },
  {
   "cell_type": "code",
   "execution_count": 119,
   "metadata": {},
   "outputs": [
    {
     "name": "stdout",
     "output_type": "stream",
     "text": [
      "5.0\n",
      "2+5i\n",
      "-21+20i\n"
     ]
    }
   ],
   "source": [
    "liczba = Zespolona(3,-4)\n",
    "print(liczba.modul())\n",
    "print(liczba.dodaj(-1,9))\n",
    "print(liczba.mnoz(2,5))"
   ]
  },
  {
   "cell_type": "code",
   "execution_count": null,
   "metadata": {},
   "outputs": [],
   "source": [
    "#Napisz klasę Ulamek, która przechowuje ułamki postaci ab. Klasa przechowuje dwa pola: licznik i mianownik. \n",
    "#Napisz metody:\n",
    "#skroc(), skraca ułamek, wymaga obliczenia największego wspólnego dzielnika\n",
    "#dodaj(), odejmij(), mnoz(), dziel() (statyczne) – obliczają odpowiednio sumę i iloczyn dwóch ułamków"
   ]
  },
  {
   "cell_type": "code",
   "execution_count": 271,
   "metadata": {},
   "outputs": [],
   "source": [
    "class Ulamek():\n",
    "    def __init__(self, licz, mian):\n",
    "        self.licz = licz\n",
    "        self.mian = mian\n",
    "\n",
    "    @staticmethod\n",
    "    def _NWD(a, b):\n",
    "        if b > 0:\n",
    "            return Ulamek._NWD(b, a%b)\n",
    "        else:\n",
    "            return a\n",
    "        \n",
    "    def skroc(self, licz = 0, mian = 0):\n",
    "        if licz == mian == 0:\n",
    "            licz = self.licz\n",
    "            mian = self.mian\n",
    "        \n",
    "        nwd = Ulamek._NWD(licz, mian)\n",
    "        self.licz = licz // nwd\n",
    "        self.mian = mian // nwd\n",
    "        if self.licz == self.mian:\n",
    "            return 1\n",
    "        else:\n",
    "            return str(self.licz) + '/' + str(self.mian)\n",
    "\n",
    "    \n",
    "    def dodaj(self, licz, mian):\n",
    "        if mian == self.mian:\n",
    "            self.licz += licz\n",
    "        else:\n",
    "            mian_temp = self.mian*mian\n",
    "            self.licz *= mian\n",
    "            licz *= self.mian\n",
    "            licz_temp = self.licz + licz\n",
    "            nwd = Ulamek._NWD(licz_temp,mian_temp)\n",
    "            self.licz = licz_temp//nwd\n",
    "            self.mian = mian_temp//nwd\n",
    "        if self.licz == self.mian:\n",
    "            return 1\n",
    "        else:\n",
    "            return str(self.licz) + '/' + str(self.mian)\n",
    "        \n",
    "    def odejmij(self, licz, mian):\n",
    "        if mian == self.mian:\n",
    "            self.licz += licz\n",
    "        else:\n",
    "            mian_temp = self.mian*mian\n",
    "            self.licz *= mian\n",
    "            licz *= self.mian\n",
    "            licz_temp = self.licz - licz\n",
    "            return self.skroc(licz_temp,mian_temp)\n",
    "\n",
    "    def mnoz(self, licz, mian):\n",
    "        self.licz *= licz\n",
    "        self.mian *= mian\n",
    "        return self.skroc()\n",
    "    \n",
    "    def dziel(self, licz, mian):\n",
    "        self.licz *= mian\n",
    "        self.mian *= licz\n",
    "        return self.skroc()\n",
    "    "
   ]
  },
  {
   "cell_type": "code",
   "execution_count": 272,
   "metadata": {},
   "outputs": [
    {
     "data": {
      "text/plain": [
       "'1/4'"
      ]
     },
     "execution_count": 272,
     "metadata": {},
     "output_type": "execute_result"
    }
   ],
   "source": [
    "liczba_u = Ulamek(1,4)\n",
    "liczba_u.skroc()\n",
    "liczba_u.dodaj(1,3)\n",
    "liczba_u.odejmij(1,3)\n",
    "liczba_u.mnoz(1,3)\n",
    "liczba_u.dziel(1,3)"
   ]
  },
  {
   "cell_type": "code",
   "execution_count": 273,
   "metadata": {},
   "outputs": [],
   "source": [
    "#Figury geometryczne\n",
    "#Stwórz hierarchię klas reprezentujących figury geometryczne. \n",
    "#Każda figura powinna umieć wypisać informacje o sobie, a także obliczyć swój obwód i pole.\n",
    "#W grę niech wchodzą koła, prostokąty, kwadraty oraz trójkąty. \n",
    "#Czy prostokąt i kwadrat mogą być połączone relacją dziedziczenia?"
   ]
  },
  {
   "cell_type": "code",
   "execution_count": 471,
   "metadata": {},
   "outputs": [],
   "source": [
    "from abc import ABC, abstractmethod\n",
    "import math\n",
    "class Figura(ABC): #trzeba dodac dziedziczenie ABC, zeby Ci sie udalo\n",
    "    def __init__(self, bok_a, bok_b):\n",
    "        self.bok_a = bok_a\n",
    "        self.bok_b = bok_b\n",
    "    \n",
    "    @property\n",
    "    def bok_a(self):\n",
    "        return self._bok_a\n",
    "    \n",
    "    @bok_a.setter\n",
    "    def bok_a(self,bok_a):\n",
    "        if bok_a < 0:\n",
    "            self._bok_a = abs(bok_a)\n",
    "        else:\n",
    "            self._bok_a = bok_a\n",
    "            \n",
    "    @property\n",
    "    def bok_b(self):\n",
    "        return self._bok_b\n",
    "    \n",
    "    @bok_b.setter\n",
    "    def bok_b(self,bok_b):\n",
    "        if bok_b < 0:\n",
    "            self._bok_b = abs(bok_b)\n",
    "        else:\n",
    "            self._bok_b = bok_b\n",
    "    \n",
    "    @staticmethod #nie dopisujemy 'self'\n",
    "    def pomnoz(x,y):\n",
    "        return x*y\n",
    "    \n",
    "    @abstractmethod #wymagane w klasach-dzieciach\n",
    "    def oblicz_pole(self):\n",
    "        pass\n",
    "    \n",
    "    @abstractmethod #wymagane w klasach-dzieciach\n",
    "    def oblicz_obwod(self):\n",
    "        pass\n",
    "    \n",
    "    @classmethod #bazuje na klasie nie na obiekcie\n",
    "    def wypisz(cls):\n",
    "        print(f\"Naleze do klasy {cls.__name__}. Miło mi Cię poznać!\")\n",
    "\n",
    "class Prostokat(Figura):\n",
    "    def oblicz_pole(self):\n",
    "        print(f\"Moje pole to: {Figura.pomnoz(self.bok_a,self.bok_b)}.\")\n",
    "    \n",
    "    def oblicz_obwod(self):\n",
    "        print(f\"Moj obwod to: {2*self.bok_a + 2*self.bok_b}.\")\n",
    "        \n",
    "class Kwadrat(Prostokat):\n",
    "            \n",
    "    @property\n",
    "    def bok_b(self):\n",
    "        return self._bok_b\n",
    "    \n",
    "    @bok_b.setter\n",
    "    def bok_b(self,bok_b):\n",
    "        if bok_b < 0:\n",
    "            self._bok_b = 0\n",
    "        elif bok_b != self.bok_a:\n",
    "            print(\"To nie jest Kwadrat. Popraw drugi bok.\")\n",
    "        else:\n",
    "            self._bok_b = bok_b\n",
    "\n",
    "class Kolo(Figura):\n",
    "    def __init__(self, bok_a):\n",
    "        self.bok_a = bok_a\n",
    "        self.bok_b = math.pi\n",
    "        \n",
    "    def oblicz_pole(self):\n",
    "        print(f\"Moje pole to: {Figura.pomnoz(self.bok_a**2,self.bok_b)}.\")\n",
    "    \n",
    "    def oblicz_obwod(self):\n",
    "        print(f\"Moj obwod to: {2*self.bok_a*self.bok_b}.\")\n",
    "\n",
    "\n",
    "class Trojkat(Figura):\n",
    "\n",
    "    def __init__(self, bok_a, bok_b, bok_c):\n",
    "        if not (bok_a + bok_b > bok_c and bok_b + bok_c > bok_a and bok_c + bok_a > bok_b):\n",
    "            print(\"Dwa boki są za krótkie. Trójkąt się zapadł\")\n",
    "        else:\n",
    "            super().__init__(bok_a, bok_b)\n",
    "            self.bok_c = bok_c\n",
    "\n",
    "    @property\n",
    "    def bok_c(self):\n",
    "        return self._bok_c\n",
    "    \n",
    "    @bok_c.setter\n",
    "    def bok_c(self,bok_c):\n",
    "        if bok_c < 0:\n",
    "            self._bok_c = abs(bok_c)\n",
    "        else:\n",
    "            self._bok_c = bok_c\n",
    "            \n",
    "    @staticmethod\n",
    "    def pomnoz_pole(a,b,c):\n",
    "        p = (a+b+c)/2\n",
    "        return math.sqrt(p*(p-a)*(p-b)*(p-c))\n",
    "    \n",
    "    def oblicz_pole(self):\n",
    "        print(f\"Moje pole to: {Trojkat.pomnoz_pole(self.bok_a,self.bok_b,self.bok_c)}.\")\n",
    "    \n",
    "    def oblicz_obwod(self):\n",
    "        print(f\"Moj obwod to: {self.bok_a+self.bok_b+self.bok_c}.\")"
   ]
  },
  {
   "cell_type": "code",
   "execution_count": 519,
   "metadata": {},
   "outputs": [
    {
     "name": "stdout",
     "output_type": "stream",
     "text": [
      "Naleze do klasy Prostokat. Miło mi Cię poznać!\n",
      "Moje pole to: 8.\n",
      "Moj obwod to: 12.\n",
      "Naleze do klasy Kwadrat. Miło mi Cię poznać!\n",
      "Moje pole to: 36.\n",
      "Moj obwod to: 24.\n",
      "Naleze do klasy Kolo. Miło mi Cię poznać!\n",
      "Moje pole to: 28.274333882308138.\n",
      "Moj obwod to: 18.84955592153876.\n",
      "Naleze do klasy Trojkat. Miło mi Cię poznać!\n",
      "Moje pole to: 7.483314773547883.\n",
      "Moj obwod to: 14.\n"
     ]
    }
   ],
   "source": [
    "prostokat = Prostokat(2,4)\n",
    "kwadrat = Kwadrat(6,6)\n",
    "kolo = Kolo(3)\n",
    "trojkat = Trojkat(3,6,5)\n",
    "\n",
    "for obj in [prostokat, kwadrat, kolo, trojkat]:\n",
    "    obj.wypisz()\n",
    "    obj.oblicz_pole()\n",
    "    obj.oblicz_obwod()"
   ]
  },
  {
   "cell_type": "code",
   "execution_count": null,
   "metadata": {},
   "outputs": [],
   "source": [
    "#Stwórz hierarchię klas: \n",
    "#węzeł dodawania, odejmowania, mnożenia i dzielenia, a także silnii. \n",
    "#Poza tym powinien być węzeł zwykłej wartości typu float. \n",
    "#Węzły dodawania, odejmowania, mnożenia i dzielenia mają po dwa węzły potomne (być może inne działanie, a być może \n",
    "#po prostu wartość), silnia jeden węzeł potomny,a wartość nie ma żadnych dzieci. Kluczową będzie tu metoda \n",
    "#abstrakcyjne oblicz_wartosc(), która zwraca obliczoną wartość danego węzła. Polami powinny być węzły potomne."
   ]
  },
  {
   "cell_type": "code",
   "execution_count": 520,
   "metadata": {},
   "outputs": [
    {
     "name": "stdout",
     "output_type": "stream",
     "text": [
      "7\n",
      "3\n",
      "10\n",
      "2.5\n",
      "120\n",
      "2\n"
     ]
    }
   ],
   "source": [
    "from abc import ABC, abstractmethod\n",
    "class Liczba():\n",
    "    def __init__(self, liczba):\n",
    "        self.liczba = liczba \n",
    "\n",
    "    @property\n",
    "    def liczba(self):\n",
    "        return self._liczba\n",
    "    \n",
    "    @liczba.setter\n",
    "    def liczba(self,liczba):\n",
    "        self._liczba = liczba\n",
    "        \n",
    "class Wezel(ABC):\n",
    "    def __init__(self, a, b):\n",
    "        self.a = a\n",
    "        self.b = b\n",
    "        \n",
    "    @abstractmethod\n",
    "    def oblicz_wartosc(self):\n",
    "        pass\n",
    "    def wypisz():\n",
    "        print(f\"Twoj wynik to: {self.oblicz_wartosc}\")\n",
    "        \n",
    "class Dodawanie(Wezel):\n",
    "    def oblicz_wartosc(self):\n",
    "        return self.a + self.b\n",
    "\n",
    "class Odejmowanie(Wezel):\n",
    "    def oblicz_wartosc(self):\n",
    "        return self.a - self.b\n",
    "    \n",
    "class Mnozenie(Wezel):\n",
    "    def oblicz_wartosc(self):\n",
    "        return self.a * self.b\n",
    "    \n",
    "class Dzielenie(Wezel):\n",
    "    def oblicz_wartosc(self):\n",
    "        return self.a / self.b\n",
    "    \n",
    "class Silnia(Wezel):\n",
    "    def __init__(self, a):\n",
    "        self.a = a\n",
    "        \n",
    "    def oblicz_wartosc(self):\n",
    "        if self.a == 0 or self.a == 1:\n",
    "            return 1\n",
    "        else:\n",
    "            return self.a*silnia(self.a-1)\n",
    "    \n",
    "def main():\n",
    "    piec = Liczba(5)\n",
    "    dwa = Liczba(2)\n",
    "    dodawanie = Dodawanie(piec.liczba,dwa.liczba)\n",
    "    print(dodawanie.oblicz_wartosc())\n",
    "    odejmowanie = Odejmowanie(piec.liczba,dwa.liczba)\n",
    "    print(odejmowanie.oblicz_wartosc())\n",
    "    mnozenie = Mnozenie(piec.liczba,dwa.liczba)\n",
    "    print(mnozenie.oblicz_wartosc())\n",
    "    dzielenie = Dzielenie(piec.liczba,dwa.liczba)\n",
    "    print(dzielenie.oblicz_wartosc())\n",
    "    silnia1 = Silnia(piec.liczba)\n",
    "    print(silnia1.oblicz_wartosc())\n",
    "    silnia2 = Silnia(dwa.liczba)\n",
    "    print(silnia2.oblicz_wartosc())\n",
    "    \n",
    "if __name__ == \"__main__\":\n",
    "    main()\n",
    "    "
   ]
  },
  {
   "cell_type": "code",
   "execution_count": null,
   "metadata": {},
   "outputs": [],
   "source": []
  }
 ],
 "metadata": {
  "kernelspec": {
   "display_name": "Python 3",
   "language": "python",
   "name": "python3"
  },
  "language_info": {
   "codemirror_mode": {
    "name": "ipython",
    "version": 3
   },
   "file_extension": ".py",
   "mimetype": "text/x-python",
   "name": "python",
   "nbconvert_exporter": "python",
   "pygments_lexer": "ipython3",
   "version": "3.7.6"
  }
 },
 "nbformat": 4,
 "nbformat_minor": 4
}
