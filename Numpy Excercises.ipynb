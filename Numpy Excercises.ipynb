{
 "cells": [
  {
   "cell_type": "code",
   "execution_count": 2,
   "metadata": {},
   "outputs": [],
   "source": [
    "import numpy as np #https://www.machinelearningplus.com/python/101-numpy-exercises-python/"
   ]
  },
  {
   "cell_type": "code",
   "execution_count": 6,
   "metadata": {},
   "outputs": [
    {
     "data": {
      "text/plain": [
       "array([[0, 1, 2],\n",
       "       [3, 4, 5],\n",
       "       [6, 7, 8]])"
      ]
     },
     "execution_count": 6,
     "metadata": {},
     "output_type": "execute_result"
    }
   ],
   "source": [
    "#1.Podstawowe operacje na tablicach.\n",
    "#(a) Wygeneruj macierz 3 × 3 z elementami od 0 do 8.\n",
    "#[[0 1 2]\n",
    "#[3 4 5]\n",
    "#[6 7 8]]\n",
    "np.arange(0,9).reshape(3,3)"
   ]
  },
  {
   "cell_type": "code",
   "execution_count": 7,
   "metadata": {},
   "outputs": [],
   "source": [
    "#2.Wygeneruj macierz 10 × 10 z losowymi warto´sciami i znajd ´z warto´s´c najmniejsz ˛a oraz najwi ˛eksz ˛"
   ]
  },
  {
   "cell_type": "code",
   "execution_count": 25,
   "metadata": {
    "collapsed": true
   },
   "outputs": [
    {
     "data": {
      "text/plain": [
       "array([[0.84319985, 0.76845084, 0.28730661, 0.88997647, 0.880106  ,\n",
       "        0.27191924, 0.47003352, 0.92936481, 0.82681017, 0.47305713],\n",
       "       [0.3047047 , 0.72386038, 0.27201925, 0.71219093, 0.63242744,\n",
       "        0.30492681, 0.21689232, 0.69215848, 0.84860639, 0.04066502],\n",
       "       [0.81252092, 0.04954939, 0.26458603, 0.46103727, 0.65564635,\n",
       "        0.96836036, 0.79387254, 0.56945531, 0.06935744, 0.57872592],\n",
       "       [0.78142752, 0.81142495, 0.29790219, 0.16588287, 0.72287585,\n",
       "        0.30357358, 0.77834594, 0.90315157, 0.64436736, 0.79911357],\n",
       "       [0.745082  , 0.08113221, 0.49970911, 0.38156547, 0.2357098 ,\n",
       "        0.78254883, 0.8336512 , 0.32069103, 0.09968273, 0.7371804 ],\n",
       "       [0.63115522, 0.01790917, 0.10855995, 0.3270121 , 0.32673929,\n",
       "        0.78219442, 0.32564625, 0.4819626 , 0.89969856, 0.43379423],\n",
       "       [0.89026783, 0.60540457, 0.35222886, 0.52675533, 0.26736811,\n",
       "        0.92787625, 0.37872237, 0.88970445, 0.20072022, 0.11181681],\n",
       "       [0.03543868, 0.11753716, 0.23696308, 0.52977594, 0.19488555,\n",
       "        0.89606124, 0.90689788, 0.54628607, 0.40436611, 0.03015617],\n",
       "       [0.72487463, 0.03408763, 0.82837184, 0.59389244, 0.10941216,\n",
       "        0.68197556, 0.67326872, 0.9960726 , 0.43745355, 0.66951312],\n",
       "       [0.65837795, 0.77161533, 0.3263712 , 0.62125674, 0.29161685,\n",
       "        0.62475835, 0.37889837, 0.17458871, 0.92600159, 0.26816025]])"
      ]
     },
     "execution_count": 25,
     "metadata": {},
     "output_type": "execute_result"
    }
   ],
   "source": [
    "np_rand = np.random.rand(10,10)\n",
    "np_rand"
   ]
  },
  {
   "cell_type": "code",
   "execution_count": 26,
   "metadata": {},
   "outputs": [
    {
     "data": {
      "text/plain": [
       "0.9960725976526024"
      ]
     },
     "execution_count": 26,
     "metadata": {},
     "output_type": "execute_result"
    }
   ],
   "source": [
    "np.amax(np_rand)"
   ]
  },
  {
   "cell_type": "code",
   "execution_count": 27,
   "metadata": {},
   "outputs": [
    {
     "data": {
      "text/plain": [
       "0.017909171969494486"
      ]
     },
     "execution_count": 27,
     "metadata": {},
     "output_type": "execute_result"
    }
   ],
   "source": [
    "np.amin(np_rand)"
   ]
  },
  {
   "cell_type": "code",
   "execution_count": 43,
   "metadata": {},
   "outputs": [],
   "source": [
    "#3. Wygeneruj macierz 5 × 5 z jedynkami na kraw ˛edziach i zerami w ´srodku."
   ]
  },
  {
   "cell_type": "code",
   "execution_count": 42,
   "metadata": {},
   "outputs": [
    {
     "data": {
      "text/plain": [
       "array([[1., 1., 1., 1., 1.],\n",
       "       [1., 0., 0., 0., 1.],\n",
       "       [1., 0., 0., 0., 1.],\n",
       "       [1., 0., 0., 0., 1.],\n",
       "       [1., 1., 1., 1., 1.]])"
      ]
     },
     "execution_count": 42,
     "metadata": {},
     "output_type": "execute_result"
    }
   ],
   "source": [
    "np_ar = np.ones((5,5))\n",
    "np_ar[1,1]=0\n",
    "np_ar[1,2]=0\n",
    "np_ar[1,3]=0\n",
    "np_ar[2,1]=0\n",
    "np_ar[2,2]=0\n",
    "np_ar[2,3]=0\n",
    "np_ar[3,1]=0\n",
    "np_ar[3,2]=0\n",
    "np_ar[3,3]=0\n",
    "np_ar"
   ]
  },
  {
   "cell_type": "code",
   "execution_count": 44,
   "metadata": {},
   "outputs": [],
   "source": [
    "#4. Create a 3×3 numpy array of all True’s"
   ]
  },
  {
   "cell_type": "code",
   "execution_count": 50,
   "metadata": {},
   "outputs": [
    {
     "data": {
      "text/plain": [
       "array([[ True,  True,  True],\n",
       "       [ True,  True,  True],\n",
       "       [ True,  True,  True]])"
      ]
     },
     "execution_count": 50,
     "metadata": {},
     "output_type": "execute_result"
    }
   ],
   "source": [
    "np.ones(shape=(3,3),dtype = bool)"
   ]
  },
  {
   "cell_type": "code",
   "execution_count": 457,
   "metadata": {},
   "outputs": [],
   "source": [
    "#5. Extract all odd numbers from arr\n",
    "arr = np.array([0, 1, 2, 3, 4, 5, 6, 7, 8, 9])\n",
    "##> array([1, 3, 5, 7, 9])"
   ]
  },
  {
   "cell_type": "code",
   "execution_count": 458,
   "metadata": {},
   "outputs": [
    {
     "data": {
      "text/plain": [
       "array([1, 3, 5, 7, 9])"
      ]
     },
     "execution_count": 458,
     "metadata": {},
     "output_type": "execute_result"
    }
   ],
   "source": [
    "arr[arr%2!=0]"
   ]
  },
  {
   "cell_type": "code",
   "execution_count": 59,
   "metadata": {},
   "outputs": [],
   "source": [
    "#6.Replace all odd numbers in arr with -1\n",
    "arr = np.array([0, 1, 2, 3, 4, 5, 6, 7, 8, 9])\n",
    "##>  array([ 0, -1,  2, -1,  4, -1,  6, -1,  8, -1])"
   ]
  },
  {
   "cell_type": "code",
   "execution_count": 63,
   "metadata": {},
   "outputs": [
    {
     "data": {
      "text/plain": [
       "array([ 0, -1,  2, -1,  4, -1,  6, -1,  8, -1])"
      ]
     },
     "execution_count": 63,
     "metadata": {},
     "output_type": "execute_result"
    }
   ],
   "source": [
    "arr[arr%2!=0]= -1\n",
    "arr"
   ]
  },
  {
   "cell_type": "code",
   "execution_count": 64,
   "metadata": {},
   "outputs": [],
   "source": [
    "#6. Replace all odd numbers in arr with -1 without changing arr"
   ]
  },
  {
   "cell_type": "code",
   "execution_count": 128,
   "metadata": {},
   "outputs": [
    {
     "data": {
      "text/plain": [
       "array([ 0, -1,  2, -1,  4, -1,  6, -1,  8, -1])"
      ]
     },
     "execution_count": 128,
     "metadata": {},
     "output_type": "execute_result"
    }
   ],
   "source": [
    "arr = np.array([0, 1, 2, 3, 4, 5, 6, 7, 8, 9])\n",
    "out = np.where(arr%2!=0, -1, arr)\n",
    "out"
   ]
  },
  {
   "cell_type": "code",
   "execution_count": 75,
   "metadata": {},
   "outputs": [
    {
     "data": {
      "text/plain": [
       "array([[0, 1, 2, 3, 4],\n",
       "       [5, 6, 7, 8, 9]])"
      ]
     },
     "execution_count": 75,
     "metadata": {},
     "output_type": "execute_result"
    }
   ],
   "source": [
    "#7. Convert a 1D array to a 2D array with 2 rows\n",
    "arr = np.arange(10)\n",
    "arr.reshape(2,5) #instead of 5 it's better to use -1, num of cols is automatic then"
   ]
  },
  {
   "cell_type": "code",
   "execution_count": 78,
   "metadata": {},
   "outputs": [],
   "source": [
    "#8. Stack arrays a and b vertically\n",
    "a = np.arange(10).reshape(2,-1)\n",
    "b = np.repeat(1, 10).reshape(2,-1)"
   ]
  },
  {
   "cell_type": "code",
   "execution_count": 82,
   "metadata": {},
   "outputs": [
    {
     "data": {
      "text/plain": [
       "array([[0, 1, 2, 3, 4],\n",
       "       [5, 6, 7, 8, 9],\n",
       "       [1, 1, 1, 1, 1],\n",
       "       [1, 1, 1, 1, 1]])"
      ]
     },
     "execution_count": 82,
     "metadata": {},
     "output_type": "execute_result"
    }
   ],
   "source": [
    "np.concatenate([a,b],axis=0)"
   ]
  },
  {
   "cell_type": "code",
   "execution_count": 90,
   "metadata": {},
   "outputs": [
    {
     "data": {
      "text/plain": [
       "array([[0, 1, 2, 3, 4],\n",
       "       [5, 6, 7, 8, 9],\n",
       "       [1, 1, 1, 1, 1],\n",
       "       [1, 1, 1, 1, 1]])"
      ]
     },
     "execution_count": 90,
     "metadata": {},
     "output_type": "execute_result"
    }
   ],
   "source": [
    "np.vstack([a,b]) #hstack exists"
   ]
  },
  {
   "cell_type": "code",
   "execution_count": 91,
   "metadata": {},
   "outputs": [
    {
     "data": {
      "text/plain": [
       "array([[0, 1, 2, 3, 4],\n",
       "       [5, 6, 7, 8, 9],\n",
       "       [1, 1, 1, 1, 1],\n",
       "       [1, 1, 1, 1, 1]])"
      ]
     },
     "execution_count": 91,
     "metadata": {},
     "output_type": "execute_result"
    }
   ],
   "source": [
    "np.r_[a,b]"
   ]
  },
  {
   "cell_type": "code",
   "execution_count": 93,
   "metadata": {},
   "outputs": [],
   "source": [
    "#9. Stack the arrays a and b horizontally.\n",
    "a = np.arange(10).reshape(2,-1)\n",
    "b = np.repeat(1, 10).reshape(2,-1)"
   ]
  },
  {
   "cell_type": "code",
   "execution_count": 94,
   "metadata": {},
   "outputs": [
    {
     "data": {
      "text/plain": [
       "array([[0, 1, 2, 3, 4, 1, 1, 1, 1, 1],\n",
       "       [5, 6, 7, 8, 9, 1, 1, 1, 1, 1]])"
      ]
     },
     "execution_count": 94,
     "metadata": {},
     "output_type": "execute_result"
    }
   ],
   "source": [
    "np.concatenate([a,b],axis=1)"
   ]
  },
  {
   "cell_type": "code",
   "execution_count": 95,
   "metadata": {},
   "outputs": [
    {
     "data": {
      "text/plain": [
       "array([[0, 1, 2, 3, 4, 1, 1, 1, 1, 1],\n",
       "       [5, 6, 7, 8, 9, 1, 1, 1, 1, 1]])"
      ]
     },
     "execution_count": 95,
     "metadata": {},
     "output_type": "execute_result"
    }
   ],
   "source": [
    "np.hstack([a,b])"
   ]
  },
  {
   "cell_type": "code",
   "execution_count": 96,
   "metadata": {},
   "outputs": [
    {
     "data": {
      "text/plain": [
       "array([[0, 1, 2, 3, 4, 1, 1, 1, 1, 1],\n",
       "       [5, 6, 7, 8, 9, 1, 1, 1, 1, 1]])"
      ]
     },
     "execution_count": 96,
     "metadata": {},
     "output_type": "execute_result"
    }
   ],
   "source": [
    "np.c_[a,b]"
   ]
  },
  {
   "cell_type": "code",
   "execution_count": 100,
   "metadata": {},
   "outputs": [],
   "source": [
    "#10.Create the following pattern without hardcoding. Use only numpy functions and the below input array a.\n",
    "a = np.array([1,2,3])\n",
    "##> array([1, 1, 1, 2, 2, 2, 3, 3, 3, 1, 2, 3, 1, 2, 3, 1, 2, 3])"
   ]
  },
  {
   "cell_type": "code",
   "execution_count": 105,
   "metadata": {},
   "outputs": [
    {
     "data": {
      "text/plain": [
       "array([1, 1, 1, 2, 2, 2, 3, 3, 3, 1, 2, 3, 1, 2, 3, 1, 2, 3])"
      ]
     },
     "execution_count": 105,
     "metadata": {},
     "output_type": "execute_result"
    }
   ],
   "source": [
    "np.hstack([np.vstack([a,a,a]).transpose().ravel(),a,a,a])"
   ]
  },
  {
   "cell_type": "code",
   "execution_count": 106,
   "metadata": {},
   "outputs": [
    {
     "data": {
      "text/plain": [
       "array([1, 1, 1, 2, 2, 2, 3, 3, 3, 1, 2, 3, 1, 2, 3, 1, 2, 3])"
      ]
     },
     "execution_count": 106,
     "metadata": {},
     "output_type": "execute_result"
    }
   ],
   "source": [
    "np.r_[np.repeat(a, 3), np.tile(a, 3)]"
   ]
  },
  {
   "cell_type": "code",
   "execution_count": 107,
   "metadata": {},
   "outputs": [
    {
     "data": {
      "text/plain": [
       "array([1, 1, 1, 2, 2, 2, 3, 3, 3])"
      ]
     },
     "execution_count": 107,
     "metadata": {},
     "output_type": "execute_result"
    }
   ],
   "source": [
    "np.repeat(a, 3)"
   ]
  },
  {
   "cell_type": "code",
   "execution_count": 108,
   "metadata": {},
   "outputs": [
    {
     "data": {
      "text/plain": [
       "array([1, 2, 3, 1, 2, 3, 1, 2, 3])"
      ]
     },
     "execution_count": 108,
     "metadata": {},
     "output_type": "execute_result"
    }
   ],
   "source": [
    "np.tile(a, 3)"
   ]
  },
  {
   "cell_type": "code",
   "execution_count": 110,
   "metadata": {},
   "outputs": [],
   "source": [
    "#11. Get the common items between a and b\n",
    "a = np.array([1,2,3,2,3,4,3,4,5,6])\n",
    "b = np.array([7,2,10,2,7,4,9,4,9,8])"
   ]
  },
  {
   "cell_type": "code",
   "execution_count": 113,
   "metadata": {},
   "outputs": [
    {
     "data": {
      "text/plain": [
       "{2, 4}"
      ]
     },
     "execution_count": 113,
     "metadata": {},
     "output_type": "execute_result"
    }
   ],
   "source": [
    "set(a[np.isin(a,b)])"
   ]
  },
  {
   "cell_type": "code",
   "execution_count": 116,
   "metadata": {},
   "outputs": [],
   "source": [
    "#np.setdiff1d(a,b)"
   ]
  },
  {
   "cell_type": "code",
   "execution_count": 118,
   "metadata": {},
   "outputs": [
    {
     "data": {
      "text/plain": [
       "array([2, 4])"
      ]
     },
     "execution_count": 118,
     "metadata": {},
     "output_type": "execute_result"
    }
   ],
   "source": [
    "np.intersect1d(a,b)"
   ]
  },
  {
   "cell_type": "code",
   "execution_count": 120,
   "metadata": {},
   "outputs": [],
   "source": [
    "#12. From array a remove all items present in array b\n",
    "a = np.array([1,2,3,4,5])\n",
    "b = np.array([5,6,7,8,9])"
   ]
  },
  {
   "cell_type": "code",
   "execution_count": 121,
   "metadata": {},
   "outputs": [
    {
     "data": {
      "text/plain": [
       "{1, 2, 3, 4}"
      ]
     },
     "execution_count": 121,
     "metadata": {},
     "output_type": "execute_result"
    }
   ],
   "source": [
    "set(a[~np.isin(a,b)])"
   ]
  },
  {
   "cell_type": "code",
   "execution_count": 124,
   "metadata": {},
   "outputs": [
    {
     "data": {
      "text/plain": [
       "array([1, 2, 3, 4])"
      ]
     },
     "execution_count": 124,
     "metadata": {},
     "output_type": "execute_result"
    }
   ],
   "source": [
    "np.setdiff1d(a,b)"
   ]
  },
  {
   "cell_type": "code",
   "execution_count": 133,
   "metadata": {},
   "outputs": [],
   "source": [
    "#13. Get the positions where elements of a and b match\n",
    "a = np.array([1,2,3,2,3,4,3,4,5,6])\n",
    "b = np.array([7,2,10,2,7,4,9,4,9,8])"
   ]
  },
  {
   "cell_type": "code",
   "execution_count": 134,
   "metadata": {},
   "outputs": [
    {
     "data": {
      "text/plain": [
       "(array([1, 3, 5, 7]),)"
      ]
     },
     "execution_count": 134,
     "metadata": {},
     "output_type": "execute_result"
    }
   ],
   "source": [
    "np.where(a==b)"
   ]
  },
  {
   "cell_type": "code",
   "execution_count": 140,
   "metadata": {},
   "outputs": [],
   "source": [
    "#14. Get all items between 5 and 10 from a.\n",
    "a = np.array([2, 6, 1, 9, 10, 3, 27])"
   ]
  },
  {
   "cell_type": "code",
   "execution_count": 149,
   "metadata": {},
   "outputs": [
    {
     "data": {
      "text/plain": [
       "array([ 6,  9, 10])"
      ]
     },
     "execution_count": 149,
     "metadata": {},
     "output_type": "execute_result"
    }
   ],
   "source": [
    "a[(a >= 5) & (a<=10)]"
   ]
  },
  {
   "cell_type": "code",
   "execution_count": 157,
   "metadata": {},
   "outputs": [
    {
     "data": {
      "text/plain": [
       "array([ 6,  9, 10])"
      ]
     },
     "execution_count": 157,
     "metadata": {},
     "output_type": "execute_result"
    }
   ],
   "source": [
    "a[np.where((a>=5)&(a<=10))]"
   ]
  },
  {
   "cell_type": "code",
   "execution_count": 159,
   "metadata": {},
   "outputs": [
    {
     "data": {
      "text/plain": [
       "array([ 6,  9, 10])"
      ]
     },
     "execution_count": 159,
     "metadata": {},
     "output_type": "execute_result"
    }
   ],
   "source": [
    "a[np.where(np.logical_and(a>=5,a<=10))]"
   ]
  },
  {
   "cell_type": "code",
   "execution_count": 165,
   "metadata": {},
   "outputs": [],
   "source": [
    "#15. Convert the function maxx that works on two scalars, to work on two arrays.\n",
    "def maxx(x, y):\n",
    "    \"\"\"Get the maximum of two items\"\"\"\n",
    "    if x >= y:\n",
    "        return x\n",
    "    else:\n",
    "        return y\n",
    "a = np.array([5, 7, 9, 8, 6, 4, 5])\n",
    "b = np.array([6, 3, 4, 8, 9, 7, 1])"
   ]
  },
  {
   "cell_type": "code",
   "execution_count": 168,
   "metadata": {},
   "outputs": [
    {
     "data": {
      "text/plain": [
       "array([6., 7., 9., 8., 9., 7., 5.])"
      ]
     },
     "execution_count": 168,
     "metadata": {},
     "output_type": "execute_result"
    }
   ],
   "source": [
    "maxx_vect = np.vectorize(maxx,otypes=[float])\n",
    "maxx_vect(a,b)"
   ]
  },
  {
   "cell_type": "code",
   "execution_count": 172,
   "metadata": {},
   "outputs": [
    {
     "data": {
      "text/plain": [
       "array([[0, 1, 2],\n",
       "       [3, 4, 5],\n",
       "       [6, 7, 8]])"
      ]
     },
     "execution_count": 172,
     "metadata": {},
     "output_type": "execute_result"
    }
   ],
   "source": [
    "#16.Swap columns 1 and 2 in the array arr.\n",
    "arr = np.arange(9).reshape(3,3)\n",
    "arr"
   ]
  },
  {
   "cell_type": "code",
   "execution_count": 173,
   "metadata": {},
   "outputs": [
    {
     "data": {
      "text/plain": [
       "array([[3, 4, 5],\n",
       "       [0, 1, 2],\n",
       "       [6, 7, 8]])"
      ]
     },
     "execution_count": 173,
     "metadata": {},
     "output_type": "execute_result"
    }
   ],
   "source": [
    "arr[[1,0,2],:]"
   ]
  },
  {
   "cell_type": "code",
   "execution_count": 178,
   "metadata": {},
   "outputs": [
    {
     "data": {
      "text/plain": [
       "array([[0, 1, 2],\n",
       "       [3, 4, 5],\n",
       "       [6, 7, 8]])"
      ]
     },
     "execution_count": 178,
     "metadata": {},
     "output_type": "execute_result"
    }
   ],
   "source": [
    "#17. Reverse the rows of a 2D array arr.\n",
    "arr = np.arange(9).reshape(3,3)\n",
    "arr"
   ]
  },
  {
   "cell_type": "code",
   "execution_count": 182,
   "metadata": {},
   "outputs": [
    {
     "data": {
      "text/plain": [
       "array([[6, 7, 8],\n",
       "       [3, 4, 5],\n",
       "       [0, 1, 2]])"
      ]
     },
     "execution_count": 182,
     "metadata": {},
     "output_type": "execute_result"
    }
   ],
   "source": [
    "arr[::-1]"
   ]
  },
  {
   "cell_type": "code",
   "execution_count": 185,
   "metadata": {},
   "outputs": [
    {
     "data": {
      "text/plain": [
       "array([[0, 1, 2],\n",
       "       [3, 4, 5],\n",
       "       [6, 7, 8]])"
      ]
     },
     "execution_count": 185,
     "metadata": {},
     "output_type": "execute_result"
    }
   ],
   "source": [
    "#19. Reverse the columns of a 2D array arr.\n",
    "arr = np.arange(9).reshape(3,3)\n",
    "arr"
   ]
  },
  {
   "cell_type": "code",
   "execution_count": 191,
   "metadata": {},
   "outputs": [
    {
     "data": {
      "text/plain": [
       "array([[2, 1, 0],\n",
       "       [5, 4, 3],\n",
       "       [8, 7, 6]])"
      ]
     },
     "execution_count": 191,
     "metadata": {},
     "output_type": "execute_result"
    }
   ],
   "source": [
    "arr[:, ::-1]"
   ]
  },
  {
   "cell_type": "code",
   "execution_count": 194,
   "metadata": {},
   "outputs": [],
   "source": [
    "#20. Create a 2D array of shape 5x3 to contain random decimal numbers between 5 and 10."
   ]
  },
  {
   "cell_type": "code",
   "execution_count": 199,
   "metadata": {},
   "outputs": [
    {
     "data": {
      "text/plain": [
       "array([[8.78612074, 7.3537223 , 5.42280662],\n",
       "       [7.60273863, 5.57594604, 8.45178828],\n",
       "       [6.02821741, 9.57841269, 7.42509406],\n",
       "       [9.54897076, 9.83253087, 7.75387366],\n",
       "       [7.94240486, 5.99261454, 5.39361866]])"
      ]
     },
     "execution_count": 199,
     "metadata": {},
     "output_type": "execute_result"
    }
   ],
   "source": [
    "matrix = np.random.uniform(5,10,(5,3))\n",
    "matrix"
   ]
  },
  {
   "cell_type": "code",
   "execution_count": 206,
   "metadata": {},
   "outputs": [
    {
     "data": {
      "text/plain": [
       "array([[7.31814353, 7.67155645, 7.02921737],\n",
       "       [7.5980636 , 9.96838123, 9.01954548],\n",
       "       [9.16536793, 9.97676655, 6.58995836],\n",
       "       [5.61883387, 5.11165323, 5.14380217],\n",
       "       [6.96539468, 9.20001471, 8.32490303]])"
      ]
     },
     "execution_count": 206,
     "metadata": {},
     "output_type": "execute_result"
    }
   ],
   "source": [
    "np.random.randint(5,10,(5,3)) + np.random.rand(5,3)"
   ]
  },
  {
   "cell_type": "code",
   "execution_count": 208,
   "metadata": {},
   "outputs": [],
   "source": [
    "#21. Print or show only 3 decimal places of the numpy array rand_arr.\n",
    "rand_arr = np.random.random((5,3))"
   ]
  },
  {
   "cell_type": "code",
   "execution_count": 214,
   "metadata": {},
   "outputs": [
    {
     "data": {
      "text/plain": [
       "array([[0.029, 0.657, 0.954],\n",
       "       [0.222, 0.115, 0.341],\n",
       "       [0.753, 0.633, 0.043],\n",
       "       [0.123, 0.459, 0.749],\n",
       "       [0.055, 0.656, 0.964]])"
      ]
     },
     "execution_count": 214,
     "metadata": {},
     "output_type": "execute_result"
    }
   ],
   "source": [
    "np.set_printoptions(precision=3)\n",
    "rand_arr"
   ]
  },
  {
   "cell_type": "code",
   "execution_count": 224,
   "metadata": {},
   "outputs": [
    {
     "data": {
      "text/plain": [
       "array([[0.001, 0.   , 0.   ],\n",
       "       [0.001, 0.   , 0.   ],\n",
       "       [0.001, 0.001, 0.   ]])"
      ]
     },
     "execution_count": 224,
     "metadata": {},
     "output_type": "execute_result"
    }
   ],
   "source": [
    "#22. Pretty print rand_arr by suppressing the scientific notation (like 1e10)\n",
    "np.random.seed(100)\n",
    "rand_arr = np.random.random([3,3])/1e3\n",
    "rand_arr"
   ]
  },
  {
   "cell_type": "code",
   "execution_count": 227,
   "metadata": {},
   "outputs": [
    {
     "data": {
      "text/plain": [
       "array([[0.0005434 , 0.00027837, 0.00042452],\n",
       "       [0.00084478, 0.00000472, 0.00012157],\n",
       "       [0.00067075, 0.00082585, 0.00013671]])"
      ]
     },
     "execution_count": 227,
     "metadata": {},
     "output_type": "execute_result"
    }
   ],
   "source": [
    "np.set_printoptions(suppress=True, precision=8)\n",
    "rand_arr"
   ]
  },
  {
   "cell_type": "code",
   "execution_count": 250,
   "metadata": {},
   "outputs": [],
   "source": [
    "#23. Limit the number of items printed in python numpy array a to a maximum of 6 elements.\n",
    "a = np.arange(15)"
   ]
  },
  {
   "cell_type": "code",
   "execution_count": 233,
   "metadata": {},
   "outputs": [
    {
     "data": {
      "text/plain": [
       "array([ 0,  1,  2, ..., 12, 13, 14])"
      ]
     },
     "execution_count": 233,
     "metadata": {},
     "output_type": "execute_result"
    }
   ],
   "source": [
    "np.set_printoptions(threshold=6)\n",
    "a"
   ]
  },
  {
   "cell_type": "code",
   "execution_count": 234,
   "metadata": {},
   "outputs": [],
   "source": [
    "#24. Print the full numpy array a without truncating."
   ]
  },
  {
   "cell_type": "code",
   "execution_count": 255,
   "metadata": {},
   "outputs": [
    {
     "data": {
      "text/plain": [
       "array([ 0,  1,  2,  3,  4,  5,  6,  7,  8,  9, 10, 11, 12, 13, 14])"
      ]
     },
     "execution_count": 255,
     "metadata": {},
     "output_type": "execute_result"
    }
   ],
   "source": [
    "np.set_printoptions(threshold=np.inf)\n",
    "a"
   ]
  },
  {
   "cell_type": "code",
   "execution_count": 256,
   "metadata": {},
   "outputs": [],
   "source": [
    "#25. Import the iris dataset keeping the text intact."
   ]
  },
  {
   "cell_type": "code",
   "execution_count": 263,
   "metadata": {},
   "outputs": [],
   "source": [
    "url = 'https://archive.ics.uci.edu/ml/machine-learning-databases/iris/iris.data'\n",
    "iris_data = np.genfromtxt(url, delimiter = ',', dtype = 'object')\n",
    "names = ('sepallength', 'sepalwidth', 'petallength', 'petalwidth', 'species')"
   ]
  },
  {
   "cell_type": "code",
   "execution_count": 264,
   "metadata": {
    "collapsed": true
   },
   "outputs": [
    {
     "data": {
      "text/plain": [
       "array([[b'5.1', b'3.5', b'1.4', b'0.2', b'Iris-setosa'],\n",
       "       [b'4.9', b'3.0', b'1.4', b'0.2', b'Iris-setosa'],\n",
       "       [b'4.7', b'3.2', b'1.3', b'0.2', b'Iris-setosa'],\n",
       "       [b'4.6', b'3.1', b'1.5', b'0.2', b'Iris-setosa'],\n",
       "       [b'5.0', b'3.6', b'1.4', b'0.2', b'Iris-setosa'],\n",
       "       [b'5.4', b'3.9', b'1.7', b'0.4', b'Iris-setosa'],\n",
       "       [b'4.6', b'3.4', b'1.4', b'0.3', b'Iris-setosa'],\n",
       "       [b'5.0', b'3.4', b'1.5', b'0.2', b'Iris-setosa'],\n",
       "       [b'4.4', b'2.9', b'1.4', b'0.2', b'Iris-setosa'],\n",
       "       [b'4.9', b'3.1', b'1.5', b'0.1', b'Iris-setosa'],\n",
       "       [b'5.4', b'3.7', b'1.5', b'0.2', b'Iris-setosa'],\n",
       "       [b'4.8', b'3.4', b'1.6', b'0.2', b'Iris-setosa'],\n",
       "       [b'4.8', b'3.0', b'1.4', b'0.1', b'Iris-setosa'],\n",
       "       [b'4.3', b'3.0', b'1.1', b'0.1', b'Iris-setosa'],\n",
       "       [b'5.8', b'4.0', b'1.2', b'0.2', b'Iris-setosa'],\n",
       "       [b'5.7', b'4.4', b'1.5', b'0.4', b'Iris-setosa'],\n",
       "       [b'5.4', b'3.9', b'1.3', b'0.4', b'Iris-setosa'],\n",
       "       [b'5.1', b'3.5', b'1.4', b'0.3', b'Iris-setosa'],\n",
       "       [b'5.7', b'3.8', b'1.7', b'0.3', b'Iris-setosa'],\n",
       "       [b'5.1', b'3.8', b'1.5', b'0.3', b'Iris-setosa'],\n",
       "       [b'5.4', b'3.4', b'1.7', b'0.2', b'Iris-setosa'],\n",
       "       [b'5.1', b'3.7', b'1.5', b'0.4', b'Iris-setosa'],\n",
       "       [b'4.6', b'3.6', b'1.0', b'0.2', b'Iris-setosa'],\n",
       "       [b'5.1', b'3.3', b'1.7', b'0.5', b'Iris-setosa'],\n",
       "       [b'4.8', b'3.4', b'1.9', b'0.2', b'Iris-setosa'],\n",
       "       [b'5.0', b'3.0', b'1.6', b'0.2', b'Iris-setosa'],\n",
       "       [b'5.0', b'3.4', b'1.6', b'0.4', b'Iris-setosa'],\n",
       "       [b'5.2', b'3.5', b'1.5', b'0.2', b'Iris-setosa'],\n",
       "       [b'5.2', b'3.4', b'1.4', b'0.2', b'Iris-setosa'],\n",
       "       [b'4.7', b'3.2', b'1.6', b'0.2', b'Iris-setosa'],\n",
       "       [b'4.8', b'3.1', b'1.6', b'0.2', b'Iris-setosa'],\n",
       "       [b'5.4', b'3.4', b'1.5', b'0.4', b'Iris-setosa'],\n",
       "       [b'5.2', b'4.1', b'1.5', b'0.1', b'Iris-setosa'],\n",
       "       [b'5.5', b'4.2', b'1.4', b'0.2', b'Iris-setosa'],\n",
       "       [b'4.9', b'3.1', b'1.5', b'0.1', b'Iris-setosa'],\n",
       "       [b'5.0', b'3.2', b'1.2', b'0.2', b'Iris-setosa'],\n",
       "       [b'5.5', b'3.5', b'1.3', b'0.2', b'Iris-setosa'],\n",
       "       [b'4.9', b'3.1', b'1.5', b'0.1', b'Iris-setosa'],\n",
       "       [b'4.4', b'3.0', b'1.3', b'0.2', b'Iris-setosa'],\n",
       "       [b'5.1', b'3.4', b'1.5', b'0.2', b'Iris-setosa'],\n",
       "       [b'5.0', b'3.5', b'1.3', b'0.3', b'Iris-setosa'],\n",
       "       [b'4.5', b'2.3', b'1.3', b'0.3', b'Iris-setosa'],\n",
       "       [b'4.4', b'3.2', b'1.3', b'0.2', b'Iris-setosa'],\n",
       "       [b'5.0', b'3.5', b'1.6', b'0.6', b'Iris-setosa'],\n",
       "       [b'5.1', b'3.8', b'1.9', b'0.4', b'Iris-setosa'],\n",
       "       [b'4.8', b'3.0', b'1.4', b'0.3', b'Iris-setosa'],\n",
       "       [b'5.1', b'3.8', b'1.6', b'0.2', b'Iris-setosa'],\n",
       "       [b'4.6', b'3.2', b'1.4', b'0.2', b'Iris-setosa'],\n",
       "       [b'5.3', b'3.7', b'1.5', b'0.2', b'Iris-setosa'],\n",
       "       [b'5.0', b'3.3', b'1.4', b'0.2', b'Iris-setosa'],\n",
       "       [b'7.0', b'3.2', b'4.7', b'1.4', b'Iris-versicolor'],\n",
       "       [b'6.4', b'3.2', b'4.5', b'1.5', b'Iris-versicolor'],\n",
       "       [b'6.9', b'3.1', b'4.9', b'1.5', b'Iris-versicolor'],\n",
       "       [b'5.5', b'2.3', b'4.0', b'1.3', b'Iris-versicolor'],\n",
       "       [b'6.5', b'2.8', b'4.6', b'1.5', b'Iris-versicolor'],\n",
       "       [b'5.7', b'2.8', b'4.5', b'1.3', b'Iris-versicolor'],\n",
       "       [b'6.3', b'3.3', b'4.7', b'1.6', b'Iris-versicolor'],\n",
       "       [b'4.9', b'2.4', b'3.3', b'1.0', b'Iris-versicolor'],\n",
       "       [b'6.6', b'2.9', b'4.6', b'1.3', b'Iris-versicolor'],\n",
       "       [b'5.2', b'2.7', b'3.9', b'1.4', b'Iris-versicolor'],\n",
       "       [b'5.0', b'2.0', b'3.5', b'1.0', b'Iris-versicolor'],\n",
       "       [b'5.9', b'3.0', b'4.2', b'1.5', b'Iris-versicolor'],\n",
       "       [b'6.0', b'2.2', b'4.0', b'1.0', b'Iris-versicolor'],\n",
       "       [b'6.1', b'2.9', b'4.7', b'1.4', b'Iris-versicolor'],\n",
       "       [b'5.6', b'2.9', b'3.6', b'1.3', b'Iris-versicolor'],\n",
       "       [b'6.7', b'3.1', b'4.4', b'1.4', b'Iris-versicolor'],\n",
       "       [b'5.6', b'3.0', b'4.5', b'1.5', b'Iris-versicolor'],\n",
       "       [b'5.8', b'2.7', b'4.1', b'1.0', b'Iris-versicolor'],\n",
       "       [b'6.2', b'2.2', b'4.5', b'1.5', b'Iris-versicolor'],\n",
       "       [b'5.6', b'2.5', b'3.9', b'1.1', b'Iris-versicolor'],\n",
       "       [b'5.9', b'3.2', b'4.8', b'1.8', b'Iris-versicolor'],\n",
       "       [b'6.1', b'2.8', b'4.0', b'1.3', b'Iris-versicolor'],\n",
       "       [b'6.3', b'2.5', b'4.9', b'1.5', b'Iris-versicolor'],\n",
       "       [b'6.1', b'2.8', b'4.7', b'1.2', b'Iris-versicolor'],\n",
       "       [b'6.4', b'2.9', b'4.3', b'1.3', b'Iris-versicolor'],\n",
       "       [b'6.6', b'3.0', b'4.4', b'1.4', b'Iris-versicolor'],\n",
       "       [b'6.8', b'2.8', b'4.8', b'1.4', b'Iris-versicolor'],\n",
       "       [b'6.7', b'3.0', b'5.0', b'1.7', b'Iris-versicolor'],\n",
       "       [b'6.0', b'2.9', b'4.5', b'1.5', b'Iris-versicolor'],\n",
       "       [b'5.7', b'2.6', b'3.5', b'1.0', b'Iris-versicolor'],\n",
       "       [b'5.5', b'2.4', b'3.8', b'1.1', b'Iris-versicolor'],\n",
       "       [b'5.5', b'2.4', b'3.7', b'1.0', b'Iris-versicolor'],\n",
       "       [b'5.8', b'2.7', b'3.9', b'1.2', b'Iris-versicolor'],\n",
       "       [b'6.0', b'2.7', b'5.1', b'1.6', b'Iris-versicolor'],\n",
       "       [b'5.4', b'3.0', b'4.5', b'1.5', b'Iris-versicolor'],\n",
       "       [b'6.0', b'3.4', b'4.5', b'1.6', b'Iris-versicolor'],\n",
       "       [b'6.7', b'3.1', b'4.7', b'1.5', b'Iris-versicolor'],\n",
       "       [b'6.3', b'2.3', b'4.4', b'1.3', b'Iris-versicolor'],\n",
       "       [b'5.6', b'3.0', b'4.1', b'1.3', b'Iris-versicolor'],\n",
       "       [b'5.5', b'2.5', b'4.0', b'1.3', b'Iris-versicolor'],\n",
       "       [b'5.5', b'2.6', b'4.4', b'1.2', b'Iris-versicolor'],\n",
       "       [b'6.1', b'3.0', b'4.6', b'1.4', b'Iris-versicolor'],\n",
       "       [b'5.8', b'2.6', b'4.0', b'1.2', b'Iris-versicolor'],\n",
       "       [b'5.0', b'2.3', b'3.3', b'1.0', b'Iris-versicolor'],\n",
       "       [b'5.6', b'2.7', b'4.2', b'1.3', b'Iris-versicolor'],\n",
       "       [b'5.7', b'3.0', b'4.2', b'1.2', b'Iris-versicolor'],\n",
       "       [b'5.7', b'2.9', b'4.2', b'1.3', b'Iris-versicolor'],\n",
       "       [b'6.2', b'2.9', b'4.3', b'1.3', b'Iris-versicolor'],\n",
       "       [b'5.1', b'2.5', b'3.0', b'1.1', b'Iris-versicolor'],\n",
       "       [b'5.7', b'2.8', b'4.1', b'1.3', b'Iris-versicolor'],\n",
       "       [b'6.3', b'3.3', b'6.0', b'2.5', b'Iris-virginica'],\n",
       "       [b'5.8', b'2.7', b'5.1', b'1.9', b'Iris-virginica'],\n",
       "       [b'7.1', b'3.0', b'5.9', b'2.1', b'Iris-virginica'],\n",
       "       [b'6.3', b'2.9', b'5.6', b'1.8', b'Iris-virginica'],\n",
       "       [b'6.5', b'3.0', b'5.8', b'2.2', b'Iris-virginica'],\n",
       "       [b'7.6', b'3.0', b'6.6', b'2.1', b'Iris-virginica'],\n",
       "       [b'4.9', b'2.5', b'4.5', b'1.7', b'Iris-virginica'],\n",
       "       [b'7.3', b'2.9', b'6.3', b'1.8', b'Iris-virginica'],\n",
       "       [b'6.7', b'2.5', b'5.8', b'1.8', b'Iris-virginica'],\n",
       "       [b'7.2', b'3.6', b'6.1', b'2.5', b'Iris-virginica'],\n",
       "       [b'6.5', b'3.2', b'5.1', b'2.0', b'Iris-virginica'],\n",
       "       [b'6.4', b'2.7', b'5.3', b'1.9', b'Iris-virginica'],\n",
       "       [b'6.8', b'3.0', b'5.5', b'2.1', b'Iris-virginica'],\n",
       "       [b'5.7', b'2.5', b'5.0', b'2.0', b'Iris-virginica'],\n",
       "       [b'5.8', b'2.8', b'5.1', b'2.4', b'Iris-virginica'],\n",
       "       [b'6.4', b'3.2', b'5.3', b'2.3', b'Iris-virginica'],\n",
       "       [b'6.5', b'3.0', b'5.5', b'1.8', b'Iris-virginica'],\n",
       "       [b'7.7', b'3.8', b'6.7', b'2.2', b'Iris-virginica'],\n",
       "       [b'7.7', b'2.6', b'6.9', b'2.3', b'Iris-virginica'],\n",
       "       [b'6.0', b'2.2', b'5.0', b'1.5', b'Iris-virginica'],\n",
       "       [b'6.9', b'3.2', b'5.7', b'2.3', b'Iris-virginica'],\n",
       "       [b'5.6', b'2.8', b'4.9', b'2.0', b'Iris-virginica'],\n",
       "       [b'7.7', b'2.8', b'6.7', b'2.0', b'Iris-virginica'],\n",
       "       [b'6.3', b'2.7', b'4.9', b'1.8', b'Iris-virginica'],\n",
       "       [b'6.7', b'3.3', b'5.7', b'2.1', b'Iris-virginica'],\n",
       "       [b'7.2', b'3.2', b'6.0', b'1.8', b'Iris-virginica'],\n",
       "       [b'6.2', b'2.8', b'4.8', b'1.8', b'Iris-virginica'],\n",
       "       [b'6.1', b'3.0', b'4.9', b'1.8', b'Iris-virginica'],\n",
       "       [b'6.4', b'2.8', b'5.6', b'2.1', b'Iris-virginica'],\n",
       "       [b'7.2', b'3.0', b'5.8', b'1.6', b'Iris-virginica'],\n",
       "       [b'7.4', b'2.8', b'6.1', b'1.9', b'Iris-virginica'],\n",
       "       [b'7.9', b'3.8', b'6.4', b'2.0', b'Iris-virginica'],\n",
       "       [b'6.4', b'2.8', b'5.6', b'2.2', b'Iris-virginica'],\n",
       "       [b'6.3', b'2.8', b'5.1', b'1.5', b'Iris-virginica'],\n",
       "       [b'6.1', b'2.6', b'5.6', b'1.4', b'Iris-virginica'],\n",
       "       [b'7.7', b'3.0', b'6.1', b'2.3', b'Iris-virginica'],\n",
       "       [b'6.3', b'3.4', b'5.6', b'2.4', b'Iris-virginica'],\n",
       "       [b'6.4', b'3.1', b'5.5', b'1.8', b'Iris-virginica'],\n",
       "       [b'6.0', b'3.0', b'4.8', b'1.8', b'Iris-virginica'],\n",
       "       [b'6.9', b'3.1', b'5.4', b'2.1', b'Iris-virginica'],\n",
       "       [b'6.7', b'3.1', b'5.6', b'2.4', b'Iris-virginica'],\n",
       "       [b'6.9', b'3.1', b'5.1', b'2.3', b'Iris-virginica'],\n",
       "       [b'5.8', b'2.7', b'5.1', b'1.9', b'Iris-virginica'],\n",
       "       [b'6.8', b'3.2', b'5.9', b'2.3', b'Iris-virginica'],\n",
       "       [b'6.7', b'3.3', b'5.7', b'2.5', b'Iris-virginica'],\n",
       "       [b'6.7', b'3.0', b'5.2', b'2.3', b'Iris-virginica'],\n",
       "       [b'6.3', b'2.5', b'5.0', b'1.9', b'Iris-virginica'],\n",
       "       [b'6.5', b'3.0', b'5.2', b'2.0', b'Iris-virginica'],\n",
       "       [b'6.2', b'3.4', b'5.4', b'2.3', b'Iris-virginica'],\n",
       "       [b'5.9', b'3.0', b'5.1', b'1.8', b'Iris-virginica']], dtype=object)"
      ]
     },
     "execution_count": 264,
     "metadata": {},
     "output_type": "execute_result"
    }
   ],
   "source": [
    "iris_data"
   ]
  },
  {
   "cell_type": "code",
   "execution_count": 311,
   "metadata": {},
   "outputs": [],
   "source": [
    "#26. Extract the text column species from the 1D iris imported in previous question.\n",
    "import warnings \n",
    "warnings.filterwarnings('ignore')\n",
    "url = 'https://archive.ics.uci.edu/ml/machine-learning-databases/iris/iris.data'\n",
    "iris_1d = np.genfromtxt(url, delimiter=',', dtype=None)"
   ]
  },
  {
   "cell_type": "code",
   "execution_count": 318,
   "metadata": {
    "collapsed": true
   },
   "outputs": [
    {
     "data": {
      "text/plain": [
       "array([b'Iris-setosa', b'Iris-setosa', b'Iris-setosa', b'Iris-setosa',\n",
       "       b'Iris-setosa', b'Iris-setosa', b'Iris-setosa', b'Iris-setosa',\n",
       "       b'Iris-setosa', b'Iris-setosa', b'Iris-setosa', b'Iris-setosa',\n",
       "       b'Iris-setosa', b'Iris-setosa', b'Iris-setosa', b'Iris-setosa',\n",
       "       b'Iris-setosa', b'Iris-setosa', b'Iris-setosa', b'Iris-setosa',\n",
       "       b'Iris-setosa', b'Iris-setosa', b'Iris-setosa', b'Iris-setosa',\n",
       "       b'Iris-setosa', b'Iris-setosa', b'Iris-setosa', b'Iris-setosa',\n",
       "       b'Iris-setosa', b'Iris-setosa', b'Iris-setosa', b'Iris-setosa',\n",
       "       b'Iris-setosa', b'Iris-setosa', b'Iris-setosa', b'Iris-setosa',\n",
       "       b'Iris-setosa', b'Iris-setosa', b'Iris-setosa', b'Iris-setosa',\n",
       "       b'Iris-setosa', b'Iris-setosa', b'Iris-setosa', b'Iris-setosa',\n",
       "       b'Iris-setosa', b'Iris-setosa', b'Iris-setosa', b'Iris-setosa',\n",
       "       b'Iris-setosa', b'Iris-setosa', b'Iris-versicolor',\n",
       "       b'Iris-versicolor', b'Iris-versicolor', b'Iris-versicolor',\n",
       "       b'Iris-versicolor', b'Iris-versicolor', b'Iris-versicolor',\n",
       "       b'Iris-versicolor', b'Iris-versicolor', b'Iris-versicolor',\n",
       "       b'Iris-versicolor', b'Iris-versicolor', b'Iris-versicolor',\n",
       "       b'Iris-versicolor', b'Iris-versicolor', b'Iris-versicolor',\n",
       "       b'Iris-versicolor', b'Iris-versicolor', b'Iris-versicolor',\n",
       "       b'Iris-versicolor', b'Iris-versicolor', b'Iris-versicolor',\n",
       "       b'Iris-versicolor', b'Iris-versicolor', b'Iris-versicolor',\n",
       "       b'Iris-versicolor', b'Iris-versicolor', b'Iris-versicolor',\n",
       "       b'Iris-versicolor', b'Iris-versicolor', b'Iris-versicolor',\n",
       "       b'Iris-versicolor', b'Iris-versicolor', b'Iris-versicolor',\n",
       "       b'Iris-versicolor', b'Iris-versicolor', b'Iris-versicolor',\n",
       "       b'Iris-versicolor', b'Iris-versicolor', b'Iris-versicolor',\n",
       "       b'Iris-versicolor', b'Iris-versicolor', b'Iris-versicolor',\n",
       "       b'Iris-versicolor', b'Iris-versicolor', b'Iris-versicolor',\n",
       "       b'Iris-versicolor', b'Iris-versicolor', b'Iris-versicolor',\n",
       "       b'Iris-versicolor', b'Iris-virginica', b'Iris-virginica',\n",
       "       b'Iris-virginica', b'Iris-virginica', b'Iris-virginica',\n",
       "       b'Iris-virginica', b'Iris-virginica', b'Iris-virginica',\n",
       "       b'Iris-virginica', b'Iris-virginica', b'Iris-virginica',\n",
       "       b'Iris-virginica', b'Iris-virginica', b'Iris-virginica',\n",
       "       b'Iris-virginica', b'Iris-virginica', b'Iris-virginica',\n",
       "       b'Iris-virginica', b'Iris-virginica', b'Iris-virginica',\n",
       "       b'Iris-virginica', b'Iris-virginica', b'Iris-virginica',\n",
       "       b'Iris-virginica', b'Iris-virginica', b'Iris-virginica',\n",
       "       b'Iris-virginica', b'Iris-virginica', b'Iris-virginica',\n",
       "       b'Iris-virginica', b'Iris-virginica', b'Iris-virginica',\n",
       "       b'Iris-virginica', b'Iris-virginica', b'Iris-virginica',\n",
       "       b'Iris-virginica', b'Iris-virginica', b'Iris-virginica',\n",
       "       b'Iris-virginica', b'Iris-virginica', b'Iris-virginica',\n",
       "       b'Iris-virginica', b'Iris-virginica', b'Iris-virginica',\n",
       "       b'Iris-virginica', b'Iris-virginica', b'Iris-virginica',\n",
       "       b'Iris-virginica', b'Iris-virginica', b'Iris-virginica'],\n",
       "      dtype='|S18')"
      ]
     },
     "execution_count": 318,
     "metadata": {},
     "output_type": "execute_result"
    }
   ],
   "source": [
    "iris_1d_arr = np.array([row[4] for row in iris_1d])\n",
    "iris_1d_arr"
   ]
  },
  {
   "cell_type": "code",
   "execution_count": 313,
   "metadata": {},
   "outputs": [],
   "source": [
    "#27. Convert the 1D iris to 2D array iris_2d by omitting the species text field.\n",
    "import warnings \n",
    "warnings.filterwarnings('ignore')\n",
    "url = 'https://archive.ics.uci.edu/ml/machine-learning-databases/iris/iris.data'\n",
    "iris_1d = np.genfromtxt(url, delimiter=',', dtype=None)\n",
    "iris_2d = np.genfromtxt(url, delimiter=',', dtype=None, usecols = [0,1,2,3])"
   ]
  },
  {
   "cell_type": "code",
   "execution_count": 346,
   "metadata": {
    "collapsed": true
   },
   "outputs": [
    {
     "data": {
      "text/plain": [
       "array([[5.1, 3.5, 1.4, 0.2],\n",
       "       [4.9, 3. , 1.4, 0.2],\n",
       "       [4.7, 3.2, 1.3, 0.2],\n",
       "       [4.6, 3.1, 1.5, 0.2],\n",
       "       [5. , 3.6, 1.4, 0.2],\n",
       "       [5.4, 3.9, 1.7, 0.4],\n",
       "       [4.6, 3.4, 1.4, 0.3],\n",
       "       [5. , 3.4, 1.5, 0.2],\n",
       "       [4.4, 2.9, 1.4, 0.2],\n",
       "       [4.9, 3.1, 1.5, 0.1],\n",
       "       [5.4, 3.7, 1.5, 0.2],\n",
       "       [4.8, 3.4, 1.6, 0.2],\n",
       "       [4.8, 3. , 1.4, 0.1],\n",
       "       [4.3, 3. , 1.1, 0.1],\n",
       "       [5.8, 4. , 1.2, 0.2],\n",
       "       [5.7, 4.4, 1.5, 0.4],\n",
       "       [5.4, 3.9, 1.3, 0.4],\n",
       "       [5.1, 3.5, 1.4, 0.3],\n",
       "       [5.7, 3.8, 1.7, 0.3],\n",
       "       [5.1, 3.8, 1.5, 0.3],\n",
       "       [5.4, 3.4, 1.7, 0.2],\n",
       "       [5.1, 3.7, 1.5, 0.4],\n",
       "       [4.6, 3.6, 1. , 0.2],\n",
       "       [5.1, 3.3, 1.7, 0.5],\n",
       "       [4.8, 3.4, 1.9, 0.2],\n",
       "       [5. , 3. , 1.6, 0.2],\n",
       "       [5. , 3.4, 1.6, 0.4],\n",
       "       [5.2, 3.5, 1.5, 0.2],\n",
       "       [5.2, 3.4, 1.4, 0.2],\n",
       "       [4.7, 3.2, 1.6, 0.2],\n",
       "       [4.8, 3.1, 1.6, 0.2],\n",
       "       [5.4, 3.4, 1.5, 0.4],\n",
       "       [5.2, 4.1, 1.5, 0.1],\n",
       "       [5.5, 4.2, 1.4, 0.2],\n",
       "       [4.9, 3.1, 1.5, 0.1],\n",
       "       [5. , 3.2, 1.2, 0.2],\n",
       "       [5.5, 3.5, 1.3, 0.2],\n",
       "       [4.9, 3.1, 1.5, 0.1],\n",
       "       [4.4, 3. , 1.3, 0.2],\n",
       "       [5.1, 3.4, 1.5, 0.2],\n",
       "       [5. , 3.5, 1.3, 0.3],\n",
       "       [4.5, 2.3, 1.3, 0.3],\n",
       "       [4.4, 3.2, 1.3, 0.2],\n",
       "       [5. , 3.5, 1.6, 0.6],\n",
       "       [5.1, 3.8, 1.9, 0.4],\n",
       "       [4.8, 3. , 1.4, 0.3],\n",
       "       [5.1, 3.8, 1.6, 0.2],\n",
       "       [4.6, 3.2, 1.4, 0.2],\n",
       "       [5.3, 3.7, 1.5, 0.2],\n",
       "       [5. , 3.3, 1.4, 0.2],\n",
       "       [7. , 3.2, 4.7, 1.4],\n",
       "       [6.4, 3.2, 4.5, 1.5],\n",
       "       [6.9, 3.1, 4.9, 1.5],\n",
       "       [5.5, 2.3, 4. , 1.3],\n",
       "       [6.5, 2.8, 4.6, 1.5],\n",
       "       [5.7, 2.8, 4.5, 1.3],\n",
       "       [6.3, 3.3, 4.7, 1.6],\n",
       "       [4.9, 2.4, 3.3, 1. ],\n",
       "       [6.6, 2.9, 4.6, 1.3],\n",
       "       [5.2, 2.7, 3.9, 1.4],\n",
       "       [5. , 2. , 3.5, 1. ],\n",
       "       [5.9, 3. , 4.2, 1.5],\n",
       "       [6. , 2.2, 4. , 1. ],\n",
       "       [6.1, 2.9, 4.7, 1.4],\n",
       "       [5.6, 2.9, 3.6, 1.3],\n",
       "       [6.7, 3.1, 4.4, 1.4],\n",
       "       [5.6, 3. , 4.5, 1.5],\n",
       "       [5.8, 2.7, 4.1, 1. ],\n",
       "       [6.2, 2.2, 4.5, 1.5],\n",
       "       [5.6, 2.5, 3.9, 1.1],\n",
       "       [5.9, 3.2, 4.8, 1.8],\n",
       "       [6.1, 2.8, 4. , 1.3],\n",
       "       [6.3, 2.5, 4.9, 1.5],\n",
       "       [6.1, 2.8, 4.7, 1.2],\n",
       "       [6.4, 2.9, 4.3, 1.3],\n",
       "       [6.6, 3. , 4.4, 1.4],\n",
       "       [6.8, 2.8, 4.8, 1.4],\n",
       "       [6.7, 3. , 5. , 1.7],\n",
       "       [6. , 2.9, 4.5, 1.5],\n",
       "       [5.7, 2.6, 3.5, 1. ],\n",
       "       [5.5, 2.4, 3.8, 1.1],\n",
       "       [5.5, 2.4, 3.7, 1. ],\n",
       "       [5.8, 2.7, 3.9, 1.2],\n",
       "       [6. , 2.7, 5.1, 1.6],\n",
       "       [5.4, 3. , 4.5, 1.5],\n",
       "       [6. , 3.4, 4.5, 1.6],\n",
       "       [6.7, 3.1, 4.7, 1.5],\n",
       "       [6.3, 2.3, 4.4, 1.3],\n",
       "       [5.6, 3. , 4.1, 1.3],\n",
       "       [5.5, 2.5, 4. , 1.3],\n",
       "       [5.5, 2.6, 4.4, 1.2],\n",
       "       [6.1, 3. , 4.6, 1.4],\n",
       "       [5.8, 2.6, 4. , 1.2],\n",
       "       [5. , 2.3, 3.3, 1. ],\n",
       "       [5.6, 2.7, 4.2, 1.3],\n",
       "       [5.7, 3. , 4.2, 1.2],\n",
       "       [5.7, 2.9, 4.2, 1.3],\n",
       "       [6.2, 2.9, 4.3, 1.3],\n",
       "       [5.1, 2.5, 3. , 1.1],\n",
       "       [5.7, 2.8, 4.1, 1.3],\n",
       "       [6.3, 3.3, 6. , 2.5],\n",
       "       [5.8, 2.7, 5.1, 1.9],\n",
       "       [7.1, 3. , 5.9, 2.1],\n",
       "       [6.3, 2.9, 5.6, 1.8],\n",
       "       [6.5, 3. , 5.8, 2.2],\n",
       "       [7.6, 3. , 6.6, 2.1],\n",
       "       [4.9, 2.5, 4.5, 1.7],\n",
       "       [7.3, 2.9, 6.3, 1.8],\n",
       "       [6.7, 2.5, 5.8, 1.8],\n",
       "       [7.2, 3.6, 6.1, 2.5],\n",
       "       [6.5, 3.2, 5.1, 2. ],\n",
       "       [6.4, 2.7, 5.3, 1.9],\n",
       "       [6.8, 3. , 5.5, 2.1],\n",
       "       [5.7, 2.5, 5. , 2. ],\n",
       "       [5.8, 2.8, 5.1, 2.4],\n",
       "       [6.4, 3.2, 5.3, 2.3],\n",
       "       [6.5, 3. , 5.5, 1.8],\n",
       "       [7.7, 3.8, 6.7, 2.2],\n",
       "       [7.7, 2.6, 6.9, 2.3],\n",
       "       [6. , 2.2, 5. , 1.5],\n",
       "       [6.9, 3.2, 5.7, 2.3],\n",
       "       [5.6, 2.8, 4.9, 2. ],\n",
       "       [7.7, 2.8, 6.7, 2. ],\n",
       "       [6.3, 2.7, 4.9, 1.8],\n",
       "       [6.7, 3.3, 5.7, 2.1],\n",
       "       [7.2, 3.2, 6. , 1.8],\n",
       "       [6.2, 2.8, 4.8, 1.8],\n",
       "       [6.1, 3. , 4.9, 1.8],\n",
       "       [6.4, 2.8, 5.6, 2.1],\n",
       "       [7.2, 3. , 5.8, 1.6],\n",
       "       [7.4, 2.8, 6.1, 1.9],\n",
       "       [7.9, 3.8, 6.4, 2. ],\n",
       "       [6.4, 2.8, 5.6, 2.2],\n",
       "       [6.3, 2.8, 5.1, 1.5],\n",
       "       [6.1, 2.6, 5.6, 1.4],\n",
       "       [7.7, 3. , 6.1, 2.3],\n",
       "       [6.3, 3.4, 5.6, 2.4],\n",
       "       [6.4, 3.1, 5.5, 1.8],\n",
       "       [6. , 3. , 4.8, 1.8],\n",
       "       [6.9, 3.1, 5.4, 2.1],\n",
       "       [6.7, 3.1, 5.6, 2.4],\n",
       "       [6.9, 3.1, 5.1, 2.3],\n",
       "       [5.8, 2.7, 5.1, 1.9],\n",
       "       [6.8, 3.2, 5.9, 2.3],\n",
       "       [6.7, 3.3, 5.7, 2.5],\n",
       "       [6.7, 3. , 5.2, 2.3],\n",
       "       [6.3, 2.5, 5. , 1.9],\n",
       "       [6.5, 3. , 5.2, 2. ],\n",
       "       [6.2, 3.4, 5.4, 2.3],\n",
       "       [5.9, 3. , 5.1, 1.8]])"
      ]
     },
     "execution_count": 346,
     "metadata": {},
     "output_type": "execute_result"
    }
   ],
   "source": [
    "iris_2d_arr = np.array([row.tolist()[:4] for row in iris_1d])\n",
    "iris_2d_arr"
   ]
  },
  {
   "cell_type": "code",
   "execution_count": 355,
   "metadata": {},
   "outputs": [],
   "source": [
    "#28. Find the mean, median, standard deviation of iris's sepallength (1st column)\n",
    "url = 'https://archive.ics.uci.edu/ml/machine-learning-databases/iris/iris.data'\n",
    "iris = np.genfromtxt(url, delimiter=',', dtype='object')"
   ]
  },
  {
   "cell_type": "code",
   "execution_count": 387,
   "metadata": {},
   "outputs": [
    {
     "data": {
      "text/plain": [
       "0.8253012917851409"
      ]
     },
     "execution_count": 387,
     "metadata": {},
     "output_type": "execute_result"
    }
   ],
   "source": [
    "first = np.genfromtxt(url, delimiter=',', dtype='float', usecols =[0])\n",
    "np.mean(first)\n",
    "np.std(first)\n",
    "#np.median(first)"
   ]
  },
  {
   "cell_type": "code",
   "execution_count": 382,
   "metadata": {},
   "outputs": [
    {
     "data": {
      "text/plain": [
       "5.843333333333334"
      ]
     },
     "execution_count": 382,
     "metadata": {},
     "output_type": "execute_result"
    }
   ],
   "source": [
    "np.mean(np.array(iris[:,0],dtype=\"float\"))"
   ]
  },
  {
   "cell_type": "code",
   "execution_count": 383,
   "metadata": {},
   "outputs": [
    {
     "data": {
      "text/plain": [
       "0.8253012917851409"
      ]
     },
     "execution_count": 383,
     "metadata": {},
     "output_type": "execute_result"
    }
   ],
   "source": [
    "np.std(np.array(iris[:,0],dtype=\"float\"))"
   ]
  },
  {
   "cell_type": "code",
   "execution_count": 384,
   "metadata": {},
   "outputs": [
    {
     "data": {
      "text/plain": [
       "5.8"
      ]
     },
     "execution_count": 384,
     "metadata": {},
     "output_type": "execute_result"
    }
   ],
   "source": [
    "np.median(np.array(iris[:,0],dtype=\"float\"))"
   ]
  },
  {
   "cell_type": "code",
   "execution_count": 388,
   "metadata": {},
   "outputs": [],
   "source": [
    "#29. Create a normalized form of iris's sepallength \n",
    "#whose values range exactly between 0 and 1 so that the minimum has value 0 and maximum has value 1.\n",
    "url = 'https://archive.ics.uci.edu/ml/machine-learning-databases/iris/iris.data'\n",
    "sepallength = np.genfromtxt(url, delimiter=',', dtype='float', usecols=[0])"
   ]
  },
  {
   "cell_type": "code",
   "execution_count": 400,
   "metadata": {
    "collapsed": true
   },
   "outputs": [
    {
     "data": {
      "text/plain": [
       "array([0.22222222, 0.16666667, 0.11111111, 0.08333333, 0.19444444,\n",
       "       0.30555556, 0.08333333, 0.19444444, 0.02777778, 0.16666667,\n",
       "       0.30555556, 0.13888889, 0.13888889, 0.        , 0.41666667,\n",
       "       0.38888889, 0.30555556, 0.22222222, 0.38888889, 0.22222222,\n",
       "       0.30555556, 0.22222222, 0.08333333, 0.22222222, 0.13888889,\n",
       "       0.19444444, 0.19444444, 0.25      , 0.25      , 0.11111111,\n",
       "       0.13888889, 0.30555556, 0.25      , 0.33333333, 0.16666667,\n",
       "       0.19444444, 0.33333333, 0.16666667, 0.02777778, 0.22222222,\n",
       "       0.19444444, 0.05555556, 0.02777778, 0.19444444, 0.22222222,\n",
       "       0.13888889, 0.22222222, 0.08333333, 0.27777778, 0.19444444,\n",
       "       0.75      , 0.58333333, 0.72222222, 0.33333333, 0.61111111,\n",
       "       0.38888889, 0.55555556, 0.16666667, 0.63888889, 0.25      ,\n",
       "       0.19444444, 0.44444444, 0.47222222, 0.5       , 0.36111111,\n",
       "       0.66666667, 0.36111111, 0.41666667, 0.52777778, 0.36111111,\n",
       "       0.44444444, 0.5       , 0.55555556, 0.5       , 0.58333333,\n",
       "       0.63888889, 0.69444444, 0.66666667, 0.47222222, 0.38888889,\n",
       "       0.33333333, 0.33333333, 0.41666667, 0.47222222, 0.30555556,\n",
       "       0.47222222, 0.66666667, 0.55555556, 0.36111111, 0.33333333,\n",
       "       0.33333333, 0.5       , 0.41666667, 0.19444444, 0.36111111,\n",
       "       0.38888889, 0.38888889, 0.52777778, 0.22222222, 0.38888889,\n",
       "       0.55555556, 0.41666667, 0.77777778, 0.55555556, 0.61111111,\n",
       "       0.91666667, 0.16666667, 0.83333333, 0.66666667, 0.80555556,\n",
       "       0.61111111, 0.58333333, 0.69444444, 0.38888889, 0.41666667,\n",
       "       0.58333333, 0.61111111, 0.94444444, 0.94444444, 0.47222222,\n",
       "       0.72222222, 0.36111111, 0.94444444, 0.55555556, 0.66666667,\n",
       "       0.80555556, 0.52777778, 0.5       , 0.58333333, 0.80555556,\n",
       "       0.86111111, 1.        , 0.58333333, 0.55555556, 0.5       ,\n",
       "       0.94444444, 0.55555556, 0.58333333, 0.47222222, 0.72222222,\n",
       "       0.66666667, 0.72222222, 0.41666667, 0.69444444, 0.66666667,\n",
       "       0.66666667, 0.55555556, 0.61111111, 0.52777778, 0.44444444])"
      ]
     },
     "execution_count": 400,
     "metadata": {},
     "output_type": "execute_result"
    }
   ],
   "source": [
    "sepallength_normal = (sepallength - sepallength.min())/(sepallength.max()-sepallength.min())\n",
    "sepallength_normal"
   ]
  },
  {
   "cell_type": "code",
   "execution_count": 401,
   "metadata": {
    "collapsed": true
   },
   "outputs": [
    {
     "data": {
      "text/plain": [
       "array([0.22222222, 0.16666667, 0.11111111, 0.08333333, 0.19444444,\n",
       "       0.30555556, 0.08333333, 0.19444444, 0.02777778, 0.16666667,\n",
       "       0.30555556, 0.13888889, 0.13888889, 0.        , 0.41666667,\n",
       "       0.38888889, 0.30555556, 0.22222222, 0.38888889, 0.22222222,\n",
       "       0.30555556, 0.22222222, 0.08333333, 0.22222222, 0.13888889,\n",
       "       0.19444444, 0.19444444, 0.25      , 0.25      , 0.11111111,\n",
       "       0.13888889, 0.30555556, 0.25      , 0.33333333, 0.16666667,\n",
       "       0.19444444, 0.33333333, 0.16666667, 0.02777778, 0.22222222,\n",
       "       0.19444444, 0.05555556, 0.02777778, 0.19444444, 0.22222222,\n",
       "       0.13888889, 0.22222222, 0.08333333, 0.27777778, 0.19444444,\n",
       "       0.75      , 0.58333333, 0.72222222, 0.33333333, 0.61111111,\n",
       "       0.38888889, 0.55555556, 0.16666667, 0.63888889, 0.25      ,\n",
       "       0.19444444, 0.44444444, 0.47222222, 0.5       , 0.36111111,\n",
       "       0.66666667, 0.36111111, 0.41666667, 0.52777778, 0.36111111,\n",
       "       0.44444444, 0.5       , 0.55555556, 0.5       , 0.58333333,\n",
       "       0.63888889, 0.69444444, 0.66666667, 0.47222222, 0.38888889,\n",
       "       0.33333333, 0.33333333, 0.41666667, 0.47222222, 0.30555556,\n",
       "       0.47222222, 0.66666667, 0.55555556, 0.36111111, 0.33333333,\n",
       "       0.33333333, 0.5       , 0.41666667, 0.19444444, 0.36111111,\n",
       "       0.38888889, 0.38888889, 0.52777778, 0.22222222, 0.38888889,\n",
       "       0.55555556, 0.41666667, 0.77777778, 0.55555556, 0.61111111,\n",
       "       0.91666667, 0.16666667, 0.83333333, 0.66666667, 0.80555556,\n",
       "       0.61111111, 0.58333333, 0.69444444, 0.38888889, 0.41666667,\n",
       "       0.58333333, 0.61111111, 0.94444444, 0.94444444, 0.47222222,\n",
       "       0.72222222, 0.36111111, 0.94444444, 0.55555556, 0.66666667,\n",
       "       0.80555556, 0.52777778, 0.5       , 0.58333333, 0.80555556,\n",
       "       0.86111111, 1.        , 0.58333333, 0.55555556, 0.5       ,\n",
       "       0.94444444, 0.55555556, 0.58333333, 0.47222222, 0.72222222,\n",
       "       0.66666667, 0.72222222, 0.41666667, 0.69444444, 0.66666667,\n",
       "       0.66666667, 0.55555556, 0.61111111, 0.52777778, 0.44444444])"
      ]
     },
     "execution_count": 401,
     "metadata": {},
     "output_type": "execute_result"
    }
   ],
   "source": [
    "sepallength_normal_v2 = (sepallength-np.amin(sepallength))/np.ptp(sepallength)\n",
    "sepallength_normal_v2"
   ]
  },
  {
   "cell_type": "code",
   "execution_count": 403,
   "metadata": {},
   "outputs": [],
   "source": [
    "#30. Compute the softmax score of sepallength.\n",
    "url = 'https://archive.ics.uci.edu/ml/machine-learning-databases/iris/iris.data'\n",
    "sepallength = np.genfromtxt(url, delimiter=',', dtype='float', usecols=[0])"
   ]
  },
  {
   "cell_type": "code",
   "execution_count": 432,
   "metadata": {
    "collapsed": true
   },
   "outputs": [
    {
     "data": {
      "text/plain": [
       "array([0.00221959, 0.00181724, 0.00148783, 0.00134625, 0.00200836,\n",
       "       0.00299613, 0.00134625, 0.00200836, 0.00110221, 0.00181724,\n",
       "       0.00299613, 0.00164431, 0.00164431, 0.00099732, 0.0044697 ,\n",
       "       0.00404435, 0.00299613, 0.00221959, 0.00404435, 0.00221959,\n",
       "       0.00299613, 0.00221959, 0.00134625, 0.00221959, 0.00164431,\n",
       "       0.00200836, 0.00200836, 0.00245302, 0.00245302, 0.00148783,\n",
       "       0.00164431, 0.00299613, 0.00245302, 0.00331123, 0.00181724,\n",
       "       0.00200836, 0.00331123, 0.00181724, 0.00110221, 0.00221959,\n",
       "       0.00200836, 0.00121813, 0.00110221, 0.00200836, 0.00221959,\n",
       "       0.00164431, 0.00221959, 0.00134625, 0.00271101, 0.00200836,\n",
       "       0.01483991, 0.00814432, 0.01342771, 0.00331123, 0.00900086,\n",
       "       0.00404435, 0.00736928, 0.00181724, 0.00994749, 0.00245302,\n",
       "       0.00200836, 0.00493978, 0.0054593 , 0.00603346, 0.00365948,\n",
       "       0.01099368, 0.00365948, 0.0044697 , 0.006668  , 0.00365948,\n",
       "       0.00493978, 0.00603346, 0.00736928, 0.00603346, 0.00814432,\n",
       "       0.00994749, 0.01214989, 0.01099368, 0.0054593 , 0.00404435,\n",
       "       0.00331123, 0.00331123, 0.0044697 , 0.0054593 , 0.00299613,\n",
       "       0.0054593 , 0.01099368, 0.00736928, 0.00365948, 0.00331123,\n",
       "       0.00331123, 0.00603346, 0.0044697 , 0.00200836, 0.00365948,\n",
       "       0.00404435, 0.00404435, 0.006668  , 0.00221959, 0.00404435,\n",
       "       0.00736928, 0.0044697 , 0.01640064, 0.00736928, 0.00900086,\n",
       "       0.02704008, 0.00181724, 0.02003179, 0.01099368, 0.01812551,\n",
       "       0.00900086, 0.00814432, 0.01214989, 0.00404435, 0.0044697 ,\n",
       "       0.00814432, 0.00900086, 0.02988391, 0.02988391, 0.0054593 ,\n",
       "       0.01342771, 0.00365948, 0.02988391, 0.00736928, 0.01099368,\n",
       "       0.01812551, 0.006668  , 0.00603346, 0.00814432, 0.01812551,\n",
       "       0.02213855, 0.0365003 , 0.00814432, 0.00736928, 0.00603346,\n",
       "       0.02988391, 0.00736928, 0.00814432, 0.0054593 , 0.01342771,\n",
       "       0.01099368, 0.01342771, 0.0044697 , 0.01214989, 0.01099368,\n",
       "       0.01099368, 0.00736928, 0.00900086, 0.006668  , 0.00493978])"
      ]
     },
     "execution_count": 432,
     "metadata": {},
     "output_type": "execute_result"
    }
   ],
   "source": [
    "softmax = np.exp(sepallength)/np.sum(np.exp(sepallength))\n",
    "softmax"
   ]
  },
  {
   "cell_type": "code",
   "execution_count": 431,
   "metadata": {},
   "outputs": [],
   "source": [
    "def softmaxf(x):\n",
    "    \"\"\"Compute softmax values for each sets of scores in x.\n",
    "    https://stackoverflow.com/questions/34968722/how-to-implement-the-softmax-function-in-python\"\"\"\n",
    "    e_x = np.exp(x - np.max(x)) # I think it's wrong\n",
    "    return e_x / e_x.sum(axis=0)"
   ]
  },
  {
   "cell_type": "code",
   "execution_count": 435,
   "metadata": {},
   "outputs": [],
   "source": [
    "#31. Find the 5th and 95th percentile of iris's sepallength\n",
    "url = 'https://archive.ics.uci.edu/ml/machine-learning-databases/iris/iris.data'\n",
    "sepallength = np.genfromtxt(url, delimiter=',', dtype='float', usecols=[0])"
   ]
  },
  {
   "cell_type": "code",
   "execution_count": 437,
   "metadata": {},
   "outputs": [
    {
     "data": {
      "text/plain": [
       "array([4.6  , 7.255])"
      ]
     },
     "execution_count": 437,
     "metadata": {},
     "output_type": "execute_result"
    }
   ],
   "source": [
    "np.percentile(sepallength,[5,95])"
   ]
  },
  {
   "cell_type": "code",
   "execution_count": 466,
   "metadata": {},
   "outputs": [],
   "source": [
    "#32.Insert np.nan values at 20 random positions in iris_2d dataset\n",
    "url = 'https://archive.ics.uci.edu/ml/machine-learning-databases/iris/iris.data'\n",
    "iris_2d = np.genfromtxt(url, delimiter=',', dtype='object')"
   ]
  },
  {
   "cell_type": "code",
   "execution_count": 470,
   "metadata": {
    "scrolled": true
   },
   "outputs": [
    {
     "data": {
      "text/plain": [
       "array([[b'5.1', b'3.5', b'1.4', b'0.2', b'Iris-setosa'],\n",
       "       [b'4.9', b'3.0', b'1.4', b'0.2', b'Iris-setosa'],\n",
       "       [b'4.7', b'3.2', b'1.3', b'0.2', nan],\n",
       "       [b'4.6', b'3.1', b'1.5', b'0.2', b'Iris-setosa'],\n",
       "       [b'5.0', b'3.6', b'1.4', b'0.2', b'Iris-setosa'],\n",
       "       [b'5.4', b'3.9', b'1.7', b'0.4', b'Iris-setosa'],\n",
       "       [b'4.6', b'3.4', b'1.4', b'0.3', b'Iris-setosa'],\n",
       "       [b'5.0', b'3.4', b'1.5', b'0.2', b'Iris-setosa'],\n",
       "       [b'4.4', b'2.9', b'1.4', nan, b'Iris-setosa'],\n",
       "       [b'4.9', b'3.1', b'1.5', b'0.1', b'Iris-setosa'],\n",
       "       [b'5.4', b'3.7', b'1.5', b'0.2', b'Iris-setosa'],\n",
       "       [b'4.8', b'3.4', b'1.6', b'0.2', b'Iris-setosa'],\n",
       "       [b'4.8', b'3.0', b'1.4', nan, b'Iris-setosa'],\n",
       "       [b'4.3', b'3.0', b'1.1', b'0.1', b'Iris-setosa'],\n",
       "       [b'5.8', b'4.0', b'1.2', b'0.2', b'Iris-setosa'],\n",
       "       [b'5.7', b'4.4', b'1.5', b'0.4', b'Iris-setosa'],\n",
       "       [nan, b'3.9', b'1.3', nan, b'Iris-setosa'],\n",
       "       [b'5.1', nan, b'1.4', b'0.3', b'Iris-setosa'],\n",
       "       [b'5.7', b'3.8', b'1.7', b'0.3', b'Iris-setosa'],\n",
       "       [b'5.1', b'3.8', b'1.5', b'0.3', b'Iris-setosa'],\n",
       "       [b'5.4', b'3.4', b'1.7', b'0.2', nan],\n",
       "       [b'5.1', b'3.7', b'1.5', b'0.4', b'Iris-setosa'],\n",
       "       [b'4.6', b'3.6', b'1.0', b'0.2', b'Iris-setosa'],\n",
       "       [b'5.1', b'3.3', b'1.7', b'0.5', b'Iris-setosa'],\n",
       "       [b'4.8', b'3.4', b'1.9', b'0.2', b'Iris-setosa'],\n",
       "       [b'5.0', b'3.0', nan, b'0.2', b'Iris-setosa'],\n",
       "       [b'5.0', b'3.4', b'1.6', b'0.4', b'Iris-setosa'],\n",
       "       [b'5.2', b'3.5', b'1.5', b'0.2', b'Iris-setosa'],\n",
       "       [b'5.2', b'3.4', b'1.4', nan, b'Iris-setosa'],\n",
       "       [b'4.7', b'3.2', b'1.6', b'0.2', nan],\n",
       "       [b'4.8', nan, b'1.6', b'0.2', nan],\n",
       "       [b'5.4', b'3.4', b'1.5', b'0.4', b'Iris-setosa'],\n",
       "       [b'5.2', b'4.1', b'1.5', b'0.1', b'Iris-setosa'],\n",
       "       [b'5.5', b'4.2', b'1.4', b'0.2', b'Iris-setosa'],\n",
       "       [b'4.9', b'3.1', b'1.5', b'0.1', b'Iris-setosa'],\n",
       "       [b'5.0', b'3.2', nan, b'0.2', b'Iris-setosa'],\n",
       "       [nan, b'3.5', b'1.3', b'0.2', b'Iris-setosa'],\n",
       "       [b'4.9', b'3.1', b'1.5', b'0.1', b'Iris-setosa'],\n",
       "       [b'4.4', b'3.0', b'1.3', b'0.2', b'Iris-setosa'],\n",
       "       [b'5.1', b'3.4', b'1.5', b'0.2', b'Iris-setosa'],\n",
       "       [b'5.0', b'3.5', b'1.3', b'0.3', b'Iris-setosa'],\n",
       "       [b'4.5', b'2.3', b'1.3', b'0.3', b'Iris-setosa'],\n",
       "       [b'4.4', b'3.2', b'1.3', b'0.2', b'Iris-setosa'],\n",
       "       [b'5.0', b'3.5', b'1.6', b'0.6', b'Iris-setosa'],\n",
       "       [b'5.1', b'3.8', b'1.9', b'0.4', b'Iris-setosa'],\n",
       "       [nan, b'3.0', b'1.4', b'0.3', b'Iris-setosa'],\n",
       "       [b'5.1', b'3.8', b'1.6', b'0.2', b'Iris-setosa'],\n",
       "       [b'4.6', b'3.2', b'1.4', b'0.2', b'Iris-setosa'],\n",
       "       [b'5.3', b'3.7', b'1.5', b'0.2', b'Iris-setosa'],\n",
       "       [b'5.0', nan, b'1.4', b'0.2', b'Iris-setosa'],\n",
       "       [b'7.0', b'3.2', b'4.7', b'1.4', b'Iris-versicolor'],\n",
       "       [b'6.4', b'3.2', b'4.5', b'1.5', nan],\n",
       "       [nan, b'3.1', b'4.9', b'1.5', b'Iris-versicolor'],\n",
       "       [b'5.5', b'2.3', nan, b'1.3', nan],\n",
       "       [b'6.5', b'2.8', b'4.6', b'1.5', b'Iris-versicolor'],\n",
       "       [b'5.7', b'2.8', b'4.5', b'1.3', b'Iris-versicolor'],\n",
       "       [b'6.3', b'3.3', b'4.7', b'1.6', b'Iris-versicolor'],\n",
       "       [b'4.9', b'2.4', b'3.3', b'1.0', b'Iris-versicolor'],\n",
       "       [b'6.6', b'2.9', b'4.6', b'1.3', b'Iris-versicolor'],\n",
       "       [b'5.2', b'2.7', b'3.9', b'1.4', b'Iris-versicolor'],\n",
       "       [b'5.0', b'2.0', b'3.5', b'1.0', b'Iris-versicolor'],\n",
       "       [b'5.9', b'3.0', b'4.2', b'1.5', b'Iris-versicolor'],\n",
       "       [b'6.0', b'2.2', b'4.0', nan, b'Iris-versicolor'],\n",
       "       [b'6.1', nan, b'4.7', b'1.4', b'Iris-versicolor'],\n",
       "       [b'5.6', b'2.9', b'3.6', b'1.3', b'Iris-versicolor'],\n",
       "       [b'6.7', b'3.1', b'4.4', b'1.4', b'Iris-versicolor'],\n",
       "       [nan, b'3.0', b'4.5', b'1.5', b'Iris-versicolor'],\n",
       "       [b'5.8', nan, b'4.1', nan, b'Iris-versicolor'],\n",
       "       [b'6.2', b'2.2', b'4.5', b'1.5', b'Iris-versicolor'],\n",
       "       [b'5.6', b'2.5', b'3.9', b'1.1', b'Iris-versicolor'],\n",
       "       [b'5.9', b'3.2', nan, b'1.8', b'Iris-versicolor'],\n",
       "       [b'6.1', b'2.8', b'4.0', b'1.3', b'Iris-versicolor'],\n",
       "       [b'6.3', b'2.5', b'4.9', b'1.5', b'Iris-versicolor'],\n",
       "       [b'6.1', b'2.8', b'4.7', b'1.2', b'Iris-versicolor'],\n",
       "       [b'6.4', b'2.9', nan, b'1.3', b'Iris-versicolor'],\n",
       "       [b'6.6', b'3.0', b'4.4', b'1.4', b'Iris-versicolor'],\n",
       "       [b'6.8', b'2.8', b'4.8', b'1.4', b'Iris-versicolor'],\n",
       "       [b'6.7', b'3.0', b'5.0', b'1.7', b'Iris-versicolor'],\n",
       "       [b'6.0', b'2.9', b'4.5', b'1.5', b'Iris-versicolor'],\n",
       "       [b'5.7', b'2.6', b'3.5', b'1.0', b'Iris-versicolor'],\n",
       "       [b'5.5', b'2.4', b'3.8', b'1.1', b'Iris-versicolor'],\n",
       "       [b'5.5', b'2.4', b'3.7', nan, b'Iris-versicolor'],\n",
       "       [b'5.8', b'2.7', nan, b'1.2', b'Iris-versicolor'],\n",
       "       [b'6.0', b'2.7', b'5.1', b'1.6', b'Iris-versicolor'],\n",
       "       [b'5.4', b'3.0', b'4.5', b'1.5', b'Iris-versicolor'],\n",
       "       [b'6.0', b'3.4', b'4.5', b'1.6', b'Iris-versicolor'],\n",
       "       [b'6.7', b'3.1', nan, b'1.5', b'Iris-versicolor'],\n",
       "       [b'6.3', b'2.3', b'4.4', b'1.3', b'Iris-versicolor'],\n",
       "       [b'5.6', b'3.0', b'4.1', b'1.3', b'Iris-versicolor'],\n",
       "       [b'5.5', b'2.5', b'4.0', b'1.3', nan],\n",
       "       [b'5.5', b'2.6', b'4.4', b'1.2', b'Iris-versicolor'],\n",
       "       [b'6.1', b'3.0', b'4.6', b'1.4', b'Iris-versicolor'],\n",
       "       [b'5.8', b'2.6', b'4.0', b'1.2', b'Iris-versicolor'],\n",
       "       [nan, b'2.3', b'3.3', b'1.0', b'Iris-versicolor'],\n",
       "       [b'5.6', b'2.7', b'4.2', b'1.3', b'Iris-versicolor'],\n",
       "       [b'5.7', b'3.0', b'4.2', b'1.2', b'Iris-versicolor'],\n",
       "       [b'5.7', b'2.9', b'4.2', b'1.3', b'Iris-versicolor'],\n",
       "       [b'6.2', b'2.9', b'4.3', b'1.3', b'Iris-versicolor'],\n",
       "       [b'5.1', b'2.5', b'3.0', b'1.1', b'Iris-versicolor'],\n",
       "       [b'5.7', nan, b'4.1', b'1.3', nan],\n",
       "       [b'6.3', b'3.3', b'6.0', b'2.5', b'Iris-virginica'],\n",
       "       [b'5.8', b'2.7', b'5.1', b'1.9', b'Iris-virginica'],\n",
       "       [nan, b'3.0', b'5.9', b'2.1', b'Iris-virginica'],\n",
       "       [b'6.3', b'2.9', b'5.6', b'1.8', b'Iris-virginica'],\n",
       "       [b'6.5', b'3.0', b'5.8', b'2.2', b'Iris-virginica'],\n",
       "       [b'7.6', b'3.0', b'6.6', b'2.1', b'Iris-virginica'],\n",
       "       [b'4.9', b'2.5', b'4.5', b'1.7', b'Iris-virginica'],\n",
       "       [b'7.3', b'2.9', b'6.3', b'1.8', b'Iris-virginica'],\n",
       "       [nan, b'2.5', b'5.8', b'1.8', b'Iris-virginica'],\n",
       "       [b'7.2', b'3.6', nan, b'2.5', b'Iris-virginica'],\n",
       "       [b'6.5', b'3.2', b'5.1', b'2.0', b'Iris-virginica'],\n",
       "       [nan, b'2.7', b'5.3', b'1.9', b'Iris-virginica'],\n",
       "       [b'6.8', b'3.0', b'5.5', b'2.1', b'Iris-virginica'],\n",
       "       [b'5.7', b'2.5', b'5.0', nan, nan],\n",
       "       [b'5.8', b'2.8', b'5.1', b'2.4', b'Iris-virginica'],\n",
       "       [b'6.4', b'3.2', b'5.3', b'2.3', b'Iris-virginica'],\n",
       "       [b'6.5', b'3.0', b'5.5', b'1.8', b'Iris-virginica'],\n",
       "       [b'7.7', b'3.8', b'6.7', b'2.2', nan],\n",
       "       [b'7.7', b'2.6', b'6.9', b'2.3', b'Iris-virginica'],\n",
       "       [nan, b'2.2', b'5.0', b'1.5', b'Iris-virginica'],\n",
       "       [b'6.9', b'3.2', b'5.7', b'2.3', b'Iris-virginica'],\n",
       "       [b'5.6', nan, b'4.9', b'2.0', b'Iris-virginica'],\n",
       "       [nan, b'2.8', b'6.7', b'2.0', b'Iris-virginica'],\n",
       "       [b'6.3', b'2.7', b'4.9', b'1.8', b'Iris-virginica'],\n",
       "       [b'6.7', b'3.3', b'5.7', b'2.1', b'Iris-virginica'],\n",
       "       [b'7.2', b'3.2', b'6.0', b'1.8', b'Iris-virginica'],\n",
       "       [b'6.2', b'2.8', b'4.8', b'1.8', b'Iris-virginica'],\n",
       "       [b'6.1', b'3.0', b'4.9', b'1.8', b'Iris-virginica'],\n",
       "       [b'6.4', b'2.8', b'5.6', b'2.1', b'Iris-virginica'],\n",
       "       [b'7.2', b'3.0', b'5.8', b'1.6', b'Iris-virginica'],\n",
       "       [nan, b'2.8', b'6.1', b'1.9', b'Iris-virginica'],\n",
       "       [b'7.9', b'3.8', nan, b'2.0', b'Iris-virginica'],\n",
       "       [b'6.4', b'2.8', b'5.6', b'2.2', b'Iris-virginica'],\n",
       "       [b'6.3', b'2.8', b'5.1', b'1.5', b'Iris-virginica'],\n",
       "       [b'6.1', b'2.6', b'5.6', b'1.4', b'Iris-virginica'],\n",
       "       [b'7.7', b'3.0', b'6.1', b'2.3', nan],\n",
       "       [b'6.3', b'3.4', b'5.6', b'2.4', b'Iris-virginica'],\n",
       "       [b'6.4', b'3.1', b'5.5', nan, b'Iris-virginica'],\n",
       "       [nan, nan, b'4.8', b'1.8', b'Iris-virginica'],\n",
       "       [nan, b'3.1', b'5.4', b'2.1', b'Iris-virginica'],\n",
       "       [b'6.7', nan, b'5.6', b'2.4', b'Iris-virginica'],\n",
       "       [b'6.9', b'3.1', b'5.1', nan, b'Iris-virginica'],\n",
       "       [b'5.8', b'2.7', b'5.1', b'1.9', b'Iris-virginica'],\n",
       "       [nan, b'3.2', b'5.9', b'2.3', b'Iris-virginica'],\n",
       "       [b'6.7', b'3.3', b'5.7', b'2.5', b'Iris-virginica'],\n",
       "       [b'6.7', b'3.0', nan, b'2.3', nan],\n",
       "       [b'6.3', b'2.5', b'5.0', b'1.9', nan],\n",
       "       [b'6.5', b'3.0', b'5.2', b'2.0', b'Iris-virginica'],\n",
       "       [b'6.2', b'3.4', b'5.4', b'2.3', b'Iris-virginica'],\n",
       "       [b'5.9', b'3.0', b'5.1', b'1.8', b'Iris-virginica']], dtype=object)"
      ]
     },
     "execution_count": 470,
     "metadata": {},
     "output_type": "execute_result"
    }
   ],
   "source": [
    "iris_2d[np.random.randint(0,150, size=20),np.random.randint(0,5, size=20)] = np.nan\n",
    "iris_2d"
   ]
  },
  {
   "cell_type": "code",
   "execution_count": 472,
   "metadata": {},
   "outputs": [],
   "source": [
    "#33. Find the number and position of missing values in iris_2d's sepallength (1st column)\n",
    "url = 'https://archive.ics.uci.edu/ml/machine-learning-databases/iris/iris.data'\n",
    "iris_2d = np.genfromtxt(url, delimiter=',', dtype='float')\n",
    "iris_2d[np.random.randint(150, size=20), np.random.randint(4, size=20)] = np.nan"
   ]
  },
  {
   "cell_type": "code",
   "execution_count": 478,
   "metadata": {},
   "outputs": [
    {
     "data": {
      "text/plain": [
       "7"
      ]
     },
     "execution_count": 478,
     "metadata": {},
     "output_type": "execute_result"
    }
   ],
   "source": [
    "np.isnan(iris_2d[:,0]).sum()"
   ]
  },
  {
   "cell_type": "code",
   "execution_count": 479,
   "metadata": {},
   "outputs": [
    {
     "data": {
      "text/plain": [
       "(array([ 26,  35,  65,  68,  87,  99, 101]),)"
      ]
     },
     "execution_count": 479,
     "metadata": {},
     "output_type": "execute_result"
    }
   ],
   "source": [
    "np.where(np.isnan(iris_2d[:,0]))"
   ]
  },
  {
   "cell_type": "code",
   "execution_count": 484,
   "metadata": {},
   "outputs": [],
   "source": [
    "#34. Filter the rows of iris_2d that has petallength (3rd column) > 1.5 and sepallength (1st column) < 5.0\n",
    "url = 'https://archive.ics.uci.edu/ml/machine-learning-databases/iris/iris.data'\n",
    "iris_2d = np.genfromtxt(url, delimiter=',', dtype='float', usecols=[0,1,2,3])\n",
    "names = ('sepallength', 'sepalwidth', 'petallength', 'petalwidth')"
   ]
  },
  {
   "cell_type": "code",
   "execution_count": 491,
   "metadata": {},
   "outputs": [
    {
     "data": {
      "text/plain": [
       "array([[4.8, 3.4, 1.6, 0.2],\n",
       "       [4.8, 3.4, 1.9, 0.2],\n",
       "       [4.7, 3.2, 1.6, 0.2],\n",
       "       [4.8, 3.1, 1.6, 0.2],\n",
       "       [4.9, 2.4, 3.3, 1. ],\n",
       "       [4.9, 2.5, 4.5, 1.7]])"
      ]
     },
     "execution_count": 491,
     "metadata": {},
     "output_type": "execute_result"
    }
   ],
   "source": [
    "iris_2d[np.logical_and(iris_2d[:,2]>1.5,iris_2d[:,0]<5.0)]"
   ]
  },
  {
   "cell_type": "code",
   "execution_count": 492,
   "metadata": {},
   "outputs": [
    {
     "data": {
      "text/plain": [
       "array([[4.8, 3.4, 1.6, 0.2],\n",
       "       [4.8, 3.4, 1.9, 0.2],\n",
       "       [4.7, 3.2, 1.6, 0.2],\n",
       "       [4.8, 3.1, 1.6, 0.2],\n",
       "       [4.9, 2.4, 3.3, 1. ],\n",
       "       [4.9, 2.5, 4.5, 1.7]])"
      ]
     },
     "execution_count": 492,
     "metadata": {},
     "output_type": "execute_result"
    }
   ],
   "source": [
    "iris_2d[(iris_2d[:,2]>1.5) & (iris_2d[:,0]<5.0)]"
   ]
  },
  {
   "cell_type": "code",
   "execution_count": 497,
   "metadata": {},
   "outputs": [],
   "source": [
    "#35. Select the rows of iris_2d that does not have any nan value.\n",
    "url = 'https://archive.ics.uci.edu/ml/machine-learning-databases/iris/iris.data'\n",
    "iris_2d = np.genfromtxt(url, delimiter=',', dtype='float', usecols=[0,1,2,3])\n",
    "iris_2d[np.random.randint(150, size=20), np.random.randint(4, size=20)] = np.nan"
   ]
  },
  {
   "cell_type": "code",
   "execution_count": 531,
   "metadata": {},
   "outputs": [],
   "source": [
    "cond = [~np.any(np.isnan(row)) for row in iris_2d]"
   ]
  },
  {
   "cell_type": "code",
   "execution_count": 532,
   "metadata": {
    "collapsed": true
   },
   "outputs": [
    {
     "data": {
      "text/plain": [
       "array([[5.1, 3.5, 1.4, 0.2],\n",
       "       [4.9, 3. , 1.4, 0.2],\n",
       "       [4.7, 3.2, 1.3, 0.2],\n",
       "       [4.6, 3.1, 1.5, 0.2],\n",
       "       [5. , 3.6, 1.4, 0.2],\n",
       "       [5.4, 3.9, 1.7, 0.4],\n",
       "       [4.6, 3.4, 1.4, 0.3],\n",
       "       [5. , 3.4, 1.5, 0.2],\n",
       "       [4.4, 2.9, 1.4, 0.2],\n",
       "       [4.9, 3.1, 1.5, 0.1],\n",
       "       [4.8, 3. , 1.4, 0.1],\n",
       "       [4.3, 3. , 1.1, 0.1],\n",
       "       [5.8, 4. , 1.2, 0.2],\n",
       "       [5.4, 3.9, 1.3, 0.4],\n",
       "       [5.1, 3.5, 1.4, 0.3],\n",
       "       [5.7, 3.8, 1.7, 0.3],\n",
       "       [5.1, 3.8, 1.5, 0.3],\n",
       "       [5.4, 3.4, 1.7, 0.2],\n",
       "       [5.1, 3.7, 1.5, 0.4],\n",
       "       [4.6, 3.6, 1. , 0.2],\n",
       "       [5.1, 3.3, 1.7, 0.5],\n",
       "       [4.8, 3.4, 1.9, 0.2],\n",
       "       [5. , 3.4, 1.6, 0.4],\n",
       "       [5.2, 3.5, 1.5, 0.2],\n",
       "       [5.2, 3.4, 1.4, 0.2],\n",
       "       [4.7, 3.2, 1.6, 0.2],\n",
       "       [4.8, 3.1, 1.6, 0.2],\n",
       "       [5.4, 3.4, 1.5, 0.4],\n",
       "       [5.2, 4.1, 1.5, 0.1],\n",
       "       [5.5, 4.2, 1.4, 0.2],\n",
       "       [4.9, 3.1, 1.5, 0.1],\n",
       "       [5. , 3.2, 1.2, 0.2],\n",
       "       [5.5, 3.5, 1.3, 0.2],\n",
       "       [4.9, 3.1, 1.5, 0.1],\n",
       "       [5.1, 3.4, 1.5, 0.2],\n",
       "       [5. , 3.5, 1.3, 0.3],\n",
       "       [4.5, 2.3, 1.3, 0.3],\n",
       "       [4.4, 3.2, 1.3, 0.2],\n",
       "       [5. , 3.5, 1.6, 0.6],\n",
       "       [5.1, 3.8, 1.9, 0.4],\n",
       "       [4.8, 3. , 1.4, 0.3],\n",
       "       [5.1, 3.8, 1.6, 0.2],\n",
       "       [5. , 3.3, 1.4, 0.2],\n",
       "       [7. , 3.2, 4.7, 1.4],\n",
       "       [6.4, 3.2, 4.5, 1.5],\n",
       "       [6.9, 3.1, 4.9, 1.5],\n",
       "       [5.5, 2.3, 4. , 1.3],\n",
       "       [6.5, 2.8, 4.6, 1.5],\n",
       "       [5.7, 2.8, 4.5, 1.3],\n",
       "       [6.3, 3.3, 4.7, 1.6],\n",
       "       [4.9, 2.4, 3.3, 1. ],\n",
       "       [6.6, 2.9, 4.6, 1.3],\n",
       "       [5.2, 2.7, 3.9, 1.4],\n",
       "       [5.9, 3. , 4.2, 1.5],\n",
       "       [6. , 2.2, 4. , 1. ],\n",
       "       [6.1, 2.9, 4.7, 1.4],\n",
       "       [5.6, 2.9, 3.6, 1.3],\n",
       "       [6.7, 3.1, 4.4, 1.4],\n",
       "       [5.6, 3. , 4.5, 1.5],\n",
       "       [5.8, 2.7, 4.1, 1. ],\n",
       "       [6.2, 2.2, 4.5, 1.5],\n",
       "       [5.6, 2.5, 3.9, 1.1],\n",
       "       [5.9, 3.2, 4.8, 1.8],\n",
       "       [6.1, 2.8, 4. , 1.3],\n",
       "       [6.3, 2.5, 4.9, 1.5],\n",
       "       [6.1, 2.8, 4.7, 1.2],\n",
       "       [6.4, 2.9, 4.3, 1.3],\n",
       "       [6.6, 3. , 4.4, 1.4],\n",
       "       [6.8, 2.8, 4.8, 1.4],\n",
       "       [6.7, 3. , 5. , 1.7],\n",
       "       [6. , 2.9, 4.5, 1.5],\n",
       "       [5.7, 2.6, 3.5, 1. ],\n",
       "       [5.5, 2.4, 3.8, 1.1],\n",
       "       [5.5, 2.4, 3.7, 1. ],\n",
       "       [5.8, 2.7, 3.9, 1.2],\n",
       "       [6. , 2.7, 5.1, 1.6],\n",
       "       [5.4, 3. , 4.5, 1.5],\n",
       "       [6.7, 3.1, 4.7, 1.5],\n",
       "       [6.3, 2.3, 4.4, 1.3],\n",
       "       [5.6, 3. , 4.1, 1.3],\n",
       "       [5.5, 2.5, 4. , 1.3],\n",
       "       [5.5, 2.6, 4.4, 1.2],\n",
       "       [6.1, 3. , 4.6, 1.4],\n",
       "       [5.8, 2.6, 4. , 1.2],\n",
       "       [5. , 2.3, 3.3, 1. ],\n",
       "       [5.6, 2.7, 4.2, 1.3],\n",
       "       [5.7, 3. , 4.2, 1.2],\n",
       "       [5.7, 2.9, 4.2, 1.3],\n",
       "       [6.2, 2.9, 4.3, 1.3],\n",
       "       [5.1, 2.5, 3. , 1.1],\n",
       "       [5.7, 2.8, 4.1, 1.3],\n",
       "       [6.3, 3.3, 6. , 2.5],\n",
       "       [7.1, 3. , 5.9, 2.1],\n",
       "       [6.3, 2.9, 5.6, 1.8],\n",
       "       [6.5, 3. , 5.8, 2.2],\n",
       "       [7.6, 3. , 6.6, 2.1],\n",
       "       [4.9, 2.5, 4.5, 1.7],\n",
       "       [7.3, 2.9, 6.3, 1.8],\n",
       "       [6.7, 2.5, 5.8, 1.8],\n",
       "       [7.2, 3.6, 6.1, 2.5],\n",
       "       [6.5, 3.2, 5.1, 2. ],\n",
       "       [6.4, 2.7, 5.3, 1.9],\n",
       "       [5.7, 2.5, 5. , 2. ],\n",
       "       [5.8, 2.8, 5.1, 2.4],\n",
       "       [6.4, 3.2, 5.3, 2.3],\n",
       "       [6.5, 3. , 5.5, 1.8],\n",
       "       [7.7, 2.6, 6.9, 2.3],\n",
       "       [6. , 2.2, 5. , 1.5],\n",
       "       [6.9, 3.2, 5.7, 2.3],\n",
       "       [5.6, 2.8, 4.9, 2. ],\n",
       "       [7.7, 2.8, 6.7, 2. ],\n",
       "       [6.3, 2.7, 4.9, 1.8],\n",
       "       [6.7, 3.3, 5.7, 2.1],\n",
       "       [7.2, 3.2, 6. , 1.8],\n",
       "       [6.2, 2.8, 4.8, 1.8],\n",
       "       [6.1, 3. , 4.9, 1.8],\n",
       "       [6.4, 2.8, 5.6, 2.1],\n",
       "       [7.2, 3. , 5.8, 1.6],\n",
       "       [7.4, 2.8, 6.1, 1.9],\n",
       "       [6.4, 2.8, 5.6, 2.2],\n",
       "       [6.3, 2.8, 5.1, 1.5],\n",
       "       [7.7, 3. , 6.1, 2.3],\n",
       "       [6.3, 3.4, 5.6, 2.4],\n",
       "       [6.4, 3.1, 5.5, 1.8],\n",
       "       [6. , 3. , 4.8, 1.8],\n",
       "       [6.9, 3.1, 5.4, 2.1],\n",
       "       [6.7, 3.1, 5.6, 2.4],\n",
       "       [6.9, 3.1, 5.1, 2.3],\n",
       "       [5.8, 2.7, 5.1, 1.9],\n",
       "       [6.8, 3.2, 5.9, 2.3],\n",
       "       [6.7, 3.3, 5.7, 2.5],\n",
       "       [6.3, 2.5, 5. , 1.9],\n",
       "       [5.9, 3. , 5.1, 1.8]])"
      ]
     },
     "execution_count": 532,
     "metadata": {},
     "output_type": "execute_result"
    }
   ],
   "source": [
    "iris_2d[cond]"
   ]
  },
  {
   "cell_type": "code",
   "execution_count": 534,
   "metadata": {},
   "outputs": [],
   "source": [
    "#36. Find the correlation between SepalLength(1st column) and PetalLength(3rd column) in iris_2d\n",
    "url = 'https://archive.ics.uci.edu/ml/machine-learning-databases/iris/iris.data'\n",
    "iris = np.genfromtxt(url, delimiter=',', dtype='float', usecols=[0,1,2,3])"
   ]
  },
  {
   "cell_type": "code",
   "execution_count": 540,
   "metadata": {},
   "outputs": [
    {
     "data": {
      "text/plain": [
       "array([3484.25])"
      ]
     },
     "execution_count": 540,
     "metadata": {},
     "output_type": "execute_result"
    }
   ],
   "source": [
    "#zle -> np.correlate(iris[:, 0], iris[:,2])"
   ]
  },
  {
   "cell_type": "code",
   "execution_count": 542,
   "metadata": {},
   "outputs": [
    {
     "data": {
      "text/plain": [
       "0.8717541573048718"
      ]
     },
     "execution_count": 542,
     "metadata": {},
     "output_type": "execute_result"
    }
   ],
   "source": [
    "np.corrcoef(iris[:, 0], iris[:,2])[0,1] #Return Pearson product-moment correlation coefficients."
   ]
  },
  {
   "cell_type": "code",
   "execution_count": 547,
   "metadata": {},
   "outputs": [],
   "source": [
    "#37. Find out if iris_2d has any missing values.\n",
    "url = 'https://archive.ics.uci.edu/ml/machine-learning-databases/iris/iris.data'\n",
    "iris_2d = np.genfromtxt(url, delimiter=',', dtype='float', usecols=[0,1,2,3])\n",
    "iris_2d[np.random.randint(150, size=20), np.random.randint(4, size=20)] = np.nan"
   ]
  },
  {
   "cell_type": "code",
   "execution_count": 549,
   "metadata": {},
   "outputs": [
    {
     "data": {
      "text/plain": [
       "True"
      ]
     },
     "execution_count": 549,
     "metadata": {},
     "output_type": "execute_result"
    }
   ],
   "source": [
    "np.any(np.isnan(iris_2d))"
   ]
  },
  {
   "cell_type": "code",
   "execution_count": 550,
   "metadata": {},
   "outputs": [
    {
     "data": {
      "text/plain": [
       "True"
      ]
     },
     "execution_count": 550,
     "metadata": {},
     "output_type": "execute_result"
    }
   ],
   "source": [
    "np.isnan(iris_2d).any()"
   ]
  },
  {
   "cell_type": "code",
   "execution_count": 552,
   "metadata": {},
   "outputs": [],
   "source": [
    "#38. Replace all ccurrences of nan with 0 in numpy array\n",
    "url = 'https://archive.ics.uci.edu/ml/machine-learning-databases/iris/iris.data'\n",
    "iris_2d = np.genfromtxt(url, delimiter=',', dtype='float', usecols=[0,1,2,3])\n",
    "iris_2d[np.random.randint(150, size=20), np.random.randint(4, size=20)] = np.nan"
   ]
  },
  {
   "cell_type": "code",
   "execution_count": 556,
   "metadata": {},
   "outputs": [],
   "source": [
    "iris_2d[np.isnan(iris_2d)] = 0"
   ]
  },
  {
   "cell_type": "code",
   "execution_count": 557,
   "metadata": {
    "collapsed": true
   },
   "outputs": [
    {
     "data": {
      "text/plain": [
       "array([[5.1, 3.5, 0. , 0.2],\n",
       "       [4.9, 3. , 1.4, 0.2],\n",
       "       [4.7, 3.2, 1.3, 0.2],\n",
       "       [4.6, 3.1, 1.5, 0.2],\n",
       "       [5. , 3.6, 1.4, 0.2],\n",
       "       [5.4, 3.9, 1.7, 0.4],\n",
       "       [4.6, 3.4, 1.4, 0.3],\n",
       "       [5. , 3.4, 1.5, 0.2],\n",
       "       [4.4, 2.9, 1.4, 0.2],\n",
       "       [4.9, 3.1, 1.5, 0.1],\n",
       "       [5.4, 3.7, 1.5, 0.2],\n",
       "       [4.8, 3.4, 1.6, 0.2],\n",
       "       [4.8, 3. , 1.4, 0.1],\n",
       "       [4.3, 3. , 1.1, 0.1],\n",
       "       [5.8, 4. , 1.2, 0.2],\n",
       "       [5.7, 4.4, 1.5, 0.4],\n",
       "       [5.4, 3.9, 1.3, 0.4],\n",
       "       [5.1, 3.5, 1.4, 0.3],\n",
       "       [5.7, 3.8, 1.7, 0.3],\n",
       "       [5.1, 3.8, 1.5, 0. ],\n",
       "       [5.4, 3.4, 1.7, 0.2],\n",
       "       [5.1, 3.7, 1.5, 0.4],\n",
       "       [4.6, 3.6, 1. , 0.2],\n",
       "       [5.1, 3.3, 1.7, 0.5],\n",
       "       [4.8, 3.4, 1.9, 0.2],\n",
       "       [5. , 3. , 1.6, 0.2],\n",
       "       [5. , 3.4, 1.6, 0.4],\n",
       "       [5.2, 3.5, 1.5, 0.2],\n",
       "       [5.2, 3.4, 1.4, 0. ],\n",
       "       [4.7, 3.2, 1.6, 0.2],\n",
       "       [4.8, 3.1, 1.6, 0.2],\n",
       "       [5.4, 3.4, 1.5, 0.4],\n",
       "       [5.2, 4.1, 1.5, 0.1],\n",
       "       [5.5, 0. , 1.4, 0.2],\n",
       "       [4.9, 3.1, 1.5, 0.1],\n",
       "       [0. , 3.2, 1.2, 0.2],\n",
       "       [5.5, 3.5, 0. , 0.2],\n",
       "       [4.9, 3.1, 1.5, 0.1],\n",
       "       [4.4, 3. , 1.3, 0.2],\n",
       "       [5.1, 3.4, 1.5, 0.2],\n",
       "       [5. , 3.5, 1.3, 0.3],\n",
       "       [4.5, 2.3, 1.3, 0.3],\n",
       "       [4.4, 3.2, 1.3, 0.2],\n",
       "       [5. , 3.5, 1.6, 0.6],\n",
       "       [5.1, 3.8, 1.9, 0.4],\n",
       "       [4.8, 3. , 1.4, 0.3],\n",
       "       [5.1, 3.8, 0. , 0.2],\n",
       "       [4.6, 3.2, 1.4, 0.2],\n",
       "       [5.3, 3.7, 1.5, 0.2],\n",
       "       [5. , 3.3, 1.4, 0. ],\n",
       "       [7. , 0. , 4.7, 1.4],\n",
       "       [6.4, 3.2, 4.5, 1.5],\n",
       "       [6.9, 3.1, 4.9, 1.5],\n",
       "       [5.5, 2.3, 4. , 1.3],\n",
       "       [6.5, 2.8, 4.6, 1.5],\n",
       "       [5.7, 2.8, 4.5, 1.3],\n",
       "       [6.3, 3.3, 4.7, 1.6],\n",
       "       [4.9, 2.4, 3.3, 1. ],\n",
       "       [6.6, 2.9, 4.6, 1.3],\n",
       "       [5.2, 2.7, 3.9, 1.4],\n",
       "       [5. , 2. , 3.5, 1. ],\n",
       "       [5.9, 3. , 4.2, 1.5],\n",
       "       [6. , 2.2, 4. , 1. ],\n",
       "       [6.1, 2.9, 4.7, 1.4],\n",
       "       [5.6, 2.9, 3.6, 1.3],\n",
       "       [6.7, 3.1, 4.4, 1.4],\n",
       "       [5.6, 3. , 4.5, 1.5],\n",
       "       [5.8, 2.7, 4.1, 1. ],\n",
       "       [6.2, 2.2, 4.5, 1.5],\n",
       "       [5.6, 2.5, 3.9, 1.1],\n",
       "       [5.9, 3.2, 4.8, 1.8],\n",
       "       [6.1, 2.8, 4. , 0. ],\n",
       "       [6.3, 2.5, 4.9, 1.5],\n",
       "       [0. , 2.8, 4.7, 1.2],\n",
       "       [6.4, 2.9, 4.3, 1.3],\n",
       "       [6.6, 3. , 4.4, 1.4],\n",
       "       [6.8, 2.8, 4.8, 1.4],\n",
       "       [0. , 3. , 5. , 1.7],\n",
       "       [6. , 2.9, 4.5, 1.5],\n",
       "       [5.7, 2.6, 3.5, 1. ],\n",
       "       [5.5, 2.4, 3.8, 1.1],\n",
       "       [5.5, 2.4, 3.7, 1. ],\n",
       "       [5.8, 2.7, 3.9, 1.2],\n",
       "       [6. , 2.7, 5.1, 1.6],\n",
       "       [5.4, 3. , 4.5, 1.5],\n",
       "       [6. , 3.4, 4.5, 1.6],\n",
       "       [6.7, 0. , 0. , 1.5],\n",
       "       [6.3, 2.3, 4.4, 1.3],\n",
       "       [5.6, 3. , 4.1, 1.3],\n",
       "       [5.5, 2.5, 4. , 1.3],\n",
       "       [5.5, 2.6, 4.4, 1.2],\n",
       "       [6.1, 3. , 4.6, 1.4],\n",
       "       [5.8, 2.6, 4. , 1.2],\n",
       "       [5. , 2.3, 3.3, 1. ],\n",
       "       [5.6, 2.7, 4.2, 1.3],\n",
       "       [5.7, 3. , 4.2, 1.2],\n",
       "       [5.7, 2.9, 4.2, 0. ],\n",
       "       [6.2, 2.9, 4.3, 1.3],\n",
       "       [5.1, 2.5, 3. , 1.1],\n",
       "       [5.7, 2.8, 4.1, 1.3],\n",
       "       [6.3, 3.3, 6. , 2.5],\n",
       "       [5.8, 2.7, 5.1, 1.9],\n",
       "       [7.1, 3. , 5.9, 2.1],\n",
       "       [6.3, 2.9, 5.6, 1.8],\n",
       "       [6.5, 3. , 5.8, 2.2],\n",
       "       [7.6, 3. , 6.6, 2.1],\n",
       "       [4.9, 2.5, 4.5, 1.7],\n",
       "       [7.3, 2.9, 6.3, 1.8],\n",
       "       [6.7, 2.5, 5.8, 1.8],\n",
       "       [7.2, 3.6, 6.1, 2.5],\n",
       "       [6.5, 3.2, 5.1, 2. ],\n",
       "       [6.4, 2.7, 5.3, 1.9],\n",
       "       [6.8, 3. , 5.5, 2.1],\n",
       "       [5.7, 2.5, 5. , 2. ],\n",
       "       [5.8, 2.8, 5.1, 2.4],\n",
       "       [6.4, 3.2, 5.3, 2.3],\n",
       "       [6.5, 3. , 5.5, 1.8],\n",
       "       [7.7, 3.8, 6.7, 2.2],\n",
       "       [7.7, 2.6, 6.9, 2.3],\n",
       "       [6. , 2.2, 5. , 1.5],\n",
       "       [6.9, 3.2, 5.7, 2.3],\n",
       "       [0. , 2.8, 4.9, 2. ],\n",
       "       [7.7, 2.8, 0. , 2. ],\n",
       "       [6.3, 2.7, 4.9, 1.8],\n",
       "       [6.7, 3.3, 5.7, 2.1],\n",
       "       [7.2, 3.2, 6. , 1.8],\n",
       "       [6.2, 2.8, 4.8, 1.8],\n",
       "       [6.1, 3. , 4.9, 1.8],\n",
       "       [6.4, 2.8, 5.6, 2.1],\n",
       "       [7.2, 3. , 5.8, 0. ],\n",
       "       [7.4, 2.8, 6.1, 1.9],\n",
       "       [7.9, 3.8, 0. , 2. ],\n",
       "       [6.4, 2.8, 5.6, 2.2],\n",
       "       [6.3, 2.8, 5.1, 1.5],\n",
       "       [6.1, 2.6, 5.6, 0. ],\n",
       "       [7.7, 3. , 6.1, 2.3],\n",
       "       [6.3, 3.4, 5.6, 2.4],\n",
       "       [6.4, 3.1, 5.5, 1.8],\n",
       "       [6. , 3. , 4.8, 1.8],\n",
       "       [6.9, 3.1, 5.4, 2.1],\n",
       "       [6.7, 3.1, 5.6, 2.4],\n",
       "       [6.9, 3.1, 5.1, 2.3],\n",
       "       [5.8, 2.7, 5.1, 1.9],\n",
       "       [6.8, 3.2, 5.9, 2.3],\n",
       "       [6.7, 3.3, 5.7, 2.5],\n",
       "       [6.7, 3. , 5.2, 2.3],\n",
       "       [6.3, 2.5, 5. , 1.9],\n",
       "       [6.5, 3. , 5.2, 2. ],\n",
       "       [6.2, 3.4, 5.4, 2.3],\n",
       "       [5.9, 3. , 5.1, 1.8]])"
      ]
     },
     "execution_count": 557,
     "metadata": {},
     "output_type": "execute_result"
    }
   ],
   "source": [
    "iris_2d"
   ]
  },
  {
   "cell_type": "code",
   "execution_count": 559,
   "metadata": {},
   "outputs": [],
   "source": [
    "#39. Find the unique values and the count of unique values in iris's species\n",
    "url = 'https://archive.ics.uci.edu/ml/machine-learning-databases/iris/iris.data'\n",
    "iris = np.genfromtxt(url, delimiter=',', dtype='object')\n",
    "names = ('sepallength', 'sepalwidth', 'petallength', 'petalwidth', 'species')"
   ]
  },
  {
   "cell_type": "code",
   "execution_count": 563,
   "metadata": {},
   "outputs": [
    {
     "data": {
      "text/plain": [
       "array([b'Iris-setosa', b'Iris-versicolor', b'Iris-virginica'],\n",
       "      dtype=object)"
      ]
     },
     "execution_count": 563,
     "metadata": {},
     "output_type": "execute_result"
    }
   ],
   "source": [
    "np.unique(iris[:,4])"
   ]
  },
  {
   "cell_type": "code",
   "execution_count": 564,
   "metadata": {},
   "outputs": [
    {
     "data": {
      "text/plain": [
       "{b'Iris-setosa', b'Iris-versicolor', b'Iris-virginica'}"
      ]
     },
     "execution_count": 564,
     "metadata": {},
     "output_type": "execute_result"
    }
   ],
   "source": [
    "set(iris[:,4])"
   ]
  },
  {
   "cell_type": "code",
   "execution_count": 595,
   "metadata": {},
   "outputs": [],
   "source": [
    "#40. Bin the petal length (3rd) column of iris_2d to form a text array, such that if petal length is:\n",
    "url = 'https://archive.ics.uci.edu/ml/machine-learning-databases/iris/iris.data'\n",
    "iris = np.genfromtxt(url, delimiter=',', dtype='object')\n",
    "names = ('sepallength', 'sepalwidth', 'petallength', 'petalwidth', 'species')"
   ]
  },
  {
   "cell_type": "code",
   "execution_count": 586,
   "metadata": {},
   "outputs": [],
   "source": [
    "iris_2 = np.genfromtxt(url, delimiter=',', dtype='str', usecols = [2])\n",
    "iris[:, 2] = ['Petal length is: ' + iris_2[row] for row in range(0,len(iris))]"
   ]
  },
  {
   "cell_type": "code",
   "execution_count": 596,
   "metadata": {},
   "outputs": [],
   "source": [
    "iris = np.genfromtxt(url, delimiter=',', dtype='object')\n",
    "iris[:, 2] = ['Petal length is: ' + str(iris[row, 2]) for row in range(0,len(iris))]\n",
    "iris"
   ]
  },
  {
   "cell_type": "code",
   "execution_count": null,
   "metadata": {},
   "outputs": [],
   "source": [
    "'''\n",
    "Less than 3 --> 'small'\n",
    "3-5 --> 'medium'\n",
    "'>=5 --> 'large'\n",
    "'''"
   ]
  },
  {
   "cell_type": "code",
   "execution_count": 600,
   "metadata": {},
   "outputs": [],
   "source": [
    "classif = {1:\"small\", 2:\"medium\", 3:\"large\"}"
   ]
  },
  {
   "cell_type": "code",
   "execution_count": 633,
   "metadata": {
    "collapsed": true
   },
   "outputs": [
    {
     "data": {
      "text/plain": [
       "array([[b'5.1', b'3.5', 'small', b'0.2', b'Iris-setosa'],\n",
       "       [b'4.9', b'3.0', 'small', b'0.2', b'Iris-setosa'],\n",
       "       [b'4.7', b'3.2', 'small', b'0.2', b'Iris-setosa'],\n",
       "       [b'4.6', b'3.1', 'small', b'0.2', b'Iris-setosa'],\n",
       "       [b'5.0', b'3.6', 'small', b'0.2', b'Iris-setosa'],\n",
       "       [b'5.4', b'3.9', 'small', b'0.4', b'Iris-setosa'],\n",
       "       [b'4.6', b'3.4', 'small', b'0.3', b'Iris-setosa'],\n",
       "       [b'5.0', b'3.4', 'small', b'0.2', b'Iris-setosa'],\n",
       "       [b'4.4', b'2.9', 'small', b'0.2', b'Iris-setosa'],\n",
       "       [b'4.9', b'3.1', 'small', b'0.1', b'Iris-setosa'],\n",
       "       [b'5.4', b'3.7', 'small', b'0.2', b'Iris-setosa'],\n",
       "       [b'4.8', b'3.4', 'small', b'0.2', b'Iris-setosa'],\n",
       "       [b'4.8', b'3.0', 'small', b'0.1', b'Iris-setosa'],\n",
       "       [b'4.3', b'3.0', 'small', b'0.1', b'Iris-setosa'],\n",
       "       [b'5.8', b'4.0', 'small', b'0.2', b'Iris-setosa'],\n",
       "       [b'5.7', b'4.4', 'small', b'0.4', b'Iris-setosa'],\n",
       "       [b'5.4', b'3.9', 'small', b'0.4', b'Iris-setosa'],\n",
       "       [b'5.1', b'3.5', 'small', b'0.3', b'Iris-setosa'],\n",
       "       [b'5.7', b'3.8', 'small', b'0.3', b'Iris-setosa'],\n",
       "       [b'5.1', b'3.8', 'small', b'0.3', b'Iris-setosa'],\n",
       "       [b'5.4', b'3.4', 'small', b'0.2', b'Iris-setosa'],\n",
       "       [b'5.1', b'3.7', 'small', b'0.4', b'Iris-setosa'],\n",
       "       [b'4.6', b'3.6', 'small', b'0.2', b'Iris-setosa'],\n",
       "       [b'5.1', b'3.3', 'small', b'0.5', b'Iris-setosa'],\n",
       "       [b'4.8', b'3.4', 'small', b'0.2', b'Iris-setosa'],\n",
       "       [b'5.0', b'3.0', 'small', b'0.2', b'Iris-setosa'],\n",
       "       [b'5.0', b'3.4', 'small', b'0.4', b'Iris-setosa'],\n",
       "       [b'5.2', b'3.5', 'small', b'0.2', b'Iris-setosa'],\n",
       "       [b'5.2', b'3.4', 'small', b'0.2', b'Iris-setosa'],\n",
       "       [b'4.7', b'3.2', 'small', b'0.2', b'Iris-setosa'],\n",
       "       [b'4.8', b'3.1', 'small', b'0.2', b'Iris-setosa'],\n",
       "       [b'5.4', b'3.4', 'small', b'0.4', b'Iris-setosa'],\n",
       "       [b'5.2', b'4.1', 'small', b'0.1', b'Iris-setosa'],\n",
       "       [b'5.5', b'4.2', 'small', b'0.2', b'Iris-setosa'],\n",
       "       [b'4.9', b'3.1', 'small', b'0.1', b'Iris-setosa'],\n",
       "       [b'5.0', b'3.2', 'small', b'0.2', b'Iris-setosa'],\n",
       "       [b'5.5', b'3.5', 'small', b'0.2', b'Iris-setosa'],\n",
       "       [b'4.9', b'3.1', 'small', b'0.1', b'Iris-setosa'],\n",
       "       [b'4.4', b'3.0', 'small', b'0.2', b'Iris-setosa'],\n",
       "       [b'5.1', b'3.4', 'small', b'0.2', b'Iris-setosa'],\n",
       "       [b'5.0', b'3.5', 'small', b'0.3', b'Iris-setosa'],\n",
       "       [b'4.5', b'2.3', 'small', b'0.3', b'Iris-setosa'],\n",
       "       [b'4.4', b'3.2', 'small', b'0.2', b'Iris-setosa'],\n",
       "       [b'5.0', b'3.5', 'small', b'0.6', b'Iris-setosa'],\n",
       "       [b'5.1', b'3.8', 'small', b'0.4', b'Iris-setosa'],\n",
       "       [b'4.8', b'3.0', 'small', b'0.3', b'Iris-setosa'],\n",
       "       [b'5.1', b'3.8', 'small', b'0.2', b'Iris-setosa'],\n",
       "       [b'4.6', b'3.2', 'small', b'0.2', b'Iris-setosa'],\n",
       "       [b'5.3', b'3.7', 'small', b'0.2', b'Iris-setosa'],\n",
       "       [b'5.0', b'3.3', 'small', b'0.2', b'Iris-setosa'],\n",
       "       [b'7.0', b'3.2', 'medium', b'1.4', b'Iris-versicolor'],\n",
       "       [b'6.4', b'3.2', 'medium', b'1.5', b'Iris-versicolor'],\n",
       "       [b'6.9', b'3.1', 'medium', b'1.5', b'Iris-versicolor'],\n",
       "       [b'5.5', b'2.3', 'medium', b'1.3', b'Iris-versicolor'],\n",
       "       [b'6.5', b'2.8', 'medium', b'1.5', b'Iris-versicolor'],\n",
       "       [b'5.7', b'2.8', 'medium', b'1.3', b'Iris-versicolor'],\n",
       "       [b'6.3', b'3.3', 'medium', b'1.6', b'Iris-versicolor'],\n",
       "       [b'4.9', b'2.4', 'medium', b'1.0', b'Iris-versicolor'],\n",
       "       [b'6.6', b'2.9', 'medium', b'1.3', b'Iris-versicolor'],\n",
       "       [b'5.2', b'2.7', 'medium', b'1.4', b'Iris-versicolor'],\n",
       "       [b'5.0', b'2.0', 'medium', b'1.0', b'Iris-versicolor'],\n",
       "       [b'5.9', b'3.0', 'medium', b'1.5', b'Iris-versicolor'],\n",
       "       [b'6.0', b'2.2', 'medium', b'1.0', b'Iris-versicolor'],\n",
       "       [b'6.1', b'2.9', 'medium', b'1.4', b'Iris-versicolor'],\n",
       "       [b'5.6', b'2.9', 'medium', b'1.3', b'Iris-versicolor'],\n",
       "       [b'6.7', b'3.1', 'medium', b'1.4', b'Iris-versicolor'],\n",
       "       [b'5.6', b'3.0', 'medium', b'1.5', b'Iris-versicolor'],\n",
       "       [b'5.8', b'2.7', 'medium', b'1.0', b'Iris-versicolor'],\n",
       "       [b'6.2', b'2.2', 'medium', b'1.5', b'Iris-versicolor'],\n",
       "       [b'5.6', b'2.5', 'medium', b'1.1', b'Iris-versicolor'],\n",
       "       [b'5.9', b'3.2', 'medium', b'1.8', b'Iris-versicolor'],\n",
       "       [b'6.1', b'2.8', 'medium', b'1.3', b'Iris-versicolor'],\n",
       "       [b'6.3', b'2.5', 'medium', b'1.5', b'Iris-versicolor'],\n",
       "       [b'6.1', b'2.8', 'medium', b'1.2', b'Iris-versicolor'],\n",
       "       [b'6.4', b'2.9', 'medium', b'1.3', b'Iris-versicolor'],\n",
       "       [b'6.6', b'3.0', 'medium', b'1.4', b'Iris-versicolor'],\n",
       "       [b'6.8', b'2.8', 'medium', b'1.4', b'Iris-versicolor'],\n",
       "       [b'6.7', b'3.0', 'large', b'1.7', b'Iris-versicolor'],\n",
       "       [b'6.0', b'2.9', 'medium', b'1.5', b'Iris-versicolor'],\n",
       "       [b'5.7', b'2.6', 'medium', b'1.0', b'Iris-versicolor'],\n",
       "       [b'5.5', b'2.4', 'medium', b'1.1', b'Iris-versicolor'],\n",
       "       [b'5.5', b'2.4', 'medium', b'1.0', b'Iris-versicolor'],\n",
       "       [b'5.8', b'2.7', 'medium', b'1.2', b'Iris-versicolor'],\n",
       "       [b'6.0', b'2.7', 'large', b'1.6', b'Iris-versicolor'],\n",
       "       [b'5.4', b'3.0', 'medium', b'1.5', b'Iris-versicolor'],\n",
       "       [b'6.0', b'3.4', 'medium', b'1.6', b'Iris-versicolor'],\n",
       "       [b'6.7', b'3.1', 'medium', b'1.5', b'Iris-versicolor'],\n",
       "       [b'6.3', b'2.3', 'medium', b'1.3', b'Iris-versicolor'],\n",
       "       [b'5.6', b'3.0', 'medium', b'1.3', b'Iris-versicolor'],\n",
       "       [b'5.5', b'2.5', 'medium', b'1.3', b'Iris-versicolor'],\n",
       "       [b'5.5', b'2.6', 'medium', b'1.2', b'Iris-versicolor'],\n",
       "       [b'6.1', b'3.0', 'medium', b'1.4', b'Iris-versicolor'],\n",
       "       [b'5.8', b'2.6', 'medium', b'1.2', b'Iris-versicolor'],\n",
       "       [b'5.0', b'2.3', 'medium', b'1.0', b'Iris-versicolor'],\n",
       "       [b'5.6', b'2.7', 'medium', b'1.3', b'Iris-versicolor'],\n",
       "       [b'5.7', b'3.0', 'medium', b'1.2', b'Iris-versicolor'],\n",
       "       [b'5.7', b'2.9', 'medium', b'1.3', b'Iris-versicolor'],\n",
       "       [b'6.2', b'2.9', 'medium', b'1.3', b'Iris-versicolor'],\n",
       "       [b'5.1', b'2.5', 'medium', b'1.1', b'Iris-versicolor'],\n",
       "       [b'5.7', b'2.8', 'medium', b'1.3', b'Iris-versicolor'],\n",
       "       [b'6.3', b'3.3', 'large', b'2.5', b'Iris-virginica'],\n",
       "       [b'5.8', b'2.7', 'large', b'1.9', b'Iris-virginica'],\n",
       "       [b'7.1', b'3.0', 'large', b'2.1', b'Iris-virginica'],\n",
       "       [b'6.3', b'2.9', 'large', b'1.8', b'Iris-virginica'],\n",
       "       [b'6.5', b'3.0', 'large', b'2.2', b'Iris-virginica'],\n",
       "       [b'7.6', b'3.0', 'large', b'2.1', b'Iris-virginica'],\n",
       "       [b'4.9', b'2.5', 'medium', b'1.7', b'Iris-virginica'],\n",
       "       [b'7.3', b'2.9', 'large', b'1.8', b'Iris-virginica'],\n",
       "       [b'6.7', b'2.5', 'large', b'1.8', b'Iris-virginica'],\n",
       "       [b'7.2', b'3.6', 'large', b'2.5', b'Iris-virginica'],\n",
       "       [b'6.5', b'3.2', 'large', b'2.0', b'Iris-virginica'],\n",
       "       [b'6.4', b'2.7', 'large', b'1.9', b'Iris-virginica'],\n",
       "       [b'6.8', b'3.0', 'large', b'2.1', b'Iris-virginica'],\n",
       "       [b'5.7', b'2.5', 'large', b'2.0', b'Iris-virginica'],\n",
       "       [b'5.8', b'2.8', 'large', b'2.4', b'Iris-virginica'],\n",
       "       [b'6.4', b'3.2', 'large', b'2.3', b'Iris-virginica'],\n",
       "       [b'6.5', b'3.0', 'large', b'1.8', b'Iris-virginica'],\n",
       "       [b'7.7', b'3.8', 'large', b'2.2', b'Iris-virginica'],\n",
       "       [b'7.7', b'2.6', 'large', b'2.3', b'Iris-virginica'],\n",
       "       [b'6.0', b'2.2', 'large', b'1.5', b'Iris-virginica'],\n",
       "       [b'6.9', b'3.2', 'large', b'2.3', b'Iris-virginica'],\n",
       "       [b'5.6', b'2.8', 'medium', b'2.0', b'Iris-virginica'],\n",
       "       [b'7.7', b'2.8', 'large', b'2.0', b'Iris-virginica'],\n",
       "       [b'6.3', b'2.7', 'medium', b'1.8', b'Iris-virginica'],\n",
       "       [b'6.7', b'3.3', 'large', b'2.1', b'Iris-virginica'],\n",
       "       [b'7.2', b'3.2', 'large', b'1.8', b'Iris-virginica'],\n",
       "       [b'6.2', b'2.8', 'medium', b'1.8', b'Iris-virginica'],\n",
       "       [b'6.1', b'3.0', 'medium', b'1.8', b'Iris-virginica'],\n",
       "       [b'6.4', b'2.8', 'large', b'2.1', b'Iris-virginica'],\n",
       "       [b'7.2', b'3.0', 'large', b'1.6', b'Iris-virginica'],\n",
       "       [b'7.4', b'2.8', 'large', b'1.9', b'Iris-virginica'],\n",
       "       [b'7.9', b'3.8', 'large', b'2.0', b'Iris-virginica'],\n",
       "       [b'6.4', b'2.8', 'large', b'2.2', b'Iris-virginica'],\n",
       "       [b'6.3', b'2.8', 'large', b'1.5', b'Iris-virginica'],\n",
       "       [b'6.1', b'2.6', 'large', b'1.4', b'Iris-virginica'],\n",
       "       [b'7.7', b'3.0', 'large', b'2.3', b'Iris-virginica'],\n",
       "       [b'6.3', b'3.4', 'large', b'2.4', b'Iris-virginica'],\n",
       "       [b'6.4', b'3.1', 'large', b'1.8', b'Iris-virginica'],\n",
       "       [b'6.0', b'3.0', 'medium', b'1.8', b'Iris-virginica'],\n",
       "       [b'6.9', b'3.1', 'large', b'2.1', b'Iris-virginica'],\n",
       "       [b'6.7', b'3.1', 'large', b'2.4', b'Iris-virginica'],\n",
       "       [b'6.9', b'3.1', 'large', b'2.3', b'Iris-virginica'],\n",
       "       [b'5.8', b'2.7', 'large', b'1.9', b'Iris-virginica'],\n",
       "       [b'6.8', b'3.2', 'large', b'2.3', b'Iris-virginica'],\n",
       "       [b'6.7', b'3.3', 'large', b'2.5', b'Iris-virginica'],\n",
       "       [b'6.7', b'3.0', 'large', b'2.3', b'Iris-virginica'],\n",
       "       [b'6.3', b'2.5', 'large', b'1.9', b'Iris-virginica'],\n",
       "       [b'6.5', b'3.0', 'large', b'2.0', b'Iris-virginica'],\n",
       "       [b'6.2', b'3.4', 'large', b'2.3', b'Iris-virginica'],\n",
       "       [b'5.9', b'3.0', 'large', b'1.8', b'Iris-virginica']], dtype=object)"
      ]
     },
     "execution_count": 633,
     "metadata": {},
     "output_type": "execute_result"
    }
   ],
   "source": [
    "iris = np.genfromtxt(url, delimiter=',', dtype='object')\n",
    "iris[:, 2] = iris[:, 2].astype(\"float\")\n",
    "cond = np.digitize(iris[:, 2],[0,3,5,np.inf])\n",
    "iris[:, 2] = [classif[cond[row]] for row in range(0,len(iris))]\n",
    "iris"
   ]
  },
  {
   "cell_type": "code",
   "execution_count": 639,
   "metadata": {},
   "outputs": [],
   "source": [
    "#41. Create a new column for volume in iris_2d, where volume is (pi x petallength x sepal_length^2)/3\n",
    "url = 'https://archive.ics.uci.edu/ml/machine-learning-databases/iris/iris.data'\n",
    "iris_2d = np.genfromtxt(url, delimiter=',', dtype='object')\n",
    "names = ('sepallength', 'sepalwidth', 'petallength', 'petalwidth', 'species')"
   ]
  },
  {
   "cell_type": "code",
   "execution_count": 666,
   "metadata": {
    "collapsed": true
   },
   "outputs": [
    {
     "data": {
      "text/plain": [
       "array([ 38.13265163,  35.20049849,  30.07237208,  33.23805027,\n",
       "        36.65191429,  51.91167701,  31.02218026,  39.26990817,\n",
       "        28.38324243,  37.71481981,  45.80442089,  38.60389053,\n",
       "        33.77840421,  21.29895099,  42.27327075,  51.03517266,\n",
       "        39.69716477,  38.13265163,  57.83986235,  40.85641246,\n",
       "        51.91167701,  40.85641246,  22.15870018,  46.30393412,\n",
       "        45.84212   ,  41.88790205,  41.88790205,  42.47433268,\n",
       "        39.6427105 ,  37.01215025,  38.60389053,  45.80442089,\n",
       "        42.47433268,  44.34881629,  37.71481981,  31.41592654,\n",
       "        41.1810437 ,  37.71481981,  26.35586797,  40.85641246,\n",
       "        34.03392041,  27.56747554,  26.35586797,  41.88790205,\n",
       "        51.75145578,  33.77840421,  43.58017329,  31.02218026,\n",
       "        44.12366882,  36.65191429, 241.16959604, 193.01945264,\n",
       "       244.29966952, 126.71090369, 203.52284408, 153.10551797,\n",
       "       195.34737279,  82.97260357, 209.83325652, 110.43326496,\n",
       "        91.62978573, 153.10237638, 150.79644737, 183.14123814,\n",
       "       118.22441474, 206.83827152, 147.78051842, 144.43367505,\n",
       "       181.14423241, 128.0764493 , 174.97414443, 155.86488352,\n",
       "       203.66002695, 183.14123814, 184.4408103 , 200.71007145,\n",
       "       232.42759088, 235.04349037, 169.64600329, 119.08206953,\n",
       "       120.37535851, 117.20758592, 137.38812993, 192.2654704 ,\n",
       "       137.41326267, 169.64600329, 220.94088094, 182.87839155,\n",
       "       134.64447234, 126.71090369, 139.38199406, 179.24461605,\n",
       "       140.91090249,  86.39379797, 137.92848386, 142.89848344,\n",
       "       142.89848344, 173.09337763,  81.71282492, 139.4961386 ,\n",
       "       249.37962484, 179.66140067, 311.45644848, 232.75431652,\n",
       "       256.61575992, 399.20846168, 113.14445942, 351.57249227,\n",
       "       272.65044882, 331.14899843, 225.64489234, 227.33402199,\n",
       "       266.32328122, 170.11724219, 179.66140067, 227.33402199,\n",
       "       243.34253096, 415.99189683, 428.40956539, 188.49555922,\n",
       "       284.18532985, 160.91656451, 415.99189683, 203.66002695,\n",
       "       267.94957902, 325.72032632, 193.22051457, 190.93448231,\n",
       "       240.2019855 , 314.86298211, 349.80168121, 418.27583469,\n",
       "       240.2019855 , 211.97268112, 218.21083693, 378.73889114,\n",
       "       232.75431652, 235.91266433, 180.95573685, 269.22820723,\n",
       "       263.24870921, 254.2710846 , 179.66140067, 285.69224713,\n",
       "       267.94957902, 244.44522998, 207.81635403, 230.069302  ,\n",
       "       217.37307889, 185.91002846])"
      ]
     },
     "execution_count": 666,
     "metadata": {},
     "output_type": "execute_result"
    }
   ],
   "source": [
    "import math\n",
    "iris_2d[:, 2]= iris_2d[:, 2].astype('float')\n",
    "iris_2d[:, 0]= iris_2d[:, 0].astype(\"float\")\n",
    "volume = np.array([ (math.pi * iris_2d[i, 2] * math.pow(iris_2d[i, 0],2))/3 for i in range(0,len(iris))])\n",
    "volume"
   ]
  },
  {
   "cell_type": "code",
   "execution_count": 667,
   "metadata": {
    "collapsed": true
   },
   "outputs": [
    {
     "data": {
      "text/plain": [
       "array([[5.1, b'3.5', 1.4, b'0.2', b'Iris-setosa', 38.13265162927291],\n",
       "       [4.9, b'3.0', 1.4, b'0.2', b'Iris-setosa', 35.200498485922445],\n",
       "       [4.7, b'3.2', 1.3, b'0.2', b'Iris-setosa', 30.0723720777127],\n",
       "       [4.6, b'3.1', 1.5, b'0.2', b'Iris-setosa', 33.238050274980004],\n",
       "       [5.0, b'3.6', 1.4, b'0.2', b'Iris-setosa', 36.65191429188092],\n",
       "       [5.4, b'3.9', 1.7, b'0.4', b'Iris-setosa', 51.911677007917746],\n",
       "       [4.6, b'3.4', 1.4, b'0.3', b'Iris-setosa', 31.022180256648003],\n",
       "       [5.0, b'3.4', 1.5, b'0.2', b'Iris-setosa', 39.269908169872416],\n",
       "       [4.4, b'2.9', 1.4, b'0.2', b'Iris-setosa', 28.38324242763259],\n",
       "       [4.9, b'3.1', 1.5, b'0.1', b'Iris-setosa', 37.714819806345474],\n",
       "       [5.4, b'3.7', 1.5, b'0.2', b'Iris-setosa', 45.80442088933919],\n",
       "       [4.8, b'3.4', 1.6, b'0.2', b'Iris-setosa', 38.60389052731138],\n",
       "       [4.8, b'3.0', 1.4, b'0.1', b'Iris-setosa', 33.77840421139745],\n",
       "       [4.3, b'3.0', 1.1, b'0.1', b'Iris-setosa', 21.298950993787603],\n",
       "       [5.8, b'4.0', 1.2, b'0.2', b'Iris-setosa', 42.273270746704256],\n",
       "       [5.7, b'4.4', 1.5, b'0.4', b'Iris-setosa', 51.03517265756619],\n",
       "       [5.4, b'3.9', 1.3, b'0.4', b'Iris-setosa', 39.69716477076063],\n",
       "       [5.1, b'3.5', 1.4, b'0.3', b'Iris-setosa', 38.13265162927291],\n",
       "       [5.7, b'3.8', 1.7, b'0.3', b'Iris-setosa', 57.83986234524169],\n",
       "       [5.1, b'3.8', 1.5, b'0.3', b'Iris-setosa', 40.85641245993526],\n",
       "       [5.4, b'3.4', 1.7, b'0.2', b'Iris-setosa', 51.911677007917746],\n",
       "       [5.1, b'3.7', 1.5, b'0.4', b'Iris-setosa', 40.85641245993526],\n",
       "       [4.6, b'3.6', 1.0, b'0.2', b'Iris-setosa', 22.158700183320004],\n",
       "       [5.1, b'3.3', 1.7, b'0.5', b'Iris-setosa', 46.303934121259964],\n",
       "       [4.8, b'3.4', 1.9, b'0.2', b'Iris-setosa', 45.84212000118226],\n",
       "       [5.0, b'3.0', 1.6, b'0.2', b'Iris-setosa', 41.88790204786391],\n",
       "       [5.0, b'3.4', 1.6, b'0.4', b'Iris-setosa', 41.88790204786391],\n",
       "       [5.2, b'3.5', 1.5, b'0.2', b'Iris-setosa', 42.47433267653401],\n",
       "       [5.2, b'3.4', 1.4, b'0.2', b'Iris-setosa', 39.6427104980984],\n",
       "       [4.7, b'3.2', 1.6, b'0.2', b'Iris-setosa', 37.01215024949256],\n",
       "       [4.8, b'3.1', 1.6, b'0.2', b'Iris-setosa', 38.60389052731138],\n",
       "       [5.4, b'3.4', 1.5, b'0.4', b'Iris-setosa', 45.80442088933919],\n",
       "       [5.2, b'4.1', 1.5, b'0.1', b'Iris-setosa', 42.47433267653401],\n",
       "       [5.5, b'4.2', 1.4, b'0.2', b'Iris-setosa', 44.34881629317591],\n",
       "       [4.9, b'3.1', 1.5, b'0.1', b'Iris-setosa', 37.714819806345474],\n",
       "       [5.0, b'3.2', 1.2, b'0.2', b'Iris-setosa', 31.415926535897928],\n",
       "       [5.5, b'3.5', 1.3, b'0.2', b'Iris-setosa', 41.18104370080621],\n",
       "       [4.9, b'3.1', 1.5, b'0.1', b'Iris-setosa', 37.714819806345474],\n",
       "       [4.4, b'3.0', 1.3, b'0.2', b'Iris-setosa', 26.355867968515977],\n",
       "       [5.1, b'3.4', 1.5, b'0.2', b'Iris-setosa', 40.85641245993526],\n",
       "       [5.0, b'3.5', 1.3, b'0.3', b'Iris-setosa', 34.033920413889426],\n",
       "       [4.5, b'2.3', 1.3, b'0.3', b'Iris-setosa', 27.567475535250434],\n",
       "       [4.4, b'3.2', 1.3, b'0.2', b'Iris-setosa', 26.355867968515977],\n",
       "       [5.0, b'3.5', 1.6, b'0.6', b'Iris-setosa', 41.88790204786391],\n",
       "       [5.1, b'3.8', 1.9, b'0.4', b'Iris-setosa', 51.75145578258466],\n",
       "       [4.8, b'3.0', 1.4, b'0.3', b'Iris-setosa', 33.77840421139745],\n",
       "       [5.1, b'3.8', 1.6, b'0.2', b'Iris-setosa', 43.58017329059761],\n",
       "       [4.6, b'3.2', 1.4, b'0.2', b'Iris-setosa', 31.022180256648003],\n",
       "       [5.3, b'3.7', 1.5, b'0.2', b'Iris-setosa', 44.123668819668644],\n",
       "       [5.0, b'3.3', 1.4, b'0.2', b'Iris-setosa', 36.65191429188092],\n",
       "       [7.0, b'3.2', 4.7, b'1.4', b'Iris-versicolor', 241.16959604057647],\n",
       "       [6.4, b'3.2', 4.5, b'1.5', b'Iris-versicolor', 193.01945263655693],\n",
       "       [6.9, b'3.1', 4.9, b'1.5', b'Iris-versicolor', 244.29966952110314],\n",
       "       [5.5, b'2.3', 4.0, b'1.3', b'Iris-versicolor', 126.71090369478833],\n",
       "       [6.5, b'2.8', 4.6, b'1.5', b'Iris-versicolor', 203.52284407505874],\n",
       "       [5.7, b'2.8', 4.5, b'1.3', b'Iris-versicolor', 153.10551797269858],\n",
       "       [6.3, b'3.3', 4.7, b'1.6', b'Iris-versicolor', 195.34737279286693],\n",
       "       [4.9, b'2.4', 3.3, b'1.0', b'Iris-versicolor', 82.97260357396004],\n",
       "       [6.6, b'2.9', 4.6, b'1.3', b'Iris-versicolor', 209.8332565185694],\n",
       "       [5.2, b'2.7', 3.9, b'1.4', b'Iris-versicolor', 110.43326495898843],\n",
       "       [5.0, b'2.0', 3.5, b'1.0', b'Iris-versicolor', 91.62978572970229],\n",
       "       [5.9, b'3.0', 4.2, b'1.5', b'Iris-versicolor', 153.102376380045],\n",
       "       [6.0, b'2.2', 4.0, b'1.0', b'Iris-versicolor', 150.79644737231007],\n",
       "       [6.1, b'2.9', 4.7, b'1.4', b'Iris-versicolor', 183.14123813611934],\n",
       "       [5.6, b'2.9', 3.6, b'1.3', b'Iris-versicolor', 118.22441473989107],\n",
       "       [6.7, b'3.1', 4.4, b'1.4', b'Iris-versicolor', 206.83827152214724],\n",
       "       [5.6, b'3.0', 4.5, b'1.5', b'Iris-versicolor', 147.78051842486386],\n",
       "       [5.8, b'2.7', 4.1, b'1.0', b'Iris-versicolor', 144.43367505123953],\n",
       "       [6.2, b'2.2', 4.5, b'1.5', b'Iris-versicolor', 181.1442324059875],\n",
       "       [5.6, b'2.5', 3.9, b'1.1', b'Iris-versicolor', 128.07644930154868],\n",
       "       [5.9, b'3.2', 4.8, b'1.8', b'Iris-versicolor', 174.97414443433715],\n",
       "       [6.1, b'2.8', 4.0, b'1.3', b'Iris-versicolor', 155.86488352010159],\n",
       "       [6.3, b'2.5', 4.9, b'1.5', b'Iris-versicolor', 203.66002695426553],\n",
       "       [6.1, b'2.8', 4.7, b'1.2', b'Iris-versicolor', 183.14123813611934],\n",
       "       [6.4, b'2.9', 4.3, b'1.3', b'Iris-versicolor', 184.4408102971544],\n",
       "       [6.6, b'3.0', 4.4, b'1.4', b'Iris-versicolor', 200.71007145254472],\n",
       "       [6.8, b'2.8', 4.8, b'1.4', b'Iris-versicolor', 232.42759088318724],\n",
       "       [6.7, b'3.0', 5.0, b'1.7', b'Iris-versicolor', 235.04349036607638],\n",
       "       [6.0, b'2.9', 4.5, b'1.5', b'Iris-versicolor', 169.64600329384882],\n",
       "       [5.7, b'2.6', 3.5, b'1.0', b'Iris-versicolor', 119.08206953432112],\n",
       "       [5.5, b'2.4', 3.8, b'1.1', b'Iris-versicolor', 120.3753585100489],\n",
       "       [5.5, b'2.4', 3.7, b'1.0', b'Iris-versicolor', 117.2075859176792],\n",
       "       [5.8, b'2.7', 3.9, b'1.2', b'Iris-versicolor', 137.38812992678882],\n",
       "       [6.0, b'2.7', 5.1, b'1.6', b'Iris-versicolor', 192.26547039969532],\n",
       "       [5.4, b'3.0', 4.5, b'1.5', b'Iris-versicolor', 137.41326266801755],\n",
       "       [6.0, b'3.4', 4.5, b'1.6', b'Iris-versicolor', 169.64600329384882],\n",
       "       [6.7, b'3.1', 4.7, b'1.5', b'Iris-versicolor', 220.94088094411177],\n",
       "       [6.3, b'2.3', 4.4, b'1.3', b'Iris-versicolor', 182.87839155076904],\n",
       "       [5.6, b'3.0', 4.1, b'1.3', b'Iris-versicolor', 134.6444723426537],\n",
       "       [5.5, b'2.5', 4.0, b'1.3', b'Iris-versicolor', 126.71090369478833],\n",
       "       [5.5, b'2.6', 4.4, b'1.2', b'Iris-versicolor', 139.38199406426716],\n",
       "       [6.1, b'3.0', 4.6, b'1.4', b'Iris-versicolor', 179.2446160481168],\n",
       "       [5.8, b'2.6', 4.0, b'1.2', b'Iris-versicolor', 140.9109024890142],\n",
       "       [5.0, b'2.3', 3.3, b'1.0', b'Iris-versicolor', 86.3937979737193],\n",
       "       [5.6, b'2.7', 4.2, b'1.3', b'Iris-versicolor', 137.92848386320625],\n",
       "       [5.7, b'3.0', 4.2, b'1.2', b'Iris-versicolor', 142.89848344118533],\n",
       "       [5.7, b'2.9', 4.2, b'1.3', b'Iris-versicolor', 142.89848344118533],\n",
       "       [6.2, b'2.9', 4.3, b'1.3', b'Iris-versicolor', 173.09337763238804],\n",
       "       [5.1, b'2.5', 3.0, b'1.1', b'Iris-versicolor', 81.71282491987051],\n",
       "       [5.7, b'2.8', 4.1, b'1.3', b'Iris-versicolor', 139.49613859734757],\n",
       "       [6.3, b'3.3', 6.0, b'2.5', b'Iris-virginica', 249.37962484195774],\n",
       "       [5.8, b'2.7', 5.1, b'1.9', b'Iris-virginica', 179.66140067349306],\n",
       "       [7.1, b'3.0', 5.9, b'2.1', b'Iris-virginica', 311.4564484793409],\n",
       "       [6.3, b'2.9', 5.6, b'1.8', b'Iris-virginica', 232.7543165191606],\n",
       "       [6.5, b'3.0', 5.8, b'2.2', b'Iris-virginica', 256.61575992072625],\n",
       "       [7.6, b'3.0', 6.6, b'2.1', b'Iris-virginica', 399.20846167696214],\n",
       "       [4.9, b'2.5', 4.5, b'1.7', b'Iris-virginica', 113.14445941903642],\n",
       "       [7.3, b'2.9', 6.3, b'1.8', b'Iris-virginica', 351.57249227058014],\n",
       "       [6.7, b'2.5', 5.8, b'1.8', b'Iris-virginica', 272.65044882464855],\n",
       "       [7.2, b'3.6', 6.1, b'2.5', b'Iris-virginica', 331.1489984295929],\n",
       "       [6.5, b'3.2', 5.1, b'2.0', b'Iris-virginica', 225.64489234408688],\n",
       "       [6.4, b'2.7', 5.3, b'1.9', b'Iris-virginica', 227.33402199416705],\n",
       "       [6.8, b'3.0', 5.5, b'2.1', b'Iris-virginica', 266.3232812203187],\n",
       "       [5.7, b'2.5', 5.0, b'2.0', b'Iris-virginica', 170.1172421918873],\n",
       "       [5.8, b'2.8', 5.1, b'2.4', b'Iris-virginica', 179.66140067349306],\n",
       "       [6.4, b'3.2', 5.3, b'2.3', b'Iris-virginica', 227.33402199416705],\n",
       "       [6.5, b'3.0', 5.5, b'1.8', b'Iris-virginica', 243.34253095930936],\n",
       "       [7.7, b'3.8', 6.7, b'2.2', b'Iris-virginica', 415.99189682999014],\n",
       "       [7.7, b'2.6', 6.9, b'2.3', b'Iris-virginica', 428.4095653920794],\n",
       "       [6.0, b'2.2', 5.0, b'1.5', b'Iris-virginica', 188.4955592153876],\n",
       "       [6.9, b'3.2', 5.7, b'2.3', b'Iris-virginica', 284.1853298510792],\n",
       "       [5.6, b'2.8', 4.9, b'2.0', b'Iris-virginica', 160.91656450707399],\n",
       "       [7.7, b'2.8', 6.7, b'2.0', b'Iris-virginica', 415.99189682999014],\n",
       "       [6.3, b'2.7', 4.9, b'1.8', b'Iris-virginica', 203.66002695426553],\n",
       "       [6.7, b'3.3', 5.7, b'2.1', b'Iris-virginica', 267.94957901732704],\n",
       "       [7.2, b'3.2', 6.0, b'1.8', b'Iris-virginica', 325.7203263241898],\n",
       "       [6.2, b'2.8', 4.8, b'1.8', b'Iris-virginica', 193.22051456638667],\n",
       "       [6.1, b'3.0', 4.9, b'1.8', b'Iris-virginica', 190.93448231212446],\n",
       "       [6.4, b'2.8', 5.6, b'2.1', b'Iris-virginica', 240.20198550327083],\n",
       "       [7.2, b'3.0', 5.8, b'1.6', b'Iris-virginica', 314.86298211338345],\n",
       "       [7.4, b'2.8', 6.1, b'1.9', b'Iris-virginica', 349.8016812115067],\n",
       "       [7.9, b'3.8', 6.4, b'2.0', b'Iris-virginica', 418.27583468914986],\n",
       "       [6.4, b'2.8', 5.6, b'2.2', b'Iris-virginica', 240.20198550327083],\n",
       "       [6.3, b'2.8', 5.1, b'1.5', b'Iris-virginica', 211.97268111566407],\n",
       "       [6.1, b'2.6', 5.6, b'1.4', b'Iris-virginica', 218.2108369281422],\n",
       "       [7.7, b'3.0', 6.1, b'2.3', b'Iris-virginica', 378.73889114372236],\n",
       "       [6.3, b'3.4', 5.6, b'2.4', b'Iris-virginica', 232.7543165191606],\n",
       "       [6.4, b'3.1', 5.5, b'1.8', b'Iris-virginica', 235.91266433356955],\n",
       "       [6.0, b'3.0', 4.8, b'1.8', b'Iris-virginica', 180.95573684677208],\n",
       "       [6.9, b'3.1', 5.4, b'2.1', b'Iris-virginica', 269.22820722733815],\n",
       "       [6.7, b'3.1', 5.6, b'2.4', b'Iris-virginica', 263.24870921000553],\n",
       "       [6.9, b'3.1', 5.1, b'2.3', b'Iris-virginica', 254.27108460359707],\n",
       "       [5.8, b'2.7', 5.1, b'1.9', b'Iris-virginica', 179.66140067349306],\n",
       "       [6.8, b'3.2', 5.9, b'2.3', b'Iris-virginica', 285.692247127251],\n",
       "       [6.7, b'3.3', 5.7, b'2.5', b'Iris-virginica', 267.94957901732704],\n",
       "       [6.7, b'3.0', 5.2, b'2.3', b'Iris-virginica', 244.4452299807194],\n",
       "       [6.3, b'2.5', 5.0, b'1.9', b'Iris-virginica', 207.8163540349648],\n",
       "       [6.5, b'3.0', 5.2, b'2.0', b'Iris-virginica', 230.0693019978925],\n",
       "       [6.2, b'3.4', 5.4, b'2.3', b'Iris-virginica', 217.373078887185],\n",
       "       [5.9, b'3.0', 5.1, b'1.8', b'Iris-virginica', 185.9100284614832]],\n",
       "      dtype=object)"
      ]
     },
     "execution_count": 667,
     "metadata": {},
     "output_type": "execute_result"
    }
   ],
   "source": [
    "volume = volume[:, np.newaxis]\n",
    "np.hstack([iris_2d,volume])"
   ]
  },
  {
   "cell_type": "code",
   "execution_count": 671,
   "metadata": {
    "collapsed": true
   },
   "outputs": [
    {
     "data": {
      "text/plain": [
       "array([[5.1, b'3.5', 1.4, b'0.2', b'Iris-setosa', 38.13265162927291],\n",
       "       [4.9, b'3.0', 1.4, b'0.2', b'Iris-setosa', 35.200498485922445],\n",
       "       [4.7, b'3.2', 1.3, b'0.2', b'Iris-setosa', 30.0723720777127],\n",
       "       [4.6, b'3.1', 1.5, b'0.2', b'Iris-setosa', 33.238050274980004],\n",
       "       [5.0, b'3.6', 1.4, b'0.2', b'Iris-setosa', 36.65191429188092],\n",
       "       [5.4, b'3.9', 1.7, b'0.4', b'Iris-setosa', 51.911677007917746],\n",
       "       [4.6, b'3.4', 1.4, b'0.3', b'Iris-setosa', 31.022180256648003],\n",
       "       [5.0, b'3.4', 1.5, b'0.2', b'Iris-setosa', 39.269908169872416],\n",
       "       [4.4, b'2.9', 1.4, b'0.2', b'Iris-setosa', 28.38324242763259],\n",
       "       [4.9, b'3.1', 1.5, b'0.1', b'Iris-setosa', 37.714819806345474],\n",
       "       [5.4, b'3.7', 1.5, b'0.2', b'Iris-setosa', 45.80442088933919],\n",
       "       [4.8, b'3.4', 1.6, b'0.2', b'Iris-setosa', 38.60389052731138],\n",
       "       [4.8, b'3.0', 1.4, b'0.1', b'Iris-setosa', 33.77840421139745],\n",
       "       [4.3, b'3.0', 1.1, b'0.1', b'Iris-setosa', 21.298950993787603],\n",
       "       [5.8, b'4.0', 1.2, b'0.2', b'Iris-setosa', 42.273270746704256],\n",
       "       [5.7, b'4.4', 1.5, b'0.4', b'Iris-setosa', 51.03517265756619],\n",
       "       [5.4, b'3.9', 1.3, b'0.4', b'Iris-setosa', 39.69716477076063],\n",
       "       [5.1, b'3.5', 1.4, b'0.3', b'Iris-setosa', 38.13265162927291],\n",
       "       [5.7, b'3.8', 1.7, b'0.3', b'Iris-setosa', 57.83986234524169],\n",
       "       [5.1, b'3.8', 1.5, b'0.3', b'Iris-setosa', 40.85641245993526],\n",
       "       [5.4, b'3.4', 1.7, b'0.2', b'Iris-setosa', 51.911677007917746],\n",
       "       [5.1, b'3.7', 1.5, b'0.4', b'Iris-setosa', 40.85641245993526],\n",
       "       [4.6, b'3.6', 1.0, b'0.2', b'Iris-setosa', 22.158700183320004],\n",
       "       [5.1, b'3.3', 1.7, b'0.5', b'Iris-setosa', 46.303934121259964],\n",
       "       [4.8, b'3.4', 1.9, b'0.2', b'Iris-setosa', 45.84212000118226],\n",
       "       [5.0, b'3.0', 1.6, b'0.2', b'Iris-setosa', 41.88790204786391],\n",
       "       [5.0, b'3.4', 1.6, b'0.4', b'Iris-setosa', 41.88790204786391],\n",
       "       [5.2, b'3.5', 1.5, b'0.2', b'Iris-setosa', 42.47433267653401],\n",
       "       [5.2, b'3.4', 1.4, b'0.2', b'Iris-setosa', 39.6427104980984],\n",
       "       [4.7, b'3.2', 1.6, b'0.2', b'Iris-setosa', 37.01215024949256],\n",
       "       [4.8, b'3.1', 1.6, b'0.2', b'Iris-setosa', 38.60389052731138],\n",
       "       [5.4, b'3.4', 1.5, b'0.4', b'Iris-setosa', 45.80442088933919],\n",
       "       [5.2, b'4.1', 1.5, b'0.1', b'Iris-setosa', 42.47433267653401],\n",
       "       [5.5, b'4.2', 1.4, b'0.2', b'Iris-setosa', 44.34881629317591],\n",
       "       [4.9, b'3.1', 1.5, b'0.1', b'Iris-setosa', 37.714819806345474],\n",
       "       [5.0, b'3.2', 1.2, b'0.2', b'Iris-setosa', 31.415926535897928],\n",
       "       [5.5, b'3.5', 1.3, b'0.2', b'Iris-setosa', 41.18104370080621],\n",
       "       [4.9, b'3.1', 1.5, b'0.1', b'Iris-setosa', 37.714819806345474],\n",
       "       [4.4, b'3.0', 1.3, b'0.2', b'Iris-setosa', 26.355867968515977],\n",
       "       [5.1, b'3.4', 1.5, b'0.2', b'Iris-setosa', 40.85641245993526],\n",
       "       [5.0, b'3.5', 1.3, b'0.3', b'Iris-setosa', 34.033920413889426],\n",
       "       [4.5, b'2.3', 1.3, b'0.3', b'Iris-setosa', 27.567475535250434],\n",
       "       [4.4, b'3.2', 1.3, b'0.2', b'Iris-setosa', 26.355867968515977],\n",
       "       [5.0, b'3.5', 1.6, b'0.6', b'Iris-setosa', 41.88790204786391],\n",
       "       [5.1, b'3.8', 1.9, b'0.4', b'Iris-setosa', 51.75145578258466],\n",
       "       [4.8, b'3.0', 1.4, b'0.3', b'Iris-setosa', 33.77840421139745],\n",
       "       [5.1, b'3.8', 1.6, b'0.2', b'Iris-setosa', 43.58017329059761],\n",
       "       [4.6, b'3.2', 1.4, b'0.2', b'Iris-setosa', 31.022180256648003],\n",
       "       [5.3, b'3.7', 1.5, b'0.2', b'Iris-setosa', 44.123668819668644],\n",
       "       [5.0, b'3.3', 1.4, b'0.2', b'Iris-setosa', 36.65191429188092],\n",
       "       [7.0, b'3.2', 4.7, b'1.4', b'Iris-versicolor', 241.16959604057647],\n",
       "       [6.4, b'3.2', 4.5, b'1.5', b'Iris-versicolor', 193.01945263655693],\n",
       "       [6.9, b'3.1', 4.9, b'1.5', b'Iris-versicolor', 244.29966952110314],\n",
       "       [5.5, b'2.3', 4.0, b'1.3', b'Iris-versicolor', 126.71090369478833],\n",
       "       [6.5, b'2.8', 4.6, b'1.5', b'Iris-versicolor', 203.52284407505874],\n",
       "       [5.7, b'2.8', 4.5, b'1.3', b'Iris-versicolor', 153.10551797269858],\n",
       "       [6.3, b'3.3', 4.7, b'1.6', b'Iris-versicolor', 195.34737279286693],\n",
       "       [4.9, b'2.4', 3.3, b'1.0', b'Iris-versicolor', 82.97260357396004],\n",
       "       [6.6, b'2.9', 4.6, b'1.3', b'Iris-versicolor', 209.8332565185694],\n",
       "       [5.2, b'2.7', 3.9, b'1.4', b'Iris-versicolor', 110.43326495898843],\n",
       "       [5.0, b'2.0', 3.5, b'1.0', b'Iris-versicolor', 91.62978572970229],\n",
       "       [5.9, b'3.0', 4.2, b'1.5', b'Iris-versicolor', 153.102376380045],\n",
       "       [6.0, b'2.2', 4.0, b'1.0', b'Iris-versicolor', 150.79644737231007],\n",
       "       [6.1, b'2.9', 4.7, b'1.4', b'Iris-versicolor', 183.14123813611934],\n",
       "       [5.6, b'2.9', 3.6, b'1.3', b'Iris-versicolor', 118.22441473989107],\n",
       "       [6.7, b'3.1', 4.4, b'1.4', b'Iris-versicolor', 206.83827152214724],\n",
       "       [5.6, b'3.0', 4.5, b'1.5', b'Iris-versicolor', 147.78051842486386],\n",
       "       [5.8, b'2.7', 4.1, b'1.0', b'Iris-versicolor', 144.43367505123953],\n",
       "       [6.2, b'2.2', 4.5, b'1.5', b'Iris-versicolor', 181.1442324059875],\n",
       "       [5.6, b'2.5', 3.9, b'1.1', b'Iris-versicolor', 128.07644930154868],\n",
       "       [5.9, b'3.2', 4.8, b'1.8', b'Iris-versicolor', 174.97414443433715],\n",
       "       [6.1, b'2.8', 4.0, b'1.3', b'Iris-versicolor', 155.86488352010159],\n",
       "       [6.3, b'2.5', 4.9, b'1.5', b'Iris-versicolor', 203.66002695426553],\n",
       "       [6.1, b'2.8', 4.7, b'1.2', b'Iris-versicolor', 183.14123813611934],\n",
       "       [6.4, b'2.9', 4.3, b'1.3', b'Iris-versicolor', 184.4408102971544],\n",
       "       [6.6, b'3.0', 4.4, b'1.4', b'Iris-versicolor', 200.71007145254472],\n",
       "       [6.8, b'2.8', 4.8, b'1.4', b'Iris-versicolor', 232.42759088318724],\n",
       "       [6.7, b'3.0', 5.0, b'1.7', b'Iris-versicolor', 235.04349036607638],\n",
       "       [6.0, b'2.9', 4.5, b'1.5', b'Iris-versicolor', 169.64600329384882],\n",
       "       [5.7, b'2.6', 3.5, b'1.0', b'Iris-versicolor', 119.08206953432112],\n",
       "       [5.5, b'2.4', 3.8, b'1.1', b'Iris-versicolor', 120.3753585100489],\n",
       "       [5.5, b'2.4', 3.7, b'1.0', b'Iris-versicolor', 117.2075859176792],\n",
       "       [5.8, b'2.7', 3.9, b'1.2', b'Iris-versicolor', 137.38812992678882],\n",
       "       [6.0, b'2.7', 5.1, b'1.6', b'Iris-versicolor', 192.26547039969532],\n",
       "       [5.4, b'3.0', 4.5, b'1.5', b'Iris-versicolor', 137.41326266801755],\n",
       "       [6.0, b'3.4', 4.5, b'1.6', b'Iris-versicolor', 169.64600329384882],\n",
       "       [6.7, b'3.1', 4.7, b'1.5', b'Iris-versicolor', 220.94088094411177],\n",
       "       [6.3, b'2.3', 4.4, b'1.3', b'Iris-versicolor', 182.87839155076904],\n",
       "       [5.6, b'3.0', 4.1, b'1.3', b'Iris-versicolor', 134.6444723426537],\n",
       "       [5.5, b'2.5', 4.0, b'1.3', b'Iris-versicolor', 126.71090369478833],\n",
       "       [5.5, b'2.6', 4.4, b'1.2', b'Iris-versicolor', 139.38199406426716],\n",
       "       [6.1, b'3.0', 4.6, b'1.4', b'Iris-versicolor', 179.2446160481168],\n",
       "       [5.8, b'2.6', 4.0, b'1.2', b'Iris-versicolor', 140.9109024890142],\n",
       "       [5.0, b'2.3', 3.3, b'1.0', b'Iris-versicolor', 86.3937979737193],\n",
       "       [5.6, b'2.7', 4.2, b'1.3', b'Iris-versicolor', 137.92848386320625],\n",
       "       [5.7, b'3.0', 4.2, b'1.2', b'Iris-versicolor', 142.89848344118533],\n",
       "       [5.7, b'2.9', 4.2, b'1.3', b'Iris-versicolor', 142.89848344118533],\n",
       "       [6.2, b'2.9', 4.3, b'1.3', b'Iris-versicolor', 173.09337763238804],\n",
       "       [5.1, b'2.5', 3.0, b'1.1', b'Iris-versicolor', 81.71282491987051],\n",
       "       [5.7, b'2.8', 4.1, b'1.3', b'Iris-versicolor', 139.49613859734757],\n",
       "       [6.3, b'3.3', 6.0, b'2.5', b'Iris-virginica', 249.37962484195774],\n",
       "       [5.8, b'2.7', 5.1, b'1.9', b'Iris-virginica', 179.66140067349306],\n",
       "       [7.1, b'3.0', 5.9, b'2.1', b'Iris-virginica', 311.4564484793409],\n",
       "       [6.3, b'2.9', 5.6, b'1.8', b'Iris-virginica', 232.7543165191606],\n",
       "       [6.5, b'3.0', 5.8, b'2.2', b'Iris-virginica', 256.61575992072625],\n",
       "       [7.6, b'3.0', 6.6, b'2.1', b'Iris-virginica', 399.20846167696214],\n",
       "       [4.9, b'2.5', 4.5, b'1.7', b'Iris-virginica', 113.14445941903642],\n",
       "       [7.3, b'2.9', 6.3, b'1.8', b'Iris-virginica', 351.57249227058014],\n",
       "       [6.7, b'2.5', 5.8, b'1.8', b'Iris-virginica', 272.65044882464855],\n",
       "       [7.2, b'3.6', 6.1, b'2.5', b'Iris-virginica', 331.1489984295929],\n",
       "       [6.5, b'3.2', 5.1, b'2.0', b'Iris-virginica', 225.64489234408688],\n",
       "       [6.4, b'2.7', 5.3, b'1.9', b'Iris-virginica', 227.33402199416705],\n",
       "       [6.8, b'3.0', 5.5, b'2.1', b'Iris-virginica', 266.3232812203187],\n",
       "       [5.7, b'2.5', 5.0, b'2.0', b'Iris-virginica', 170.1172421918873],\n",
       "       [5.8, b'2.8', 5.1, b'2.4', b'Iris-virginica', 179.66140067349306],\n",
       "       [6.4, b'3.2', 5.3, b'2.3', b'Iris-virginica', 227.33402199416705],\n",
       "       [6.5, b'3.0', 5.5, b'1.8', b'Iris-virginica', 243.34253095930936],\n",
       "       [7.7, b'3.8', 6.7, b'2.2', b'Iris-virginica', 415.99189682999014],\n",
       "       [7.7, b'2.6', 6.9, b'2.3', b'Iris-virginica', 428.4095653920794],\n",
       "       [6.0, b'2.2', 5.0, b'1.5', b'Iris-virginica', 188.4955592153876],\n",
       "       [6.9, b'3.2', 5.7, b'2.3', b'Iris-virginica', 284.1853298510792],\n",
       "       [5.6, b'2.8', 4.9, b'2.0', b'Iris-virginica', 160.91656450707399],\n",
       "       [7.7, b'2.8', 6.7, b'2.0', b'Iris-virginica', 415.99189682999014],\n",
       "       [6.3, b'2.7', 4.9, b'1.8', b'Iris-virginica', 203.66002695426553],\n",
       "       [6.7, b'3.3', 5.7, b'2.1', b'Iris-virginica', 267.94957901732704],\n",
       "       [7.2, b'3.2', 6.0, b'1.8', b'Iris-virginica', 325.7203263241898],\n",
       "       [6.2, b'2.8', 4.8, b'1.8', b'Iris-virginica', 193.22051456638667],\n",
       "       [6.1, b'3.0', 4.9, b'1.8', b'Iris-virginica', 190.93448231212446],\n",
       "       [6.4, b'2.8', 5.6, b'2.1', b'Iris-virginica', 240.20198550327083],\n",
       "       [7.2, b'3.0', 5.8, b'1.6', b'Iris-virginica', 314.86298211338345],\n",
       "       [7.4, b'2.8', 6.1, b'1.9', b'Iris-virginica', 349.8016812115067],\n",
       "       [7.9, b'3.8', 6.4, b'2.0', b'Iris-virginica', 418.27583468914986],\n",
       "       [6.4, b'2.8', 5.6, b'2.2', b'Iris-virginica', 240.20198550327083],\n",
       "       [6.3, b'2.8', 5.1, b'1.5', b'Iris-virginica', 211.97268111566407],\n",
       "       [6.1, b'2.6', 5.6, b'1.4', b'Iris-virginica', 218.2108369281422],\n",
       "       [7.7, b'3.0', 6.1, b'2.3', b'Iris-virginica', 378.73889114372236],\n",
       "       [6.3, b'3.4', 5.6, b'2.4', b'Iris-virginica', 232.7543165191606],\n",
       "       [6.4, b'3.1', 5.5, b'1.8', b'Iris-virginica', 235.91266433356955],\n",
       "       [6.0, b'3.0', 4.8, b'1.8', b'Iris-virginica', 180.95573684677208],\n",
       "       [6.9, b'3.1', 5.4, b'2.1', b'Iris-virginica', 269.22820722733815],\n",
       "       [6.7, b'3.1', 5.6, b'2.4', b'Iris-virginica', 263.24870921000553],\n",
       "       [6.9, b'3.1', 5.1, b'2.3', b'Iris-virginica', 254.27108460359707],\n",
       "       [5.8, b'2.7', 5.1, b'1.9', b'Iris-virginica', 179.66140067349306],\n",
       "       [6.8, b'3.2', 5.9, b'2.3', b'Iris-virginica', 285.692247127251],\n",
       "       [6.7, b'3.3', 5.7, b'2.5', b'Iris-virginica', 267.94957901732704],\n",
       "       [6.7, b'3.0', 5.2, b'2.3', b'Iris-virginica', 244.4452299807194],\n",
       "       [6.3, b'2.5', 5.0, b'1.9', b'Iris-virginica', 207.8163540349648],\n",
       "       [6.5, b'3.0', 5.2, b'2.0', b'Iris-virginica', 230.0693019978925],\n",
       "       [6.2, b'3.4', 5.4, b'2.3', b'Iris-virginica', 217.373078887185],\n",
       "       [5.9, b'3.0', 5.1, b'1.8', b'Iris-virginica', 185.9100284614832]],\n",
       "      dtype=object)"
      ]
     },
     "execution_count": 671,
     "metadata": {},
     "output_type": "execute_result"
    }
   ],
   "source": [
    "volume_2 = (np.pi * iris_2d[:, 2] * (iris_2d[:, 0]**2))/3\n",
    "volume_2\n",
    "volume_2 = volume_2[:, np.newaxis]\n",
    "np.hstack([iris_2d,volume_2])"
   ]
  },
  {
   "cell_type": "code",
   "execution_count": 3,
   "metadata": {},
   "outputs": [],
   "source": [
    "#42. Randomly sample iris's species such that setose is twice the number of versicolor and virginica\n",
    "url = 'https://archive.ics.uci.edu/ml/machine-learning-databases/iris/iris.data'\n",
    "iris = np.genfromtxt(url, delimiter=',', dtype='object')"
   ]
  },
  {
   "cell_type": "code",
   "execution_count": 13,
   "metadata": {
    "collapsed": true
   },
   "outputs": [
    {
     "data": {
      "text/plain": [
       "array([b'Iris-virginica', b'Iris-versicolor', b'Iris-setosa',\n",
       "       b'Iris-setosa', b'Iris-virginica', b'Iris-setosa', b'Iris-setosa',\n",
       "       b'Iris-virginica', b'Iris-virginica', b'Iris-versicolor',\n",
       "       b'Iris-versicolor', b'Iris-setosa', b'Iris-setosa', b'Iris-setosa',\n",
       "       b'Iris-setosa', b'Iris-versicolor', b'Iris-setosa', b'Iris-setosa',\n",
       "       b'Iris-virginica', b'Iris-versicolor', b'Iris-virginica',\n",
       "       b'Iris-setosa', b'Iris-versicolor', b'Iris-setosa', b'Iris-setosa',\n",
       "       b'Iris-virginica', b'Iris-setosa', b'Iris-setosa',\n",
       "       b'Iris-virginica', b'Iris-setosa', b'Iris-versicolor',\n",
       "       b'Iris-setosa', b'Iris-setosa', b'Iris-virginica', b'Iris-setosa',\n",
       "       b'Iris-versicolor', b'Iris-setosa', b'Iris-setosa', b'Iris-setosa',\n",
       "       b'Iris-setosa', b'Iris-virginica', b'Iris-virginica',\n",
       "       b'Iris-setosa', b'Iris-virginica', b'Iris-setosa', b'Iris-setosa',\n",
       "       b'Iris-virginica', b'Iris-virginica', b'Iris-setosa',\n",
       "       b'Iris-setosa', b'Iris-setosa', b'Iris-setosa', b'Iris-setosa',\n",
       "       b'Iris-setosa', b'Iris-setosa', b'Iris-virginica', b'Iris-setosa',\n",
       "       b'Iris-versicolor', b'Iris-versicolor', b'Iris-virginica',\n",
       "       b'Iris-versicolor', b'Iris-setosa', b'Iris-setosa', b'Iris-setosa',\n",
       "       b'Iris-versicolor', b'Iris-virginica', b'Iris-setosa',\n",
       "       b'Iris-setosa', b'Iris-setosa', b'Iris-virginica', b'Iris-setosa',\n",
       "       b'Iris-virginica', b'Iris-setosa', b'Iris-setosa',\n",
       "       b'Iris-virginica', b'Iris-versicolor', b'Iris-setosa',\n",
       "       b'Iris-setosa', b'Iris-versicolor', b'Iris-virginica',\n",
       "       b'Iris-virginica', b'Iris-setosa', b'Iris-versicolor',\n",
       "       b'Iris-setosa', b'Iris-versicolor', b'Iris-setosa', b'Iris-setosa',\n",
       "       b'Iris-setosa', b'Iris-setosa', b'Iris-setosa', b'Iris-virginica',\n",
       "       b'Iris-virginica', b'Iris-virginica', b'Iris-setosa',\n",
       "       b'Iris-virginica', b'Iris-versicolor', b'Iris-setosa',\n",
       "       b'Iris-setosa', b'Iris-setosa', b'Iris-versicolor', b'Iris-setosa',\n",
       "       b'Iris-setosa', b'Iris-setosa', b'Iris-setosa', b'Iris-versicolor',\n",
       "       b'Iris-setosa', b'Iris-setosa', b'Iris-setosa', b'Iris-setosa',\n",
       "       b'Iris-virginica', b'Iris-versicolor', b'Iris-versicolor',\n",
       "       b'Iris-setosa', b'Iris-setosa', b'Iris-virginica',\n",
       "       b'Iris-virginica', b'Iris-setosa', b'Iris-setosa',\n",
       "       b'Iris-virginica', b'Iris-versicolor', b'Iris-virginica',\n",
       "       b'Iris-setosa', b'Iris-versicolor', b'Iris-virginica',\n",
       "       b'Iris-virginica', b'Iris-virginica', b'Iris-setosa',\n",
       "       b'Iris-setosa', b'Iris-setosa', b'Iris-versicolor', b'Iris-setosa',\n",
       "       b'Iris-versicolor', b'Iris-setosa', b'Iris-setosa', b'Iris-setosa',\n",
       "       b'Iris-setosa', b'Iris-setosa', b'Iris-setosa', b'Iris-virginica',\n",
       "       b'Iris-setosa', b'Iris-setosa', b'Iris-setosa', b'Iris-setosa',\n",
       "       b'Iris-virginica', b'Iris-setosa', b'Iris-virginica',\n",
       "       b'Iris-versicolor', b'Iris-setosa', b'Iris-setosa',\n",
       "       b'Iris-virginica'], dtype=object)"
      ]
     },
     "execution_count": 13,
     "metadata": {},
     "output_type": "execute_result"
    }
   ],
   "source": [
    "np.random.choice(np.unique(iris[:,4]),150,p=[0.5,0.25,0.25])"
   ]
  },
  {
   "cell_type": "code",
   "execution_count": 1168,
   "metadata": {},
   "outputs": [
    {
     "data": {
      "text/plain": [
       "array([[b'4.6', b'3.6', b'1.0', b'0.2', b'Iris-setosa'],\n",
       "       [b'6.0', b'2.2', b'4.0', b'1.0', b'Iris-versicolor'],\n",
       "       [b'5.6', b'2.7', b'4.2', b'1.3', b'Iris-versicolor'],\n",
       "       [b'6.7', b'3.3', b'5.7', b'2.1', b'Iris-virginica'],\n",
       "       [b'6.7', b'3.3', b'5.7', b'2.1', b'Iris-virginica'],\n",
       "       [b'5.4', b'3.7', b'1.5', b'0.2', b'Iris-setosa'],\n",
       "       [b'4.9', b'3.1', b'1.5', b'0.1', b'Iris-setosa'],\n",
       "       [b'6.4', b'3.2', b'4.5', b'1.5', b'Iris-versicolor'],\n",
       "       [b'4.6', b'3.2', b'1.4', b'0.2', b'Iris-setosa'],\n",
       "       [b'5.0', b'3.0', b'1.6', b'0.2', b'Iris-setosa'],\n",
       "       [b'4.6', b'3.1', b'1.5', b'0.2', b'Iris-setosa'],\n",
       "       [b'6.9', b'3.1', b'5.1', b'2.3', b'Iris-virginica'],\n",
       "       [b'5.2', b'2.7', b'3.9', b'1.4', b'Iris-versicolor'],\n",
       "       [b'6.3', b'2.3', b'4.4', b'1.3', b'Iris-versicolor'],\n",
       "       [b'4.5', b'2.3', b'1.3', b'0.3', b'Iris-setosa'],\n",
       "       [b'6.2', b'2.8', b'4.8', b'1.8', b'Iris-virginica'],\n",
       "       [b'5.7', b'2.9', b'4.2', b'1.3', b'Iris-versicolor'],\n",
       "       [b'4.5', b'2.3', b'1.3', b'0.3', b'Iris-setosa'],\n",
       "       [b'6.7', b'3.1', b'4.4', b'1.4', b'Iris-versicolor'],\n",
       "       [b'4.6', b'3.2', b'1.4', b'0.2', b'Iris-setosa'],\n",
       "       [b'4.7', b'3.2', b'1.3', b'0.2', b'Iris-setosa'],\n",
       "       [b'5.0', b'3.4', b'1.6', b'0.4', b'Iris-setosa'],\n",
       "       [b'4.4', b'3.2', b'1.3', b'0.2', b'Iris-setosa'],\n",
       "       [b'6.4', b'2.8', b'5.6', b'2.2', b'Iris-virginica'],\n",
       "       [b'5.0', b'3.4', b'1.6', b'0.4', b'Iris-setosa'],\n",
       "       [b'5.2', b'3.5', b'1.5', b'0.2', b'Iris-setosa'],\n",
       "       [b'4.6', b'3.1', b'1.5', b'0.2', b'Iris-setosa'],\n",
       "       [b'4.8', b'3.0', b'1.4', b'0.1', b'Iris-setosa'],\n",
       "       [b'5.7', b'2.9', b'4.2', b'1.3', b'Iris-versicolor'],\n",
       "       [b'4.4', b'3.0', b'1.3', b'0.2', b'Iris-setosa'],\n",
       "       [b'4.4', b'3.2', b'1.3', b'0.2', b'Iris-setosa'],\n",
       "       [b'4.8', b'3.4', b'1.9', b'0.2', b'Iris-setosa'],\n",
       "       [b'5.2', b'3.5', b'1.5', b'0.2', b'Iris-setosa'],\n",
       "       [b'5.0', b'3.0', b'1.6', b'0.2', b'Iris-setosa'],\n",
       "       [b'5.0', b'3.5', b'1.3', b'0.3', b'Iris-setosa'],\n",
       "       [b'4.8', b'3.4', b'1.6', b'0.2', b'Iris-setosa'],\n",
       "       [b'5.4', b'3.7', b'1.5', b'0.2', b'Iris-setosa'],\n",
       "       [b'5.1', b'3.8', b'1.9', b'0.4', b'Iris-setosa'],\n",
       "       [b'6.7', b'3.0', b'5.0', b'1.7', b'Iris-versicolor'],\n",
       "       [b'6.9', b'3.1', b'5.1', b'2.3', b'Iris-virginica'],\n",
       "       [b'6.0', b'2.2', b'5.0', b'1.5', b'Iris-virginica'],\n",
       "       [b'4.9', b'3.1', b'1.5', b'0.1', b'Iris-setosa'],\n",
       "       [b'5.8', b'4.0', b'1.2', b'0.2', b'Iris-setosa'],\n",
       "       [b'6.6', b'3.0', b'4.4', b'1.4', b'Iris-versicolor'],\n",
       "       [b'6.3', b'2.7', b'4.9', b'1.8', b'Iris-virginica'],\n",
       "       [b'6.1', b'3.0', b'4.9', b'1.8', b'Iris-virginica'],\n",
       "       [b'4.7', b'3.2', b'1.6', b'0.2', b'Iris-setosa'],\n",
       "       [b'6.8', b'3.2', b'5.9', b'2.3', b'Iris-virginica'],\n",
       "       [b'5.0', b'3.5', b'1.3', b'0.3', b'Iris-setosa'],\n",
       "       [b'6.3', b'2.3', b'4.4', b'1.3', b'Iris-versicolor'],\n",
       "       [b'6.5', b'3.0', b'5.2', b'2.0', b'Iris-virginica'],\n",
       "       [b'4.6', b'3.1', b'1.5', b'0.2', b'Iris-setosa'],\n",
       "       [b'6.2', b'2.9', b'4.3', b'1.3', b'Iris-versicolor'],\n",
       "       [b'6.8', b'3.0', b'5.5', b'2.1', b'Iris-virginica'],\n",
       "       [b'4.8', b'3.0', b'1.4', b'0.1', b'Iris-setosa'],\n",
       "       [b'4.7', b'3.2', b'1.3', b'0.2', b'Iris-setosa'],\n",
       "       [b'4.8', b'3.0', b'1.4', b'0.3', b'Iris-setosa'],\n",
       "       [b'7.4', b'2.8', b'6.1', b'1.9', b'Iris-virginica'],\n",
       "       [b'4.4', b'3.2', b'1.3', b'0.2', b'Iris-setosa'],\n",
       "       [b'5.2', b'3.4', b'1.4', b'0.2', b'Iris-setosa'],\n",
       "       [b'6.3', b'2.3', b'4.4', b'1.3', b'Iris-versicolor'],\n",
       "       [b'5.8', b'4.0', b'1.2', b'0.2', b'Iris-setosa'],\n",
       "       [b'4.9', b'3.0', b'1.4', b'0.2', b'Iris-setosa'],\n",
       "       [b'5.8', b'2.7', b'5.1', b'1.9', b'Iris-virginica'],\n",
       "       [b'5.4', b'3.4', b'1.5', b'0.4', b'Iris-setosa'],\n",
       "       [b'5.0', b'3.6', b'1.4', b'0.2', b'Iris-setosa'],\n",
       "       [b'6.4', b'3.2', b'5.3', b'2.3', b'Iris-virginica'],\n",
       "       [b'6.3', b'2.9', b'5.6', b'1.8', b'Iris-virginica'],\n",
       "       [b'6.3', b'3.4', b'5.6', b'2.4', b'Iris-virginica'],\n",
       "       [b'5.4', b'3.0', b'4.5', b'1.5', b'Iris-versicolor'],\n",
       "       [b'6.7', b'2.5', b'5.8', b'1.8', b'Iris-virginica'],\n",
       "       [b'6.1', b'2.8', b'4.0', b'1.3', b'Iris-versicolor'],\n",
       "       [b'6.0', b'3.4', b'4.5', b'1.6', b'Iris-versicolor'],\n",
       "       [b'5.5', b'2.3', b'4.0', b'1.3', b'Iris-versicolor'],\n",
       "       [b'5.9', b'3.0', b'5.1', b'1.8', b'Iris-virginica'],\n",
       "       [b'5.0', b'3.2', b'1.2', b'0.2', b'Iris-setosa'],\n",
       "       [b'5.0', b'2.0', b'3.5', b'1.0', b'Iris-versicolor'],\n",
       "       [b'7.4', b'2.8', b'6.1', b'1.9', b'Iris-virginica'],\n",
       "       [b'4.6', b'3.4', b'1.4', b'0.3', b'Iris-setosa'],\n",
       "       [b'5.1', b'3.5', b'1.4', b'0.3', b'Iris-setosa'],\n",
       "       [b'5.5', b'2.4', b'3.7', b'1.0', b'Iris-versicolor'],\n",
       "       [b'4.9', b'3.1', b'1.5', b'0.1', b'Iris-setosa'],\n",
       "       [b'6.2', b'2.2', b'4.5', b'1.5', b'Iris-versicolor'],\n",
       "       [b'5.1', b'3.8', b'1.9', b'0.4', b'Iris-setosa'],\n",
       "       [b'6.5', b'3.0', b'5.5', b'1.8', b'Iris-virginica'],\n",
       "       [b'7.3', b'2.9', b'6.3', b'1.8', b'Iris-virginica'],\n",
       "       [b'5.6', b'2.7', b'4.2', b'1.3', b'Iris-versicolor'],\n",
       "       [b'5.4', b'3.4', b'1.5', b'0.4', b'Iris-setosa'],\n",
       "       [b'7.7', b'3.0', b'6.1', b'2.3', b'Iris-virginica'],\n",
       "       [b'5.8', b'4.0', b'1.2', b'0.2', b'Iris-setosa'],\n",
       "       [b'5.2', b'3.5', b'1.5', b'0.2', b'Iris-setosa'],\n",
       "       [b'5.0', b'3.4', b'1.5', b'0.2', b'Iris-setosa'],\n",
       "       [b'5.0', b'3.5', b'1.6', b'0.6', b'Iris-setosa'],\n",
       "       [b'5.0', b'2.0', b'3.5', b'1.0', b'Iris-versicolor'],\n",
       "       [b'4.8', b'3.4', b'1.6', b'0.2', b'Iris-setosa'],\n",
       "       [b'5.4', b'3.9', b'1.3', b'0.4', b'Iris-setosa'],\n",
       "       [b'5.4', b'3.4', b'1.7', b'0.2', b'Iris-setosa'],\n",
       "       [b'6.4', b'3.2', b'5.3', b'2.3', b'Iris-virginica'],\n",
       "       [b'5.7', b'2.6', b'3.5', b'1.0', b'Iris-versicolor'],\n",
       "       [b'5.9', b'3.2', b'4.8', b'1.8', b'Iris-versicolor'],\n",
       "       [b'5.1', b'3.4', b'1.5', b'0.2', b'Iris-setosa'],\n",
       "       [b'5.7', b'2.5', b'5.0', b'2.0', b'Iris-virginica'],\n",
       "       [b'4.3', b'3.0', b'1.1', b'0.1', b'Iris-setosa'],\n",
       "       [b'4.9', b'3.0', b'1.4', b'0.2', b'Iris-setosa'],\n",
       "       [b'6.4', b'2.8', b'5.6', b'2.1', b'Iris-virginica'],\n",
       "       [b'6.8', b'3.0', b'5.5', b'2.1', b'Iris-virginica'],\n",
       "       [b'6.4', b'3.2', b'4.5', b'1.5', b'Iris-versicolor'],\n",
       "       [b'6.1', b'3.0', b'4.6', b'1.4', b'Iris-versicolor'],\n",
       "       [b'5.2', b'3.4', b'1.4', b'0.2', b'Iris-setosa'],\n",
       "       [b'6.3', b'2.5', b'5.0', b'1.9', b'Iris-virginica'],\n",
       "       [b'5.1', b'3.5', b'1.4', b'0.3', b'Iris-setosa'],\n",
       "       [b'4.8', b'3.0', b'1.4', b'0.3', b'Iris-setosa'],\n",
       "       [b'5.8', b'2.7', b'5.1', b'1.9', b'Iris-virginica'],\n",
       "       [b'5.4', b'3.9', b'1.3', b'0.4', b'Iris-setosa'],\n",
       "       [b'4.9', b'3.1', b'1.5', b'0.1', b'Iris-setosa'],\n",
       "       [b'5.0', b'3.5', b'1.3', b'0.3', b'Iris-setosa'],\n",
       "       [b'5.7', b'3.8', b'1.7', b'0.3', b'Iris-setosa'],\n",
       "       [b'4.6', b'3.2', b'1.4', b'0.2', b'Iris-setosa'],\n",
       "       [b'5.4', b'3.9', b'1.7', b'0.4', b'Iris-setosa'],\n",
       "       [b'5.5', b'2.5', b'4.0', b'1.3', b'Iris-versicolor'],\n",
       "       [b'5.4', b'3.4', b'1.7', b'0.2', b'Iris-setosa'],\n",
       "       [b'4.4', b'3.2', b'1.3', b'0.2', b'Iris-setosa'],\n",
       "       [b'4.8', b'3.1', b'1.6', b'0.2', b'Iris-setosa'],\n",
       "       [b'6.5', b'3.0', b'5.5', b'1.8', b'Iris-virginica'],\n",
       "       [b'4.3', b'3.0', b'1.1', b'0.1', b'Iris-setosa'],\n",
       "       [b'6.3', b'2.7', b'4.9', b'1.8', b'Iris-virginica'],\n",
       "       [b'5.4', b'3.7', b'1.5', b'0.2', b'Iris-setosa'],\n",
       "       [b'4.8', b'3.0', b'1.4', b'0.1', b'Iris-setosa'],\n",
       "       [b'5.1', b'3.3', b'1.7', b'0.5', b'Iris-setosa'],\n",
       "       [b'6.1', b'3.0', b'4.9', b'1.8', b'Iris-virginica'],\n",
       "       [b'6.7', b'3.3', b'5.7', b'2.1', b'Iris-virginica'],\n",
       "       [b'6.9', b'3.2', b'5.7', b'2.3', b'Iris-virginica'],\n",
       "       [b'4.4', b'3.2', b'1.3', b'0.2', b'Iris-setosa'],\n",
       "       [b'7.2', b'3.2', b'6.0', b'1.8', b'Iris-virginica'],\n",
       "       [b'5.0', b'3.5', b'1.3', b'0.3', b'Iris-setosa'],\n",
       "       [b'6.1', b'3.0', b'4.9', b'1.8', b'Iris-virginica'],\n",
       "       [b'7.6', b'3.0', b'6.6', b'2.1', b'Iris-virginica'],\n",
       "       [b'5.1', b'3.8', b'1.6', b'0.2', b'Iris-setosa'],\n",
       "       [b'4.8', b'3.0', b'1.4', b'0.3', b'Iris-setosa'],\n",
       "       [b'6.2', b'3.4', b'5.4', b'2.3', b'Iris-virginica'],\n",
       "       [b'5.8', b'2.6', b'4.0', b'1.2', b'Iris-versicolor'],\n",
       "       [b'7.7', b'2.6', b'6.9', b'2.3', b'Iris-virginica'],\n",
       "       [b'7.2', b'3.6', b'6.1', b'2.5', b'Iris-virginica'],\n",
       "       [b'5.0', b'3.4', b'1.5', b'0.2', b'Iris-setosa'],\n",
       "       [b'5.2', b'3.4', b'1.4', b'0.2', b'Iris-setosa'],\n",
       "       [b'5.0', b'3.5', b'1.6', b'0.6', b'Iris-setosa'],\n",
       "       [b'5.2', b'3.5', b'1.5', b'0.2', b'Iris-setosa'],\n",
       "       [b'5.1', b'2.5', b'3.0', b'1.1', b'Iris-versicolor'],\n",
       "       [b'4.5', b'2.3', b'1.3', b'0.3', b'Iris-setosa'],\n",
       "       [b'4.8', b'3.4', b'1.6', b'0.2', b'Iris-setosa']], dtype=object)"
      ]
     },
     "execution_count": 1168,
     "metadata": {},
     "output_type": "execute_result"
    }
   ],
   "source": [
    "probs = np.r_[np.linspace(0,0.500,50), np.linspace(0.501,0.750,50), np.linspace(0.751,1.,50)]\n",
    "indexes = np.searchsorted(probs, np.random.random(150))\n",
    "iris[indexes]"
   ]
  },
  {
   "cell_type": "code",
   "execution_count": 27,
   "metadata": {},
   "outputs": [],
   "source": [
    "#43. What is the value of second longest petallength of species setosa\n",
    "url = 'https://archive.ics.uci.edu/ml/machine-learning-databases/iris/iris.data'\n",
    "iris = np.genfromtxt(url, delimiter=',', dtype='object')\n",
    "names = ('sepallength', 'sepalwidth', 'petallength', 'petalwidth', 'species')"
   ]
  },
  {
   "cell_type": "code",
   "execution_count": 34,
   "metadata": {},
   "outputs": [
    {
     "data": {
      "text/plain": [
       "array([b'Iris-setosa', b'Iris-versicolor', b'Iris-virginica'],\n",
       "      dtype=object)"
      ]
     },
     "execution_count": 34,
     "metadata": {},
     "output_type": "execute_result"
    }
   ],
   "source": [
    "np.unique(iris[:,4]) #b'Iris-setosa'"
   ]
  },
  {
   "cell_type": "code",
   "execution_count": 41,
   "metadata": {},
   "outputs": [
    {
     "data": {
      "text/plain": [
       "1.7"
      ]
     },
     "execution_count": 41,
     "metadata": {},
     "output_type": "execute_result"
    }
   ],
   "source": [
    "np.unique(sorted(iris[iris[:,4] == b'Iris-setosa', 2].astype('float')))[-2]"
   ]
  },
  {
   "cell_type": "code",
   "execution_count": 86,
   "metadata": {},
   "outputs": [],
   "source": [
    "#44. Sort the iris dataset based on sepallength column.\n",
    "url = 'https://archive.ics.uci.edu/ml/machine-learning-databases/iris/iris.data'\n",
    "iris = np.genfromtxt(url, delimiter=',', dtype='object')"
   ]
  },
  {
   "cell_type": "code",
   "execution_count": 87,
   "metadata": {
    "collapsed": true
   },
   "outputs": [
    {
     "data": {
      "text/plain": [
       "array([[b'4.3', b'3.0', b'1.1', b'0.1', b'Iris-setosa'],\n",
       "       [b'4.4', b'3.2', b'1.3', b'0.2', b'Iris-setosa'],\n",
       "       [b'4.4', b'3.0', b'1.3', b'0.2', b'Iris-setosa'],\n",
       "       [b'4.4', b'2.9', b'1.4', b'0.2', b'Iris-setosa'],\n",
       "       [b'4.5', b'2.3', b'1.3', b'0.3', b'Iris-setosa'],\n",
       "       [b'4.6', b'3.6', b'1.0', b'0.2', b'Iris-setosa'],\n",
       "       [b'4.6', b'3.1', b'1.5', b'0.2', b'Iris-setosa'],\n",
       "       [b'4.6', b'3.4', b'1.4', b'0.3', b'Iris-setosa'],\n",
       "       [b'4.6', b'3.2', b'1.4', b'0.2', b'Iris-setosa'],\n",
       "       [b'4.7', b'3.2', b'1.3', b'0.2', b'Iris-setosa'],\n",
       "       [b'4.7', b'3.2', b'1.6', b'0.2', b'Iris-setosa'],\n",
       "       [b'4.8', b'3.0', b'1.4', b'0.1', b'Iris-setosa'],\n",
       "       [b'4.8', b'3.0', b'1.4', b'0.3', b'Iris-setosa'],\n",
       "       [b'4.8', b'3.4', b'1.9', b'0.2', b'Iris-setosa'],\n",
       "       [b'4.8', b'3.4', b'1.6', b'0.2', b'Iris-setosa'],\n",
       "       [b'4.8', b'3.1', b'1.6', b'0.2', b'Iris-setosa'],\n",
       "       [b'4.9', b'2.4', b'3.3', b'1.0', b'Iris-versicolor'],\n",
       "       [b'4.9', b'2.5', b'4.5', b'1.7', b'Iris-virginica'],\n",
       "       [b'4.9', b'3.1', b'1.5', b'0.1', b'Iris-setosa'],\n",
       "       [b'4.9', b'3.1', b'1.5', b'0.1', b'Iris-setosa'],\n",
       "       [b'4.9', b'3.1', b'1.5', b'0.1', b'Iris-setosa'],\n",
       "       [b'4.9', b'3.0', b'1.4', b'0.2', b'Iris-setosa'],\n",
       "       [b'5.0', b'3.5', b'1.3', b'0.3', b'Iris-setosa'],\n",
       "       [b'5.0', b'3.4', b'1.6', b'0.4', b'Iris-setosa'],\n",
       "       [b'5.0', b'3.3', b'1.4', b'0.2', b'Iris-setosa'],\n",
       "       [b'5.0', b'3.2', b'1.2', b'0.2', b'Iris-setosa'],\n",
       "       [b'5.0', b'3.5', b'1.6', b'0.6', b'Iris-setosa'],\n",
       "       [b'5.0', b'2.0', b'3.5', b'1.0', b'Iris-versicolor'],\n",
       "       [b'5.0', b'3.4', b'1.5', b'0.2', b'Iris-setosa'],\n",
       "       [b'5.0', b'2.3', b'3.3', b'1.0', b'Iris-versicolor'],\n",
       "       [b'5.0', b'3.6', b'1.4', b'0.2', b'Iris-setosa'],\n",
       "       [b'5.0', b'3.0', b'1.6', b'0.2', b'Iris-setosa'],\n",
       "       [b'5.1', b'3.8', b'1.9', b'0.4', b'Iris-setosa'],\n",
       "       [b'5.1', b'3.8', b'1.6', b'0.2', b'Iris-setosa'],\n",
       "       [b'5.1', b'2.5', b'3.0', b'1.1', b'Iris-versicolor'],\n",
       "       [b'5.1', b'3.5', b'1.4', b'0.2', b'Iris-setosa'],\n",
       "       [b'5.1', b'3.4', b'1.5', b'0.2', b'Iris-setosa'],\n",
       "       [b'5.1', b'3.5', b'1.4', b'0.3', b'Iris-setosa'],\n",
       "       [b'5.1', b'3.3', b'1.7', b'0.5', b'Iris-setosa'],\n",
       "       [b'5.1', b'3.7', b'1.5', b'0.4', b'Iris-setosa'],\n",
       "       [b'5.1', b'3.8', b'1.5', b'0.3', b'Iris-setosa'],\n",
       "       [b'5.2', b'4.1', b'1.5', b'0.1', b'Iris-setosa'],\n",
       "       [b'5.2', b'3.4', b'1.4', b'0.2', b'Iris-setosa'],\n",
       "       [b'5.2', b'3.5', b'1.5', b'0.2', b'Iris-setosa'],\n",
       "       [b'5.2', b'2.7', b'3.9', b'1.4', b'Iris-versicolor'],\n",
       "       [b'5.3', b'3.7', b'1.5', b'0.2', b'Iris-setosa'],\n",
       "       [b'5.4', b'3.0', b'4.5', b'1.5', b'Iris-versicolor'],\n",
       "       [b'5.4', b'3.9', b'1.7', b'0.4', b'Iris-setosa'],\n",
       "       [b'5.4', b'3.4', b'1.7', b'0.2', b'Iris-setosa'],\n",
       "       [b'5.4', b'3.4', b'1.5', b'0.4', b'Iris-setosa'],\n",
       "       [b'5.4', b'3.7', b'1.5', b'0.2', b'Iris-setosa'],\n",
       "       [b'5.4', b'3.9', b'1.3', b'0.4', b'Iris-setosa'],\n",
       "       [b'5.5', b'3.5', b'1.3', b'0.2', b'Iris-setosa'],\n",
       "       [b'5.5', b'2.6', b'4.4', b'1.2', b'Iris-versicolor'],\n",
       "       [b'5.5', b'4.2', b'1.4', b'0.2', b'Iris-setosa'],\n",
       "       [b'5.5', b'2.3', b'4.0', b'1.3', b'Iris-versicolor'],\n",
       "       [b'5.5', b'2.4', b'3.7', b'1.0', b'Iris-versicolor'],\n",
       "       [b'5.5', b'2.4', b'3.8', b'1.1', b'Iris-versicolor'],\n",
       "       [b'5.5', b'2.5', b'4.0', b'1.3', b'Iris-versicolor'],\n",
       "       [b'5.6', b'3.0', b'4.1', b'1.3', b'Iris-versicolor'],\n",
       "       [b'5.6', b'2.8', b'4.9', b'2.0', b'Iris-virginica'],\n",
       "       [b'5.6', b'3.0', b'4.5', b'1.5', b'Iris-versicolor'],\n",
       "       [b'5.6', b'2.5', b'3.9', b'1.1', b'Iris-versicolor'],\n",
       "       [b'5.6', b'2.7', b'4.2', b'1.3', b'Iris-versicolor'],\n",
       "       [b'5.6', b'2.9', b'3.6', b'1.3', b'Iris-versicolor'],\n",
       "       [b'5.7', b'2.6', b'3.5', b'1.0', b'Iris-versicolor'],\n",
       "       [b'5.7', b'2.9', b'4.2', b'1.3', b'Iris-versicolor'],\n",
       "       [b'5.7', b'2.8', b'4.1', b'1.3', b'Iris-versicolor'],\n",
       "       [b'5.7', b'4.4', b'1.5', b'0.4', b'Iris-setosa'],\n",
       "       [b'5.7', b'2.8', b'4.5', b'1.3', b'Iris-versicolor'],\n",
       "       [b'5.7', b'2.5', b'5.0', b'2.0', b'Iris-virginica'],\n",
       "       [b'5.7', b'3.8', b'1.7', b'0.3', b'Iris-setosa'],\n",
       "       [b'5.7', b'3.0', b'4.2', b'1.2', b'Iris-versicolor'],\n",
       "       [b'5.8', b'2.7', b'4.1', b'1.0', b'Iris-versicolor'],\n",
       "       [b'5.8', b'4.0', b'1.2', b'0.2', b'Iris-setosa'],\n",
       "       [b'5.8', b'2.6', b'4.0', b'1.2', b'Iris-versicolor'],\n",
       "       [b'5.8', b'2.8', b'5.1', b'2.4', b'Iris-virginica'],\n",
       "       [b'5.8', b'2.7', b'5.1', b'1.9', b'Iris-virginica'],\n",
       "       [b'5.8', b'2.7', b'3.9', b'1.2', b'Iris-versicolor'],\n",
       "       [b'5.8', b'2.7', b'5.1', b'1.9', b'Iris-virginica'],\n",
       "       [b'5.9', b'3.0', b'5.1', b'1.8', b'Iris-virginica'],\n",
       "       [b'5.9', b'3.0', b'4.2', b'1.5', b'Iris-versicolor'],\n",
       "       [b'5.9', b'3.2', b'4.8', b'1.8', b'Iris-versicolor'],\n",
       "       [b'6.0', b'2.9', b'4.5', b'1.5', b'Iris-versicolor'],\n",
       "       [b'6.0', b'2.7', b'5.1', b'1.6', b'Iris-versicolor'],\n",
       "       [b'6.0', b'3.0', b'4.8', b'1.8', b'Iris-virginica'],\n",
       "       [b'6.0', b'3.4', b'4.5', b'1.6', b'Iris-versicolor'],\n",
       "       [b'6.0', b'2.2', b'4.0', b'1.0', b'Iris-versicolor'],\n",
       "       [b'6.0', b'2.2', b'5.0', b'1.5', b'Iris-virginica'],\n",
       "       [b'6.1', b'3.0', b'4.9', b'1.8', b'Iris-virginica'],\n",
       "       [b'6.1', b'2.6', b'5.6', b'1.4', b'Iris-virginica'],\n",
       "       [b'6.1', b'2.8', b'4.0', b'1.3', b'Iris-versicolor'],\n",
       "       [b'6.1', b'2.9', b'4.7', b'1.4', b'Iris-versicolor'],\n",
       "       [b'6.1', b'2.8', b'4.7', b'1.2', b'Iris-versicolor'],\n",
       "       [b'6.1', b'3.0', b'4.6', b'1.4', b'Iris-versicolor'],\n",
       "       [b'6.2', b'2.2', b'4.5', b'1.5', b'Iris-versicolor'],\n",
       "       [b'6.2', b'2.9', b'4.3', b'1.3', b'Iris-versicolor'],\n",
       "       [b'6.2', b'3.4', b'5.4', b'2.3', b'Iris-virginica'],\n",
       "       [b'6.2', b'2.8', b'4.8', b'1.8', b'Iris-virginica'],\n",
       "       [b'6.3', b'2.5', b'4.9', b'1.5', b'Iris-versicolor'],\n",
       "       [b'6.3', b'2.7', b'4.9', b'1.8', b'Iris-virginica'],\n",
       "       [b'6.3', b'2.5', b'5.0', b'1.9', b'Iris-virginica'],\n",
       "       [b'6.3', b'3.3', b'4.7', b'1.6', b'Iris-versicolor'],\n",
       "       [b'6.3', b'2.8', b'5.1', b'1.5', b'Iris-virginica'],\n",
       "       [b'6.3', b'3.3', b'6.0', b'2.5', b'Iris-virginica'],\n",
       "       [b'6.3', b'2.3', b'4.4', b'1.3', b'Iris-versicolor'],\n",
       "       [b'6.3', b'3.4', b'5.6', b'2.4', b'Iris-virginica'],\n",
       "       [b'6.3', b'2.9', b'5.6', b'1.8', b'Iris-virginica'],\n",
       "       [b'6.4', b'2.8', b'5.6', b'2.2', b'Iris-virginica'],\n",
       "       [b'6.4', b'2.8', b'5.6', b'2.1', b'Iris-virginica'],\n",
       "       [b'6.4', b'3.1', b'5.5', b'1.8', b'Iris-virginica'],\n",
       "       [b'6.4', b'3.2', b'4.5', b'1.5', b'Iris-versicolor'],\n",
       "       [b'6.4', b'3.2', b'5.3', b'2.3', b'Iris-virginica'],\n",
       "       [b'6.4', b'2.9', b'4.3', b'1.3', b'Iris-versicolor'],\n",
       "       [b'6.4', b'2.7', b'5.3', b'1.9', b'Iris-virginica'],\n",
       "       [b'6.5', b'3.0', b'5.8', b'2.2', b'Iris-virginica'],\n",
       "       [b'6.5', b'3.0', b'5.5', b'1.8', b'Iris-virginica'],\n",
       "       [b'6.5', b'3.0', b'5.2', b'2.0', b'Iris-virginica'],\n",
       "       [b'6.5', b'2.8', b'4.6', b'1.5', b'Iris-versicolor'],\n",
       "       [b'6.5', b'3.2', b'5.1', b'2.0', b'Iris-virginica'],\n",
       "       [b'6.6', b'2.9', b'4.6', b'1.3', b'Iris-versicolor'],\n",
       "       [b'6.6', b'3.0', b'4.4', b'1.4', b'Iris-versicolor'],\n",
       "       [b'6.7', b'3.1', b'4.7', b'1.5', b'Iris-versicolor'],\n",
       "       [b'6.7', b'3.1', b'5.6', b'2.4', b'Iris-virginica'],\n",
       "       [b'6.7', b'2.5', b'5.8', b'1.8', b'Iris-virginica'],\n",
       "       [b'6.7', b'3.0', b'5.0', b'1.7', b'Iris-versicolor'],\n",
       "       [b'6.7', b'3.1', b'4.4', b'1.4', b'Iris-versicolor'],\n",
       "       [b'6.7', b'3.3', b'5.7', b'2.5', b'Iris-virginica'],\n",
       "       [b'6.7', b'3.0', b'5.2', b'2.3', b'Iris-virginica'],\n",
       "       [b'6.7', b'3.3', b'5.7', b'2.1', b'Iris-virginica'],\n",
       "       [b'6.8', b'3.2', b'5.9', b'2.3', b'Iris-virginica'],\n",
       "       [b'6.8', b'2.8', b'4.8', b'1.4', b'Iris-versicolor'],\n",
       "       [b'6.8', b'3.0', b'5.5', b'2.1', b'Iris-virginica'],\n",
       "       [b'6.9', b'3.1', b'5.4', b'2.1', b'Iris-virginica'],\n",
       "       [b'6.9', b'3.1', b'5.1', b'2.3', b'Iris-virginica'],\n",
       "       [b'6.9', b'3.1', b'4.9', b'1.5', b'Iris-versicolor'],\n",
       "       [b'6.9', b'3.2', b'5.7', b'2.3', b'Iris-virginica'],\n",
       "       [b'7.0', b'3.2', b'4.7', b'1.4', b'Iris-versicolor'],\n",
       "       [b'7.1', b'3.0', b'5.9', b'2.1', b'Iris-virginica'],\n",
       "       [b'7.2', b'3.0', b'5.8', b'1.6', b'Iris-virginica'],\n",
       "       [b'7.2', b'3.2', b'6.0', b'1.8', b'Iris-virginica'],\n",
       "       [b'7.2', b'3.6', b'6.1', b'2.5', b'Iris-virginica'],\n",
       "       [b'7.3', b'2.9', b'6.3', b'1.8', b'Iris-virginica'],\n",
       "       [b'7.4', b'2.8', b'6.1', b'1.9', b'Iris-virginica'],\n",
       "       [b'7.6', b'3.0', b'6.6', b'2.1', b'Iris-virginica'],\n",
       "       [b'7.7', b'2.8', b'6.7', b'2.0', b'Iris-virginica'],\n",
       "       [b'7.7', b'2.6', b'6.9', b'2.3', b'Iris-virginica'],\n",
       "       [b'7.7', b'3.8', b'6.7', b'2.2', b'Iris-virginica'],\n",
       "       [b'7.7', b'3.0', b'6.1', b'2.3', b'Iris-virginica'],\n",
       "       [b'7.9', b'3.8', b'6.4', b'2.0', b'Iris-virginica']], dtype=object)"
      ]
     },
     "execution_count": 87,
     "metadata": {},
     "output_type": "execute_result"
    }
   ],
   "source": [
    "iris[np.argsort(iris[:,0])]"
   ]
  },
  {
   "cell_type": "code",
   "execution_count": 90,
   "metadata": {},
   "outputs": [],
   "source": [
    "#iris = np.genfromtxt(url, delimiter=',', dtype='object', names = ('sepallength', \\\n",
    "#                                                                  'sepalwidth', 'petallength', 'petalwidth', 'species'))\n",
    "#iris.sort(order=['sepallength','sepalwidth', 'petallength', 'petalwidth', 'species'])\n",
    "#iris"
   ]
  },
  {
   "cell_type": "code",
   "execution_count": 92,
   "metadata": {},
   "outputs": [],
   "source": [
    "#45. Find the most frequent value of petal length (3rd column) in iris dataset.\n",
    "url = 'https://archive.ics.uci.edu/ml/machine-learning-databases/iris/iris.data'\n",
    "iris = np.genfromtxt(url, delimiter=',', dtype='object')"
   ]
  },
  {
   "cell_type": "code",
   "execution_count": 114,
   "metadata": {},
   "outputs": [],
   "source": [
    "val = np.unique(iris[:,2], return_counts = True)[0]\n",
    "cnt = np.unique(iris[:,2], return_counts = True)[1]"
   ]
  },
  {
   "cell_type": "code",
   "execution_count": 123,
   "metadata": {},
   "outputs": [
    {
     "data": {
      "text/plain": [
       "array([b'1.5'], dtype=object)"
      ]
     },
     "execution_count": 123,
     "metadata": {},
     "output_type": "execute_result"
    }
   ],
   "source": [
    "val[np.where(cnt == cnt.max())]"
   ]
  },
  {
   "cell_type": "code",
   "execution_count": 125,
   "metadata": {},
   "outputs": [],
   "source": [
    "#46. Find the position of the first occurrence of a value greater than 1.0 in petalwidth 4th column of iris dataset.\n",
    "url = 'https://archive.ics.uci.edu/ml/machine-learning-databases/iris/iris.data'\n",
    "iris = np.genfromtxt(url, delimiter=',', dtype='object')"
   ]
  },
  {
   "cell_type": "code",
   "execution_count": 1170,
   "metadata": {},
   "outputs": [
    {
     "data": {
      "text/plain": [
       "array([50])"
      ]
     },
     "execution_count": 1170,
     "metadata": {},
     "output_type": "execute_result"
    }
   ],
   "source": [
    "np.argwhere(iris[:,3].astype('float') > 1.0)[0]"
   ]
  },
  {
   "cell_type": "code",
   "execution_count": 218,
   "metadata": {},
   "outputs": [],
   "source": [
    "#47. From the array a, replace all values greater than 30 to 30 and less than 10 to 10.\n",
    "np.random.seed(100)\n",
    "a = np.random.uniform(1,50, 20)"
   ]
  },
  {
   "cell_type": "code",
   "execution_count": 227,
   "metadata": {},
   "outputs": [
    {
     "data": {
      "text/plain": [
       "array([27.62684215, 14.64009987, 21.80136195, 30.        , 10.        ,\n",
       "       10.        , 30.        , 30.        , 10.        , 29.17957314,\n",
       "       30.        , 11.25090398, 10.08108276, 10.        , 11.76517714,\n",
       "       30.        , 30.        , 10.        , 30.        , 14.42961361])"
      ]
     },
     "execution_count": 227,
     "metadata": {},
     "output_type": "execute_result"
    }
   ],
   "source": [
    "np.where(a<10,10,(np.where(a>30,30,a)))"
   ]
  },
  {
   "cell_type": "code",
   "execution_count": 228,
   "metadata": {},
   "outputs": [
    {
     "data": {
      "text/plain": [
       "array([27.62684215, 14.64009987, 21.80136195, 30.        , 10.        ,\n",
       "       10.        , 30.        , 30.        , 10.        , 29.17957314,\n",
       "       30.        , 11.25090398, 10.08108276, 10.        , 11.76517714,\n",
       "       30.        , 30.        , 10.        , 30.        , 14.42961361])"
      ]
     },
     "execution_count": 228,
     "metadata": {},
     "output_type": "execute_result"
    }
   ],
   "source": [
    "np.clip(a,10,30)"
   ]
  },
  {
   "cell_type": "code",
   "execution_count": 234,
   "metadata": {},
   "outputs": [],
   "source": [
    "#48. Get the positions of top 5 maximum values in a given array a.\n",
    "np.random.seed(100)\n",
    "a = np.random.uniform(1,50, 20)"
   ]
  },
  {
   "cell_type": "code",
   "execution_count": 1171,
   "metadata": {},
   "outputs": [
    {
     "data": {
      "text/plain": [
       "array([7, 4, 1, 5, 2])"
      ]
     },
     "execution_count": 1171,
     "metadata": {},
     "output_type": "execute_result"
    }
   ],
   "source": [
    "a.argsort()[-5:]"
   ]
  },
  {
   "cell_type": "code",
   "execution_count": 247,
   "metadata": {},
   "outputs": [
    {
     "data": {
      "text/plain": [
       "array([40.99501269, 41.466785  , 42.39403048, 44.67477576, 48.95256545])"
      ]
     },
     "execution_count": 247,
     "metadata": {},
     "output_type": "execute_result"
    }
   ],
   "source": [
    "#The k-th element will be in its final sorted position and \\\n",
    "#all smaller elements will be moved before it and all larger elements behind it. \n",
    "np.partition(a,kth=-5)[-5:]\n",
    "#argspartition etc."
   ]
  },
  {
   "cell_type": "code",
   "execution_count": 290,
   "metadata": {},
   "outputs": [
    {
     "data": {
      "text/plain": [
       "array([[ 9,  9,  4,  8,  8,  1,  5,  3,  6,  3],\n",
       "       [ 3,  3,  2,  1,  9,  5,  1, 10,  7,  3],\n",
       "       [ 5,  2,  6,  4,  5,  5,  4,  8,  2,  2],\n",
       "       [ 8,  8,  1,  3, 10, 10,  4,  3,  6,  9],\n",
       "       [ 2,  1,  8,  7,  3,  1,  9,  3,  6,  2],\n",
       "       [ 9,  2,  6,  5,  3,  9,  4,  6,  1, 10]])"
      ]
     },
     "execution_count": 290,
     "metadata": {},
     "output_type": "execute_result"
    }
   ],
   "source": [
    "#49.Compute the counts of unique values row-wise.\n",
    "np.random.seed(100)\n",
    "arr = np.random.randint(1,11,size=(6, 10))\n",
    "arr"
   ]
  },
  {
   "cell_type": "code",
   "execution_count": 285,
   "metadata": {},
   "outputs": [],
   "source": [
    "row, col = np.shape(arr)\n",
    "for x in range(0,row):\n",
    "    val = np.unique(arr[x],return_counts = True)[0]\n",
    "    cnt = np.unique(arr[x],return_counts = True)[1]\n",
    "    for j in range(0,col):\n",
    "        for i in range(0,len(val)):\n",
    "            if arr[x][j] == val[i]:\n",
    "                arr[x][j] = cnt[i]"
   ]
  },
  {
   "cell_type": "code",
   "execution_count": 286,
   "metadata": {},
   "outputs": [
    {
     "data": {
      "text/plain": [
       "array([[2, 2, 1, 2, 2, 1, 1, 2, 1, 2],\n",
       "       [3, 3, 1, 1, 1, 1, 1, 1, 1, 3],\n",
       "       [3, 3, 1, 2, 3, 3, 2, 1, 3, 3],\n",
       "       [2, 2, 1, 2, 2, 2, 1, 2, 1, 1],\n",
       "       [2, 2, 1, 1, 2, 2, 1, 2, 1, 2],\n",
       "       [2, 1, 2, 1, 1, 2, 1, 2, 1, 1]])"
      ]
     },
     "execution_count": 286,
     "metadata": {},
     "output_type": "execute_result"
    }
   ],
   "source": [
    "arr"
   ]
  },
  {
   "cell_type": "code",
   "execution_count": 288,
   "metadata": {},
   "outputs": [
    {
     "data": {
      "text/plain": [
       "[[1, 0, 2, 1, 1, 1, 0, 2, 2, 0],\n",
       " [2, 1, 3, 0, 1, 0, 1, 0, 1, 1],\n",
       " [0, 3, 0, 2, 3, 1, 0, 1, 0, 0],\n",
       " [1, 0, 2, 1, 0, 1, 0, 2, 1, 2],\n",
       " [2, 2, 2, 0, 0, 1, 1, 1, 1, 0],\n",
       " [1, 1, 1, 1, 1, 2, 0, 0, 2, 1]]"
      ]
     },
     "execution_count": 288,
     "metadata": {},
     "output_type": "execute_result"
    }
   ],
   "source": [
    "def counts_of_all_values_rowwise(arr2d):\n",
    "    # Unique values and its counts row wise\n",
    "    num_counts_array = [np.unique(row, return_counts=True) for row in arr2d]\n",
    "\n",
    "    # Counts of all values row wise\n",
    "    return([[int(b[a==i]) if i in a else 0 for i in np.unique(arr2d)] for a, b in num_counts_array])\n",
    "\n",
    "# Print\n",
    "counts_of_all_values_rowwise(arr) #zle, nie odzwiercietla poprawnych miejsc"
   ]
  },
  {
   "cell_type": "code",
   "execution_count": 312,
   "metadata": {},
   "outputs": [
    {
     "data": {
      "text/plain": [
       "array([array([0, 1, 2]), array([3, 4, 5, 6]), array([7, 8, 9])],\n",
       "      dtype=object)"
      ]
     },
     "execution_count": 312,
     "metadata": {},
     "output_type": "execute_result"
    }
   ],
   "source": [
    "#50. Convert array_of_arrays into a flat linear 1d array.\n",
    "arr1 = np.arange(3)\n",
    "arr2 = np.arange(3,7)\n",
    "arr3 = np.arange(7,10)\n",
    "\n",
    "array_of_arrays = np.array([arr1, arr2, arr3])\n",
    "array_of_arrays"
   ]
  },
  {
   "cell_type": "code",
   "execution_count": 315,
   "metadata": {},
   "outputs": [
    {
     "data": {
      "text/plain": [
       "array([0, 1, 2, 3, 4, 5, 6, 7, 8, 9])"
      ]
     },
     "execution_count": 315,
     "metadata": {},
     "output_type": "execute_result"
    }
   ],
   "source": [
    "np.hstack([arr1, arr2, arr3])"
   ]
  },
  {
   "cell_type": "code",
   "execution_count": 317,
   "metadata": {},
   "outputs": [
    {
     "data": {
      "text/plain": [
       "array([0, 1, 2, 3, 4, 5, 6, 7, 8, 9])"
      ]
     },
     "execution_count": 317,
     "metadata": {},
     "output_type": "execute_result"
    }
   ],
   "source": [
    "np.concatenate([arr1, arr2, arr3])"
   ]
  },
  {
   "cell_type": "code",
   "execution_count": 318,
   "metadata": {},
   "outputs": [
    {
     "data": {
      "text/plain": [
       "array([0, 1, 2, 3, 4, 5, 6, 7, 8, 9])"
      ]
     },
     "execution_count": 318,
     "metadata": {},
     "output_type": "execute_result"
    }
   ],
   "source": [
    "np.array([element for array in array_of_arrays for element in array])"
   ]
  },
  {
   "cell_type": "code",
   "execution_count": 321,
   "metadata": {},
   "outputs": [
    {
     "data": {
      "text/plain": [
       "array([2, 3, 2, 2, 2, 1])"
      ]
     },
     "execution_count": 321,
     "metadata": {},
     "output_type": "execute_result"
    }
   ],
   "source": [
    "#51. Compute the one-hot encodings (dummy binary variables for each unique value in the array)\n",
    "np.random.seed(101) \n",
    "arr = np.random.randint(1,4, size=6)\n",
    "arr"
   ]
  },
  {
   "cell_type": "code",
   "execution_count": 372,
   "metadata": {},
   "outputs": [
    {
     "data": {
      "text/plain": [
       "array(['Iris-setosa', 'Iris-setosa', 'Iris-setosa', 'Iris-setosa',\n",
       "       'Iris-setosa', 'Iris-versicolor', 'Iris-versicolor',\n",
       "       'Iris-versicolor', 'Iris-versicolor', 'Iris-versicolor',\n",
       "       'Iris-versicolor', 'Iris-virginica', 'Iris-virginica',\n",
       "       'Iris-virginica', 'Iris-virginica', 'Iris-virginica',\n",
       "       'Iris-virginica', 'Iris-virginica', 'Iris-virginica',\n",
       "       'Iris-virginica'], dtype='<U15')"
      ]
     },
     "execution_count": 372,
     "metadata": {},
     "output_type": "execute_result"
    }
   ],
   "source": [
    "#52. Create row numbers grouped by a categorical variable. Use the following sample from iris species as input.\n",
    "url = 'https://archive.ics.uci.edu/ml/machine-learning-databases/iris/iris.data'\n",
    "species = np.genfromtxt(url, delimiter=',', dtype='str', usecols=4)\n",
    "species_small = np.sort(np.random.choice(species, size=20))\n",
    "species_small"
   ]
  },
  {
   "cell_type": "code",
   "execution_count": 437,
   "metadata": {},
   "outputs": [
    {
     "data": {
      "text/plain": [
       "[0, 1, 2, 3, 4, 0, 1, 2, 3, 4, 5, 0, 1, 2, 3, 4, 5, 6, 7, 8]"
      ]
     },
     "execution_count": 437,
     "metadata": {},
     "output_type": "execute_result"
    }
   ],
   "source": [
    "[cnt for sp in np.unique(species_small) for cnt, spiecies in enumerate(species_small[species_small==sp])]"
   ]
  },
  {
   "cell_type": "code",
   "execution_count": 439,
   "metadata": {},
   "outputs": [
    {
     "data": {
      "text/plain": [
       "array(['Iris-setosa', 'Iris-setosa', 'Iris-setosa', 'Iris-setosa',\n",
       "       'Iris-setosa', 'Iris-setosa', 'Iris-setosa', 'Iris-setosa',\n",
       "       'Iris-versicolor', 'Iris-versicolor', 'Iris-versicolor',\n",
       "       'Iris-virginica', 'Iris-virginica', 'Iris-virginica',\n",
       "       'Iris-virginica', 'Iris-virginica', 'Iris-virginica',\n",
       "       'Iris-virginica', 'Iris-virginica', 'Iris-virginica'], dtype='<U15')"
      ]
     },
     "execution_count": 439,
     "metadata": {},
     "output_type": "execute_result"
    }
   ],
   "source": [
    "#53. Create group ids based on a given categorical variable. Use the following sample from iris species as input.\n",
    "url = 'https://archive.ics.uci.edu/ml/machine-learning-databases/iris/iris.data'\n",
    "species = np.genfromtxt(url, delimiter=',', dtype='str', usecols=4)\n",
    "species_small = np.sort(np.random.choice(species, size=20))\n",
    "species_small"
   ]
  },
  {
   "cell_type": "code",
   "execution_count": 457,
   "metadata": {},
   "outputs": [
    {
     "data": {
      "text/plain": [
       "[0, 0, 0, 0, 0, 0, 0, 0, 1, 1, 1, 2, 2, 2, 2, 2, 2, 2, 2, 2]"
      ]
     },
     "execution_count": 457,
     "metadata": {},
     "output_type": "execute_result"
    }
   ],
   "source": [
    "[cnt for cnt, sp in enumerate(np.unique(species_small)) for i in species_small[species_small==sp]]"
   ]
  },
  {
   "cell_type": "code",
   "execution_count": 458,
   "metadata": {
    "scrolled": true
   },
   "outputs": [
    {
     "name": "stdout",
     "output_type": "stream",
     "text": [
      "[ 9  4 15  0 17 16 17  8  9  0]\n"
     ]
    }
   ],
   "source": [
    "#54. Create the ranks for the given numeric array a.\n",
    "np.random.seed(10)\n",
    "a = np.random.randint(20, size=10)\n",
    "print(a)"
   ]
  },
  {
   "cell_type": "code",
   "execution_count": 507,
   "metadata": {},
   "outputs": [
    {
     "data": {
      "text/plain": [
       "array([4, 2, 6, 0, 8, 7, 9, 3, 5, 1])"
      ]
     },
     "execution_count": 507,
     "metadata": {},
     "output_type": "execute_result"
    }
   ],
   "source": [
    "a.argsort().argsort()"
   ]
  },
  {
   "cell_type": "code",
   "execution_count": 505,
   "metadata": {},
   "outputs": [],
   "source": [
    "#[4 2 6 0 8 7 9 3 5 1]"
   ]
  },
  {
   "cell_type": "code",
   "execution_count": 533,
   "metadata": {},
   "outputs": [
    {
     "name": "stdout",
     "output_type": "stream",
     "text": [
      "[[ 9  4 15  0 17]\n",
      " [16 17  8  9  0]]\n"
     ]
    }
   ],
   "source": [
    "#55. Create a rank array of the same shape as a given numeric array a.\n",
    "np.random.seed(10)\n",
    "a = np.random.randint(20, size=[2,5])\n",
    "print(a)\n",
    "#> [[4 2 6 0 8]\n",
    "#>  [7 9 3 5 1]]"
   ]
  },
  {
   "cell_type": "code",
   "execution_count": 540,
   "metadata": {},
   "outputs": [
    {
     "data": {
      "text/plain": [
       "array([ 9,  4, 15,  0, 17, 16, 17,  8,  9,  0])"
      ]
     },
     "execution_count": 540,
     "metadata": {},
     "output_type": "execute_result"
    }
   ],
   "source": [
    "a.ravel()"
   ]
  },
  {
   "cell_type": "code",
   "execution_count": 546,
   "metadata": {},
   "outputs": [
    {
     "data": {
      "text/plain": [
       "array([3, 9, 1, 7, 0, 8, 2, 5, 4, 6])"
      ]
     },
     "execution_count": 546,
     "metadata": {},
     "output_type": "execute_result"
    }
   ],
   "source": [
    "a.ravel().argsort()"
   ]
  },
  {
   "cell_type": "code",
   "execution_count": 561,
   "metadata": {},
   "outputs": [
    {
     "data": {
      "text/plain": [
       "array([[4, 2, 6, 0, 8],\n",
       "       [7, 9, 3, 5, 1]])"
      ]
     },
     "execution_count": 561,
     "metadata": {},
     "output_type": "execute_result"
    }
   ],
   "source": [
    "np.vstack([a.ravel().argsort().argsort()[:5], a.ravel().argsort().argsort()[5:]])"
   ]
  },
  {
   "cell_type": "code",
   "execution_count": 563,
   "metadata": {
    "scrolled": true
   },
   "outputs": [
    {
     "data": {
      "text/plain": [
       "(2, 5)"
      ]
     },
     "execution_count": 563,
     "metadata": {},
     "output_type": "execute_result"
    }
   ],
   "source": [
    "a.shape"
   ]
  },
  {
   "cell_type": "code",
   "execution_count": 562,
   "metadata": {},
   "outputs": [
    {
     "data": {
      "text/plain": [
       "array([[4, 2, 6, 0, 8],\n",
       "       [7, 9, 3, 5, 1]])"
      ]
     },
     "execution_count": 562,
     "metadata": {},
     "output_type": "execute_result"
    }
   ],
   "source": [
    "a.ravel().argsort().argsort().reshape(a.shape)"
   ]
  },
  {
   "cell_type": "code",
   "execution_count": 565,
   "metadata": {},
   "outputs": [
    {
     "data": {
      "text/plain": [
       "array([[9, 9, 4],\n",
       "       [8, 8, 1],\n",
       "       [5, 3, 6],\n",
       "       [3, 3, 3],\n",
       "       [2, 1, 9]])"
      ]
     },
     "execution_count": 565,
     "metadata": {},
     "output_type": "execute_result"
    }
   ],
   "source": [
    "#56. Compute the maximum for each row in the given array.\n",
    "np.random.seed(100)\n",
    "a = np.random.randint(1,10, [5,3])\n",
    "a"
   ]
  },
  {
   "cell_type": "code",
   "execution_count": 571,
   "metadata": {},
   "outputs": [
    {
     "data": {
      "text/plain": [
       "[9, 8, 6, 3, 9]"
      ]
     },
     "execution_count": 571,
     "metadata": {},
     "output_type": "execute_result"
    }
   ],
   "source": [
    "max_a = [row.max() for row in a]\n",
    "max_a"
   ]
  },
  {
   "cell_type": "code",
   "execution_count": 572,
   "metadata": {},
   "outputs": [
    {
     "data": {
      "text/plain": [
       "array([9, 8, 6, 3, 9])"
      ]
     },
     "execution_count": 572,
     "metadata": {},
     "output_type": "execute_result"
    }
   ],
   "source": [
    "np.amax(a, axis=1)"
   ]
  },
  {
   "cell_type": "code",
   "execution_count": 573,
   "metadata": {},
   "outputs": [
    {
     "data": {
      "text/plain": [
       "array([9, 8, 6, 3, 9])"
      ]
     },
     "execution_count": 573,
     "metadata": {},
     "output_type": "execute_result"
    }
   ],
   "source": [
    "np.apply_along_axis(np.max, arr=a, axis=1)"
   ]
  },
  {
   "cell_type": "code",
   "execution_count": 575,
   "metadata": {},
   "outputs": [
    {
     "data": {
      "text/plain": [
       "array([[9, 9, 4],\n",
       "       [8, 8, 1],\n",
       "       [5, 3, 6],\n",
       "       [3, 3, 3],\n",
       "       [2, 1, 9]])"
      ]
     },
     "execution_count": 575,
     "metadata": {},
     "output_type": "execute_result"
    }
   ],
   "source": [
    "#57. Compute the min-by-max for each row for given 2d numpy array.\n",
    "np.random.seed(100)\n",
    "a = np.random.randint(1,10, [5,3])\n",
    "a"
   ]
  },
  {
   "cell_type": "code",
   "execution_count": 583,
   "metadata": {},
   "outputs": [
    {
     "data": {
      "text/plain": [
       "array([0.44444444, 0.125     , 0.5       , 1.        , 0.11111111])"
      ]
     },
     "execution_count": 583,
     "metadata": {},
     "output_type": "execute_result"
    }
   ],
   "source": [
    "np.apply_along_axis(lambda a: np.min(a)/np.max(a), arr=a, axis=1)"
   ]
  },
  {
   "cell_type": "code",
   "execution_count": 588,
   "metadata": {},
   "outputs": [],
   "source": [
    "def min_by_max(a):\n",
    "    return np.min(a)/np.max(a)"
   ]
  },
  {
   "cell_type": "code",
   "execution_count": 590,
   "metadata": {},
   "outputs": [
    {
     "data": {
      "text/plain": [
       "array([0.44444444, 0.125     , 0.5       , 1.        , 0.11111111])"
      ]
     },
     "execution_count": 590,
     "metadata": {},
     "output_type": "execute_result"
    }
   ],
   "source": [
    "np.apply_along_axis(min_by_max, arr=a, axis=1)"
   ]
  },
  {
   "cell_type": "code",
   "execution_count": 592,
   "metadata": {},
   "outputs": [
    {
     "name": "stdout",
     "output_type": "stream",
     "text": [
      "Array:  [0 0 3 0 2 4 2 2 2 2]\n"
     ]
    }
   ],
   "source": [
    "#58. Find the duplicate entries (2nd occurrence onwards) in the given numpy array and mark them as True. \n",
    "#First time occurrences should be False.\n",
    "np.random.seed(100)\n",
    "a = np.random.randint(0, 5, 10)\n",
    "print('Array: ', a)\n",
    "#> [False  True False  True False False  True  True  True  True]"
   ]
  },
  {
   "cell_type": "code",
   "execution_count": 622,
   "metadata": {},
   "outputs": [
    {
     "data": {
      "text/plain": [
       "array([False,  True, False,  True, False, False,  True,  True,  True,\n",
       "        True])"
      ]
     },
     "execution_count": 622,
     "metadata": {},
     "output_type": "execute_result"
    }
   ],
   "source": [
    "idx = np.unique(a, return_index=True)[1]\n",
    "out_matrix = np.full(a.size, True)\n",
    "out_matrix[idx] = False\n",
    "out_matrix"
   ]
  },
  {
   "cell_type": "code",
   "execution_count": 644,
   "metadata": {},
   "outputs": [],
   "source": [
    "#59. Find the mean of a numeric column (sepalwidth) grouped by a categorical column in a 2D numpy array\n",
    "url = 'https://archive.ics.uci.edu/ml/machine-learning-databases/iris/iris.data'\n",
    "iris = np.genfromtxt(url, delimiter=',', dtype='object')\n",
    "names = ('sepallength', 'sepalwidth', 'petallength', 'petalwidth', 'species')"
   ]
  },
  {
   "cell_type": "code",
   "execution_count": 670,
   "metadata": {},
   "outputs": [
    {
     "data": {
      "text/plain": [
       "[(b'Iris-setosa', 3.418),\n",
       " (b'Iris-versicolor', 2.7700000000000005),\n",
       " (b'Iris-virginica', 2.974)]"
      ]
     },
     "execution_count": 670,
     "metadata": {},
     "output_type": "execute_result"
    }
   ],
   "source": [
    "[(iris[row,4],np.mean(iris[row:row+50,1].astype(float))) for row in range(0,150,50)]"
   ]
  },
  {
   "cell_type": "code",
   "execution_count": 677,
   "metadata": {},
   "outputs": [],
   "source": [
    "num_col = iris[:,1].astype('float')\n",
    "grp_col = iris[:,4].astype(\"str\")"
   ]
  },
  {
   "cell_type": "code",
   "execution_count": 681,
   "metadata": {},
   "outputs": [
    {
     "data": {
      "text/plain": [
       "[['Iris-setosa', 3.418],\n",
       " ['Iris-versicolor', 2.7700000000000005],\n",
       " ['Iris-virginica', 2.974]]"
      ]
     },
     "execution_count": 681,
     "metadata": {},
     "output_type": "execute_result"
    }
   ],
   "source": [
    "[[grp_row, num_col[grp_col==grp_row].mean()] for grp_row in np.unique(grp_col)]"
   ]
  },
  {
   "cell_type": "code",
   "execution_count": 698,
   "metadata": {},
   "outputs": [],
   "source": [
    "#60. Import the image from the following URL and convert it to a numpy array\n",
    "URL = 'https://upload.wikimedia.org/wikipedia/commons/8/8b/Denali_Mt_McKinley.jpg'"
   ]
  },
  {
   "cell_type": "code",
   "execution_count": 700,
   "metadata": {},
   "outputs": [],
   "source": [
    "from io import BytesIO\n",
    "from PIL import Image\n",
    "import requests\n",
    "\n",
    "get_url = requests.get(URL)\n",
    "content = BytesIO(get_url.content)\n",
    "img = Image.open(content)\n",
    "#img.resize([200,200])\n",
    "arr = np.asarray(img)"
   ]
  },
  {
   "cell_type": "code",
   "execution_count": 705,
   "metadata": {},
   "outputs": [],
   "source": [
    "image = Image.fromarray(np.uint8(arr))\n",
    "Image.Image.show(image)"
   ]
  },
  {
   "cell_type": "code",
   "execution_count": 707,
   "metadata": {},
   "outputs": [],
   "source": [
    "#61. Drop all nan values from a 1D numpy array\n",
    "arr = np.array([1,2,3,np.nan,5,6,7,np.nan])"
   ]
  },
  {
   "cell_type": "code",
   "execution_count": 710,
   "metadata": {},
   "outputs": [
    {
     "data": {
      "text/plain": [
       "array([1., 2., 3., 5., 6., 7.])"
      ]
     },
     "execution_count": 710,
     "metadata": {},
     "output_type": "execute_result"
    }
   ],
   "source": [
    "arr[~np.isnan(arr)]"
   ]
  },
  {
   "cell_type": "code",
   "execution_count": 735,
   "metadata": {},
   "outputs": [
    {
     "data": {
      "text/plain": [
       "6.708203932499369"
      ]
     },
     "execution_count": 735,
     "metadata": {},
     "output_type": "execute_result"
    }
   ],
   "source": [
    "#62. Compute the euclidean distance between two arrays a and b.\n",
    "a = np.array([1,2,3,4,5])\n",
    "b = np.array([4,5,6,7,8])\n",
    "import math\n",
    "suma = 0\n",
    "math.pow(np.sum([np.math.pow(row[0]-row[1],2) for row in np.vstack([a,b]).transpose()]),0.5)"
   ]
  },
  {
   "cell_type": "code",
   "execution_count": 736,
   "metadata": {},
   "outputs": [
    {
     "data": {
      "text/plain": [
       "6.708203932499369"
      ]
     },
     "execution_count": 736,
     "metadata": {},
     "output_type": "execute_result"
    }
   ],
   "source": [
    "np.linalg.norm(a-b)"
   ]
  },
  {
   "cell_type": "code",
   "execution_count": 830,
   "metadata": {},
   "outputs": [],
   "source": [
    "#63. Find all the peaks in a 1D numpy array a. Peaks are points surrounded by smaller values on both sides.\n",
    "a = np.array([1, 3, 7, 1, 2, 6, 0, 1])\n",
    "b = np.array([8, 3, 7, 1, 2, 6, 0, 2])\n",
    "#> array([2, 5])"
   ]
  },
  {
   "cell_type": "code",
   "execution_count": 835,
   "metadata": {},
   "outputs": [
    {
     "data": {
      "text/plain": [
       "array([2., 5.])"
      ]
     },
     "execution_count": 835,
     "metadata": {},
     "output_type": "execute_result"
    }
   ],
   "source": [
    "for cnt, entry in enumerate(a):\n",
    "    if cnt == 0:\n",
    "        locl_max_idx = np.array([])\n",
    "        maximum = entry\n",
    "        max_idx = cnt\n",
    "    else:\n",
    "        if entry > maximum:\n",
    "            maximum = entry\n",
    "            max_idx = cnt\n",
    "            #if cnt == a.shape[0]-1:\n",
    "            #        locl_max_idx = np.append(locl_max_idx,max_idx)\n",
    "        else:\n",
    "            locl_max_idx = np.append(locl_max_idx,max_idx)\n",
    "            maximum = a.min()\n",
    "locl_max_idx"
   ]
  },
  {
   "cell_type": "code",
   "execution_count": 842,
   "metadata": {},
   "outputs": [
    {
     "data": {
      "text/plain": [
       "array([2, 5])"
      ]
     },
     "execution_count": 842,
     "metadata": {},
     "output_type": "execute_result"
    }
   ],
   "source": [
    "a = np.array([1, 3, 7, 1, 2, 6, 0, 1])\n",
    "doublediff = np.diff(np.sign(np.diff(a))) # ten zewnetrzny np.diff nie jest potrzebny, wystarczy pozniej porownac -1\n",
    "peak_locations = np.where(doublediff == -2)[0] + 1\n",
    "peak_locations"
   ]
  },
  {
   "cell_type": "code",
   "execution_count": 857,
   "metadata": {},
   "outputs": [],
   "source": [
    "#64. Subtract the 1d array b_1d from the 2d array a_2d, such that\n",
    "#each item of b_1d subtracts from respective row of a_2d.\n",
    "a_2d = np.array([[3,3,3],[4,4,4],[5,5,5]])\n",
    "b_1d = np.array([1,2,3])"
   ]
  },
  {
   "cell_type": "code",
   "execution_count": 855,
   "metadata": {},
   "outputs": [
    {
     "data": {
      "text/plain": [
       "array([[2, 2, 2],\n",
       "       [3, 3, 3],\n",
       "       [4, 4, 4]])"
      ]
     },
     "execution_count": 855,
     "metadata": {},
     "output_type": "execute_result"
    }
   ],
   "source": [
    "a_2d - np.vstack([3*[b_1d[0]],3*[b_1d[1]],3*[b_1d[2]]])"
   ]
  },
  {
   "cell_type": "code",
   "execution_count": 877,
   "metadata": {},
   "outputs": [
    {
     "data": {
      "text/plain": [
       "array([[2, 2, 2],\n",
       "       [2, 2, 2],\n",
       "       [2, 2, 2]])"
      ]
     },
     "execution_count": 877,
     "metadata": {},
     "output_type": "execute_result"
    }
   ],
   "source": [
    "a_2d - np.repeat(b_1d,3).reshape(3,3)"
   ]
  },
  {
   "cell_type": "code",
   "execution_count": 868,
   "metadata": {},
   "outputs": [
    {
     "data": {
      "text/plain": [
       "array([[2, 2, 2],\n",
       "       [2, 2, 2],\n",
       "       [2, 2, 2]])"
      ]
     },
     "execution_count": 868,
     "metadata": {},
     "output_type": "execute_result"
    }
   ],
   "source": [
    "a_2d - b_1d[:, None]"
   ]
  },
  {
   "cell_type": "code",
   "execution_count": 883,
   "metadata": {},
   "outputs": [
    {
     "data": {
      "text/plain": [
       "array([[2, 2, 2],\n",
       "       [2, 2, 2],\n",
       "       [2, 2, 2]])"
      ]
     },
     "execution_count": 883,
     "metadata": {},
     "output_type": "execute_result"
    }
   ],
   "source": [
    "a_2d - np.tile(b_1d,3).reshape(3,3).transpose()"
   ]
  },
  {
   "cell_type": "code",
   "execution_count": 886,
   "metadata": {},
   "outputs": [],
   "source": [
    "#65. Find the index of 5th repetition of number 1 in x.\n",
    "x = np.array([1, 2, 1, 1, 3, 4, 3, 1, 1, 2, 1, 1, 2])"
   ]
  },
  {
   "cell_type": "code",
   "execution_count": 893,
   "metadata": {},
   "outputs": [
    {
     "data": {
      "text/plain": [
       "8"
      ]
     },
     "execution_count": 893,
     "metadata": {},
     "output_type": "execute_result"
    }
   ],
   "source": [
    "np.where(x==1)[0][4]"
   ]
  },
  {
   "cell_type": "code",
   "execution_count": 894,
   "metadata": {},
   "outputs": [
    {
     "data": {
      "text/plain": [
       "8"
      ]
     },
     "execution_count": 894,
     "metadata": {},
     "output_type": "execute_result"
    }
   ],
   "source": [
    "[i for i,j in enumerate(x) if j == 1][4]"
   ]
  },
  {
   "cell_type": "code",
   "execution_count": 896,
   "metadata": {},
   "outputs": [],
   "source": [
    "#66. Convert numpy's datetime64 object to datetime's datetime object\n",
    "# Input: a numpy datetime64 object\n",
    "dt64 = np.datetime64('2018-02-25 22:10:10')"
   ]
  },
  {
   "cell_type": "code",
   "execution_count": 900,
   "metadata": {},
   "outputs": [
    {
     "data": {
      "text/plain": [
       "datetime.datetime(2018, 2, 25, 22, 10, 10)"
      ]
     },
     "execution_count": 900,
     "metadata": {},
     "output_type": "execute_result"
    }
   ],
   "source": [
    "from datetime import datetime\n",
    "dt64.astype(datetime)"
   ]
  },
  {
   "cell_type": "code",
   "execution_count": 901,
   "metadata": {},
   "outputs": [
    {
     "data": {
      "text/plain": [
       "datetime.datetime(2018, 2, 25, 22, 10, 10)"
      ]
     },
     "execution_count": 901,
     "metadata": {},
     "output_type": "execute_result"
    }
   ],
   "source": [
    "dt64.tolist()"
   ]
  },
  {
   "cell_type": "code",
   "execution_count": 911,
   "metadata": {},
   "outputs": [
    {
     "data": {
      "text/plain": [
       "array([8, 8, 3, 7, 7, 0, 4, 2, 5, 2])"
      ]
     },
     "execution_count": 911,
     "metadata": {},
     "output_type": "execute_result"
    }
   ],
   "source": [
    "#67. Compute the moving average of window size 3, for the given 1D array.\n",
    "np.random.seed(100)\n",
    "z = np.random.randint(10, size=10)\n",
    "z"
   ]
  },
  {
   "cell_type": "code",
   "execution_count": 939,
   "metadata": {},
   "outputs": [
    {
     "data": {
      "text/plain": [
       "[6.333333333333333,\n",
       " 6.0,\n",
       " 5.666666666666667,\n",
       " 4.666666666666667,\n",
       " 3.6666666666666665,\n",
       " 2.0,\n",
       " 3.6666666666666665,\n",
       " 3.0]"
      ]
     },
     "execution_count": 939,
     "metadata": {},
     "output_type": "execute_result"
    }
   ],
   "source": [
    "[z[i:i+3].mean() for i in range(0,len(z)-2)]"
   ]
  },
  {
   "cell_type": "code",
   "execution_count": 941,
   "metadata": {},
   "outputs": [
    {
     "data": {
      "text/plain": [
       "array([ 8, 16, 19, 26, 33, 33, 37, 39, 44, 46])"
      ]
     },
     "execution_count": 941,
     "metadata": {},
     "output_type": "execute_result"
    }
   ],
   "source": [
    "np.cumsum(z)"
   ]
  },
  {
   "cell_type": "code",
   "execution_count": 942,
   "metadata": {},
   "outputs": [
    {
     "data": {
      "text/plain": [
       "array([26, 33, 33, 37, 39, 44, 46])"
      ]
     },
     "execution_count": 942,
     "metadata": {},
     "output_type": "execute_result"
    }
   ],
   "source": [
    "np.cumsum(z)[3:]"
   ]
  },
  {
   "cell_type": "code",
   "execution_count": 943,
   "metadata": {},
   "outputs": [
    {
     "data": {
      "text/plain": [
       "array([ 8, 16, 19, 26, 33, 33, 37])"
      ]
     },
     "execution_count": 943,
     "metadata": {},
     "output_type": "execute_result"
    }
   ],
   "source": [
    "np.cumsum(z)[:-3]"
   ]
  },
  {
   "cell_type": "code",
   "execution_count": 948,
   "metadata": {},
   "outputs": [],
   "source": [
    "#np.convolve(z, np.ones(3)/3, mode='valid')"
   ]
  },
  {
   "cell_type": "code",
   "execution_count": 952,
   "metadata": {},
   "outputs": [],
   "source": [
    "#68. Create a numpy array of length 10, starting from 5 and has a step of 3 between consecutive numbers\n",
    "l=10\n",
    "sr=5\n",
    "st=3"
   ]
  },
  {
   "cell_type": "code",
   "execution_count": 969,
   "metadata": {},
   "outputs": [
    {
     "data": {
      "text/plain": [
       "array([ 5,  8, 11, 14, 17, 20, 23, 26, 29, 32])"
      ]
     },
     "execution_count": 969,
     "metadata": {},
     "output_type": "execute_result"
    }
   ],
   "source": [
    "np.arange(sr,sr + st*l, st)"
   ]
  },
  {
   "cell_type": "code",
   "execution_count": 971,
   "metadata": {},
   "outputs": [],
   "source": [
    "#69. Given an array of a non-continuous sequence of dates. \n",
    "#Make it a continuous sequence of dates, by filling in the missing dates."
   ]
  },
  {
   "cell_type": "code",
   "execution_count": 978,
   "metadata": {},
   "outputs": [
    {
     "name": "stdout",
     "output_type": "stream",
     "text": [
      "['2018-02-01' '2018-02-03' '2018-02-05' '2018-02-07' '2018-02-09'\n",
      " '2018-02-11' '2018-02-13' '2018-02-15' '2018-02-17' '2018-02-19'\n",
      " '2018-02-21' '2018-02-23']\n"
     ]
    }
   ],
   "source": [
    "dates = np.arange(np.datetime64('2018-02-01'), np.datetime64('2018-02-25'), 2)\n",
    "print(dates)\n",
    "#> ['2018-02-01' '2018-02-03' '2018-02-05' '2018-02-07' '2018-02-09'\n",
    "#>  '2018-02-11' '2018-02-13' '2018-02-15' '2018-02-17' '2018-02-19'\n",
    "#>  '2018-02-21' '2018-02-23']"
   ]
  },
  {
   "cell_type": "code",
   "execution_count": 1030,
   "metadata": {},
   "outputs": [],
   "source": [
    "out_date = np.array([]).astype(np.datetime64)\n",
    "for i, j in zip(dates,np.diff(dates)-1):\n",
    "    out_date = np.append(out_date, i)\n",
    "    out_date = np.append(out_date, i+j)\n",
    "out_date = np.append(out_date, dates[-1])"
   ]
  },
  {
   "cell_type": "code",
   "execution_count": 1031,
   "metadata": {},
   "outputs": [
    {
     "data": {
      "text/plain": [
       "array(['2018-02-01', '2018-02-02', '2018-02-03', '2018-02-04',\n",
       "       '2018-02-05', '2018-02-06', '2018-02-07', '2018-02-08',\n",
       "       '2018-02-09', '2018-02-10', '2018-02-11', '2018-02-12',\n",
       "       '2018-02-13', '2018-02-14', '2018-02-15', '2018-02-16',\n",
       "       '2018-02-17', '2018-02-18', '2018-02-19', '2018-02-20',\n",
       "       '2018-02-21', '2018-02-22', '2018-02-23'], dtype='datetime64[D]')"
      ]
     },
     "execution_count": 1031,
     "metadata": {},
     "output_type": "execute_result"
    }
   ],
   "source": [
    "out_date"
   ]
  },
  {
   "cell_type": "code",
   "execution_count": 1038,
   "metadata": {},
   "outputs": [
    {
     "data": {
      "text/plain": [
       "array([ 0,  1,  2,  3,  4,  5,  6,  7,  8,  9, 10, 11, 12, 13, 14])"
      ]
     },
     "execution_count": 1038,
     "metadata": {},
     "output_type": "execute_result"
    }
   ],
   "source": [
    "#70. From the given 1d array arr, generate a 2d matrix using strides, \n",
    "#with a window length of 4 and strides of 2, like [[0,1,2,3], [2,3,4,5], [4,5,6,7]..]\n",
    "arr = np.arange(15) \n",
    "arr\n",
    "#> [[ 0  1  2  3]\n",
    "#>  [ 2  3  4  5]\n",
    "#>  [ 4  5  6  7]\n",
    "#>  [ 6  7  8  9]\n",
    "#>  [ 8  9 10 11]\n",
    "#>  [10 11 12 13]]"
   ]
  },
  {
   "cell_type": "code",
   "execution_count": 1141,
   "metadata": {},
   "outputs": [],
   "source": [
    "def gen_2d_arr(length = 4, step = 2, array = arr):\n",
    "    for idx, a in enumerate(arr):\n",
    "        if idx == 0:\n",
    "            arr_out = arr[idx:length]\n",
    "        elif idx%step ==0:\n",
    "            if arr[idx:idx+length].shape[0] == length:\n",
    "                arr_out = np.vstack([arr_out,arr[idx:idx+length]])\n",
    "    return arr_out"
   ]
  },
  {
   "cell_type": "code",
   "execution_count": 1152,
   "metadata": {},
   "outputs": [
    {
     "data": {
      "text/plain": [
       "array([[ 0,  1,  2,  3],\n",
       "       [ 2,  3,  4,  5],\n",
       "       [ 4,  5,  6,  7],\n",
       "       [ 6,  7,  8,  9],\n",
       "       [ 8,  9, 10, 11],\n",
       "       [10, 11, 12, 13]])"
      ]
     },
     "execution_count": 1152,
     "metadata": {},
     "output_type": "execute_result"
    }
   ],
   "source": [
    "gen_2d_arr()"
   ]
  },
  {
   "cell_type": "code",
   "execution_count": 1150,
   "metadata": {
    "collapsed": true
   },
   "outputs": [
    {
     "data": {
      "text/plain": [
       "array([[ 0,  1,  2,  3],\n",
       "       [ 1,  2,  3,  4],\n",
       "       [ 2,  3,  4,  5],\n",
       "       [ 3,  4,  5,  6],\n",
       "       [ 4,  5,  6,  7],\n",
       "       [ 5,  6,  7,  8],\n",
       "       [ 6,  7,  8,  9],\n",
       "       [ 7,  8,  9, 10],\n",
       "       [ 8,  9, 10, 11],\n",
       "       [ 9, 10, 11, 12],\n",
       "       [10, 11, 12, 13],\n",
       "       [11, 12, 13, 14]])"
      ]
     },
     "execution_count": 1150,
     "metadata": {},
     "output_type": "execute_result"
    }
   ],
   "source": [
    "gen_2d_arr(4,1,arr)"
   ]
  },
  {
   "cell_type": "code",
   "execution_count": 1164,
   "metadata": {},
   "outputs": [],
   "source": [
    "def gen_strides(a, stride_len=5, window_len=5):\n",
    "    n_strides = ((a.size-window_len)//stride_len) + 1\n",
    "    # return np.array([a[s:(s+window_len)] for s in np.arange(0, a.size, stride_len)[:n_strides]])\n",
    "    return np.array([a[s:(s+window_len)] for s in np.arange(0, n_strides*stride_len, stride_len)])"
   ]
  },
  {
   "cell_type": "code",
   "execution_count": null,
   "metadata": {},
   "outputs": [],
   "source": []
  }
 ],
 "metadata": {
  "kernelspec": {
   "display_name": "Python 3",
   "language": "python",
   "name": "python3"
  },
  "language_info": {
   "codemirror_mode": {
    "name": "ipython",
    "version": 3
   },
   "file_extension": ".py",
   "mimetype": "text/x-python",
   "name": "python",
   "nbconvert_exporter": "python",
   "pygments_lexer": "ipython3",
   "version": "3.7.6"
  }
 },
 "nbformat": 4,
 "nbformat_minor": 4
}
