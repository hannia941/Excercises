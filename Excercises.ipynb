{
 "cells": [
  {
   "cell_type": "code",
   "execution_count": null,
   "metadata": {},
   "outputs": [],
   "source": [
    "#Excercises from https://www.practicepython.org/"
   ]
  },
  {
   "cell_type": "code",
   "execution_count": 2,
   "metadata": {},
   "outputs": [],
   "source": [
    "#Exercise 1\n",
    "#Create a program that asks the user to enter their name and their age.\n",
    "#Print out a message addressed to them that tells them the year that they will turn 100 years old."
   ]
  },
  {
   "cell_type": "code",
   "execution_count": 10,
   "metadata": {},
   "outputs": [
    {
     "name": "stdout",
     "output_type": "stream",
     "text": [
      "What is your name?: Hanna\n",
      "What is your age?: 25\n",
      "Hanna will be 100 years old in 2095\n"
     ]
    }
   ],
   "source": [
    "name = input(\"What is your name?: \")\n",
    "age = int(input(\"What is your age?: \"))\n",
    "age_in_100 = (2020 - age) +100\n",
    "print(name + \" will be 100 years old in \" +  str(age_in_100))"
   ]
  },
  {
   "cell_type": "code",
   "execution_count": 11,
   "metadata": {},
   "outputs": [],
   "source": [
    "#Exercise 2\n",
    "#Ask the user for a number. \n",
    "#Depending on whether the number is even or odd, print out an appropriate message to the user."
   ]
  },
  {
   "cell_type": "code",
   "execution_count": 18,
   "metadata": {},
   "outputs": [
    {
     "name": "stdout",
     "output_type": "stream",
     "text": [
      "Please put num in: 7\n",
      "Your number is odd\n"
     ]
    }
   ],
   "source": [
    "number = input(\"Please put num in: \")\n",
    "def is_even_odd(number):\n",
    "    if int(number) % 2 == 0:\n",
    "        print(\"Your number is even\")\n",
    "    else:\n",
    "        print(\"Your number is odd\")\n",
    "is_even_odd(number)"
   ]
  },
  {
   "cell_type": "code",
   "execution_count": 68,
   "metadata": {},
   "outputs": [],
   "source": [
    "#Exercise 3 (and Solution)\n",
    "#Take a list, say for example this one: a = 1 1 2 3 5 8 13 21 34 55 89\n",
    "#and write a program that prints out all the elements of the list that are less than 5."
   ]
  },
  {
   "cell_type": "code",
   "execution_count": 119,
   "metadata": {},
   "outputs": [
    {
     "name": "stdout",
     "output_type": "stream",
     "text": [
      "Please put your list here divided by spaces: 1 1 2 3 5 8 13 21 34 55 89\n",
      "[1, 1, 2, 3]\n"
     ]
    }
   ],
   "source": [
    "list_1 = list(map(int, input(\"Please put your list here divided by spaces: \").strip().split()))\n",
    "def is_less_5(list_input):\n",
    "    list_final = []\n",
    "    list_input = list(list_input)\n",
    "    for i in range(0,len(list_input)):\n",
    "        if list_input[i] < 5:\n",
    "            list_final.append(int(list_input[i]))\n",
    "    print(list_final)\n",
    "is_less_5(list_1)"
   ]
  },
  {
   "cell_type": "code",
   "execution_count": null,
   "metadata": {},
   "outputs": [],
   "source": [
    "#Exercise 4\n",
    "#Create a program that asks the user for a number and then prints out a list of all the divisors of that number. \n",
    "#(If you don’t know what a divisor is, it is a number that divides evenly into another number. \n",
    "#For example, 13 is a divisor of 26 because 26 / 13 has no remainder.)"
   ]
  },
  {
   "cell_type": "code",
   "execution_count": 118,
   "metadata": {},
   "outputs": [
    {
     "name": "stdout",
     "output_type": "stream",
     "text": [
      "Please state a number: 18\n",
      "[1, 2, 3, 6, 9, 18]\n"
     ]
    }
   ],
   "source": [
    "number_input = int(input(\"Please state a number: \"))\n",
    "def divisor(number_input):\n",
    "    divisor_output = []\n",
    "    for i in range(1, number_input + 1):\n",
    "        if number_input % i == 0:\n",
    "            divisor_output.append(i)\n",
    "    print(divisor_output)\n",
    "divisor(number_input)"
   ]
  },
  {
   "cell_type": "code",
   "execution_count": 103,
   "metadata": {},
   "outputs": [],
   "source": [
    "#Exercise 5\n",
    "#Take two lists, say for example these two:\n",
    "a = [1, 1, 2, 3, 5, 8, 13, 21, 9, 55, 89]\n",
    "b = [1, 2, 3, 4, 5, 6, 7, 8, 9, 10, 11, 12, 13]\n",
    "#and write a program that returns a list that contains only the elements that are common between the lists \n",
    "#(without duplicates). Make sure your program works on two lists of different sizes."
   ]
  },
  {
   "cell_type": "code",
   "execution_count": 104,
   "metadata": {},
   "outputs": [],
   "source": [
    "def common_num(a,b):\n",
    "    common_list = []\n",
    "    for i in range(0, len(a)):\n",
    "        for j in range(0, len(b)): #EDIT: double lists are not necessary! examples below\n",
    "            if a[i] == b[j] :\n",
    "                common_list.append(b[j])\n",
    "    common_list = list(set(common_list))\n",
    "    print(common_list)"
   ]
  },
  {
   "cell_type": "code",
   "execution_count": 105,
   "metadata": {},
   "outputs": [
    {
     "name": "stdout",
     "output_type": "stream",
     "text": [
      "[1, 2, 3, 5, 8, 9, 13]\n"
     ]
    }
   ],
   "source": [
    "common_num(a,b)"
   ]
  },
  {
   "cell_type": "code",
   "execution_count": 114,
   "metadata": {},
   "outputs": [
    {
     "name": "stdout",
     "output_type": "stream",
     "text": [
      "Please write a word: turruT\n"
     ]
    },
    {
     "data": {
      "text/plain": [
       "True"
      ]
     },
     "execution_count": 114,
     "metadata": {},
     "output_type": "execute_result"
    }
   ],
   "source": [
    "#Exercise 6\n",
    "#Ask the user for a string and print out whether this string is a palindrome or not. \n",
    "#(A palindrome is a string that reads the same forwards and backwards.)\n",
    "word = str(input(\"Please write a word: \"))\n",
    "def is_pal(word):\n",
    "    word = word.lower()\n",
    "    k=0\n",
    "    for i in range(0, len(word)):\n",
    "        if word[i] == word[len(word)- 1 - i ]:\n",
    "            k+=1\n",
    "        if k == len(word):\n",
    "            return True\n",
    "    return False\n",
    "is_pal(word)"
   ]
  },
  {
   "cell_type": "code",
   "execution_count": 115,
   "metadata": {},
   "outputs": [],
   "source": [
    "#Exercise 7\n",
    "#Let’s say I give you a list saved in a variable: \n",
    "a = [1, 4, 9, 16, 25, 36, 49, 64, 81, 100]\n",
    "#Write one line of Python that takes this list a and makes a new list that has only \n",
    "#the even elements of this list in it."
   ]
  },
  {
   "cell_type": "code",
   "execution_count": 117,
   "metadata": {},
   "outputs": [
    {
     "name": "stdout",
     "output_type": "stream",
     "text": [
      "[4, 16, 36, 64, 100]\n"
     ]
    }
   ],
   "source": [
    "def only_even(list):\n",
    "    list_out = []\n",
    "    for i in range(0,len(list)):\n",
    "        if list[i] % 2 ==0:\n",
    "            list_out.append(list[i])\n",
    "    print(list_out)\n",
    "only_even(a)"
   ]
  },
  {
   "cell_type": "code",
   "execution_count": 120,
   "metadata": {},
   "outputs": [],
   "source": [
    "#Exercise 8 (and Solution)\n",
    "#Make a two-player Rock-Paper-Scissors game. (Hint: Ask for player plays (using input), \n",
    "#compare them, print out a message of congratulations to the winner, and ask if the players want to start a new game)"
   ]
  },
  {
   "cell_type": "code",
   "execution_count": 134,
   "metadata": {},
   "outputs": [
    {
     "name": "stdout",
     "output_type": "stream",
     "text": [
      "Please state what you choose divided by space sisscors paper\n",
      "Player 1 has chosen: sisscors\n",
      "Player 2 has chosen: paper\n",
      "Player 1 won! Congrats!\n"
     ]
    }
   ],
   "source": [
    "player_1, player_2 = input(\"Please state what you choose divided by space \").split()\n",
    "print(\"Player 1 has chosen: \" + player_1)\n",
    "print(\"Player 2 has chosen: \" + player_2)\n",
    "def rps_game(player_1, player_2):\n",
    "    if player_1 == player_2:\n",
    "        print(\"That's a tie, play again!\")\n",
    "    if player_1 == 'rock' and player_1 != player_2 :\n",
    "        if player_2 == 'paper':\n",
    "            print(\"Player 2 won! Congrats!\")\n",
    "        if player_2 == 'sisscors':\n",
    "            print(\"Player 1 won! Congrats!\")\n",
    "    elif player_1 == 'paper' and player_1 != player_2 :\n",
    "        if player_2 == 'rock':\n",
    "            print(\"Player 1 won! Congrats!\")\n",
    "        if player_2 == 'sisscors':\n",
    "            print(\"Player 2 won! Congrats!\")\n",
    "    elif player_1 == 'sisscors' and player_1 != player_2 :\n",
    "        if player_2 == 'rock':\n",
    "            print(\"Player 2 won! Congrats!\")\n",
    "        if player_2 == 'paper':\n",
    "            print(\"Player 1 won! Congrats!\")\n",
    "rps_game(player_1, player_2)"
   ]
  },
  {
   "cell_type": "code",
   "execution_count": 168,
   "metadata": {},
   "outputs": [
    {
     "name": "stdout",
     "output_type": "stream",
     "text": [
      "7\n"
     ]
    }
   ],
   "source": [
    "#Exercise 9\n",
    "#Generate a random number between 1 and 9 (including 1 and 9). Ask the user to guess the number, \n",
    "#then tell them whether they guessed too low, too high, or exactly right.\n",
    "import random\n",
    "guess = 0\n",
    "number = random.randint(1,9) \n",
    "print(number)"
   ]
  },
  {
   "cell_type": "code",
   "execution_count": 170,
   "metadata": {},
   "outputs": [
    {
     "name": "stdout",
     "output_type": "stream",
     "text": [
      "Please guess a number between 1 and 9: 4\n",
      "Your number is lower. Try again.\n",
      "Please guess a number between 1 and 9: 6\n",
      "Your number is lower. Try again.\n",
      "Please guess a number between 1 and 9: 9\n",
      "Your number is higher. Try again\n",
      "Please guess a number between 1 and 9: 7\n",
      "You guessed it.Congrats!\n"
     ]
    }
   ],
   "source": [
    "def your_guess(guess):\n",
    "    if guess > number:\n",
    "        print(\"Your number is higher. Try again\")\n",
    "    if guess < number:\n",
    "        print(\"Your number is lower. Try again.\")\n",
    "    if guess == number:\n",
    "        print(\"You guessed it.Congrats!\")\n",
    "        guess = \"exit\"\n",
    "while (guess != number and guess != \"exit\"):\n",
    "    guess = int(input(\"Please guess a number between 1 and 9: \"))\n",
    "    your_guess(guess)"
   ]
  },
  {
   "cell_type": "code",
   "execution_count": 197,
   "metadata": {},
   "outputs": [
    {
     "name": "stdout",
     "output_type": "stream",
     "text": [
      "[0, 1, 2, 3, 4, 5, 6, 7, 8, 9]\n"
     ]
    }
   ],
   "source": [
    "#Exercise 10\n",
    "#This week’s exercise is going to be revisiting an old exercise (see Exercise 5), \n",
    "#except require the solution in a different way.\n",
    "#Write a program that returns a list that contains only the elements that are common between the lists \n",
    "#(without duplicates). Make sure your program works on two lists of different sizes. \n",
    "#Randomly generate two lists to test this\n",
    "import random\n",
    "list_a = random.sample(range(0,10), 10)\n",
    "list_b = random.sample(range(0,12), 12)\n",
    "result = [i for i in list_a if i in list_b]\n",
    "result = list(set(result))\n",
    "print(result)"
   ]
  },
  {
   "cell_type": "code",
   "execution_count": 226,
   "metadata": {},
   "outputs": [
    {
     "name": "stdout",
     "output_type": "stream",
     "text": [
      "11\n"
     ]
    },
    {
     "data": {
      "text/plain": [
       "True"
      ]
     },
     "execution_count": 226,
     "metadata": {},
     "output_type": "execute_result"
    }
   ],
   "source": [
    "#Exercise 11\n",
    "#Ask the user for a number and determine whether the number is prime or not. \n",
    "#(For those who have forgotten, a prime number is a number that has no divisors.)\n",
    "number = random.randint(1,20)\n",
    "def is_prime(number):\n",
    "    if number == 1:\n",
    "        return False\n",
    "    list_temp = list(range(1,number+1))\n",
    "    for i in range(0,len(list_temp)):\n",
    "        if list_temp[i] != 1 and number != list_temp[i]:\n",
    "            if number % list_temp[i] == 0:\n",
    "                return False\n",
    "    return True\n",
    "print(number)\n",
    "is_prime(number)"
   ]
  },
  {
   "cell_type": "code",
   "execution_count": 232,
   "metadata": {},
   "outputs": [],
   "source": [
    "#Exercise 12\n",
    "#Write a program that takes a list of numbers, for example \n",
    "a = [5, 10, 15, 20, 25]\n",
    "#and makes a new list of only the first and last elements of the given list. \n",
    "#For practice, write this code inside a function."
   ]
  },
  {
   "cell_type": "code",
   "execution_count": 233,
   "metadata": {},
   "outputs": [
    {
     "data": {
      "text/plain": [
       "[5, 25]"
      ]
     },
     "execution_count": 233,
     "metadata": {},
     "output_type": "execute_result"
    }
   ],
   "source": [
    "def create_list(list_a):\n",
    "    return [list_a[0], list_a[len(list_a)-1]]\n",
    "create_list(a)"
   ]
  },
  {
   "cell_type": "code",
   "execution_count": null,
   "metadata": {},
   "outputs": [],
   "source": [
    "#Exercise 13\n",
    "#Write a program that asks the user how many Fibonnaci numbers to generate and then generates them. \n",
    "#Make sure to ask the user to enter the number of numbers in the sequence to generate.\n",
    "#(Hint: The Fibonnaci seqence is a sequence of numbers where the next number in the sequence \n",
    "#is the sum of the previous two numbers in the sequence. The sequence looks like this: 1, 1, 2, 3, 5, 8, 13, …)"
   ]
  },
  {
   "cell_type": "code",
   "execution_count": 239,
   "metadata": {},
   "outputs": [
    {
     "data": {
      "text/plain": [
       "[1, 1, 2, 3, 5, 8]"
      ]
     },
     "execution_count": 239,
     "metadata": {},
     "output_type": "execute_result"
    }
   ],
   "source": [
    "n = 6\n",
    "def how_many_Fib(n):\n",
    "    if n == 0:\n",
    "        return []\n",
    "    elif n == 1:\n",
    "        return [1]\n",
    "    elif n == 2:\n",
    "        return [1,1]\n",
    "    else:\n",
    "        i = 1\n",
    "        list_f = [1,1]\n",
    "        while (i < n-1):\n",
    "            list_f.append(list_f[i] + list_f[i-1])\n",
    "            i += 1\n",
    "        return list_f\n",
    "            \n",
    "how_many_Fib(n)"
   ]
  },
  {
   "cell_type": "code",
   "execution_count": null,
   "metadata": {},
   "outputs": [],
   "source": [
    "#Exercise 14\n",
    "#Write a program (function!) that takes a list and returns a new list that contains all \n",
    "#the elements of the first list minus all the duplicates."
   ]
  },
  {
   "cell_type": "code",
   "execution_count": 246,
   "metadata": {},
   "outputs": [],
   "source": [
    "a = [1, 1, 8, 3, 5, 8, 13, 21, 34, 89, 89]"
   ]
  },
  {
   "cell_type": "code",
   "execution_count": 247,
   "metadata": {},
   "outputs": [
    {
     "data": {
      "text/plain": [
       "[1, 8, 3, 5, 13, 21, 34, 89]"
      ]
     },
     "execution_count": 247,
     "metadata": {},
     "output_type": "execute_result"
    }
   ],
   "source": [
    "def list_wo_dup(list_a):\n",
    "    list_b = []\n",
    "    for i in list_a:\n",
    "        if i not in list_b:\n",
    "            list_b.append(i)\n",
    "    return list_b\n",
    "list_wo_dup(a)"
   ]
  },
  {
   "cell_type": "code",
   "execution_count": 248,
   "metadata": {},
   "outputs": [],
   "source": [
    "#Exercise 15\n",
    "#Write a program (using functions!) that asks the user for a long string containing multiple words. \n",
    "#Print back to the user the same string, except with the words in backwards order. \n",
    "#For example, say I type the string: My name is Michele => Michele is name My"
   ]
  },
  {
   "cell_type": "code",
   "execution_count": 276,
   "metadata": {},
   "outputs": [
    {
     "data": {
      "text/plain": [
       "'Michele is name My'"
      ]
     },
     "execution_count": 276,
     "metadata": {},
     "output_type": "execute_result"
    }
   ],
   "source": [
    "word = 'My name is Michele'\n",
    "def reverse_word(word):\n",
    "    list_word = word.split()\n",
    "    list_word_back = []\n",
    "    word_back = ''\n",
    "    for i in range(0, len(list_word)):\n",
    "        list_word_back.append(list_word[len(list_word)-1-i])\n",
    "    for i in list_word_back:\n",
    "        word_back = word_back + \" \" + str(i)\n",
    "    word_back = word_back.strip()\n",
    "    return word_back  \n",
    "reverse_word(word)"
   ]
  },
  {
   "cell_type": "code",
   "execution_count": 304,
   "metadata": {},
   "outputs": [
    {
     "data": {
      "text/plain": [
       "'Michele is name My'"
      ]
     },
     "execution_count": 304,
     "metadata": {},
     "output_type": "execute_result"
    }
   ],
   "source": [
    "#easy way!\n",
    "word = 'My name is Michele'\n",
    "' '.join(word.split()[::-1]) \n",
    "#or\n",
    "word = 'My name is Michele'\n",
    "' '.join(reversed(word.split()))"
   ]
  },
  {
   "cell_type": "code",
   "execution_count": null,
   "metadata": {},
   "outputs": [],
   "source": [
    "#Exercise 16\n",
    "#Write a password generator in Python. Be creative with how you generate passwords - \n",
    "#strong passwords have a mix of lowercase letters, uppercase letters, numbers, and symbols. \n",
    "#The passwords should be random, generating a new password every time the user asks for a new password. \n",
    "#Include your code in a main method.\n",
    "#Extra: Ask the user how strong they want their password to be. For weak passwords, pick a word or two from a list."
   ]
  },
  {
   "cell_type": "code",
   "execution_count": 328,
   "metadata": {},
   "outputs": [
    {
     "name": "stdout",
     "output_type": "stream",
     "text": [
      "How strong do you want your password to be? weak, medium, strong : strong\n",
      "How many characters do you want your password to have?: 10\n"
     ]
    },
    {
     "data": {
      "text/plain": [
       "\"JKd|'q>m*3\""
      ]
     },
     "execution_count": 328,
     "metadata": {},
     "output_type": "execute_result"
    }
   ],
   "source": [
    "import string\n",
    "password_type = str(input(\"How strong do you want your password to be? weak, medium, strong : \"))\n",
    "num = int(input(\"How many characters do you want your password to have?: \"))\n",
    "def create_password(password_type, num):\n",
    "    base = ''\n",
    "    if password_type == 'weak':\n",
    "        base = string.ascii_letters\n",
    "    if password_type == 'medium':\n",
    "        base = string.ascii_letters + string.digits \n",
    "    if password_type == 'strong':\n",
    "        base = string.ascii_letters + string.digits + string.punctuation\n",
    "    return ''.join(random.sample(base,num))\n",
    "create_password(password_type, num)"
   ]
  },
  {
   "cell_type": "code",
   "execution_count": 400,
   "metadata": {},
   "outputs": [
    {
     "data": {
      "text/plain": [
       "['Trump Will Withdraw U.S. From Another Major Arms Accord',\n",
       " 'These Labs Rushed to Test for the Coronavirus. They Had Few Takers.',\n",
       " 'One Beach’s Summer Virus Plan: 197 Groups in Zones 18-Feet Square']"
      ]
     },
     "execution_count": 400,
     "metadata": {},
     "output_type": "execute_result"
    }
   ],
   "source": [
    "#Exercise 17\n",
    "#Use the BeautifulSoup and requests Python packages to print out a list of some of the article titles\n",
    "#on the New York Times homepage.\n",
    "import re\n",
    "import requests\n",
    "from bs4 import BeautifulSoup\n",
    "html = requests.get('https://www.nytimes.com/')\n",
    "soup = BeautifulSoup(html.text)\n",
    "soup = soup.find_all(class_=\"css-1vvhd4r esl82me0\")\n",
    "result = []\n",
    "result_final = []\n",
    "for sp in soup:\n",
    "    result.extend(sp.find_all('span'))\n",
    "for i in range(0, len(result)):\n",
    "    clean = re.compile('<.*?>')\n",
    "    result_final.append(re.sub(clean, '', str(result[i])))\n",
    "result_final"
   ]
  },
  {
   "cell_type": "code",
   "execution_count": 401,
   "metadata": {},
   "outputs": [],
   "source": [
    "#Exercise 18\n",
    "#Create a program that will play the “cows and bulls” game with the user. The game works like this:\n",
    "#Randomly generate a 4-digit number. Ask the user to guess a 4-digit number. \n",
    "#For every digit that the user guessed correctly in the correct place, they have a “cow”. \n",
    "#For every digit the user guessed correctly in the wrong place is a “bull.” \n",
    "#Every time the user makes a guess, tell them how many “cows” and “bulls” they have. \n",
    "#Once the user guesses the correct number, the game is over. \n",
    "#Keep track of the number of guesses the user makes throughout teh game and tell the user at the end."
   ]
  },
  {
   "cell_type": "code",
   "execution_count": 410,
   "metadata": {},
   "outputs": [],
   "source": [
    "import random\n",
    "number = str(random.randint(1000,9999))"
   ]
  },
  {
   "cell_type": "code",
   "execution_count": 411,
   "metadata": {},
   "outputs": [
    {
     "data": {
      "text/plain": [
       "'8271'"
      ]
     },
     "execution_count": 411,
     "metadata": {},
     "output_type": "execute_result"
    }
   ],
   "source": [
    "number"
   ]
  },
  {
   "cell_type": "code",
   "execution_count": 415,
   "metadata": {},
   "outputs": [
    {
     "name": "stdout",
     "output_type": "stream",
     "text": [
      "Please guess the 4-digit number: 8721\n",
      "Cows: 2, Bulls: 2\n",
      "Please guess the 4-digit number: 1728\n",
      "Cows: 0, Bulls: 4\n",
      "Please guess the 4-digit number: 8271\n",
      "You have guessed the number!\n"
     ]
    }
   ],
   "source": [
    "guess = \"\"\n",
    "def check_guess(guess):\n",
    "    cows = 0\n",
    "    bulls = 0\n",
    "    if guess == number:\n",
    "        print(\"You have guessed the number!\")\n",
    "        guess = \"exit\"\n",
    "    else:\n",
    "        for i in range(0,4):\n",
    "            if number[i] == guess[i]:\n",
    "                cows += 1\n",
    "            else:\n",
    "                for j in range(0,4):\n",
    "                    if number[i] == guess[j]:\n",
    "                        bulls +=1\n",
    "        print(\"Cows: \" + str(cows) + \", Bulls: \" + str(bulls))\n",
    "while (guess != number and guess != \"exit\" ) : \n",
    "    guess = str(input(\"Please guess the 4-digit number: \"))\n",
    "    check_guess(guess)    "
   ]
  },
  {
   "cell_type": "code",
   "execution_count": 613,
   "metadata": {},
   "outputs": [
    {
     "name": "stdout",
     "output_type": "stream",
     "text": [
      "‘How does it feel to be America’s premier blow-job queen?”It was early 2001. I was sitting on the stage of New York’s Cooper Union in the middle of taping a Q&A for an HBO documentary. I was the subject. And I was thunderstruck.Hundreds of people in the audience, mostly students, were staring at me, many with their mouths agape, wondering if I would dare to answer this question.The main reason I had agreed to participate in the program was not to rehash or revise the story line of Interngate but to try to shift the focus to meaningful issues. Many troubling political and judicial questions had been brought to light by the investigation and impeachment of President Bill Clinton. But the most egregious had been generally ignored. People seemed indifferent to the deeper matters at hand, such as the erosion of private life in the public sphere, the balance of power and gender inequality in politics and media, and the erosion of legal protections to ensure that neither a parent nor a child should ever have to testify against each other.How naïve I was.There were gasps and sputters from the audience. Numerous blurred, faceless people called out, “Don’t answer it!”“It’s hurtful and it’s insulting,” I said, attempting to gather my wits. “And as insulting as it is to me, it’s even more insulting to my family. I don’t actually know why this whole story became about oral sex. I don’t. It was a mutual relationship.… The fact that it did is maybe a result of a male-dominated society.”The audience laughed. Maybe they were surprised to hear these words coming from me.I looked straight at the smirking guy who had asked the question. “You might be better poised to answer that.” After a pause, I added, “That’s probably cost me another year of therapy.”You could argue that in agreeing to participate in an HBO documentary calledMonica in Black and WhiteI had signed up to be shamed and publicly humiliated yet again. You might even think I would have been inured to humiliation. This encounter at Cooper Union, after all, paled in comparison with the 445-page Starr Report, which was the culmination of independent counsel Kenneth Starr’s four-year investigation of the Clinton White House. It included chapter and verse about my intimate sexual activities, along with transcripts of audiotapes that chronicled many of my private conversations. But the “B.J. Queen” question—which was included in the show when it aired on HBO in 2002—sat with me for a long time after the audience left and the taping wrapped.True, this wasn’t the first time I’d been stigmatized for my affair with Bill Clinton. But never had I been so directly confronted, one-on-one, with such a crass characterization. One of the unintended consequences of my agreeing to put myself out there and to try to tell the truth had been that shame would once again be hung around my neck like a scarlet-Aalbatross. Believe me, once it’s on, it is a bitch to take off.Had that awkward moment at Cooper Union aired only a few years later, with the advent of social media, the humiliation would have been even more devastating. That clip would have gone viral on Twitter, YouTube, Facebook, TMZ, Gawker. It would have become a meme of its own on Tumblr. The viralness itself would have merited mention on the Daily Beast and Huffington Post. As it was, it was viral enough, and, thanks to the all-encompassing nature of the Web, you can, 12 years later, watch it all day long on YouTube if you want to (but I really hope you have better things to do with your time).I know I’m not alone when it comes to public humiliation. No one, it seems, can escape the unforgiving gaze of the Internet, where gossip, half-truths, and lies take root and fester. We have created, to borrow a term from historian Nicolaus Mills, a “culture of humiliation” that not only encourages and revels in Schadenfreude but also rewards those who humiliate others, from the ranks of the paparazzi to the gossip bloggers, the late-night comedians, and the Web “entrepreneurs” who profit from clandestine videos.Yes, we’re all connected now. We can tweet a revolution in the streets or chronicle achievements large and small. But we’re also caught in a feedback loop of defame and shame, one in which we have become both perps and victims. We may not have become a crueler society—although it sure feels as if we have—but the Internet has seismically shifted the tone of our interactions. The ease, the speed, and the distance that our electronic devices afford us can also make us colder, more glib, and less concerned about the consequences of our pranks and prejudice. Having lived humiliation in the most intimate possible way, I marvel at how willingly we have all signed on to this new way of being.In my own case, each easy click of that YouTube link reinforces the archetype, despite my efforts to parry it away: Me, America’s B.J. Queen. That Intern. That Vixen. Or, in the inescapable phrase of our 42nd president, “That Woman.”It may surprise you to learn that I’m actually a person.In 1998, when news of my affair with Bill Clinton broke, I was arguably the most humiliated person in the world. Thanks to the Drudge Report, I was also possibly the first person whose global humiliation was driven by the Internet.For several years I tried my hand in the fashion-accessory business and became involved in various media projects, including the HBO documentary. Then I lay low for the most part. (The last major interview I granted was 10 years ago.) After all, not lying low had exposed me to criticism for trying to “capitalize” on my “notoriety.” Apparently, others talking about me is O.K.; me speaking out for myself is not. I turned down offers that would have earned me more than $10 million, because they didn’t feel like the right thing to do. Over time, the media circus quieted down, but it never quite moved on, even as I attempted to move on.Meanwhile, I watched my friends’ lives move forward. Marriages. Kids. Degrees. (Second marriages. More kids. More degrees.) I decided to turn over a new leaf and attend grad school.I moved to England to study, to challenge myself, to escape scrutiny, and to reimagine my identity. My professors and fellow students at the London School of Economics were wonderful—welcoming and respectful. I had more anonymity in London, perhaps due to the fact that I spent most of my waking hours in class or buried in the library. In 2006, I graduated with a master’s in social psychology. My master’s thesis examined social bias in the courtroom and was titled “In Search of the Impartial Juror: An Exploration of Pretrial Publicity and the Third Person Effect.” I liked to joke that I was trading the blue dress for blue stockings, and the degree provided new scaffolding to hang my life experiences on. It would also prove, so I hoped, to be a gateway to a more normal life.I moved between London, Los Angeles, New York, and Portland, Oregon, interviewing for a variety of jobs that fell under the umbrella of “creative communication” and “branding,” with an emphasis on charity campaigns. Yet, because of what potential employers so tactfully referred to as my “history,” I was never “quite right” for the position. In some cases, I was right for all the wrong reasons, as in “Of course, your job would require you to attend our events.” And,of course,these would be events at which press would be in attendance.In one promising job interview that took place during the run-up to the 2008 primary season, the conversation took an interesting turn. “So here’s the thing, Monica,” the interviewer said. “You’re clearly a bright young woman and affable, but for us—and probably any other organization that relies on grants and other government funding—it’s risky. We would first need a Letter of Indemnification from the Clintons. After all, there is a 25 percent chance that Mrs. Clinton will be the next president.” I gave a fake smile and said, “I understand.”Another job interview, this one typical: walked into the stark, terminally cool reception area of a hip-yet-prestigious advertising agency in Los Angeles, my hometown. As always, I put on my best “I’m friendly, not a diva” smile. “Hi. Monica Lewinsky here to see So-and-So.”The twentysomething receptionist pushed her black-rimmed hipster frames up her nose. “Monicawho?”Before I could answer, another twentysomething, in skinny jeans, plaid shirt, and bow tie, rushed over and interrupted: “Ms. Lewinsky.” Like a maître d’, he continued, “Pleasure to have you here.I’ll let So-and-So know you’ve arrived. Soy latte? Green tea? Filtered water?”I found myself sitting at a small round table, face-to-face with So-and-So, the agency’s head of strategy and planning. We talked. She kept wincing. This was not going well. I tried to keep myself from getting flustered. Now she was not only wincing but also clearing her throat. Was that perspiration on her brow? It hit me:shewas nervous, in full-tic mode.I’ve had to become adept at handling any number of reactions in social situations and job interviews. I get it: it must be disconcerting to sit across from “That Woman.” Needless to say, I didn’t get the position.I eventually came to realize that traditional employment might not be an option for me. I’ve managed to get by (barely, at times) with my own projects, usually with start-ups that I have participated in, or with loans from friends and family.In another job interview I was asked, “If you were a brand, which brand would you be?” Let me tell you, when you’re Monica Lewinsky, that is one loaded question.In September of 2010, the culmination of these experiences began to snap into a broader context for me. A phone conversation with my mother shifted the lens through which I viewed my world. We were discussing the tragic death of Tyler Clementi. Tyler, you will recall, was an 18-year-old Rutgers freshman who was secretly streamed via Webcam kissing another man. Days later, after being derided and humiliated on social media, he committed suicide by jumping off the George Washington Bridge.My mom wept. Sobbing, she kept repeating over and over, “How his parents must feel … his poor parents.”It was an unbearably tragic event, and while hearing of it brought me to tears, too, I couldn’t quite grasp why my mom was so distraught. And then it dawned on me: she was reliving 1998, when she wouldn’t let me out of her sight. She was replaying those weeks when she stayed by my bed, night after night, because I, too, was suicidal. The shame, the scorn, and the fear that had been thrown at her daughter left her afraid that I would take my own life—a fear that I would be literally humiliated to death. (I have never actually attempted suicide, but I had strong suicidal temptations several times during the investigations and during one or two periods after.)I would never be so presumptuous as to equate my own story with Tyler Clementi’s. After all, my public humiliation had been the result of my involvement with a world-renowned public figure—that is, a consequence of my own poor choices. But in that moment, when I felt the depths of my mother’s anguish, I wished I could have had a chance to have spoken to Tyler about how my love life, my sex life, my most private moments, my most sensitive secrets, had been broadcast around the globe. I wished I had been able to say to him that I knew a little of how it might have felt for him to be exposed before the world. And, as hard as it is to imagine surviving it, it is possible.In the wake of Tyler’s tragedy, my own suffering took on a different meaning. Perhaps by sharing my story, I reasoned, I might be able to help others in their darkest moments of humiliation. The question became: How do I find and give a purpose to my past? It was my Prufrockian moment: “Do I dare / Disturb the universe?” Or, in my case, the Clinton universe.Despite a decade of self-imposed silence, I have been periodically resuscitated as part of the national conversation, almost always in connection with the Clintons. For instance, in January and February of this year, Rand Paul, the Kentucky senator and a possible 2016 Republican presidential aspirant, managed to drag me into the pre-election muck. He fought back against the Democrats’ charges of a G.O.P. “war on women” by arguing that Bill Clinton had committed workplace “violence” and acted in a “predatory” manner against “a 20-year-old girl who was there from college.”Sure, my boss took advantage of me, but I will always remain firm on this point: it was a consensual relationship. Any “abuse” came in the aftermath, when I was made a scapegoat in order to protect his powerful position.So, trying to disappear has not kept me out of the fray. I am, for better or for worse, presumed to be a known quantity. Every day I am recognized.Every day.Sometimes a person will walk past me again and again, as if I wouldn’t notice. (Thankfully, 99.9 percent of the time when strangers do say something to me they are supportive and respectful.) Every day someone mentions me in a tweet or a blog post, and not altogether kindly. Every day, it seems, my name shows up in an op-ed column or a press clip or two—mentioned in passing in articles on subjects as disparate as millennials,Scandal,and French president François Hollande’s love life. Miley Cyrus references me in her twerking stage act, Eminem raps about me, and Beyoncé’s latest hit gives me a shout-out. Thanks, Beyoncé, but if we’re verbing, I think you meant “Bill Clinton’d all on my gown,” not “Monica Lewinsky’d.”With every man I date (yes,I date!), I go through some degree of 1998 whiplash. I need to be extremely circumspect about what it means to be “public” with someone. In the early years post-impeachment, I once left a front-row seat along the third-base line at a Yankees game when I learned that my date—a guy whose company I thoroughly enjoyed—was actually in another relationship. It was only a green-card marriage, but I freaked that we could be photographed together and someone might call the gossip rags. I’ve become adept at figuring out when men are interested in me for the wrong reason. Thankfully, those have been few and far between. But every man that has been special to me over the past 16 years has helped me find another piece of myself—the self that was shattered in 1998. And so, no matter the heartbreak, tears, or disenchantment, I’ll always be grateful to them.In February of this year, around the same time Senator Paul put me back into the unwanted spotlight, I became the “narcissistic loony toon,” the latest twist on Me as Archetype.A snapshot of a scenario I’ve grown all too accustomed to, even as I attempt to move on with my life: A shrill ring interrupts the rhythms of my day. The call—from the doorman of the apartment building where I’m staying in New York—leads me to an exasperated “What? Again?” They’ve reappeared: the paparazzi, like swallows, have returned to the sidewalk outside, pacing and circling and pacing some more.I hit the computer. Time for a little self-Google. (Oh, dear reader, please do not judge.) My heart sinks. There’s an explosion on Google News. I know what this means. Whatever day I’ve planned has been jettisoned. To leave the house—and risk a photo—only ensures that the story will stay alive.The cameras have returned because of the headlines: a conservative Web site has gone poking around the University of Arkansas archive of one of Hillary Clinton’s closest friends and admirers, Diane Blair, and has unearthed a cache of memos from the 1990s. In some of them, Blair, who died in 2000, quotes the former First Lady about her husband’s relationship with me. Though Hillary, according to Blair’s notes, claimed to find her husband’s “lapse” inexcusable, she praised him for trying to “manage someone who was clearly a ‘narcissistic loony toon.’ ”My first thought, as I was getting up to speed: If that’s theworstthing she said, I should be so lucky. Mrs. Clinton, I read, had supposedly confided to Blair that, in part, she blamedherselffor her husband’s affair (by being emotionally neglectful) and seemed to forgive him. Although she regarded Bill as having engaged in “gross inappropriate behavior,” the affair was, nonetheless, “consensual (was not a power relationship).”I field the usual calls from friends who lend moral support whenever these volcanic media stories erupt. They diffuse the tension with good-natured teasing: “So, are we changing your monogram to NLT?” I try to ignore the former First Lady’s long-buried comments. Given my experiences with Linda Tripp, I know better than anyone what it’s like to have a conversation with a girlfriend exposed and scrutinized, taken out of context. But, even so, it begins to gnaw at me. I realize that Hillary Clinton was—unlike me when Tripp was prying loose my innermost secrets and insecurities and recording them surreptitiously—fully aware of this documentation: she’s the one who, according to the memos, asked Blair to keep a record or diary of their discussions for archival purposes.Yes, I get it. Hillary Clinton wanted it on record that she was lashing out at her husband’s mistress. She may have faulted her husband for being inappropriate, but I find her impulse to blame the Woman—not only me, but herself—troubling. And all too familiar: with every marital indiscretion that finds its way into the public sphere—many of which involve male politicians—it always seems like the woman conveniently takes the fall. Sure, the Anthony Weiners and Eliot Spitzers do what they need to do to look humiliated on cable news. They bow out of public life for a while, but they inevitably return, having put it all behind them. The women in these imbroglios return to lives that are not so easily repaired.But there is another layer here that is making me bristle:Narcissist? Loony?You might remember that just five days before the world had ever heard my name the F.B.I.—after my friend Linda Tripp approached Special Prosecutor Kenneth Starr’s office with information about my affair with the president—entrapped me in a terrifying “sting” in the Pentagon City mall. At age 24, cornered in a hotel room on January 16, 1998, with mainly male interrogators taking orders from Starr, I was discouraged from contacting my attorney and threatened with 27 years in jail for filing an affidavit denying the affair with Clinton, among other alleged crimes. I was offered immunity from that threat if I agreed to place monitored calls and wear a wire in conversations with two of the president’s confidants and possibly the president himself. I refused. Confiding in Linda Tripp turned into an unintended betrayal. But this? The mother of all betrayals. That, I couldn’t do. Courageous or foolish, maybe, but narcissistic and loony?These 16-year-old descriptions of me triggered memories of past anguish, particularly in the area of women lobbing derision at one another. So where, you might be wondering, were the feminists back then?It’s a question that troubles me to this day.I sorely wished for some sign of understanding from the feminist camp. Some good, old-fashioned, girl-on-girl support was much in need. None came. Given the issues at play—gender politics, sex in the workplace—you’d think they would have spoken up. They didn’t. I understood their dilemma: Bill Clinton had been a president “friendly” to women’s causes.It also didn’t help that my case was not one of conventional “sexual harassment”;thatcharge against Bill Clinton had been made by Paula Jones, who brought a colossal lawsuit against him. My name surfaced only because, thanks to newly won advances by feminists, investigations of such cases were now allowed to cast a wider net. The Jones case became a stick that the right wing used to strike back at the Clinton-supporting feminists:Why wouldn’t they enthusiastically support an investigation into a case of sexual harassment? What if the president had been a Republican?Charges of hypocrisy flew.A handful of representatives of the modern feminist movement did chime in, obliquely. Yet, instead of any meaningful engagement, we got this: January 30, 1998. Day Nine of the scandal. Cocktails at Le Bernardin, in Manhattan. In attendance: writers Erica Jong, Nancy Friday, Katie Roiphe, and Elizabeth Benedict;Saturday Night Livewriter Patricia Marx; Marisa Bowe, the editor ofWord,an online magazine; fashion designer Nicole Miller; former dominatrix Susan Shellogg; and their host, Le Bernardin co-owner Maguy Le Coze.The New York Observerbrought this coven together to trade Interngate insights, to be recorded by Francine Prose. (Sadly, the gal who would really make this coven complete is missing: Maureen Dowd, or Moremean Dowdy, as I used to refer to her. Today, I’d meet her for a drink.)Oh, to have been at that cocktail party:Marisa Bowe:His whole life is about having to be in control and really intelligent all the time. And his wife is really intelligent and in control all the time. And the idea of just having stupid sex with some not-brilliant woman in the Oval Office, I can see the appeal in that.Imaginary Me: I’m not saying I’m brilliant, but how do you know I’m not? My first job out of college was at the White House.Susan Shellogg:And do you think it’s tremendously selfish? Selfish and demanding, having oral sex and not reciprocating? I mean … she didn’t say, “Well, you know he satisfied me.”Me: And where exactly “didn’t” I say this? In which public statement that I didn’t make? In which testimony that’s not been released?Katie Roiphe:I think what people are outraged about is the way that [Monica Lewinsky] looks, which is interesting. Because we like to think of our presidents as sort of godlike, and so if J.F.K. has an affair with Marilyn Monroe, it’s all in the realm of the demigods…. I mean, the thing I kept hearing over and over again was Monica Lewinsky’s not that pretty.Me: Well, thanks. The first picture that surfaced was a passport photo. Would you like to have a passport photo splattered across publications around the world as the picture that defines you?What you are also saying here is that the primary quality that would qualify a woman to have an intimate relationship with a powerful man is physical attractiveness. If that’s not setting the movement back, I don’t know what is.Erica Jong:My dental hygienist pointed out that she had third-stage gum disease.Shellogg:What do you think will happen to [her]? I mean, she’ll just fade out quietly or write a book? Or people will forget about her six months from now?Nancy Friday:She can rent out her mouth.Me: (Speechless.)Jong:But, you know, men do like to get close to the mouth that has been close to power. Think of the fantasy in the man’s mind as she’s going down on him and he’s thinking, “Oh my God.”Elizabeth Benedict:Do for me what you did to the President. Do that.Me: (Still speechless.)Jong:I think it’s a tribute to how far we’ve come that we’re not trashing Monica Lewinsky.The catty confab appeared under the headline SUPERGALS LOVE THAT NAUGHTY PREZ. (Writing in Vanity Fair, Marjorie Williamscalled it “the most embarrassing thing I had read in a long time.”) To me, it illustrates a perplexing aspect of the culture of humiliation, one that Phyllis Chesler recognized in her bookWoman’s Inhumanity to Woman:that women themselves are not immune to certain kinds of misogyny. We see it today in how the “mean girls” at school lurk on the modern playground of the Web (or around a pundit’s roundtable on TV or at a French restaurant), ever eager to pile on.I still have deep respect for feminism and am thankful for the great strides the movement has made in advancing women’s rights over the past few decades. But, given my experience of being passed around like gender-politics cocktail food, I don’t identify myself as a Feminist, capitalF.The movement’s leaders failed in articulating a position that was not essentially anti-woman during the witch hunt of 1998. In the case of the New York Supergals, it should not have been that hard for them to swoon over the president without attacking and shaming me. Instead, they joined the humiliation derby.I ,myself, deeply regret what happened between me and President Clinton. Let me say it again: I. Myself. Deeply. Regret. What. Happened. At the time—at least from my point of view—it was an authentic connection, with emotional intimacy, frequent visits, plans made, phone calls and gifts exchanged. In my early 20s, I was too young to understand the real-life consequences, and too young to see that I would be sacrificed for political expediency. I look back now, shake my head in disbelief, and wonder: what was I—what were we—thinking? I would give anything to go back and rewind the tape.Like many other Americans, I’ve been thinking about Hillary Clinton. What might happen, I’ve wondered, if she does run in 2016? And what if she wins—and then wins a second term?But when I think about these matters, there’s a dimension at play for me other than just the fact that we might finally have a woman in the White House. We all remember the second-wave feminist rallying cryThe personal is political.Many people (myself included) proclaimed that my relationship with Bill Clinton was a personal matter, not one to be used in a high-stakes political war. When I hear of Hillary’s prospective candidacy, I cannot help but fear the next wave of paparazzi, the next wave of “Where is she now?” stories, the next reference to me in Fox News’s coverage of the primaries. I’ve begun to find it debilitating to plot out the cycle of my life based, to some degree, on the political calendar. For me, it’s a scenario in which the personal and the political are impossible to separate.In 2008, when Hillary was running for president, I remained virtually reclusive, despite being inundated with press requests. I put off announcing several media projects in 2012 until after the election. (They were subsequently canceled—and, no, I wasn’t offered $12 million for a salacious tell-all book, contrary to press reports.) And recently I’ve found myself gun-shy yet again, fearful of “becoming an issue” should she decide to ramp up her campaign. But should I put my life on hold foranother8 to 10 years?Being a conscientious Democrat—and aware that I could be used as a tool for the left or the right—I have remained silent for 10 years. So silent, in fact, that the buzz in some circles has been that the Clintons must have paid me off; whyelsewould I have refrained from speaking out? I can assure you that nothing could be further from the truth.So why speak now? Because it is time.I turned 40 last year, and it is time to stop tiptoeing around my past—and other people’s futures. I am determined to have a different ending to my story. I’ve decided, finally, to stick my head above the parapet so that I can take back my narrative and give a purpose to my past. (What this will cost me, I will soon find out.) Despite what some headlines will falsely report about this piece, this isnotabout Me versus the Clintons. Their lives have moved on; they occupy important and powerful places on the global stage. I wish them no ill. And I fully understand that what has happened to me and the issue of my future do not matter to either of them.It also goes back to the personal and the political. I have lived many of the questions that have become central to our national discourse since 1998. How far should we allow the government into our bedrooms? How do we reconcile the right to privacy with the need to expose sexual indiscretion? How do we guard against an overzealous government demanding our private data and information? And, most important to me personally, how do we cope with the shame game as it’s played in the Internet Age? (My current goal is to get involved with efforts on behalf of victims of online humiliation and harassment and to start speaking on this topic in public forums.)So far, That Woman has never been able to escape the shadow of that first depiction. I was the Unstable Stalker (a phrase disseminated by the Clinton White House), the Dimwit Floozy, the Poor Innocent who didn’t know any better. The Clinton administration, the special prosecutor’s minions, the political operatives on both sides of the aisle, and the media were able to brand me. And that brand stuck, in part because it was imbued with power. I became a social representation, a social canvas on which anybody could project their confusion about women, sex, infidelity, politics, and body issues.Unlike the other parties involved, I was so young that I had no established identity to which I could return. I didn’t “let this define” me—I simply hadn’t had the life experience to establish my own identity in 1998. If you haven’t figured out who you are, it’s hard not to accept the horrible image of you created by others. (Thus, my compassion for young people who find themselves shamed on the Web.) Despite much self-searching and therapy and exploring of different paths, I remained “stuck” for far too many years.No longer. It’s time to burn the beret and bury the blue dress. And move forward.\n"
     ]
    }
   ],
   "source": [
    "#Exercise 19\n",
    "#Using the requests and BeautifulSoup Python libraries, print to the screen the full text of the article \n",
    "#on this website: http://www.vanityfair.com/society/2014/06/monica-lewinsky-humiliation-culture.\n",
    "#The article is long, so it is split up between 4 pages. Your task is to print out the text to the screen\n",
    "#so that you can read the full article without having to click any buttons.\n",
    "import requests\n",
    "from bs4 import BeautifulSoup\n",
    "html = requests.get('https://www.vanityfair.com/style/society/2014/06/monica-lewinsky-humiliation-culture')\n",
    "soup = BeautifulSoup(html.text)\n",
    "soup_p = soup.find_all(\"p\")\n",
    "soup_class_begin = soup.find_all(class_=\"has-dropcap\")\n",
    "soup_class_inside = soup.find_all(class_=\"\") \n",
    "result = []\n",
    "result_final = []\n",
    "result_final_txt = ''\n",
    "for i in soup_p:\n",
    "    if i in soup_class_inside or i in soup_class_begin:\n",
    "        result.extend(i)\n",
    "for i in range(0, len(result)):\n",
    "    clean = re.compile('<.*?>')\n",
    "    result_final.append(re.sub(clean, '', str(result[i])))\n",
    "result_final = result_final[10:-3]\n",
    "for i in result_final:\n",
    "    result_final_txt += i.strip()\n",
    "print(result_final_txt)"
   ]
  },
  {
   "cell_type": "code",
   "execution_count": 482,
   "metadata": {},
   "outputs": [],
   "source": [
    "#Exercise 20\n",
    "#Write a function that takes an ordered list of numbers \n",
    "#(a list where the elements are in order from smallest to largest) and another number. \n",
    "#The function decides whether or not the given number is inside the list and returns (then prints) \n",
    "#an appropriate boolean. Use binary search."
   ]
  },
  {
   "cell_type": "code",
   "execution_count": 602,
   "metadata": {},
   "outputs": [
    {
     "data": {
      "text/plain": [
       "False"
      ]
     },
     "execution_count": 602,
     "metadata": {},
     "output_type": "execute_result"
    }
   ],
   "source": [
    "import sys\n",
    "sys.setrecursionlimit(10000)\n",
    "list_in = [9,5,1,6,8,10,23,4]\n",
    "def sort_list(list_in):\n",
    "    temp = len(list_in)\n",
    "    while (temp>1) :\n",
    "        for i in range(0, temp -1):\n",
    "            if list_in[i] > list_in[i+1]:\n",
    "                list_in[i], list_in[i+1] = list_in[i+1], list_in[i]\n",
    "        temp-=1\n",
    "sort_list(list_in)\n",
    "def bin_search(list_in,num):\n",
    "    if len(list_in) > 0:\n",
    "        mid = len(list_in)//2\n",
    "        if list_in[mid] == num:\n",
    "            return True\n",
    "        elif list_in[mid] < num:\n",
    "            if len(list_in) > 1:\n",
    "                return bin_search(list_in[mid:],num)\n",
    "            else:\n",
    "                return False\n",
    "        else:\n",
    "            return bin_search(list_in[:mid],num)\n",
    "    else:\n",
    "        return False\n",
    "bin_search(list_in,111)"
   ]
  },
  {
   "cell_type": "code",
   "execution_count": 603,
   "metadata": {},
   "outputs": [],
   "source": [
    "#Exercise 21\n",
    "#Take the code from the How To Decode A Website exercise and instead of printing the results to a screen, \n",
    "#write the results to a txt file. In your code, just make up a name for the file you are saving to.\n",
    "#Ask the user to specify the name of the output file that will be saved."
   ]
  },
  {
   "cell_type": "code",
   "execution_count": 616,
   "metadata": {},
   "outputs": [
    {
     "name": "stdout",
     "output_type": "stream",
     "text": [
      "File to save to: /Users/user/Desktop/Python/text.txt\n"
     ]
    }
   ],
   "source": [
    "import requests\n",
    "from bs4 import BeautifulSoup\n",
    "html = requests.get('https://www.vanityfair.com/style/society/2014/06/monica-lewinsky-humiliation-culture')\n",
    "soup = BeautifulSoup(html.text)\n",
    "soup_p = soup.find_all(\"p\")\n",
    "soup_class_begin = soup.find_all(class_=\"has-dropcap\")\n",
    "soup_class_inside = soup.find_all(class_=\"\") \n",
    "result = []\n",
    "result_final = []\n",
    "result_final_txt = ''\n",
    "for i in soup_p:\n",
    "    if i in soup_class_inside or i in soup_class_begin:\n",
    "        result.extend(i)\n",
    "for i in range(0, len(result)):\n",
    "    clean = re.compile('<.*?>')\n",
    "    result_final.append(re.sub(clean, '', str(result[i])))\n",
    "result_final = result_final[10:-3]\n",
    "for i in result_final:\n",
    "    result_final_txt += i.strip()\n",
    "    \n",
    "filename = input(\"File to save to: \")\n",
    "\n",
    "with open(filename, 'w') as f: #/Users/user/Desktop/Python/text.txt\n",
    "    f.write(result_final_txt)"
   ]
  },
  {
   "cell_type": "code",
   "execution_count": 618,
   "metadata": {},
   "outputs": [],
   "source": [
    "#Exercise 22\n",
    "#Given a .txt file that has a list of a bunch of names,\n",
    "#count how many of each name there are in the file, and print out the results to the screen.\n",
    "#Instead you can use this http://www.practicepython.org/assets/Training_01.txt\n",
    "#and count how many of each “category” of each image there are. \n",
    "#This text file is actually a list of files corresponding to the SUN database scene recognition database, \n",
    "#and lists the file directory hierarchy for the images."
   ]
  },
  {
   "cell_type": "code",
   "execution_count": 722,
   "metadata": {
    "scrolled": true
   },
   "outputs": [
    {
     "name": "stdout",
     "output_type": "stream",
     "text": [
      "File to read to: /Users/user/Desktop/Python/Training_SUN.txt\n"
     ]
    },
    {
     "data": {
      "text/plain": [
       "[['abbey', 50],\n",
       " ['airplane_cabin', 50],\n",
       " ['airport_terminal', 50],\n",
       " ['alley', 50],\n",
       " ['amphitheater', 50],\n",
       " ['amusement_arcade', 50],\n",
       " ['amusement_park', 50],\n",
       " ['anechoic_chamber', 50],\n",
       " ['apartment_building', 50],\n",
       " ['apse', 50],\n",
       " ['aquarium', 50],\n",
       " ['aqueduct', 50],\n",
       " ['arch', 50],\n",
       " ['archive', 50],\n",
       " ['arrival_gate', 50],\n",
       " ['art_gallery', 50],\n",
       " ['art_school', 50],\n",
       " ['art_studio', 50],\n",
       " ['assembly_line', 50],\n",
       " ['athletic_field', 50],\n",
       " ['atrium', 50],\n",
       " ['attic', 50],\n",
       " ['auditorium', 50],\n",
       " ['auto_factory', 50],\n",
       " ['badlands', 50],\n",
       " ['badminton_court', 50],\n",
       " ['baggage_claim', 50],\n",
       " ['bakery', 50],\n",
       " ['balcony', 100],\n",
       " ['ball_pit', 50],\n",
       " ['ballroom', 50],\n",
       " ['bamboo_forest', 50],\n",
       " ['banquet_hall', 50],\n",
       " ['bar', 50],\n",
       " ['barn', 50],\n",
       " ['barndoor', 50],\n",
       " ['baseball_field', 50],\n",
       " ['basement', 50],\n",
       " ['basilica', 50],\n",
       " ['basketball_court', 50],\n",
       " ['bathroom', 50],\n",
       " ['batters_box', 50],\n",
       " ['bayou', 50],\n",
       " ['bazaar', 100],\n",
       " ['beach', 50],\n",
       " ['beauty_salon', 50],\n",
       " ['bedroom', 50],\n",
       " ['berth', 50],\n",
       " ['biology_laboratory', 50],\n",
       " ['bistro', 50],\n",
       " ['boardwalk', 50],\n",
       " ['boat_deck', 50],\n",
       " ['boathouse', 50],\n",
       " ['bookstore', 50],\n",
       " ['booth', 50],\n",
       " ['botanical_garden', 50],\n",
       " ['bow_window', 100],\n",
       " ['bowling_alley', 50],\n",
       " ['boxing_ring', 50],\n",
       " ['brewery', 50],\n",
       " ['bridge', 50],\n",
       " ['building_facade', 50],\n",
       " ['bullring', 50],\n",
       " ['burial_chamber', 50],\n",
       " ['bus_interior', 50],\n",
       " ['butchers_shop', 50],\n",
       " ['butte', 50],\n",
       " ['cabin', 50],\n",
       " ['cafeteria', 50],\n",
       " ['campsite', 50],\n",
       " ['campus', 50],\n",
       " ['canal', 100],\n",
       " ['candy_store', 50],\n",
       " ['canyon', 50],\n",
       " ['car_interior', 100],\n",
       " ['carrousel', 50],\n",
       " ['casino', 50],\n",
       " ['castle', 50],\n",
       " ['catacomb', 50],\n",
       " ['cathedral', 100],\n",
       " ['cavern', 50],\n",
       " ['cemetery', 50],\n",
       " ['chalet', 50],\n",
       " ['cheese_factory', 50],\n",
       " ['chemistry_lab', 50],\n",
       " ['chicken_coop', 100],\n",
       " ['childs_room', 50],\n",
       " ['church', 100],\n",
       " ['classroom', 50],\n",
       " ['clean_room', 50],\n",
       " ['cliff', 50],\n",
       " ['cloister', 50],\n",
       " ['closet', 50],\n",
       " ['clothing_store', 50],\n",
       " ['coast', 50],\n",
       " ['cockpit', 50],\n",
       " ['coffee_shop', 50],\n",
       " ['computer_room', 50],\n",
       " ['conference_center', 50],\n",
       " ['conference_room', 50],\n",
       " ['construction_site', 50],\n",
       " ['control_room', 50],\n",
       " ['control_tower', 50],\n",
       " ['corn_field', 50],\n",
       " ['corral', 50],\n",
       " ['corridor', 50],\n",
       " ['cottage_garden', 50],\n",
       " ['courthouse', 50],\n",
       " ['courtroom', 50],\n",
       " ['courtyard', 50],\n",
       " ['covered_bridge', 50],\n",
       " ['creek', 50],\n",
       " ['crevasse', 50],\n",
       " ['crosswalk', 50],\n",
       " ['cubicle', 50],\n",
       " ['dam', 50],\n",
       " ['delicatessen', 50],\n",
       " ['dentists_office', 50],\n",
       " ['desert', 100],\n",
       " ['diner', 100],\n",
       " ['dinette', 100],\n",
       " ['dining_car', 50],\n",
       " ['dining_room', 50],\n",
       " ['discotheque', 50],\n",
       " ['dock', 50],\n",
       " ['doorway', 50],\n",
       " ['dorm_room', 50],\n",
       " ['driveway', 50],\n",
       " ['driving_range', 50],\n",
       " ['drugstore', 50],\n",
       " ['electrical_substation', 50],\n",
       " ['elevator', 100],\n",
       " ['elevator_shaft', 50],\n",
       " ['engine_room', 50],\n",
       " ['escalator', 50],\n",
       " ['excavation', 50],\n",
       " ['factory', 50],\n",
       " ['fairway', 50],\n",
       " ['fastfood_restaurant', 50],\n",
       " ['field', 100],\n",
       " ['fire_escape', 50],\n",
       " ['fire_station', 50],\n",
       " ['firing_range', 50],\n",
       " ['fishpond', 50],\n",
       " ['florist_shop', 50],\n",
       " ['food_court', 50],\n",
       " ['forest', 100],\n",
       " ['forest_path', 50],\n",
       " ['forest_road', 50],\n",
       " ['formal_garden', 50],\n",
       " ['fountain', 50],\n",
       " ['galley', 50],\n",
       " ['game_room', 50],\n",
       " ['garage', 50],\n",
       " ['garbage_dump', 50],\n",
       " ['gas_station', 50],\n",
       " ['gazebo', 50],\n",
       " ['general_store', 100],\n",
       " ['gift_shop', 50],\n",
       " ['golf_course', 50],\n",
       " ['greenhouse', 100],\n",
       " ['gymnasium', 50],\n",
       " ['hangar', 100],\n",
       " ['harbor', 50],\n",
       " ['hayfield', 50],\n",
       " ['heliport', 50],\n",
       " ['herb_garden', 50],\n",
       " ['highway', 50],\n",
       " ['hill', 50],\n",
       " ['home_office', 50],\n",
       " ['hospital', 50],\n",
       " ['hospital_room', 50],\n",
       " ['hot_spring', 50],\n",
       " ['hot_tub', 50],\n",
       " ['hotel', 50],\n",
       " ['hotel_room', 50],\n",
       " ['house', 50],\n",
       " ['hunting_lodge', 50],\n",
       " ['ice_cream_parlor', 50],\n",
       " ['ice_floe', 50],\n",
       " ['ice_shelf', 50],\n",
       " ['ice_skating_rink', 100],\n",
       " ['iceberg', 50],\n",
       " ['igloo', 50],\n",
       " ['industrial_area', 50],\n",
       " ['inn', 50],\n",
       " ['islet', 50],\n",
       " ['jacuzzi', 50],\n",
       " ['jail', 50],\n",
       " ['jail_cell', 50],\n",
       " ['jewelry_shop', 50],\n",
       " ['kasbah', 50],\n",
       " ['kennel', 100],\n",
       " ['kindergarden_classroom', 50],\n",
       " ['kitchen', 50],\n",
       " ['kitchenette', 50],\n",
       " ['labyrinth', 50],\n",
       " ['lake', 50],\n",
       " ['landfill', 50],\n",
       " ['landing_deck', 50],\n",
       " ['laundromat', 50],\n",
       " ['lecture_room', 50],\n",
       " ['library', 100],\n",
       " ['lido_deck', 50],\n",
       " ['lift_bridge', 50],\n",
       " ['lighthouse', 50],\n",
       " ['limousine_interior', 50],\n",
       " ['living_room', 50],\n",
       " ['lobby', 50],\n",
       " ['lock_chamber', 50],\n",
       " ['locker_room', 50],\n",
       " ['mansion', 50],\n",
       " ['manufactured_home', 50],\n",
       " ['market', 100],\n",
       " ['marsh', 50],\n",
       " ['martial_arts_gym', 50],\n",
       " ['mausoleum', 50],\n",
       " ['medina', 50],\n",
       " ['moat', 50],\n",
       " ['monastery', 50],\n",
       " ['mosque', 100],\n",
       " ['motel', 50],\n",
       " ['mountain', 50],\n",
       " ['mountain_snowy', 50],\n",
       " ['movie_theater', 50],\n",
       " ['museum', 50],\n",
       " ['music_store', 50],\n",
       " ['music_studio', 50],\n",
       " ['nuclear_power_plant', 50],\n",
       " ['nursery', 50],\n",
       " ['oast_house', 50],\n",
       " ['observatory', 50],\n",
       " ['ocean', 50],\n",
       " ['office', 50],\n",
       " ['office_building', 50],\n",
       " ['oil_refinery', 50],\n",
       " ['oilrig', 50],\n",
       " ['operating_room', 50],\n",
       " ['orchard', 50],\n",
       " ['outhouse', 50],\n",
       " ['pagoda', 50],\n",
       " ['palace', 50],\n",
       " ['pantry', 50],\n",
       " ['park', 50],\n",
       " ['parking_garage', 100],\n",
       " ['parking_lot', 50],\n",
       " ['parlor', 50],\n",
       " ['pasture', 50],\n",
       " ['patio', 50],\n",
       " ['pavilion', 50],\n",
       " ['pharmacy', 50],\n",
       " ['phone_booth', 50],\n",
       " ['physics_laboratory', 50],\n",
       " ['picnic_area', 50],\n",
       " ['pilothouse', 50],\n",
       " ['planetarium', 50],\n",
       " ['playground', 50],\n",
       " ['playroom', 50],\n",
       " ['plaza', 50],\n",
       " ['podium', 100],\n",
       " ['pond', 50],\n",
       " ['poolroom', 100],\n",
       " ['power_plant', 50],\n",
       " ['promenade_deck', 50],\n",
       " ['pub', 50],\n",
       " ['pulpit', 50],\n",
       " ['putting_green', 50],\n",
       " ['racecourse', 50],\n",
       " ['raceway', 50],\n",
       " ['raft', 50],\n",
       " ['railroad_track', 50],\n",
       " ['rainforest', 50],\n",
       " ['reception', 50],\n",
       " ['recreation_room', 50],\n",
       " ['residential_neighborhood', 50],\n",
       " ['restaurant', 50],\n",
       " ['restaurant_kitchen', 50],\n",
       " ['restaurant_patio', 50],\n",
       " ['rice_paddy', 50],\n",
       " ['riding_arena', 50],\n",
       " ['river', 50],\n",
       " ['rock_arch', 50],\n",
       " ['rope_bridge', 50],\n",
       " ['ruin', 50],\n",
       " ['runway', 50],\n",
       " ['sandbar', 50],\n",
       " ['sandbox', 50],\n",
       " ['sauna', 50],\n",
       " ['schoolhouse', 50],\n",
       " ['sea_cliff', 50],\n",
       " ['server_room', 50],\n",
       " ['shed', 50],\n",
       " ['shoe_shop', 50],\n",
       " ['shopfront', 50],\n",
       " ['shopping_mall', 50],\n",
       " ['shower', 50],\n",
       " ['skatepark', 50],\n",
       " ['ski_lodge', 50],\n",
       " ['ski_resort', 50],\n",
       " ['ski_slope', 50],\n",
       " ['sky', 50],\n",
       " ['skyscraper', 50],\n",
       " ['slum', 50],\n",
       " ['snowfield', 50],\n",
       " ['squash_court', 50],\n",
       " ['stable', 50],\n",
       " ['stadium', 100],\n",
       " ['stage', 50],\n",
       " ['staircase', 50],\n",
       " ['street', 50],\n",
       " ['subway_interior', 50],\n",
       " ['subway_station', 50],\n",
       " ['supermarket', 50],\n",
       " ['sushi_bar', 50],\n",
       " ['swamp', 50],\n",
       " ['swimming_pool', 100],\n",
       " ['synagogue', 100],\n",
       " ['television_studio', 50],\n",
       " ['temple', 100],\n",
       " ['tennis_court', 100],\n",
       " ['tent', 50],\n",
       " ['theater', 100],\n",
       " ['thriftshop', 50],\n",
       " ['throne_room', 50],\n",
       " ['ticket_booth', 50],\n",
       " ['toll_plaza', 50],\n",
       " ['topiary_garden', 50],\n",
       " ['tower', 50],\n",
       " ['toyshop', 50],\n",
       " ['track', 50],\n",
       " ['train_railway', 50],\n",
       " ['train_station', 50],\n",
       " ['tree_farm', 50],\n",
       " ['tree_house', 50],\n",
       " ['trench', 50],\n",
       " ['underwater', 50],\n",
       " ['utility_room', 50],\n",
       " ['valley', 50],\n",
       " ['van_interior', 50],\n",
       " ['vegetable_garden', 50],\n",
       " ['veranda', 50],\n",
       " ['veterinarians_office', 50],\n",
       " ['viaduct', 50],\n",
       " ['videostore', 50],\n",
       " ['village', 50],\n",
       " ['vineyard', 50],\n",
       " ['volcano', 50],\n",
       " ['volleyball_court', 100],\n",
       " ['waiting_room', 50],\n",
       " ['warehouse', 50],\n",
       " ['water_tower', 50],\n",
       " ['waterfall', 150],\n",
       " ['watering_hole', 50],\n",
       " ['wave', 50],\n",
       " ['wet_bar', 50],\n",
       " ['wheat_field', 50],\n",
       " ['wind_farm', 50],\n",
       " ['windmill', 50],\n",
       " ['wine_cellar', 100],\n",
       " ['wrestling_ring', 50],\n",
       " ['yard', 50],\n",
       " ['youth_hostel', 50]]"
      ]
     },
     "execution_count": 722,
     "metadata": {},
     "output_type": "execute_result"
    }
   ],
   "source": [
    "filename = input(\"File to read: \") #/Users/user/Desktop/Python/Training_SUN.txt\n",
    "txt = ''\n",
    "list_cat = []\n",
    "with open(filename, 'r') as f:\n",
    "    txt = f.readline()\n",
    "    while txt:\n",
    "        list_cat.append(txt.split('/')[2])\n",
    "        txt = f.readline()\n",
    "    list_cat_num = list(dict.fromkeys(list_cat))\n",
    "    for i in range(0,len(list_cat_num)):\n",
    "        list_cat_num[i] = [list_cat_num[i]] + [0]\n",
    "    for i in range(0, len(list_cat)):\n",
    "        for j in range(0,len(list_cat_num)):\n",
    "            if list_cat[i] == list_cat_num[j][0]:\n",
    "                list_cat_num[j][1]+=1\n",
    "list_cat_num"
   ]
  },
  {
   "cell_type": "code",
   "execution_count": 745,
   "metadata": {
    "scrolled": true
   },
   "outputs": [
    {
     "name": "stdout",
     "output_type": "stream",
     "text": [
      "Please put path for a file with prime numbers: /Users/user/Desktop/Python/primenumbers.txt\n",
      "Please put path for a file with happy numbers: /Users/user/Desktop/Python/happynumbers.txt\n"
     ]
    },
    {
     "data": {
      "text/plain": [
       "['7',\n",
       " '13',\n",
       " '19',\n",
       " '23',\n",
       " '31',\n",
       " '79',\n",
       " '97',\n",
       " '103',\n",
       " '109',\n",
       " '139',\n",
       " '167',\n",
       " '193',\n",
       " '239',\n",
       " '263',\n",
       " '293',\n",
       " '313',\n",
       " '331',\n",
       " '367',\n",
       " '379',\n",
       " '383',\n",
       " '397',\n",
       " '409',\n",
       " '487',\n",
       " '563',\n",
       " '617',\n",
       " '653',\n",
       " '673',\n",
       " '683',\n",
       " '709',\n",
       " '739',\n",
       " '761',\n",
       " '863',\n",
       " '881',\n",
       " '907',\n",
       " '937']"
      ]
     },
     "execution_count": 745,
     "metadata": {},
     "output_type": "execute_result"
    }
   ],
   "source": [
    "#Exercise 23\n",
    "#Given two .txt files that have lists of numbers in them, \n",
    "#find the numbers that are overlapping. One .txt file has a list of all prime numbers under 1000, \n",
    "#(http://www.practicepython.org/assets/primenumbers.txt)\n",
    "#and the other .txt file has a list of happy numbers up to 1000. \n",
    "#(http://www.practicepython.org/assets/happynumbers.txt)\n",
    "filename_pn = input(\"Please put path for a file with prime numbers: \") #/Users/user/Desktop/Python/primenumbers.txt\n",
    "filename_hn = input(\"Please put path for a file with happy numbers: \") #/Users/user/Desktop/Python/happynumbers.txt\n",
    "list_pn = []\n",
    "list_hn = []\n",
    "list_final =[]\n",
    "with open(filename_pn, 'r') as f:\n",
    "    num = f.readline()\n",
    "    while num:\n",
    "        list_pn.append(num.rstrip('\\n').strip())\n",
    "        num = f.readline()\n",
    "with open(filename_hn, 'r') as f:\n",
    "    num = f.readline()\n",
    "    while num:\n",
    "        list_hn.append(num.rstrip('\\n').strip())\n",
    "        num = f.readline()\n",
    "list_pn.remove('')\n",
    "list_hn.remove('')\n",
    "for i in list_pn:\n",
    "    if i in list_hn:\n",
    "        list_final.append(i)\n",
    "list_final"
   ]
  },
  {
   "cell_type": "code",
   "execution_count": 746,
   "metadata": {},
   "outputs": [],
   "source": [
    "#Exercise 24\n",
    "#This exercise is Part 2 of 4 of the Tic Tac Toe exercise series. \n",
    "#The other exercises are: Part 1, Part 3, and Part 4.\n",
    "#Time for some fake graphics! Let’s say we want to draw game boards that look like this:\n",
    "# --- --- --- \n",
    "#|   |   |   | \n",
    "# --- --- ---  \n",
    "#|   |   |   | \n",
    "# --- --- ---  \n",
    "#|   |   |   | \n",
    "# --- --- --- \n",
    "#This one is 3x3 (like in tic tac toe). Obviously, they come in many other sizes.\n",
    "#Ask the user what size game board they want to draw, and draw it for them."
   ]
  },
  {
   "cell_type": "code",
   "execution_count": 830,
   "metadata": {},
   "outputs": [
    {
     "name": "stdout",
     "output_type": "stream",
     "text": [
      "Please choose size of your board divided by space: 3 3\n",
      " --- --- ---\n",
      "|   |   |   |\n",
      " --- --- ---\n",
      "|   |   |   |\n",
      " --- --- ---\n",
      "|   |   |   |\n",
      " --- --- ---\n"
     ]
    }
   ],
   "source": [
    "size_x, size_y = input(\"Please choose size of your board divided by space: \").split(' ')\n",
    "\n",
    "def print_board(size_x, size_y, sign_v = '-', sign_h = '|'):\n",
    "    ver = int(size_x)*(' ' + 3*sign_v)\n",
    "    hor = sign_h + int(size_x)*('   ' + sign_h)\n",
    "    for i in range(0, int(size_y)):\n",
    "        print(ver)\n",
    "        print(hor)\n",
    "    print(ver)\n",
    "        \n",
    "print_board(size_x, size_y, sign_v = '-', sign_h = '|')"
   ]
  },
  {
   "cell_type": "code",
   "execution_count": 831,
   "metadata": {},
   "outputs": [],
   "source": [
    "#Exercise 25\n",
    "#In a previous exercise, we’ve written a program that “knows” a number and asks a user to guess it.\n",
    "#This time, we’re going to do exactly the opposite. You, the user, will have in your head a number between 0 and 100.\n",
    "#The program will guess a number, and you, the user, will say whether it is too high, too low, or your number.\n",
    "#At the end of this exchange, your program should print out how many guesses it took to get your number."
   ]
  },
  {
   "cell_type": "code",
   "execution_count": 891,
   "metadata": {},
   "outputs": [
    {
     "data": {
      "text/plain": [
       "74"
      ]
     },
     "execution_count": 891,
     "metadata": {},
     "output_type": "execute_result"
    }
   ],
   "source": [
    "import random\n",
    "low = 0\n",
    "high = 100\n",
    "guess = random.randint(low,high)\n",
    "guess"
   ]
  },
  {
   "cell_type": "code",
   "execution_count": 892,
   "metadata": {},
   "outputs": [],
   "source": [
    "def bin_search(list_pos = list(range(0, 100)), low = 0, high = 100):\n",
    "    answer = 'no'\n",
    "    out = 1\n",
    "    number = random.randint(0,100)\n",
    "    print(\"Is your guess \" + str(number) + \"?\")\n",
    "    answer = input(\"Please answer yes or no: \")\n",
    "    while (answer != 'yes'):\n",
    "        high_low = input(\"Is it higher or lower than your number?: \")\n",
    "        if high_low == \"higher\":\n",
    "            low = number + 1\n",
    "        else:\n",
    "            high = number - 1\n",
    "        out+=1\n",
    "        print (\"low: \" + str(low) + \", high: \" + str(high))\n",
    "        number = random.randint(low,high)\n",
    "        print(\"Is your guess \" + str(number) + \"?\")\n",
    "        answer = input(\"Please answer yes or no: \")\n",
    "    print('Your guess is ' + str(number) + \". It took me \" + str(out) + \" time(s) to guess your number!\")"
   ]
  },
  {
   "cell_type": "code",
   "execution_count": 893,
   "metadata": {},
   "outputs": [
    {
     "name": "stdout",
     "output_type": "stream",
     "text": [
      "Is your guess 12?\n",
      "Please answer yes or no: no\n",
      "Is it higher or lower than your number?: higher\n",
      "low: 13, high: 100\n",
      "Is your guess 23?\n",
      "Please answer yes or no: no\n",
      "Is it higher or lower than your number?: higher\n",
      "low: 24, high: 100\n",
      "Is your guess 63?\n",
      "Please answer yes or no: no\n",
      "Is it higher or lower than your number?: higher\n",
      "low: 64, high: 100\n",
      "Is your guess 69?\n",
      "Please answer yes or no: no\n",
      "Is it higher or lower than your number?: higher\n",
      "low: 70, high: 100\n",
      "Is your guess 76?\n",
      "Please answer yes or no: no\n",
      "Is it higher or lower than your number?: lower\n",
      "low: 70, high: 75\n",
      "Is your guess 75?\n",
      "Please answer yes or no: no\n",
      "Is it higher or lower than your number?: lower\n",
      "low: 70, high: 74\n",
      "Is your guess 73?\n",
      "Please answer yes or no: no\n",
      "Is it higher or lower than your number?: higher\n",
      "low: 74, high: 74\n",
      "Is your guess 74?\n",
      "Please answer yes or no: yes\n",
      "Your guess is 74. It took me 8 time(s) to guess your number!\n"
     ]
    }
   ],
   "source": [
    "bin_search(list_pos = list(range(low,high)))"
   ]
  },
  {
   "cell_type": "code",
   "execution_count": 894,
   "metadata": {},
   "outputs": [],
   "source": [
    "#Exercise 26\n",
    "#We are trying to build up to a full tic-tac-toe board.\n",
    "#However, this is significantly more than half an hour of coding, so we’re doing it in pieces.\n",
    "#Today, we will simply focus on checking whether someone has WON a game of Tic Tac Toe, \n",
    "#not worrying about how the moves were made.\n",
    "winner_is_2 = [[2, 2, 0],[2, 1, 0],[2, 1, 1]]\n",
    "winner_is_1 = [[1, 2, 0],[2, 1, 0],[2, 1, 1]]\n",
    "winner_is_also_1 = [[0, 1, 0],[2, 1, 0],[2, 1, 1]]\n",
    "no_winner = [[1, 2, 0],[2, 1, 0],[2, 1, 2]]\n",
    "also_no_winner = [[1, 2, 0],[2, 1, 0],[2, 1, 0]]"
   ]
  },
  {
   "cell_type": "code",
   "execution_count": null,
   "metadata": {},
   "outputs": [],
   "source": [
    "def check_winner(matrix):\n",
    "    if len(matrix[0]) == 3 and len(matrix) == 3:\n",
    "        for row in range(0,3):\n",
    "            if matrix[row][0] == matrix[row][1] == matrix[row][2] and matrix[row][0] != 0:\n",
    "                return matrix[row][0]           \n",
    "        for col in range(0,3):\n",
    "            if matrix[0][col] == matrix[1][col] == matrix[2][col] and matrix[0][col] != 0:\n",
    "                return matrix[0][col]\n",
    "        skew = 0\n",
    "        if matrix[skew][skew] == matrix[skew+1][skew+1] == matrix[skew+2][skew+2] and matrix[skew][skew] != 0:\n",
    "            return matrix[skew][skew]\n",
    "        if matrix[skew][skew+1] == matrix[skew+1][skew+1] == matrix[skew+2][skew] and matrix[skew+1][skew+1] != 0:\n",
    "            return matrix[skew+1][skew+1]\n",
    "#set([winner_is_2[0][0], winner_is_2[1][1], winner_is_2[2][2]])\n",
    "def check_winner_print(matrix):\n",
    "    win = check_winner(matrix)\n",
    "    if win == 1:\n",
    "        print(\"Player 1 is a winner.\")\n",
    "    elif win == 2:\n",
    "        print(\"Player 2 is a winner.\")\n",
    "    else:\n",
    "        print(\"There is no winner.\")\n",
    "check_winner_print(also_no_winner)"
   ]
  },
  {
   "cell_type": "code",
   "execution_count": 933,
   "metadata": {},
   "outputs": [],
   "source": [
    "#Exercise 27\n",
    "#This exercise is Part 3 of 4 of the Tic Tac Toe exercise series. In a previous exercise we explored the idea of \n",
    "#using a list of lists as a “data structure” to store information about a tic tac toe game. \n",
    "#In a tic tac toe game, the “game server” needs to know where the Xs and Os are in the board, \n",
    "#to know whether player 1 or player 2 (or whoever is X and O won).\n",
    "#The next logical step is to deal with handling user input. \n",
    "#When a player (say player 1, who is X) wants to place an X on the screen, \n",
    "#they can’t just click on a terminal. So we are going to approximate this clicking simply by asking the user for \n",
    "# coordinate of where they want to place their piece."
   ]
  },
  {
   "cell_type": "code",
   "execution_count": 1030,
   "metadata": {},
   "outputs": [
    {
     "name": "stdout",
     "output_type": "stream",
     "text": [
      "You will be asked to choose a row and a column, available numbers are 1,2,3.\n",
      "Use row,col syntax: 1,1\n",
      "[['X' '' '']\n",
      " ['' '' '']\n",
      " ['' '' '']]\n",
      "Use row,col syntax: 2,3\n",
      "[['X' '' '']\n",
      " ['' '' 'O']\n",
      " ['' '' '']]\n",
      "Use row,col syntax: 2,2\n",
      "[['X' '' '']\n",
      " ['' 'X' 'O']\n",
      " ['' '' '']]\n",
      "Use row,col syntax: 3,2\n",
      "[['X' '' '']\n",
      " ['' 'X' 'O']\n",
      " ['' 'O' '']]\n",
      "Use row,col syntax: 3,3\n",
      "[['X' '' '']\n",
      " ['' 'X' 'O']\n",
      " ['' 'O' 'X']]\n",
      "Player 1 is a winner.\n"
     ]
    }
   ],
   "source": [
    "import numpy as np\n",
    "def fill_matrix():\n",
    "    cnt = 0\n",
    "    player = 0\n",
    "    matrix = np.zeros((3,3),str)\n",
    "    print('You will be asked to choose a row and a column, available numbers are 1,2,3.')\n",
    "    while (cnt < 9):\n",
    "        cnt += 1\n",
    "        player = switch_players(player)\n",
    "        if cnt >= 3:\n",
    "            if check_winner(matrix) == 'X':\n",
    "                print(\"Player 1 is a winner.\")\n",
    "                break\n",
    "            elif check_winner(matrix) == 'O':\n",
    "                print(\"Player 2 is a winner.\")\n",
    "                break\n",
    "        fill_player(player, matrix)\n",
    "        print(matrix)\n",
    "        \n",
    "def fill_player(player_type, matrix):\n",
    "    if player_type == 1: \n",
    "        sym = 'X'\n",
    "    else:\n",
    "        sym = 'O'\n",
    "    player = input(\"Use row,col syntax: \").split(',')\n",
    "    if  matrix[int(player[0])-1][int(player[1])-1] == '':\n",
    "        matrix[int(player[0])-1][int(player[1])-1] = sym\n",
    "    else:\n",
    "        print(\"That place is taken. Choose one more time.\")\n",
    "        fill_player(player_type,matrix)\n",
    "\n",
    "        \n",
    "def switch_players(player):\n",
    "    if player == 1:\n",
    "        return 2\n",
    "    else:\n",
    "        return 1\n",
    "fill_matrix()"
   ]
  },
  {
   "cell_type": "code",
   "execution_count": 1037,
   "metadata": {},
   "outputs": [
    {
     "data": {
      "text/plain": [
       "9"
      ]
     },
     "execution_count": 1037,
     "metadata": {},
     "output_type": "execute_result"
    }
   ],
   "source": [
    "#Exercise 28\n",
    "#Implement a function that takes as input three variables, and returns the largest of the three. \n",
    "#Do this without using the Python max() function!\n",
    "def max_num(a,b,c):\n",
    "    max = a\n",
    "    if max < b:\n",
    "        max = b\n",
    "        if max < c:\n",
    "            max = c\n",
    "    if max < c:\n",
    "        max = c\n",
    "        if max < b:\n",
    "            max =b\n",
    "    return max\n",
    "max_num(9,0,1)"
   ]
  },
  {
   "cell_type": "code",
   "execution_count": 1038,
   "metadata": {},
   "outputs": [],
   "source": [
    "#Exercise 29\n",
    "#In 3 previous exercises, we built up a few components needed to build a Tic Tac Toe game in Python:\n",
    "#Draw the Tic Tac Toe game board\n",
    "#Checking whether a game board has a winner\n",
    "#Handle a player move from user input\n",
    "#The next step is to put all these three components together to make a two-player Tic Tac Toe game!"
   ]
  },
  {
   "cell_type": "code",
   "execution_count": 1103,
   "metadata": {},
   "outputs": [
    {
     "name": "stdout",
     "output_type": "stream",
     "text": [
      "You will be asked to choose a row and a column, available numbers are 1,2,3.\n",
      "Use row,col syntax: 2,2\n",
      " --- --- ---\n",
      "|  |  |  |\n",
      " --- --- ---\n",
      "|  | X |  |\n",
      " --- --- ---\n",
      "|  |  |  |\n",
      " --- --- ---\n",
      "Use row,col syntax: 1,1\n",
      " --- --- ---\n",
      "| O |  |  |\n",
      " --- --- ---\n",
      "|  | X |  |\n",
      " --- --- ---\n",
      "|  |  |  |\n",
      " --- --- ---\n",
      "Use row,col syntax: 3,2\n",
      " --- --- ---\n",
      "| O |  |  |\n",
      " --- --- ---\n",
      "|  | X |  |\n",
      " --- --- ---\n",
      "|  | X |  |\n",
      " --- --- ---\n",
      "Use row,col syntax: 3,3\n",
      " --- --- ---\n",
      "| O |  |  |\n",
      " --- --- ---\n",
      "|  | X |  |\n",
      " --- --- ---\n",
      "|  | X | O |\n",
      " --- --- ---\n",
      "Use row,col syntax: 1,2\n",
      " --- --- ---\n",
      "| O | X |  |\n",
      " --- --- ---\n",
      "|  | X |  |\n",
      " --- --- ---\n",
      "|  | X | O |\n",
      " --- --- ---\n",
      "Player 1 is a winner.\n"
     ]
    }
   ],
   "source": [
    "import numpy as np\n",
    "\n",
    "def print_ver(size_x = 3, sign_v ='-'):\n",
    "    ver = int(size_x)*(' ' + 3*sign_v)\n",
    "    print(ver)\n",
    "def fill_board(matrix):\n",
    "    for i in range(0,len(matrix)):\n",
    "        print_ver()\n",
    "        print( '| ' + str(matrix[i][0]) + ' | ' + str(matrix[i][1]) + ' | ' + str(matrix[i][2]) + ' |')\n",
    "    print_ver()\n",
    "    \n",
    "def fill_matrix():\n",
    "    cnt = 0\n",
    "    player = 0\n",
    "    matrix = np.zeros((3,3),str)\n",
    "    print('You will be asked to choose a row and a column, available numbers are 1,2,3.')\n",
    "    while (cnt < 9):\n",
    "        cnt += 1\n",
    "        player = switch_players(player)\n",
    "        if cnt >= 3:\n",
    "            if check_winner(matrix) == 'X':\n",
    "                print(\"Player 1 is a winner.\")\n",
    "                break\n",
    "            elif check_winner(matrix) == 'O':\n",
    "                print(\"Player 2 is a winner.\")\n",
    "                break\n",
    "        fill_player(player, matrix)\n",
    "        fill_board(matrix)\n",
    "        \n",
    "def fill_player(player_type, matrix):\n",
    "    if player_type == 1: \n",
    "        sym = 'X'\n",
    "    else:\n",
    "        sym = 'O'\n",
    "    player = input(\"Use row,col syntax: \").split(',')\n",
    "    if  matrix[int(player[0])-1][int(player[1])-1] == '':\n",
    "        matrix[int(player[0])-1][int(player[1])-1] = sym\n",
    "    else:\n",
    "        print(\"That place is taken. Choose one more time.\")\n",
    "        fill_player(player_type,matrix)\n",
    "\n",
    "        \n",
    "def switch_players(player):\n",
    "    if player == 1:\n",
    "        return 2\n",
    "    else:\n",
    "        return 1\n",
    "fill_matrix()"
   ]
  },
  {
   "cell_type": "code",
   "execution_count": 8,
   "metadata": {},
   "outputs": [],
   "source": [
    "#Exercise 30\n",
    "#In this exercise, the task is to write a function that picks a random word from a list of words \n",
    "#from the SOWPODS dictionary. \n",
    "#http://norvig.com/ngrams/sowpods.txt\n",
    "import random\n",
    "def choose_word(filename = '/Users/user/Desktop/Python/sowpods.txt'): \n",
    "    #filename = input(\"Please put file name: \") #/Users/user/Desktop/Python/sowpods.txt\n",
    "    with open(filename, 'r') as f:\n",
    "        line = list(f)\n",
    "    line_b =[]\n",
    "    for i in line:\n",
    "        line_b.append(i.rstrip())\n",
    "\n",
    "    word = random.choice(line_b)\n",
    "    return word"
   ]
  },
  {
   "cell_type": "code",
   "execution_count": 9,
   "metadata": {},
   "outputs": [
    {
     "data": {
      "text/plain": [
       "'AERO'"
      ]
     },
     "execution_count": 9,
     "metadata": {},
     "output_type": "execute_result"
    }
   ],
   "source": [
    "choose_word()"
   ]
  },
  {
   "cell_type": "code",
   "execution_count": 1317,
   "metadata": {},
   "outputs": [],
   "source": [
    "#Exercise 31\n",
    "#Let’s continue building Hangman. In the game of Hangman, a clue word is given by the program that the player \n",
    "#has to guess, letter by letter. The player guesses one letter at a time until the entire word has been guessed. \n",
    "#(In the actual game, the player can only guess 6 letters incorrectly before losing).\n",
    "#Let’s say the word the player has to guess is “EVAPORATE”. For this exercise, write the logic that: \n",
    "#asks a player to guess a letter and \n",
    "#displays letters in the clue word that were guessed correctly. \n",
    "#let the player guess an infinite number of times until they get the entire word. \n",
    "#keep track of the letters the player guessed and display a different message if the player \n",
    "#tries to guess that letter again. \n",
    "#Remember to stop the game when all the letters have been guessed correctly! "
   ]
  },
  {
   "cell_type": "code",
   "execution_count": 1378,
   "metadata": {},
   "outputs": [
    {
     "name": "stdout",
     "output_type": "stream",
     "text": [
      "Please choose new letter: E\n",
      "E _ _ _ _ _ _ _ E \n",
      "Please choose new letter: V\n",
      "E V _ _ _ _ _ _ E \n",
      "Please choose new letter: A\n",
      "E V A _ _ _ A _ E \n",
      "Please choose new letter: P\n",
      "E V A P _ _ A _ E \n",
      "Please choose new letter: O\n",
      "E V A P O _ A _ E \n",
      "Please choose new letter: R\n",
      "E V A P O R A _ E \n",
      "Please choose new letter: A\n",
      "E V A P O R A _ E \n",
      "Please choose new letter: T\n",
      "E V A P O R A T E \n"
     ]
    }
   ],
   "source": [
    "word_rand = 'EVAPORATE'\n",
    "def prep_word(word):\n",
    "    word = list(word)\n",
    "    word = [[word[i]] + ['_'] for i in range(0, len(word))]\n",
    "    return word\n",
    "\n",
    "def print_word(word):\n",
    "    str_out = ''\n",
    "    for i in range(0,len(word)):\n",
    "        str_out = str_out + str(word[i][1]) + ' '\n",
    "    print(str_out)\n",
    "    \n",
    "def check_letter(word_list, word_matrix,letter):\n",
    "    for i in range(0, len(word_list)):\n",
    "        if word_list[i] == letter:\n",
    "            word_matrix[i][1] = letter\n",
    "    print_word(word_matrix)    \n",
    "\n",
    "def is_matrix_full(word_matrix):\n",
    "    for i in range(0, len(word_matrix)):\n",
    "        if word_matrix[i][1] == '_':\n",
    "            return False\n",
    "    return True \n",
    "    \n",
    "def print_hang(word = word_rand):\n",
    "    word_list = list(word)\n",
    "    word_matrix = prep_word(word)\n",
    "    while not is_matrix_full(word_matrix):\n",
    "        letter = (input(\"Please choose new letter: \")).upper()\n",
    "        check_letter(word_list, word_matrix, letter)\n",
    "print_hang()"
   ]
  },
  {
   "cell_type": "code",
   "execution_count": 1376,
   "metadata": {},
   "outputs": [],
   "source": [
    "#Exercise 32\n",
    "#In this exercise, we will finish building Hangman. In the game of Hangman, the player only has 6 incorrect guesses \n",
    "#(head, body, 2 legs, and 2 arms) before they lose the game.\n",
    "# Now add the following features:\n",
    "#Only let the user guess 6 times, and tell the user how many guesses they have left.\n",
    "#Keep track of the letters the user guessed. If the user guesses a letter they already guessed, \n",
    "#don’t penalize them - let them guess again.\n",
    "#Optional additions:\n",
    "#When the player wins or loses, let them start a new game.\n",
    "#Rather than telling the user \"You have 4 incorrect guesses left\", \n",
    "#display some picture art for the Hangman. This is challenging - do the other parts of the exercise first!"
   ]
  },
  {
   "cell_type": "code",
   "execution_count": 11,
   "metadata": {},
   "outputs": [
    {
     "name": "stdout",
     "output_type": "stream",
     "text": [
      "ACATOUR\n"
     ]
    }
   ],
   "source": [
    "secret_word = choose_word()\n",
    "print(secret_word)"
   ]
  },
  {
   "cell_type": "code",
   "execution_count": 16,
   "metadata": {},
   "outputs": [
    {
     "name": "stdout",
     "output_type": "stream",
     "text": [
      "Please choose new letter: A\n",
      "A _ A _ _ _ _ \n",
      "Please choose new letter: C\n",
      "A C A _ _ _ _ \n",
      "Please choose new letter: O\n",
      "A C A _ O _ _ \n",
      "Please choose new letter: W\n",
      "A C A _ O _ _ \n",
      "You have 5 guesses left.\n",
      "Please choose new letter: W\n",
      "A C A _ O _ _ \n",
      "You have already guessed that letter. Please try again\n",
      "Please choose new letter: R\n",
      "A C A _ O _ R \n",
      "Please choose new letter: Y\n",
      "A C A _ O _ R \n",
      "You have 4 guesses left.\n",
      "Please choose new letter: T\n",
      "A C A T O _ R \n",
      "Please choose new letter: U\n",
      "A C A T O U R \n"
     ]
    }
   ],
   "source": [
    "from IPython.display import display, Image\n",
    "def prep_word(word):\n",
    "    word = list(word)\n",
    "    word = [[word[i]] + ['_'] for i in range(0, len(word))]\n",
    "    return word\n",
    "\n",
    "def print_word(word):\n",
    "    str_out = ''\n",
    "    for i in range(0,len(word)):\n",
    "        str_out = str_out + str(word[i][1]) + ' '\n",
    "    print(str_out)\n",
    "    \n",
    "def check_letter(word_list, word_matrix,letter):\n",
    "    for i in range(0, len(word_list)):\n",
    "        if word_list[i] == letter:\n",
    "            word_matrix[i][1] = letter\n",
    "    print_word(word_matrix)    \n",
    "\n",
    "def is_correct(word_list, letter):\n",
    "    for i in range(0, len(word_list)):\n",
    "        if word_list[i] == letter:\n",
    "            return True\n",
    "    return False\n",
    "def is_matrix_full(word_matrix):\n",
    "    for i in range(0, len(word_matrix)):\n",
    "        if word_matrix[i][1] == '_':\n",
    "            return False\n",
    "    return True \n",
    "\n",
    "def is_dup(letter_guess, letter):\n",
    "    for i in letter_guess:\n",
    "        if i == letter:\n",
    "            return True\n",
    "    letter_guess.append(letter)\n",
    "    return False\n",
    "\n",
    "def print_picture(num): #not working, something with jupyter\n",
    "    print(num)\n",
    "    if num == 0:\n",
    "        return Image(filename='/Users/user/Desktop/Python/no_misses.png',width = 100, height = 100)\n",
    "    elif num == 1:\n",
    "        return Image(filename='/Users/user/Desktop/Python/1_miss.png',width = 100, height = 100) \n",
    "    elif num == 2:\n",
    "        return Image(filename='/Users/user/Desktop/Python/2_misses.png',width = 100, height = 100) \n",
    "    elif num == 3:\n",
    "        return Image(filename='/Users/user/Desktop/Python/3_misses.png',width = 100, height = 100) \n",
    "    elif num == 4:\n",
    "        return Image(filename='/Users/user/Desktop/Python/4_misses.png',width = 100, height = 100) \n",
    "    elif num == 5:\n",
    "        return Image(filename='/Users/user/Desktop/Python/5_misses.png',width = 100, height = 100) \n",
    "    else:\n",
    "        return Image(filename='/Users/user/Desktop/Python/6_misses.png',width = 100, height = 100) \n",
    "        \n",
    "#https://stackoverflow.com/questions/11854847/how-can-i-display-an-image-from-a-file-in-jupyter-notebook\n",
    "\n",
    "def print_hang(word = secret_word):\n",
    "    hangman = 0\n",
    "    word_list = list(word)\n",
    "    word_matrix = prep_word(word)\n",
    "    letter_guess = []\n",
    "    while not is_matrix_full(word_matrix):\n",
    "        letter = (input(\"Please choose new letter: \")).upper()\n",
    "        check_letter(word_list, word_matrix, letter)\n",
    "        if is_dup(letter_guess,letter):\n",
    "            print(\"You have already guessed that letter. Please try again\")\n",
    "        elif not is_correct(word_list,letter):\n",
    "            hangman += 1\n",
    "            print(\"You have \" + str(6 - hangman) + \" guesses left.\")\n",
    "        if hangman == 6:\n",
    "            answer = (input(\"Do you want to start a new game? yes/no: \")).lower()\n",
    "            if answer == 'yes':\n",
    "                print_hang(word)\n",
    "            else:\n",
    "                break\n",
    "print_hang(secret_word)"
   ]
  },
  {
   "cell_type": "code",
   "execution_count": 17,
   "metadata": {},
   "outputs": [],
   "source": [
    "#Exercise 33\n",
    "#For this exercise, we will keep track of when our friend’s birthdays are, \n",
    "#and be able to find that information based on their name. Create a dictionary (in your file) of names and birthdays. \n",
    "#When you run your program it should ask the user to enter a name, \n",
    "#and return the birthday of that person back to them."
   ]
  },
  {
   "cell_type": "code",
   "execution_count": 27,
   "metadata": {},
   "outputs": [
    {
     "name": "stdout",
     "output_type": "stream",
     "text": [
      "Please state your friend's name: Ivan\n"
     ]
    },
    {
     "data": {
      "text/plain": [
       "'14/09/2015'"
      ]
     },
     "execution_count": 27,
     "metadata": {},
     "output_type": "execute_result"
    }
   ],
   "source": [
    "birthdays = {\"Elen\" : '01/02/1998', \"Ivan\" : \"14/09/2015\", \"Rajesh\" : '27/12/1987'}\n",
    "def find_birthday(name, data = birthdays):\n",
    "    return data[name]\n",
    "name = input(\"Please state your friend's name: \")\n",
    "find_birthday(name)"
   ]
  },
  {
   "cell_type": "code",
   "execution_count": 28,
   "metadata": {},
   "outputs": [],
   "source": [
    "#Exercise 34\n",
    "#In the previous exercise we created a dictionary of people's birthdays. \n",
    "#In this exercise, modify your program to load the birthday dictionary from a JSON file on disk, \n",
    "#rather than having the dictionary defined in the program.\n",
    "#Bonus: Ask the user for another person's name and birthday to add to the dictionary, \n",
    "#and update the JSON file you have on disk with the scientist’s name. "
   ]
  },
  {
   "cell_type": "code",
   "execution_count": 39,
   "metadata": {},
   "outputs": [],
   "source": [
    "import json\n",
    "def load_data(file):\n",
    "    birthdays = {}\n",
    "    with open(file, 'r') as f:\n",
    "          birthdays = json.load(f)\n",
    "    return birthdays\n",
    "def add_new_birth(file, name, date):\n",
    "    data = load_data(file)\n",
    "    data[name] = date\n",
    "    with open(file, 'w') as f:\n",
    "        json.dump(data, f)    "
   ]
  },
  {
   "cell_type": "code",
   "execution_count": 45,
   "metadata": {},
   "outputs": [
    {
     "data": {
      "text/plain": [
       "{'Elen': '01/02/1998',\n",
       " 'Ivan': '14/09/2015',\n",
       " 'Rajesh': '27/12/1987',\n",
       " 'John': '13/07/1920',\n",
       " 'Lola': '19/11/1974'}"
      ]
     },
     "execution_count": 45,
     "metadata": {},
     "output_type": "execute_result"
    }
   ],
   "source": [
    "filename = '/Users/user/Desktop/Python/birthdays.json'\n",
    "load_data(filename)"
   ]
  },
  {
   "cell_type": "code",
   "execution_count": 47,
   "metadata": {},
   "outputs": [
    {
     "data": {
      "text/plain": [
       "{'Elen': '01/02/1998',\n",
       " 'Ivan': '14/09/2015',\n",
       " 'Rajesh': '27/12/1987',\n",
       " 'John': '13/07/1920',\n",
       " 'Lola': '19/11/1974',\n",
       " 'Patric': '29/09/1944'}"
      ]
     },
     "execution_count": 47,
     "metadata": {},
     "output_type": "execute_result"
    }
   ],
   "source": [
    "add_new_birth(filename, \"Patric\", \"29/09/1944\")\n",
    "load_data(filename)"
   ]
  },
  {
   "cell_type": "code",
   "execution_count": 48,
   "metadata": {},
   "outputs": [],
   "source": [
    "#Exercise 35\n",
    "#In this exercise, load that JSON file from disk, extract the months of all the birthdays,\n",
    "#and count how many scientists have a birthday in each month."
   ]
  },
  {
   "cell_type": "code",
   "execution_count": 2,
   "metadata": {},
   "outputs": [],
   "source": [
    "import json\n",
    "from collections import Counter\n",
    "path = '/Users/user/Desktop/Python/birthdays.json'\n",
    "def load_data(file):\n",
    "    birthdays = {}\n",
    "    with open(file, 'r') as f:\n",
    "          birthdays = json.load(f)\n",
    "    return birthdays\n",
    "def extract_month(date, sep):\n",
    "    return date.split(sep)\n",
    "def count_month(path):\n",
    "    dates = list(load_data(path).values())\n",
    "    for i in range(0, len(dates)):\n",
    "        dates[i] = extract_month(dates[i], '/')[1]\n",
    "    cnt = Counter(dates)\n",
    "    return cnt"
   ]
  },
  {
   "cell_type": "code",
   "execution_count": 3,
   "metadata": {},
   "outputs": [
    {
     "data": {
      "text/plain": [
       "Counter({'02': 1, '09': 2, '12': 1, '07': 1, '11': 1})"
      ]
     },
     "execution_count": 3,
     "metadata": {},
     "output_type": "execute_result"
    }
   ],
   "source": [
    "count_month(path)"
   ]
  },
  {
   "cell_type": "code",
   "execution_count": 8,
   "metadata": {},
   "outputs": [],
   "source": [
    "#Exercise 36\n",
    "#In this exercise plot a histogram of which months the scientists have birthdays in! \n",
    "#Just parse out the months and draw your histogram."
   ]
  },
  {
   "cell_type": "code",
   "execution_count": 162,
   "metadata": {},
   "outputs": [],
   "source": [
    "from bokeh.models import ColumnDataSource, FactorRange\n",
    "from bokeh.plotting import figure, show\n",
    "import pandas as pd\n",
    "\n",
    "dic = dict(x=list(count_month(path).keys()),y=list(count_month(path).values()))\n",
    "source = ColumnDataSource(dic)\n",
    "\n",
    "plot = figure(plot_width=600, plot_height=300, x_axis_label=\"Months\", y_axis_label=\"Number of Birthdays\",\n",
    "              title=\"Exercise 36\", x_range=FactorRange(factors=list(source.data['x'])))\n",
    "plot.vbar(source=source,x='x',top='y',bottom=0,width=0.3)\n",
    "\n",
    "show(plot)"
   ]
  }
 ],
 "metadata": {
  "kernelspec": {
   "display_name": "Python 3",
   "language": "python",
   "name": "python3"
  },
  "language_info": {
   "codemirror_mode": {
    "name": "ipython",
    "version": 3
   },
   "file_extension": ".py",
   "mimetype": "text/x-python",
   "name": "python",
   "nbconvert_exporter": "python",
   "pygments_lexer": "ipython3",
   "version": "3.7.6"
  }
 },
 "nbformat": 4,
 "nbformat_minor": 4
}
