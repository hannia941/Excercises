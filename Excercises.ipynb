{
 "cells": [
  {
   "cell_type": "code",
   "execution_count": null,
   "metadata": {},
   "outputs": [],
   "source": [
    "#Excercises from https://www.practicepython.org/"
   ]
  },
  {
   "cell_type": "code",
   "execution_count": 2,
   "metadata": {},
   "outputs": [],
   "source": [
    "#Exercise 1\n",
    "#Create a program that asks the user to enter their name and their age.\n",
    "#Print out a message addressed to them that tells them the year that they will turn 100 years old."
   ]
  },
  {
   "cell_type": "code",
   "execution_count": 10,
   "metadata": {},
   "outputs": [
    {
     "name": "stdout",
     "output_type": "stream",
     "text": [
      "What is your name?: Hanna\n",
      "What is your age?: 25\n",
      "Hanna will be 100 years old in 2095\n"
     ]
    }
   ],
   "source": [
    "name = input(\"What is your name?: \")\n",
    "age = int(input(\"What is your age?: \"))\n",
    "age_in_100 = (2020 - age) +100\n",
    "print(name + \" will be 100 years old in \" +  str(age_in_100))"
   ]
  },
  {
   "cell_type": "code",
   "execution_count": 11,
   "metadata": {},
   "outputs": [],
   "source": [
    "#Exercise 2\n",
    "#Ask the user for a number. \n",
    "#Depending on whether the number is even or odd, print out an appropriate message to the user."
   ]
  },
  {
   "cell_type": "code",
   "execution_count": 18,
   "metadata": {},
   "outputs": [
    {
     "name": "stdout",
     "output_type": "stream",
     "text": [
      "Please put num in: 7\n",
      "Your number is odd\n"
     ]
    }
   ],
   "source": [
    "number = input(\"Please put num in: \")\n",
    "def is_even_odd(number):\n",
    "    if int(number) % 2 == 0:\n",
    "        print(\"Your number is even\")\n",
    "    else:\n",
    "        print(\"Your number is odd\")\n",
    "is_even_odd(number)"
   ]
  },
  {
   "cell_type": "code",
   "execution_count": 68,
   "metadata": {},
   "outputs": [],
   "source": [
    "#Exercise 3 (and Solution)\n",
    "#Take a list, say for example this one: a = 1 1 2 3 5 8 13 21 34 55 89\n",
    "#and write a program that prints out all the elements of the list that are less than 5."
   ]
  },
  {
   "cell_type": "code",
   "execution_count": 119,
   "metadata": {},
   "outputs": [
    {
     "name": "stdout",
     "output_type": "stream",
     "text": [
      "Please put your list here divided by spaces: 1 1 2 3 5 8 13 21 34 55 89\n",
      "[1, 1, 2, 3]\n"
     ]
    }
   ],
   "source": [
    "list_1 = list(map(int, input(\"Please put your list here divided by spaces: \").strip().split()))\n",
    "def is_less_5(list_input):\n",
    "    list_final = []\n",
    "    list_input = list(list_input)\n",
    "    for i in range(0,len(list_input)):\n",
    "        if list_input[i] < 5:\n",
    "            list_final.append(int(list_input[i]))\n",
    "    print(list_final)\n",
    "is_less_5(list_1)"
   ]
  },
  {
   "cell_type": "code",
   "execution_count": null,
   "metadata": {},
   "outputs": [],
   "source": [
    "#Exercise 4\n",
    "#Create a program that asks the user for a number and then prints out a list of all the divisors of that number. \n",
    "#(If you don’t know what a divisor is, it is a number that divides evenly into another number. \n",
    "#For example, 13 is a divisor of 26 because 26 / 13 has no remainder.)"
   ]
  },
  {
   "cell_type": "code",
   "execution_count": 118,
   "metadata": {},
   "outputs": [
    {
     "name": "stdout",
     "output_type": "stream",
     "text": [
      "Please state a number: 18\n",
      "[1, 2, 3, 6, 9, 18]\n"
     ]
    }
   ],
   "source": [
    "number_input = int(input(\"Please state a number: \"))\n",
    "def divisor(number_input):\n",
    "    divisor_output = []\n",
    "    for i in range(1, number_input + 1):\n",
    "        if number_input % i == 0:\n",
    "            divisor_output.append(i)\n",
    "    print(divisor_output)\n",
    "divisor(number_input)"
   ]
  },
  {
   "cell_type": "code",
   "execution_count": 103,
   "metadata": {},
   "outputs": [],
   "source": [
    "#Exercise 5\n",
    "#Take two lists, say for example these two:\n",
    "a = [1, 1, 2, 3, 5, 8, 13, 21, 9, 55, 89]\n",
    "b = [1, 2, 3, 4, 5, 6, 7, 8, 9, 10, 11, 12, 13]\n",
    "#and write a program that returns a list that contains only the elements that are common between the lists \n",
    "#(without duplicates). Make sure your program works on two lists of different sizes."
   ]
  },
  {
   "cell_type": "code",
   "execution_count": 104,
   "metadata": {},
   "outputs": [],
   "source": [
    "def common_num(a,b):\n",
    "    common_list = []\n",
    "    for i in range(0, len(a)):\n",
    "        for j in range(0, len(b)): #EDIT: double lists are not necessary! examples below\n",
    "            if a[i] == b[j] :\n",
    "                common_list.append(b[j])\n",
    "    common_list = list(set(common_list))\n",
    "    print(common_list)"
   ]
  },
  {
   "cell_type": "code",
   "execution_count": 105,
   "metadata": {},
   "outputs": [
    {
     "name": "stdout",
     "output_type": "stream",
     "text": [
      "[1, 2, 3, 5, 8, 9, 13]\n"
     ]
    }
   ],
   "source": [
    "common_num(a,b)"
   ]
  },
  {
   "cell_type": "code",
   "execution_count": 114,
   "metadata": {},
   "outputs": [
    {
     "name": "stdout",
     "output_type": "stream",
     "text": [
      "Please write a word: turruT\n"
     ]
    },
    {
     "data": {
      "text/plain": [
       "True"
      ]
     },
     "execution_count": 114,
     "metadata": {},
     "output_type": "execute_result"
    }
   ],
   "source": [
    "#Exercise 6\n",
    "#Ask the user for a string and print out whether this string is a palindrome or not. \n",
    "#(A palindrome is a string that reads the same forwards and backwards.)\n",
    "word = str(input(\"Please write a word: \"))\n",
    "def is_pal(word):\n",
    "    word = word.lower()\n",
    "    k=0\n",
    "    for i in range(0, len(word)):\n",
    "        if word[i] == word[len(word)- 1 - i ]:\n",
    "            k+=1\n",
    "        if k == len(word):\n",
    "            return True\n",
    "    return False\n",
    "is_pal(word)"
   ]
  },
  {
   "cell_type": "code",
   "execution_count": 115,
   "metadata": {},
   "outputs": [],
   "source": [
    "#Exercise 7\n",
    "#Let’s say I give you a list saved in a variable: \n",
    "a = [1, 4, 9, 16, 25, 36, 49, 64, 81, 100]\n",
    "#Write one line of Python that takes this list a and makes a new list that has only \n",
    "#the even elements of this list in it."
   ]
  },
  {
   "cell_type": "code",
   "execution_count": 117,
   "metadata": {},
   "outputs": [
    {
     "name": "stdout",
     "output_type": "stream",
     "text": [
      "[4, 16, 36, 64, 100]\n"
     ]
    }
   ],
   "source": [
    "def only_even(list):\n",
    "    list_out = []\n",
    "    for i in range(0,len(list)):\n",
    "        if list[i] % 2 ==0:\n",
    "            list_out.append(list[i])\n",
    "    print(list_out)\n",
    "only_even(a)"
   ]
  },
  {
   "cell_type": "code",
   "execution_count": 120,
   "metadata": {},
   "outputs": [],
   "source": [
    "#Exercise 8 (and Solution)\n",
    "#Make a two-player Rock-Paper-Scissors game. (Hint: Ask for player plays (using input), \n",
    "#compare them, print out a message of congratulations to the winner, and ask if the players want to start a new game)"
   ]
  },
  {
   "cell_type": "code",
   "execution_count": 134,
   "metadata": {},
   "outputs": [
    {
     "name": "stdout",
     "output_type": "stream",
     "text": [
      "Please state what you choose divided by space sisscors paper\n",
      "Player 1 has chosen: sisscors\n",
      "Player 2 has chosen: paper\n",
      "Player 1 won! Congrats!\n"
     ]
    }
   ],
   "source": [
    "player_1, player_2 = input(\"Please state what you choose divided by space \").split()\n",
    "print(\"Player 1 has chosen: \" + player_1)\n",
    "print(\"Player 2 has chosen: \" + player_2)\n",
    "def rps_game(player_1, player_2):\n",
    "    if player_1 == player_2:\n",
    "        print(\"That's a tie, play again!\")\n",
    "    if player_1 == 'rock' and player_1 != player_2 :\n",
    "        if player_2 == 'paper':\n",
    "            print(\"Player 2 won! Congrats!\")\n",
    "        if player_2 == 'sisscors':\n",
    "            print(\"Player 1 won! Congrats!\")\n",
    "    elif player_1 == 'paper' and player_1 != player_2 :\n",
    "        if player_2 == 'rock':\n",
    "            print(\"Player 1 won! Congrats!\")\n",
    "        if player_2 == 'sisscors':\n",
    "            print(\"Player 2 won! Congrats!\")\n",
    "    elif player_1 == 'sisscors' and player_1 != player_2 :\n",
    "        if player_2 == 'rock':\n",
    "            print(\"Player 2 won! Congrats!\")\n",
    "        if player_2 == 'paper':\n",
    "            print(\"Player 1 won! Congrats!\")\n",
    "rps_game(player_1, player_2)"
   ]
  },
  {
   "cell_type": "code",
   "execution_count": 168,
   "metadata": {},
   "outputs": [
    {
     "name": "stdout",
     "output_type": "stream",
     "text": [
      "7\n"
     ]
    }
   ],
   "source": [
    "#Exercise 9\n",
    "#Generate a random number between 1 and 9 (including 1 and 9). Ask the user to guess the number, \n",
    "#then tell them whether they guessed too low, too high, or exactly right.\n",
    "import random\n",
    "guess = 0\n",
    "number = random.randint(1,9) \n",
    "print(number)"
   ]
  },
  {
   "cell_type": "code",
   "execution_count": 170,
   "metadata": {},
   "outputs": [
    {
     "name": "stdout",
     "output_type": "stream",
     "text": [
      "Please guess a number between 1 and 9: 4\n",
      "Your number is lower. Try again.\n",
      "Please guess a number between 1 and 9: 6\n",
      "Your number is lower. Try again.\n",
      "Please guess a number between 1 and 9: 9\n",
      "Your number is higher. Try again\n",
      "Please guess a number between 1 and 9: 7\n",
      "You guessed it.Congrats!\n"
     ]
    }
   ],
   "source": [
    "def your_guess(guess):\n",
    "    if guess > number:\n",
    "        print(\"Your number is higher. Try again\")\n",
    "    if guess < number:\n",
    "        print(\"Your number is lower. Try again.\")\n",
    "    if guess == number:\n",
    "        print(\"You guessed it.Congrats!\")\n",
    "        guess = \"exit\"\n",
    "while (guess != number and guess != \"exit\"):\n",
    "    guess = int(input(\"Please guess a number between 1 and 9: \"))\n",
    "    your_guess(guess)"
   ]
  },
  {
   "cell_type": "code",
   "execution_count": 197,
   "metadata": {},
   "outputs": [
    {
     "name": "stdout",
     "output_type": "stream",
     "text": [
      "[0, 1, 2, 3, 4, 5, 6, 7, 8, 9]\n"
     ]
    }
   ],
   "source": [
    "#Exercise 10\n",
    "#This week’s exercise is going to be revisiting an old exercise (see Exercise 5), \n",
    "#except require the solution in a different way.\n",
    "#Write a program that returns a list that contains only the elements that are common between the lists \n",
    "#(without duplicates). Make sure your program works on two lists of different sizes. \n",
    "#Randomly generate two lists to test this\n",
    "import random\n",
    "list_a = random.sample(range(0,10), 10)\n",
    "list_b = random.sample(range(0,12), 12)\n",
    "result = [i for i in list_a if i in list_b]\n",
    "result = list(set(result))\n",
    "print(result)"
   ]
  },
  {
   "cell_type": "code",
   "execution_count": 226,
   "metadata": {},
   "outputs": [
    {
     "name": "stdout",
     "output_type": "stream",
     "text": [
      "11\n"
     ]
    },
    {
     "data": {
      "text/plain": [
       "True"
      ]
     },
     "execution_count": 226,
     "metadata": {},
     "output_type": "execute_result"
    }
   ],
   "source": [
    "#Exercise 11\n",
    "#Ask the user for a number and determine whether the number is prime or not. \n",
    "#(For those who have forgotten, a prime number is a number that has no divisors.)\n",
    "number = random.randint(1,20)\n",
    "def is_prime(number):\n",
    "    if number == 1:\n",
    "        return False\n",
    "    list_temp = list(range(1,number+1))\n",
    "    for i in range(0,len(list_temp)):\n",
    "        if list_temp[i] != 1 and number != list_temp[i]:\n",
    "            if number % list_temp[i] == 0:\n",
    "                return False\n",
    "    return True\n",
    "print(number)\n",
    "is_prime(number)"
   ]
  },
  {
   "cell_type": "code",
   "execution_count": 232,
   "metadata": {},
   "outputs": [],
   "source": [
    "#Exercise 12\n",
    "#Write a program that takes a list of numbers, for example \n",
    "a = [5, 10, 15, 20, 25]\n",
    "#and makes a new list of only the first and last elements of the given list. \n",
    "#For practice, write this code inside a function."
   ]
  },
  {
   "cell_type": "code",
   "execution_count": 233,
   "metadata": {},
   "outputs": [
    {
     "data": {
      "text/plain": [
       "[5, 25]"
      ]
     },
     "execution_count": 233,
     "metadata": {},
     "output_type": "execute_result"
    }
   ],
   "source": [
    "def create_list(list_a):\n",
    "    return [list_a[0], list_a[len(list_a)-1]]\n",
    "create_list(a)"
   ]
  },
  {
   "cell_type": "code",
   "execution_count": null,
   "metadata": {},
   "outputs": [],
   "source": [
    "#Exercise 13\n",
    "#Write a program that asks the user how many Fibonnaci numbers to generate and then generates them. \n",
    "#Make sure to ask the user to enter the number of numbers in the sequence to generate.\n",
    "#(Hint: The Fibonnaci seqence is a sequence of numbers where the next number in the sequence \n",
    "#is the sum of the previous two numbers in the sequence. The sequence looks like this: 1, 1, 2, 3, 5, 8, 13, …)"
   ]
  },
  {
   "cell_type": "code",
   "execution_count": 239,
   "metadata": {},
   "outputs": [
    {
     "data": {
      "text/plain": [
       "[1, 1, 2, 3, 5, 8]"
      ]
     },
     "execution_count": 239,
     "metadata": {},
     "output_type": "execute_result"
    }
   ],
   "source": [
    "n = 6\n",
    "def how_many_Fib(n):\n",
    "    if n == 0:\n",
    "        return []\n",
    "    elif n == 1:\n",
    "        return [1]\n",
    "    elif n == 2:\n",
    "        return [1,1]\n",
    "    else:\n",
    "        i = 1\n",
    "        list_f = [1,1]\n",
    "        while (i < n-1):\n",
    "            list_f.append(list_f[i] + list_f[i-1])\n",
    "            i += 1\n",
    "        return list_f\n",
    "            \n",
    "how_many_Fib(n)"
   ]
  },
  {
   "cell_type": "code",
   "execution_count": null,
   "metadata": {},
   "outputs": [],
   "source": [
    "#Exercise 14\n",
    "#Write a program (function!) that takes a list and returns a new list that contains all \n",
    "#the elements of the first list minus all the duplicates."
   ]
  },
  {
   "cell_type": "code",
   "execution_count": 246,
   "metadata": {},
   "outputs": [],
   "source": [
    "a = [1, 1, 8, 3, 5, 8, 13, 21, 34, 89, 89]"
   ]
  },
  {
   "cell_type": "code",
   "execution_count": 247,
   "metadata": {},
   "outputs": [
    {
     "data": {
      "text/plain": [
       "[1, 8, 3, 5, 13, 21, 34, 89]"
      ]
     },
     "execution_count": 247,
     "metadata": {},
     "output_type": "execute_result"
    }
   ],
   "source": [
    "def list_wo_dup(list_a):\n",
    "    list_b = []\n",
    "    for i in list_a:\n",
    "        if i not in list_b:\n",
    "            list_b.append(i)\n",
    "    return list_b\n",
    "list_wo_dup(a)"
   ]
  },
  {
   "cell_type": "code",
   "execution_count": 248,
   "metadata": {},
   "outputs": [],
   "source": [
    "#Exercise 15\n",
    "#Write a program (using functions!) that asks the user for a long string containing multiple words. \n",
    "#Print back to the user the same string, except with the words in backwards order. \n",
    "#For example, say I type the string: My name is Michele => Michele is name My"
   ]
  },
  {
   "cell_type": "code",
   "execution_count": 276,
   "metadata": {},
   "outputs": [
    {
     "data": {
      "text/plain": [
       "'Michele is name My'"
      ]
     },
     "execution_count": 276,
     "metadata": {},
     "output_type": "execute_result"
    }
   ],
   "source": [
    "word = 'My name is Michele'\n",
    "def reverse_word(word):\n",
    "    list_word = word.split()\n",
    "    list_word_back = []\n",
    "    word_back = ''\n",
    "    for i in range(0, len(list_word)):\n",
    "        list_word_back.append(list_word[len(list_word)-1-i])\n",
    "    for i in list_word_back:\n",
    "        word_back = word_back + \" \" + str(i)\n",
    "    word_back = word_back.strip()\n",
    "    return word_back  \n",
    "reverse_word(word)"
   ]
  },
  {
   "cell_type": "code",
   "execution_count": 304,
   "metadata": {},
   "outputs": [
    {
     "data": {
      "text/plain": [
       "'Michele is name My'"
      ]
     },
     "execution_count": 304,
     "metadata": {},
     "output_type": "execute_result"
    }
   ],
   "source": [
    "#easy way!\n",
    "word = 'My name is Michele'\n",
    "' '.join(word.split()[::-1]) \n",
    "#or\n",
    "word = 'My name is Michele'\n",
    "' '.join(reversed(word.split()))"
   ]
  },
  {
   "cell_type": "code",
   "execution_count": null,
   "metadata": {},
   "outputs": [],
   "source": [
    "#Exercise 16\n",
    "#Write a password generator in Python. Be creative with how you generate passwords - \n",
    "#strong passwords have a mix of lowercase letters, uppercase letters, numbers, and symbols. \n",
    "#The passwords should be random, generating a new password every time the user asks for a new password. \n",
    "#Include your code in a main method.\n",
    "#Extra: Ask the user how strong they want their password to be. For weak passwords, pick a word or two from a list."
   ]
  },
  {
   "cell_type": "code",
   "execution_count": 328,
   "metadata": {},
   "outputs": [
    {
     "name": "stdout",
     "output_type": "stream",
     "text": [
      "How strong do you want your password to be? weak, medium, strong : strong\n",
      "How many characters do you want your password to have?: 10\n"
     ]
    },
    {
     "data": {
      "text/plain": [
       "\"JKd|'q>m*3\""
      ]
     },
     "execution_count": 328,
     "metadata": {},
     "output_type": "execute_result"
    }
   ],
   "source": [
    "import string\n",
    "password_type = str(input(\"How strong do you want your password to be? weak, medium, strong : \"))\n",
    "num = int(input(\"How many characters do you want your password to have?: \"))\n",
    "def create_password(password_type, num):\n",
    "    base = ''\n",
    "    if password_type == 'weak':\n",
    "        base = string.ascii_letters\n",
    "    if password_type == 'medium':\n",
    "        base = string.ascii_letters + string.digits \n",
    "    if password_type == 'strong':\n",
    "        base = string.ascii_letters + string.digits + string.punctuation\n",
    "    return ''.join(random.sample(base,num))\n",
    "create_password(password_type, num)"
   ]
  },
  {
   "cell_type": "code",
   "execution_count": 400,
   "metadata": {},
   "outputs": [
    {
     "data": {
      "text/plain": [
       "['Trump Will Withdraw U.S. From Another Major Arms Accord',\n",
       " 'These Labs Rushed to Test for the Coronavirus. They Had Few Takers.',\n",
       " 'One Beach’s Summer Virus Plan: 197 Groups in Zones 18-Feet Square']"
      ]
     },
     "execution_count": 400,
     "metadata": {},
     "output_type": "execute_result"
    }
   ],
   "source": [
    "#Exercise 17\n",
    "#Use the BeautifulSoup and requests Python packages to print out a list of some of the article titles\n",
    "#on the New York Times homepage.\n",
    "import re\n",
    "import requests\n",
    "from bs4 import BeautifulSoup\n",
    "html = requests.get('https://www.nytimes.com/')\n",
    "soup = BeautifulSoup(html.text)\n",
    "soup = soup.find_all(class_=\"css-1vvhd4r esl82me0\")\n",
    "result = []\n",
    "result_final = []\n",
    "for sp in soup:\n",
    "    result.extend(sp.find_all('span'))\n",
    "for i in range(0, len(result)):\n",
    "    clean = re.compile('<.*?>')\n",
    "    result_final.append(re.sub(clean, '', str(result[i])))\n",
    "result_final"
   ]
  },
  {
   "cell_type": "code",
   "execution_count": 401,
   "metadata": {},
   "outputs": [],
   "source": [
    "#Exercise 18\n",
    "#Create a program that will play the “cows and bulls” game with the user. The game works like this:\n",
    "#Randomly generate a 4-digit number. Ask the user to guess a 4-digit number. \n",
    "#For every digit that the user guessed correctly in the correct place, they have a “cow”. \n",
    "#For every digit the user guessed correctly in the wrong place is a “bull.” \n",
    "#Every time the user makes a guess, tell them how many “cows” and “bulls” they have. \n",
    "#Once the user guesses the correct number, the game is over. \n",
    "#Keep track of the number of guesses the user makes throughout teh game and tell the user at the end."
   ]
  },
  {
   "cell_type": "code",
   "execution_count": 410,
   "metadata": {},
   "outputs": [],
   "source": [
    "import random\n",
    "number = str(random.randint(1000,9999))"
   ]
  },
  {
   "cell_type": "code",
   "execution_count": 411,
   "metadata": {},
   "outputs": [
    {
     "data": {
      "text/plain": [
       "'8271'"
      ]
     },
     "execution_count": 411,
     "metadata": {},
     "output_type": "execute_result"
    }
   ],
   "source": [
    "number"
   ]
  },
  {
   "cell_type": "code",
   "execution_count": 415,
   "metadata": {},
   "outputs": [
    {
     "name": "stdout",
     "output_type": "stream",
     "text": [
      "Please guess the 4-digit number: 8721\n",
      "Cows: 2, Bulls: 2\n",
      "Please guess the 4-digit number: 1728\n",
      "Cows: 0, Bulls: 4\n",
      "Please guess the 4-digit number: 8271\n",
      "You have guessed the number!\n"
     ]
    }
   ],
   "source": [
    "guess = \"\"\n",
    "def check_guess(guess):\n",
    "    cows = 0\n",
    "    bulls = 0\n",
    "    if guess == number:\n",
    "        print(\"You have guessed the number!\")\n",
    "        guess = \"exit\"\n",
    "    else:\n",
    "        for i in range(0,4):\n",
    "            if number[i] == guess[i]:\n",
    "                cows += 1\n",
    "            else:\n",
    "                for j in range(0,4):\n",
    "                    if number[i] == guess[j]:\n",
    "                        bulls +=1\n",
    "        print(\"Cows: \" + str(cows) + \", Bulls: \" + str(bulls))\n",
    "while (guess != number and guess != \"exit\" ) : \n",
    "    guess = str(input(\"Please guess the 4-digit number: \"))\n",
    "    check_guess(guess)    "
   ]
  },
  {
   "cell_type": "code",
   "execution_count": null,
   "metadata": {},
   "outputs": [],
   "source": [
    "#Exercise 19\n",
    "#Using the requests and BeautifulSoup Python libraries, print to the screen the full text of the article \n",
    "#on this website: http://www.vanityfair.com/society/2014/06/monica-lewinsky-humiliation-culture.\n",
    "#The article is long, so it is split up between 4 pages. Your task is to print out the text to the screen\n",
    "#so that you can read the full article without having to click any buttons.\n"
   ]
  }
 ],
 "metadata": {
  "kernelspec": {
   "display_name": "Python 3",
   "language": "python",
   "name": "python3"
  },
  "language_info": {
   "codemirror_mode": {
    "name": "ipython",
    "version": 3
   },
   "file_extension": ".py",
   "mimetype": "text/x-python",
   "name": "python",
   "nbconvert_exporter": "python",
   "pygments_lexer": "ipython3",
   "version": "3.7.6"
  }
 },
 "nbformat": 4,
 "nbformat_minor": 4
}
